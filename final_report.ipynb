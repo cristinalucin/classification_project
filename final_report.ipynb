{
 "cells": [
  {
   "cell_type": "markdown",
   "id": "d876cfc6",
   "metadata": {},
   "source": [
    "## Goal:\n",
    "* Discover drivers of churn within the Telco dataset\n",
    "* Use these drivers to develop a machine learning model to predict whether or not a customer will churn"
   ]
  },
  {
   "cell_type": "markdown",
   "id": "45dd7764",
   "metadata": {},
   "source": [
    "#### Imports"
   ]
  },
  {
   "cell_type": "code",
   "execution_count": null,
   "id": "16f86609",
   "metadata": {},
   "outputs": [],
   "source": [
    "# acquire\n",
    "import wrangle as w\n",
    "import env\n",
    "import explore as e\n",
    "\n",
    "# General DS Imports\n",
    "import matplotlib.pyplot as plt\n",
    "import numpy as np\n",
    "import pandas as pd\n",
    "import seaborn as sns\n",
    "import scipy.stats as stats\n",
    "\n",
    "# Decision Tree and Model Evaluation Imports\n",
    "from sklearn.tree import DecisionTreeClassifier, plot_tree, export_text\n",
    "from sklearn.metrics import classification_report, confusion_matrix, plot_confusion_matrix, ConfusionMatrixDisplay\n",
    "from sklearn.ensemble import RandomForestClassifier\n",
    "from sklearn.neighbors import KNeighborsClassifier\n",
    "from sklearn.impute import SimpleImputer\n",
    "from sklearn.linear_model import LogisticRegression"
   ]
  },
  {
   "cell_type": "markdown",
   "id": "3299baed",
   "metadata": {},
   "source": [
    "## Acquire\n",
    "* Data acquired from Codeup Database\n",
    "* It contained 7043 rows and 24 columns before cleaning\n",
    "* Each row represents a customer from the Telco company\n",
    "* Each column represents a feature of those customers"
   ]
  },
  {
   "cell_type": "markdown",
   "id": "c295a0dc",
   "metadata": {},
   "source": [
    "## Prepare\n",
    "### Prepare Actions:\n",
    "\n",
    "* Dropped duplicate columns\n",
    "* Removed columns that did not contain useful information\n",
    "* Renamed columns to promote readability\n",
    "* Checked for nulls in the data (there were none)\n",
    "* Dropped Null Values stored as whitespace\n",
    "* Checked that column data types were appropriate, converted total charges to the correct data type\n",
    "* Encoded categorical variables\n",
    "* Split data into train, validate and test (approx. 75/12.5/12.5), stratifying on 'churn'\n",
    "* Outliers have not been removed for this iteration of the project"
   ]
  },
  {
   "cell_type": "code",
   "execution_count": null,
   "id": "1def591e",
   "metadata": {},
   "outputs": [],
   "source": [
    "# acquiring telco data from codeup database\n",
    "df = w.get_telco_data()\n",
    "\n",
    "#Preparing telco data for exploration\n",
    "df = w.prep_telco(df)\n",
    "\n",
    "#Split data and set target variable\n",
    "target = 'churn'\n",
    "train, validate, test = w.train_validate_test_split(df, target)"
   ]
  },
  {
   "cell_type": "markdown",
   "id": "29b9e1c0",
   "metadata": {},
   "source": [
    "## A brief look at the data"
   ]
  },
  {
   "cell_type": "code",
   "execution_count": null,
   "id": "b9596374",
   "metadata": {},
   "outputs": [],
   "source": [
    "train.head()"
   ]
  },
  {
   "cell_type": "markdown",
   "id": "626cdb76",
   "metadata": {},
   "source": [
    "## Summary of the data"
   ]
  },
  {
   "cell_type": "code",
   "execution_count": null,
   "id": "b301005b",
   "metadata": {},
   "outputs": [],
   "source": [
    "train.describe()"
   ]
  },
  {
   "cell_type": "markdown",
   "id": "092ba975",
   "metadata": {},
   "source": [
    "## Exploration"
   ]
  },
  {
   "cell_type": "markdown",
   "id": "db5a5963",
   "metadata": {},
   "source": [
    "## What is the percentage of customers who churn?"
   ]
  },
  {
   "cell_type": "code",
   "execution_count": null,
   "id": "6f03ba80",
   "metadata": {},
   "outputs": [],
   "source": [
    "#Get pie chart for churn\n",
    "w.get_pie_churn(train)"
   ]
  },
  {
   "cell_type": "markdown",
   "id": "1e010bae",
   "metadata": {},
   "source": [
    "* **Approximately 27 percent of customers in this dataset \"churned\" (left the company)**"
   ]
  },
  {
   "cell_type": "markdown",
   "id": "67085e07",
   "metadata": {},
   "source": [
    "## Is there a relationship between being a Senior Citizen and Churn rate?"
   ]
  },
  {
   "cell_type": "code",
   "execution_count": null,
   "id": "28745cb8",
   "metadata": {},
   "outputs": [],
   "source": [
    "#Create bar chart (senior_citizen)\n",
    "w.get_bar_senior(train)"
   ]
  },
  {
   "cell_type": "markdown",
   "id": "4bf60539",
   "metadata": {},
   "source": [
    "### Senior Citizen vs. Churn:\n",
    "\n",
    "* I used a 95% confidence interval\n",
    "* The resulting alpha value is .05\n",
    "\n",
    "Hypotheses:\n",
    "\n",
    "$H_0$: **The churn rate of senior citizens is less than or equal to the churn rate of non-senior citizens.**\n",
    "\n",
    "$H_a$: **The churn rate of senior citizens is greater than the churn rate of non-senior citizens.**"
   ]
  },
  {
   "cell_type": "code",
   "execution_count": null,
   "id": "c720f896",
   "metadata": {},
   "outputs": [],
   "source": [
    "#Get chi-square test results\n",
    "w.get_chi_senior(train)"
   ]
  },
  {
   "cell_type": "markdown",
   "id": "286a9fdf",
   "metadata": {},
   "source": [
    "**The p-value is less than alpha. Therefore, there is evidence to support the hypothesis that \"Senior Citizen\" and \"Churn\" are related. I believe that including this feature in modeling will likely have a positive impact on model accuracy.**"
   ]
  },
  {
   "cell_type": "markdown",
   "id": "8993855f",
   "metadata": {},
   "source": [
    "## Does a customer having dependents affect churn?"
   ]
  },
  {
   "cell_type": "code",
   "execution_count": null,
   "id": "26d38cb4",
   "metadata": {},
   "outputs": [],
   "source": [
    "#Get bar chart comparing having depenedents with churn\n",
    "w.get_bar_dependents(train)"
   ]
  },
  {
   "cell_type": "markdown",
   "id": "6af2775b",
   "metadata": {},
   "source": [
    "### It appears that customers with dependents churn less than those without dependents."
   ]
  },
  {
   "cell_type": "markdown",
   "id": "8ee6d9d8",
   "metadata": {},
   "source": [
    "### Dependents vs. Churn: Testing Significance of Relationship\n",
    "\n",
    "* Both variables are categorical so a Chi-Squared test is required\n",
    "* I used a 95% confidence interval\n",
    "* The resulting alpha value is .05\n",
    "\n",
    "Hypotheses:\n",
    "\n",
    "$H_0$: **The churn rate of those with dependents is greater than or equal to those without dependents.**\n",
    "\n",
    "$H_a$: **The churn rate of those with dependents is less than those without dependents.**"
   ]
  },
  {
   "cell_type": "code",
   "execution_count": null,
   "id": "55c36b46",
   "metadata": {},
   "outputs": [],
   "source": [
    "#Run chi-squared test on dependents vs churn\n",
    "w.get_chi_dependents(train)"
   ]
  },
  {
   "cell_type": "markdown",
   "id": "6e6f3836",
   "metadata": {},
   "source": [
    "**The p-value is less than alpha. Therefore, there is evidence to support the hypothesis that a customer having dependents is related to churn rate. I believe that including this feature in modeling will likely have a positive impact on model accuracy.**"
   ]
  },
  {
   "cell_type": "markdown",
   "id": "31788c24",
   "metadata": {},
   "source": [
    "## Does a customer having a partner affect churn?"
   ]
  },
  {
   "cell_type": "code",
   "execution_count": null,
   "id": "47d9e9d6",
   "metadata": {},
   "outputs": [],
   "source": [
    "#Visualizing relationship between partner status and churn\n",
    "w.get_bar_partner(train)"
   ]
  },
  {
   "cell_type": "markdown",
   "id": "770a8588",
   "metadata": {},
   "source": [
    "#### It appears that those with partners churn less than those without."
   ]
  },
  {
   "cell_type": "markdown",
   "id": "3f549642",
   "metadata": {},
   "source": [
    "### Partner Status vs. Churn: Looking at the significance of the relationship\n",
    "\n",
    "* Both variables are categorical so a Chi-Squared test is required\n",
    "* I used a 95% confidence interval\n",
    "* The resulting alpha value is .05\n",
    "\n",
    "Hypotheses:\n",
    "\n",
    "$H_0$: **The churn rate of partnered customers is greater than or equal to the churn rate of single customers.**\n",
    "\n",
    "$H_a$: **The churn rate of partnered customers is less than the churn rate of single customers.**"
   ]
  },
  {
   "cell_type": "code",
   "execution_count": null,
   "id": "3eea56d3",
   "metadata": {},
   "outputs": [],
   "source": [
    "#Get chi-squared test for partner status vs churn\n",
    "w.get_chi_partner(train)"
   ]
  },
  {
   "cell_type": "markdown",
   "id": "1c66489e",
   "metadata": {},
   "source": [
    "**The p-value is less than alpha. Therefore, there is evidence to support the hypothesis that a customer having a partner and churn are related. However, this feature is similar to having dependents, and may not add value when included in modeling.**"
   ]
  },
  {
   "cell_type": "markdown",
   "id": "f68d01f1",
   "metadata": {},
   "source": [
    "## Does customer contract type affect churn?"
   ]
  },
  {
   "cell_type": "code",
   "execution_count": null,
   "id": "7795d392",
   "metadata": {},
   "outputs": [],
   "source": [
    "#Get bar chart comparing contract \n",
    "w.get_bar_contract(train)"
   ]
  },
  {
   "cell_type": "markdown",
   "id": "d706a5ec",
   "metadata": {},
   "source": [
    "#### It appears that customers with month-to-month contracts churn at a much higher rate than those with two-year contracts. Customers with one-year contracts churn less than month-to-month, but more than two-year contact customers."
   ]
  },
  {
   "cell_type": "markdown",
   "id": "3e7a03f6",
   "metadata": {},
   "source": [
    "### Contract Type vs. Churn: Testing Significance of Relationship\n",
    "\n",
    "* Both variables are categorical so a Chi-Squared test is required\n",
    "* I used a 95% confidence interval\n",
    "* The resulting alpha value is .05\n",
    "\n",
    "Hypotheses:\n",
    "\n",
    "$H_0$: The churn rate of those on a month-to-month contract is less than or equal to other customers.\n",
    "\n",
    "$H_a$: The churn rate of those on a month-to-month contract is greater than other customers."
   ]
  },
  {
   "cell_type": "code",
   "execution_count": null,
   "id": "20a6dbaa",
   "metadata": {},
   "outputs": [],
   "source": [
    "#Running chi-squared test comparing contract type and churn\n",
    "w.get_chi_contract(train)"
   ]
  },
  {
   "cell_type": "markdown",
   "id": "74772b58",
   "metadata": {},
   "source": [
    "**The p-value is less than alpha. Therefore, there is evidence to support the hypothesis that customer contract type is related to churn rate. I believe that including this feature in modeling will likely have a strong positive impact on model accuracy.**"
   ]
  },
  {
   "cell_type": "markdown",
   "id": "bb5a6ff3",
   "metadata": {},
   "source": [
    "## Does a customer's monthly charge amount impact churn?"
   ]
  },
  {
   "cell_type": "code",
   "execution_count": null,
   "id": "b1a1dbbf",
   "metadata": {},
   "outputs": [],
   "source": [
    "#Get viz of monthly charge vs churn\n",
    "w.monthly_charges_md(train)"
   ]
  },
  {
   "cell_type": "markdown",
   "id": "0a9a4583",
   "metadata": {},
   "source": [
    "#### It appears that customers who have lower monthly charges churn less."
   ]
  },
  {
   "cell_type": "markdown",
   "id": "160bf80f",
   "metadata": {},
   "source": [
    "### Monthly Charges vs. Churn: Testing Significance of Relationship\n",
    "\n",
    "* Monthly Charges is a continuous variable, and both populations are independent, so an independent T-Test is required.\n",
    "* I used a 95% confidence interval (alpha value .05)\n",
    "* Variances were tested and not equal, and indicated in testing parameter\n",
    "\n",
    "Hypotheses:\n",
    "\n",
    "$H_0$: **Customers with lower monthly charges have a churn rate greater than or equal to those with higher charges.**\n",
    "\n",
    "$H_a$: **Customers with lower monthly charges have a lower churn rate than those with higher monthly charges.**"
   ]
  },
  {
   "cell_type": "code",
   "execution_count": null,
   "id": "5856b2cf",
   "metadata": {},
   "outputs": [],
   "source": [
    "#Run T-test comparing monthly charges and churn status\n",
    "w.get_t_monthly(train)"
   ]
  },
  {
   "cell_type": "markdown",
   "id": "a21bc3bb",
   "metadata": {},
   "source": [
    "**The p-value is less than alpha. Therefore, there is evidence to support the hypothesis that customer monthly charge amount is related to churn rate. I believe that including this feature in modeling will likely have a positive impact on model accuracy.**"
   ]
  },
  {
   "cell_type": "markdown",
   "id": "cb8910d8",
   "metadata": {},
   "source": [
    "## Does the total charges a customer has accrued impact churn rate?"
   ]
  },
  {
   "cell_type": "code",
   "execution_count": null,
   "id": "9fdd84aa",
   "metadata": {},
   "outputs": [],
   "source": [
    "#Get bar chart comparing total charges with churn\n",
    "w.total_charges_md(train)"
   ]
  },
  {
   "cell_type": "markdown",
   "id": "e7ecc30f",
   "metadata": {},
   "source": [
    "#### It appears that customers with higher total charges churn less."
   ]
  },
  {
   "cell_type": "markdown",
   "id": "a04b32ec",
   "metadata": {},
   "source": [
    "### Total Charges vs. Churn: Testing Significance of Relationship\n",
    "\n",
    "* Total Charges is a continuous variable, and both populations are independent, so an independent T-Test is required.\n",
    "* I used a 95% confidence interval (alpha value .05)\n",
    "* Variances were tested and not equal, and indicated in testing parameter\n",
    "\n",
    "Hypotheses:\n",
    "\n",
    "$H_0$: Customers with higher total charges have a churn rate greater than or equal to those with lower total charges\n",
    "\n",
    "$H_a$: Customers with higher total charges have a lower churn rate than those with lower total charges"
   ]
  },
  {
   "cell_type": "code",
   "execution_count": null,
   "id": "3530579f",
   "metadata": {},
   "outputs": [],
   "source": [
    "#Run t-test comparing total charges and churn\n",
    "w.get_t_total(train)"
   ]
  },
  {
   "cell_type": "markdown",
   "id": "7e2a9a77",
   "metadata": {},
   "source": [
    "**The p-value is less than alpha. Therefore, there is evidence to support the hypothesis that customer total charge amount is related to churn rate.**"
   ]
  },
  {
   "cell_type": "markdown",
   "id": "6ada3bd7",
   "metadata": {},
   "source": [
    "## Exploration Summary"
   ]
  },
  {
   "cell_type": "markdown",
   "id": "98d351a8",
   "metadata": {},
   "source": [
    "* Most categorical variables in this dataset had significant relationships with the target variable of \"churn\"\n",
    "* Categorical variables that did not impact churn were Gender and Phone Service\n",
    "* Senior Citizen status is a driver of churn\n",
    "* Both partner status and having dependents are drivers of churn\n",
    "* More time to explore this data could yield greater results in exploration (feature engineering)"
   ]
  },
  {
   "cell_type": "markdown",
   "id": "a2a94cf2",
   "metadata": {},
   "source": [
    "## Features I am moving to modeling with"
   ]
  },
  {
   "cell_type": "markdown",
   "id": "63633b7b",
   "metadata": {},
   "source": []
  },
  {
   "cell_type": "markdown",
   "id": "79fc66ed",
   "metadata": {},
   "source": [
    "## Features I am not moving to modeling with"
   ]
  },
  {
   "cell_type": "markdown",
   "id": "16b089d4",
   "metadata": {},
   "source": []
  }
 ],
 "metadata": {
  "kernelspec": {
   "display_name": "Python 3 (ipykernel)",
   "language": "python",
   "name": "python3"
  },
  "language_info": {
   "codemirror_mode": {
    "name": "ipython",
    "version": 3
   },
   "file_extension": ".py",
   "mimetype": "text/x-python",
   "name": "python",
   "nbconvert_exporter": "python",
   "pygments_lexer": "ipython3",
   "version": "3.9.12"
  }
 },
 "nbformat": 4,
 "nbformat_minor": 5
}
