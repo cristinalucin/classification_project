{
 "cells": [
  {
   "cell_type": "markdown",
   "id": "7add7ec2",
   "metadata": {},
   "source": [
    "## Goal:\n",
    "* Discover drivers of churn within the Telco dataset\n",
    "* Use these drivers to develop a machine learning model to predict whether or not a customer will churn"
   ]
  },
  {
   "cell_type": "markdown",
   "id": "062ed524",
   "metadata": {},
   "source": [
    "#### Imports"
   ]
  },
  {
   "cell_type": "code",
   "execution_count": 1,
   "id": "e6a13552",
   "metadata": {},
   "outputs": [],
   "source": [
    "# acquire\n",
    "import wrangle as w\n",
    "import env\n",
    "import explore as e\n",
    "\n",
    "# General DS Imports\n",
    "import matplotlib.pyplot as plt\n",
    "import numpy as np\n",
    "import pandas as pd\n",
    "import seaborn as sns\n",
    "import scipy.stats as stats\n",
    "\n",
    "# Decision Tree and Model Evaluation Imports\n",
    "from sklearn.tree import DecisionTreeClassifier, plot_tree, export_text\n",
    "from sklearn.metrics import classification_report, confusion_matrix, plot_confusion_matrix, ConfusionMatrixDisplay\n",
    "from sklearn.ensemble import RandomForestClassifier\n",
    "from sklearn.neighbors import KNeighborsClassifier\n",
    "from sklearn.impute import SimpleImputer\n",
    "from sklearn.linear_model import LogisticRegression\n",
    "\n",
    "# ignore warnings\n",
    "import warnings\n",
    "warnings.filterwarnings(\"ignore\")"
   ]
  },
  {
   "cell_type": "markdown",
   "id": "2aeebc2d",
   "metadata": {},
   "source": [
    "## Acquire\n",
    "* Data acquired from Codeup Database\n",
    "* It contained 7043 rows and 24 columns before cleaning\n",
    "* Each row represents a customer from the Telco company\n",
    "* Each column represents a feature of those customers"
   ]
  },
  {
   "cell_type": "markdown",
   "id": "e3452450",
   "metadata": {},
   "source": [
    "## Prepare\n",
    "### Prepare Actions:\n",
    "\n",
    "* Dropped duplicate columns\n",
    "* Removed columns that did not contain useful information\n",
    "* Renamed columns to promote readability\n",
    "* Checked for nulls in the data (there were none)\n",
    "* Dropped Null Values stored as whitespace\n",
    "* Checked that column data types were appropriate, converted total charges to the correct data type\n",
    "* Encoded categorical variables\n",
    "* Split data into train, validate and test (approx. 75/12.5/12.5), stratifying on 'churn'\n",
    "* Outliers have not been removed for this iteration of the project"
   ]
  },
  {
   "cell_type": "code",
   "execution_count": 2,
   "id": "382d9f26",
   "metadata": {},
   "outputs": [],
   "source": [
    "# acquiring telco data from codeup database\n",
    "df = w.get_telco_data()\n",
    "\n",
    "#Preparing telco data for exploration\n",
    "df = w.prep_telco(df)\n",
    "\n",
    "#Split data and set target variable\n",
    "target = 'churn'\n",
    "train, validate, test = w.train_validate_test_split(df, target)"
   ]
  },
  {
   "cell_type": "markdown",
   "id": "98a009e2",
   "metadata": {},
   "source": [
    "## A brief look at the data"
   ]
  },
  {
   "cell_type": "code",
   "execution_count": 3,
   "id": "ded30656",
   "metadata": {},
   "outputs": [
    {
     "data": {
      "text/html": [
       "<div>\n",
       "<style scoped>\n",
       "    .dataframe tbody tr th:only-of-type {\n",
       "        vertical-align: middle;\n",
       "    }\n",
       "\n",
       "    .dataframe tbody tr th {\n",
       "        vertical-align: top;\n",
       "    }\n",
       "\n",
       "    .dataframe thead th {\n",
       "        text-align: right;\n",
       "    }\n",
       "</style>\n",
       "<table border=\"1\" class=\"dataframe\">\n",
       "  <thead>\n",
       "    <tr style=\"text-align: right;\">\n",
       "      <th></th>\n",
       "      <th>gender</th>\n",
       "      <th>senior_citizen</th>\n",
       "      <th>partner</th>\n",
       "      <th>dependents</th>\n",
       "      <th>tenure</th>\n",
       "      <th>phone_service</th>\n",
       "      <th>multiple_lines</th>\n",
       "      <th>online_security</th>\n",
       "      <th>online_backup</th>\n",
       "      <th>device_protection</th>\n",
       "      <th>...</th>\n",
       "      <th>contract_type_Month-to-month</th>\n",
       "      <th>contract_type_One year</th>\n",
       "      <th>contract_type_Two year</th>\n",
       "      <th>internet_service_type_DSL</th>\n",
       "      <th>internet_service_type_Fiber optic</th>\n",
       "      <th>internet_service_type_None</th>\n",
       "      <th>payment_type_Bank transfer (automatic)</th>\n",
       "      <th>payment_type_Credit card (automatic)</th>\n",
       "      <th>payment_type_Electronic check</th>\n",
       "      <th>payment_type_Mailed check</th>\n",
       "    </tr>\n",
       "  </thead>\n",
       "  <tbody>\n",
       "    <tr>\n",
       "      <th>4407</th>\n",
       "      <td>Female</td>\n",
       "      <td>0</td>\n",
       "      <td>No</td>\n",
       "      <td>No</td>\n",
       "      <td>50</td>\n",
       "      <td>Yes</td>\n",
       "      <td>Yes</td>\n",
       "      <td>No</td>\n",
       "      <td>No</td>\n",
       "      <td>No</td>\n",
       "      <td>...</td>\n",
       "      <td>1</td>\n",
       "      <td>0</td>\n",
       "      <td>0</td>\n",
       "      <td>0</td>\n",
       "      <td>1</td>\n",
       "      <td>0</td>\n",
       "      <td>0</td>\n",
       "      <td>0</td>\n",
       "      <td>1</td>\n",
       "      <td>0</td>\n",
       "    </tr>\n",
       "    <tr>\n",
       "      <th>1756</th>\n",
       "      <td>Male</td>\n",
       "      <td>0</td>\n",
       "      <td>No</td>\n",
       "      <td>No</td>\n",
       "      <td>4</td>\n",
       "      <td>Yes</td>\n",
       "      <td>No</td>\n",
       "      <td>No</td>\n",
       "      <td>No</td>\n",
       "      <td>No</td>\n",
       "      <td>...</td>\n",
       "      <td>1</td>\n",
       "      <td>0</td>\n",
       "      <td>0</td>\n",
       "      <td>0</td>\n",
       "      <td>1</td>\n",
       "      <td>0</td>\n",
       "      <td>0</td>\n",
       "      <td>0</td>\n",
       "      <td>1</td>\n",
       "      <td>0</td>\n",
       "    </tr>\n",
       "    <tr>\n",
       "      <th>4669</th>\n",
       "      <td>Male</td>\n",
       "      <td>0</td>\n",
       "      <td>Yes</td>\n",
       "      <td>Yes</td>\n",
       "      <td>72</td>\n",
       "      <td>Yes</td>\n",
       "      <td>No</td>\n",
       "      <td>No internet service</td>\n",
       "      <td>No internet service</td>\n",
       "      <td>No internet service</td>\n",
       "      <td>...</td>\n",
       "      <td>0</td>\n",
       "      <td>0</td>\n",
       "      <td>1</td>\n",
       "      <td>0</td>\n",
       "      <td>0</td>\n",
       "      <td>1</td>\n",
       "      <td>0</td>\n",
       "      <td>0</td>\n",
       "      <td>1</td>\n",
       "      <td>0</td>\n",
       "    </tr>\n",
       "    <tr>\n",
       "      <th>2379</th>\n",
       "      <td>Female</td>\n",
       "      <td>0</td>\n",
       "      <td>Yes</td>\n",
       "      <td>Yes</td>\n",
       "      <td>71</td>\n",
       "      <td>Yes</td>\n",
       "      <td>Yes</td>\n",
       "      <td>Yes</td>\n",
       "      <td>Yes</td>\n",
       "      <td>Yes</td>\n",
       "      <td>...</td>\n",
       "      <td>0</td>\n",
       "      <td>0</td>\n",
       "      <td>1</td>\n",
       "      <td>0</td>\n",
       "      <td>1</td>\n",
       "      <td>0</td>\n",
       "      <td>1</td>\n",
       "      <td>0</td>\n",
       "      <td>0</td>\n",
       "      <td>0</td>\n",
       "    </tr>\n",
       "    <tr>\n",
       "      <th>4118</th>\n",
       "      <td>Male</td>\n",
       "      <td>0</td>\n",
       "      <td>Yes</td>\n",
       "      <td>Yes</td>\n",
       "      <td>56</td>\n",
       "      <td>Yes</td>\n",
       "      <td>Yes</td>\n",
       "      <td>No</td>\n",
       "      <td>Yes</td>\n",
       "      <td>No</td>\n",
       "      <td>...</td>\n",
       "      <td>1</td>\n",
       "      <td>0</td>\n",
       "      <td>0</td>\n",
       "      <td>0</td>\n",
       "      <td>1</td>\n",
       "      <td>0</td>\n",
       "      <td>0</td>\n",
       "      <td>1</td>\n",
       "      <td>0</td>\n",
       "      <td>0</td>\n",
       "    </tr>\n",
       "  </tbody>\n",
       "</table>\n",
       "<p>5 rows × 56 columns</p>\n",
       "</div>"
      ],
      "text/plain": [
       "      gender  senior_citizen partner dependents  tenure phone_service  \\\n",
       "4407  Female               0      No         No      50           Yes   \n",
       "1756    Male               0      No         No       4           Yes   \n",
       "4669    Male               0     Yes        Yes      72           Yes   \n",
       "2379  Female               0     Yes        Yes      71           Yes   \n",
       "4118    Male               0     Yes        Yes      56           Yes   \n",
       "\n",
       "     multiple_lines      online_security        online_backup  \\\n",
       "4407            Yes                   No                   No   \n",
       "1756             No                   No                   No   \n",
       "4669             No  No internet service  No internet service   \n",
       "2379            Yes                  Yes                  Yes   \n",
       "4118            Yes                   No                  Yes   \n",
       "\n",
       "        device_protection  ... contract_type_Month-to-month  \\\n",
       "4407                   No  ...                            1   \n",
       "1756                   No  ...                            1   \n",
       "4669  No internet service  ...                            0   \n",
       "2379                  Yes  ...                            0   \n",
       "4118                   No  ...                            1   \n",
       "\n",
       "     contract_type_One year contract_type_Two year internet_service_type_DSL  \\\n",
       "4407                      0                      0                         0   \n",
       "1756                      0                      0                         0   \n",
       "4669                      0                      1                         0   \n",
       "2379                      0                      1                         0   \n",
       "4118                      0                      0                         0   \n",
       "\n",
       "      internet_service_type_Fiber optic  internet_service_type_None  \\\n",
       "4407                                  1                           0   \n",
       "1756                                  1                           0   \n",
       "4669                                  0                           1   \n",
       "2379                                  1                           0   \n",
       "4118                                  1                           0   \n",
       "\n",
       "     payment_type_Bank transfer (automatic)  \\\n",
       "4407                                      0   \n",
       "1756                                      0   \n",
       "4669                                      0   \n",
       "2379                                      1   \n",
       "4118                                      0   \n",
       "\n",
       "     payment_type_Credit card (automatic) payment_type_Electronic check  \\\n",
       "4407                                    0                             1   \n",
       "1756                                    0                             1   \n",
       "4669                                    0                             1   \n",
       "2379                                    0                             0   \n",
       "4118                                    1                             0   \n",
       "\n",
       "      payment_type_Mailed check  \n",
       "4407                          0  \n",
       "1756                          0  \n",
       "4669                          0  \n",
       "2379                          0  \n",
       "4118                          0  \n",
       "\n",
       "[5 rows x 56 columns]"
      ]
     },
     "execution_count": 3,
     "metadata": {},
     "output_type": "execute_result"
    }
   ],
   "source": [
    "train.head()"
   ]
  },
  {
   "cell_type": "markdown",
   "id": "214e8fdb",
   "metadata": {},
   "source": [
    "## Summary of the data"
   ]
  },
  {
   "cell_type": "code",
   "execution_count": 4,
   "id": "9228c8a5",
   "metadata": {},
   "outputs": [
    {
     "data": {
      "text/html": [
       "<div>\n",
       "<style scoped>\n",
       "    .dataframe tbody tr th:only-of-type {\n",
       "        vertical-align: middle;\n",
       "    }\n",
       "\n",
       "    .dataframe tbody tr th {\n",
       "        vertical-align: top;\n",
       "    }\n",
       "\n",
       "    .dataframe thead th {\n",
       "        text-align: right;\n",
       "    }\n",
       "</style>\n",
       "<table border=\"1\" class=\"dataframe\">\n",
       "  <thead>\n",
       "    <tr style=\"text-align: right;\">\n",
       "      <th></th>\n",
       "      <th>senior_citizen</th>\n",
       "      <th>tenure</th>\n",
       "      <th>monthly_charges</th>\n",
       "      <th>total_charges</th>\n",
       "      <th>gender_encoded</th>\n",
       "      <th>partner_encoded</th>\n",
       "      <th>dependents_encoded</th>\n",
       "      <th>phone_service_encoded</th>\n",
       "      <th>paperless_billing_encoded</th>\n",
       "      <th>churn</th>\n",
       "      <th>...</th>\n",
       "      <th>contract_type_Month-to-month</th>\n",
       "      <th>contract_type_One year</th>\n",
       "      <th>contract_type_Two year</th>\n",
       "      <th>internet_service_type_DSL</th>\n",
       "      <th>internet_service_type_Fiber optic</th>\n",
       "      <th>internet_service_type_None</th>\n",
       "      <th>payment_type_Bank transfer (automatic)</th>\n",
       "      <th>payment_type_Credit card (automatic)</th>\n",
       "      <th>payment_type_Electronic check</th>\n",
       "      <th>payment_type_Mailed check</th>\n",
       "    </tr>\n",
       "  </thead>\n",
       "  <tbody>\n",
       "    <tr>\n",
       "      <th>count</th>\n",
       "      <td>4922.000000</td>\n",
       "      <td>4922.000000</td>\n",
       "      <td>4922.000000</td>\n",
       "      <td>4922.000000</td>\n",
       "      <td>4922.000000</td>\n",
       "      <td>4922.000000</td>\n",
       "      <td>4922.000000</td>\n",
       "      <td>4922.000000</td>\n",
       "      <td>4922.000000</td>\n",
       "      <td>4922.000000</td>\n",
       "      <td>...</td>\n",
       "      <td>4922.000000</td>\n",
       "      <td>4922.000000</td>\n",
       "      <td>4922.000000</td>\n",
       "      <td>4922.000000</td>\n",
       "      <td>4922.000000</td>\n",
       "      <td>4922.000000</td>\n",
       "      <td>4922.000000</td>\n",
       "      <td>4922.000000</td>\n",
       "      <td>4922.000000</td>\n",
       "      <td>4922.000000</td>\n",
       "    </tr>\n",
       "    <tr>\n",
       "      <th>mean</th>\n",
       "      <td>0.163145</td>\n",
       "      <td>32.549573</td>\n",
       "      <td>64.640583</td>\n",
       "      <td>2279.278230</td>\n",
       "      <td>0.495530</td>\n",
       "      <td>0.491670</td>\n",
       "      <td>0.301910</td>\n",
       "      <td>0.903088</td>\n",
       "      <td>0.590207</td>\n",
       "      <td>0.265949</td>\n",
       "      <td>...</td>\n",
       "      <td>0.546323</td>\n",
       "      <td>0.208046</td>\n",
       "      <td>0.245632</td>\n",
       "      <td>0.341325</td>\n",
       "      <td>0.438643</td>\n",
       "      <td>0.220033</td>\n",
       "      <td>0.215766</td>\n",
       "      <td>0.224096</td>\n",
       "      <td>0.335636</td>\n",
       "      <td>0.224502</td>\n",
       "    </tr>\n",
       "    <tr>\n",
       "      <th>std</th>\n",
       "      <td>0.369536</td>\n",
       "      <td>24.563833</td>\n",
       "      <td>30.096846</td>\n",
       "      <td>2254.640564</td>\n",
       "      <td>0.500031</td>\n",
       "      <td>0.499981</td>\n",
       "      <td>0.459133</td>\n",
       "      <td>0.295868</td>\n",
       "      <td>0.491845</td>\n",
       "      <td>0.441882</td>\n",
       "      <td>...</td>\n",
       "      <td>0.497900</td>\n",
       "      <td>0.405951</td>\n",
       "      <td>0.430505</td>\n",
       "      <td>0.474202</td>\n",
       "      <td>0.496271</td>\n",
       "      <td>0.414310</td>\n",
       "      <td>0.411394</td>\n",
       "      <td>0.417028</td>\n",
       "      <td>0.472260</td>\n",
       "      <td>0.417296</td>\n",
       "    </tr>\n",
       "    <tr>\n",
       "      <th>min</th>\n",
       "      <td>0.000000</td>\n",
       "      <td>1.000000</td>\n",
       "      <td>18.250000</td>\n",
       "      <td>18.800000</td>\n",
       "      <td>0.000000</td>\n",
       "      <td>0.000000</td>\n",
       "      <td>0.000000</td>\n",
       "      <td>0.000000</td>\n",
       "      <td>0.000000</td>\n",
       "      <td>0.000000</td>\n",
       "      <td>...</td>\n",
       "      <td>0.000000</td>\n",
       "      <td>0.000000</td>\n",
       "      <td>0.000000</td>\n",
       "      <td>0.000000</td>\n",
       "      <td>0.000000</td>\n",
       "      <td>0.000000</td>\n",
       "      <td>0.000000</td>\n",
       "      <td>0.000000</td>\n",
       "      <td>0.000000</td>\n",
       "      <td>0.000000</td>\n",
       "    </tr>\n",
       "    <tr>\n",
       "      <th>25%</th>\n",
       "      <td>0.000000</td>\n",
       "      <td>9.000000</td>\n",
       "      <td>35.150000</td>\n",
       "      <td>400.500000</td>\n",
       "      <td>0.000000</td>\n",
       "      <td>0.000000</td>\n",
       "      <td>0.000000</td>\n",
       "      <td>1.000000</td>\n",
       "      <td>0.000000</td>\n",
       "      <td>0.000000</td>\n",
       "      <td>...</td>\n",
       "      <td>0.000000</td>\n",
       "      <td>0.000000</td>\n",
       "      <td>0.000000</td>\n",
       "      <td>0.000000</td>\n",
       "      <td>0.000000</td>\n",
       "      <td>0.000000</td>\n",
       "      <td>0.000000</td>\n",
       "      <td>0.000000</td>\n",
       "      <td>0.000000</td>\n",
       "      <td>0.000000</td>\n",
       "    </tr>\n",
       "    <tr>\n",
       "      <th>50%</th>\n",
       "      <td>0.000000</td>\n",
       "      <td>29.000000</td>\n",
       "      <td>70.300000</td>\n",
       "      <td>1398.975000</td>\n",
       "      <td>0.000000</td>\n",
       "      <td>0.000000</td>\n",
       "      <td>0.000000</td>\n",
       "      <td>1.000000</td>\n",
       "      <td>1.000000</td>\n",
       "      <td>0.000000</td>\n",
       "      <td>...</td>\n",
       "      <td>1.000000</td>\n",
       "      <td>0.000000</td>\n",
       "      <td>0.000000</td>\n",
       "      <td>0.000000</td>\n",
       "      <td>0.000000</td>\n",
       "      <td>0.000000</td>\n",
       "      <td>0.000000</td>\n",
       "      <td>0.000000</td>\n",
       "      <td>0.000000</td>\n",
       "      <td>0.000000</td>\n",
       "    </tr>\n",
       "    <tr>\n",
       "      <th>75%</th>\n",
       "      <td>0.000000</td>\n",
       "      <td>56.000000</td>\n",
       "      <td>89.850000</td>\n",
       "      <td>3810.100000</td>\n",
       "      <td>1.000000</td>\n",
       "      <td>1.000000</td>\n",
       "      <td>1.000000</td>\n",
       "      <td>1.000000</td>\n",
       "      <td>1.000000</td>\n",
       "      <td>1.000000</td>\n",
       "      <td>...</td>\n",
       "      <td>1.000000</td>\n",
       "      <td>0.000000</td>\n",
       "      <td>0.000000</td>\n",
       "      <td>1.000000</td>\n",
       "      <td>1.000000</td>\n",
       "      <td>0.000000</td>\n",
       "      <td>0.000000</td>\n",
       "      <td>0.000000</td>\n",
       "      <td>1.000000</td>\n",
       "      <td>0.000000</td>\n",
       "    </tr>\n",
       "    <tr>\n",
       "      <th>max</th>\n",
       "      <td>1.000000</td>\n",
       "      <td>72.000000</td>\n",
       "      <td>118.750000</td>\n",
       "      <td>8672.450000</td>\n",
       "      <td>1.000000</td>\n",
       "      <td>1.000000</td>\n",
       "      <td>1.000000</td>\n",
       "      <td>1.000000</td>\n",
       "      <td>1.000000</td>\n",
       "      <td>1.000000</td>\n",
       "      <td>...</td>\n",
       "      <td>1.000000</td>\n",
       "      <td>1.000000</td>\n",
       "      <td>1.000000</td>\n",
       "      <td>1.000000</td>\n",
       "      <td>1.000000</td>\n",
       "      <td>1.000000</td>\n",
       "      <td>1.000000</td>\n",
       "      <td>1.000000</td>\n",
       "      <td>1.000000</td>\n",
       "      <td>1.000000</td>\n",
       "    </tr>\n",
       "  </tbody>\n",
       "</table>\n",
       "<p>8 rows × 41 columns</p>\n",
       "</div>"
      ],
      "text/plain": [
       "       senior_citizen       tenure  monthly_charges  total_charges  \\\n",
       "count     4922.000000  4922.000000      4922.000000    4922.000000   \n",
       "mean         0.163145    32.549573        64.640583    2279.278230   \n",
       "std          0.369536    24.563833        30.096846    2254.640564   \n",
       "min          0.000000     1.000000        18.250000      18.800000   \n",
       "25%          0.000000     9.000000        35.150000     400.500000   \n",
       "50%          0.000000    29.000000        70.300000    1398.975000   \n",
       "75%          0.000000    56.000000        89.850000    3810.100000   \n",
       "max          1.000000    72.000000       118.750000    8672.450000   \n",
       "\n",
       "       gender_encoded  partner_encoded  dependents_encoded  \\\n",
       "count     4922.000000      4922.000000         4922.000000   \n",
       "mean         0.495530         0.491670            0.301910   \n",
       "std          0.500031         0.499981            0.459133   \n",
       "min          0.000000         0.000000            0.000000   \n",
       "25%          0.000000         0.000000            0.000000   \n",
       "50%          0.000000         0.000000            0.000000   \n",
       "75%          1.000000         1.000000            1.000000   \n",
       "max          1.000000         1.000000            1.000000   \n",
       "\n",
       "       phone_service_encoded  paperless_billing_encoded        churn  ...  \\\n",
       "count            4922.000000                4922.000000  4922.000000  ...   \n",
       "mean                0.903088                   0.590207     0.265949  ...   \n",
       "std                 0.295868                   0.491845     0.441882  ...   \n",
       "min                 0.000000                   0.000000     0.000000  ...   \n",
       "25%                 1.000000                   0.000000     0.000000  ...   \n",
       "50%                 1.000000                   1.000000     0.000000  ...   \n",
       "75%                 1.000000                   1.000000     1.000000  ...   \n",
       "max                 1.000000                   1.000000     1.000000  ...   \n",
       "\n",
       "       contract_type_Month-to-month  contract_type_One year  \\\n",
       "count                   4922.000000             4922.000000   \n",
       "mean                       0.546323                0.208046   \n",
       "std                        0.497900                0.405951   \n",
       "min                        0.000000                0.000000   \n",
       "25%                        0.000000                0.000000   \n",
       "50%                        1.000000                0.000000   \n",
       "75%                        1.000000                0.000000   \n",
       "max                        1.000000                1.000000   \n",
       "\n",
       "       contract_type_Two year  internet_service_type_DSL  \\\n",
       "count             4922.000000                4922.000000   \n",
       "mean                 0.245632                   0.341325   \n",
       "std                  0.430505                   0.474202   \n",
       "min                  0.000000                   0.000000   \n",
       "25%                  0.000000                   0.000000   \n",
       "50%                  0.000000                   0.000000   \n",
       "75%                  0.000000                   1.000000   \n",
       "max                  1.000000                   1.000000   \n",
       "\n",
       "       internet_service_type_Fiber optic  internet_service_type_None  \\\n",
       "count                        4922.000000                 4922.000000   \n",
       "mean                            0.438643                    0.220033   \n",
       "std                             0.496271                    0.414310   \n",
       "min                             0.000000                    0.000000   \n",
       "25%                             0.000000                    0.000000   \n",
       "50%                             0.000000                    0.000000   \n",
       "75%                             1.000000                    0.000000   \n",
       "max                             1.000000                    1.000000   \n",
       "\n",
       "       payment_type_Bank transfer (automatic)  \\\n",
       "count                             4922.000000   \n",
       "mean                                 0.215766   \n",
       "std                                  0.411394   \n",
       "min                                  0.000000   \n",
       "25%                                  0.000000   \n",
       "50%                                  0.000000   \n",
       "75%                                  0.000000   \n",
       "max                                  1.000000   \n",
       "\n",
       "       payment_type_Credit card (automatic)  payment_type_Electronic check  \\\n",
       "count                           4922.000000                    4922.000000   \n",
       "mean                               0.224096                       0.335636   \n",
       "std                                0.417028                       0.472260   \n",
       "min                                0.000000                       0.000000   \n",
       "25%                                0.000000                       0.000000   \n",
       "50%                                0.000000                       0.000000   \n",
       "75%                                0.000000                       1.000000   \n",
       "max                                1.000000                       1.000000   \n",
       "\n",
       "       payment_type_Mailed check  \n",
       "count                4922.000000  \n",
       "mean                    0.224502  \n",
       "std                     0.417296  \n",
       "min                     0.000000  \n",
       "25%                     0.000000  \n",
       "50%                     0.000000  \n",
       "75%                     0.000000  \n",
       "max                     1.000000  \n",
       "\n",
       "[8 rows x 41 columns]"
      ]
     },
     "execution_count": 4,
     "metadata": {},
     "output_type": "execute_result"
    }
   ],
   "source": [
    "train.describe()"
   ]
  },
  {
   "cell_type": "markdown",
   "id": "85be10e1",
   "metadata": {},
   "source": [
    "## Exploration"
   ]
  },
  {
   "cell_type": "markdown",
   "id": "282b46b0",
   "metadata": {},
   "source": [
    "## What is the percentage of customers who churn?"
   ]
  },
  {
   "cell_type": "code",
   "execution_count": 5,
   "id": "a3db03dd",
   "metadata": {},
   "outputs": [
    {
     "data": {
      "image/png": "[encoded data removed]",
      "text/plain": [
       "<Figure size 432x288 with 1 Axes>"
      ]
     },
     "metadata": {},
     "output_type": "display_data"
    }
   ],
   "source": [
    "#Get pie chart for churn\n",
    "w.get_pie_churn(train)"
   ]
  },
  {
   "cell_type": "markdown",
   "id": "5d4fa42a",
   "metadata": {},
   "source": [
    "* **Approximately 27 percent of customers in this dataset \"churned\" (left the company)**"
   ]
  },
  {
   "cell_type": "markdown",
   "id": "67085e07",
   "metadata": {},
   "source": [
    "## Is there a relationship between being a Senior Citizen and Churn rate?"
   ]
  },
  {
   "cell_type": "code",
   "execution_count": 6,
   "id": "9249e214",
   "metadata": {},
   "outputs": [
    {
     "data": {
      "image/png": "[encoded data removed]",
      "text/plain": [
       "<Figure size 432x288 with 1 Axes>"
      ]
     },
     "metadata": {
      "needs_background": "light"
     },
     "output_type": "display_data"
    }
   ],
   "source": [
    "#Create bar chart (senior_citizen)\n",
    "w.get_bar_senior(train)"
   ]
  },
  {
   "cell_type": "markdown",
   "id": "f8af9389",
   "metadata": {},
   "source": [
    "### Senior Citizen vs. Churn:\n",
    "\n",
    "* I used a 95% confidence interval\n",
    "* The resulting alpha value is .05\n",
    "\n",
    "Hypotheses:\n",
    "\n",
    "$H_0$: **The churn rate of senior citizens is less than or equal to the churn rate of non-senior citizens.**\n",
    "\n",
    "$H_a$: **The churn rate of senior citizens is greater than the churn rate of non-senior citizens.**"
   ]
  },
  {
   "cell_type": "code",
   "execution_count": 7,
   "id": "4c4865cc",
   "metadata": {},
   "outputs": [
    {
     "name": "stdout",
     "output_type": "stream",
     "text": [
      "chi^2 = 128.7112\n",
      "p     = 0.0000\n"
     ]
    }
   ],
   "source": [
    "#Get chi-square test results\n",
    "w.get_chi_senior(train)"
   ]
  },
  {
   "cell_type": "markdown",
   "id": "44865d36",
   "metadata": {},
   "source": [
    "**The p-value is less than alpha. Therefore, there is evidence to support the hypothesis that \"Senior Citizen\" and \"Churn\" are related. I believe that including this feature in modeling will likely have a positive impact on model accuracy.**"
   ]
  },
  {
   "cell_type": "markdown",
   "id": "fb8ba862",
   "metadata": {},
   "source": [
    "## Does a customer having dependents affect churn?"
   ]
  },
  {
   "cell_type": "code",
   "execution_count": 8,
   "id": "c7e6ce85",
   "metadata": {},
   "outputs": [
    {
     "data": {
      "image/png": "[encoded data removed]",
      "text/plain": [
       "<Figure size 432x288 with 1 Axes>"
      ]
     },
     "metadata": {
      "needs_background": "light"
     },
     "output_type": "display_data"
    }
   ],
   "source": [
    "#Get bar chart comparing having depenedents with churn\n",
    "w.get_bar_dependents(train)"
   ]
  },
  {
   "cell_type": "markdown",
   "id": "b056a815",
   "metadata": {},
   "source": [
    "### It appears that customers with dependents churn less than those without dependents."
   ]
  },
  {
   "cell_type": "markdown",
   "id": "3f2a4e57",
   "metadata": {},
   "source": [
    "### Dependents vs. Churn: Testing Significance of Relationship\n",
    "\n",
    "* Both variables are categorical so a Chi-Squared test is required\n",
    "* I used a 95% confidence interval\n",
    "* The resulting alpha value is .05\n",
    "\n",
    "Hypotheses:\n",
    "\n",
    "$H_0$: **The churn rate of those with dependents is greater than or equal to those without dependents.**\n",
    "\n",
    "$H_a$: **The churn rate of those with dependents is less than those without dependents.**"
   ]
  },
  {
   "cell_type": "code",
   "execution_count": 9,
   "id": "c4447380",
   "metadata": {},
   "outputs": [
    {
     "name": "stdout",
     "output_type": "stream",
     "text": [
      "chi^2 = 133.9467\n",
      "p     = 0.0000\n"
     ]
    }
   ],
   "source": [
    "#Run chi-squared test on dependents vs churn\n",
    "w.get_chi_dependents(train)"
   ]
  },
  {
   "cell_type": "markdown",
   "id": "98b8d74b",
   "metadata": {},
   "source": [
    "**The p-value is less than alpha. Therefore, there is evidence to support the hypothesis that a customer having dependents is related to churn rate. I believe that including this feature in modeling will likely have a positive impact on model accuracy.**"
   ]
  },
  {
   "cell_type": "markdown",
   "id": "c8d251b1",
   "metadata": {},
   "source": [
    "## Does a customer having a partner affect churn?"
   ]
  },
  {
   "cell_type": "code",
   "execution_count": 10,
   "id": "dd1dc6b2",
   "metadata": {},
   "outputs": [
    {
     "data": {
      "image/png": "[encoded data removed]",
      "text/plain": [
       "<Figure size 432x288 with 1 Axes>"
      ]
     },
     "metadata": {
      "needs_background": "light"
     },
     "output_type": "display_data"
    }
   ],
   "source": [
    "#Visualizing relationship between partner status and churn\n",
    "w.get_bar_partner(train)"
   ]
  },
  {
   "cell_type": "markdown",
   "id": "588b13d0",
   "metadata": {},
   "source": [
    "#### It appears that those with partners churn less than those without."
   ]
  },
  {
   "cell_type": "markdown",
   "id": "a0d611e2",
   "metadata": {},
   "source": [
    "### Partner Status vs. Churn: Looking at the significance of the relationship\n",
    "\n",
    "* Both variables are categorical so a Chi-Squared test is required\n",
    "* I used a 95% confidence interval\n",
    "* The resulting alpha value is .05\n",
    "\n",
    "Hypotheses:\n",
    "\n",
    "$H_0$: **The churn rate of partnered customers is greater than or equal to the churn rate of single customers.**\n",
    "\n",
    "$H_a$: **The churn rate of partnered customers is less than the churn rate of single customers.**"
   ]
  },
  {
   "cell_type": "code",
   "execution_count": 11,
   "id": "027ced87",
   "metadata": {},
   "outputs": [
    {
     "name": "stdout",
     "output_type": "stream",
     "text": [
      "chi^2 = 121.8975\n",
      "p     = 0.0000\n"
     ]
    }
   ],
   "source": [
    "#Get chi-squared test for partner status vs churn\n",
    "w.get_chi_partner(train)"
   ]
  },
  {
   "cell_type": "markdown",
   "id": "c4e4122c",
   "metadata": {},
   "source": [
    "**The p-value is less than alpha. Therefore, there is evidence to support the hypothesis that a customer having a partner and churn are related. However, this feature is similar to having dependents, and may not add value when included in modeling.**"
   ]
  },
  {
   "cell_type": "markdown",
   "id": "b697c55b",
   "metadata": {},
   "source": [
    "## Does customer contract type affect churn?"
   ]
  },
  {
   "cell_type": "code",
   "execution_count": 12,
   "id": "845c57c0",
   "metadata": {},
   "outputs": [
    {
     "data": {
      "image/png": "[encoded data removed]",
      "text/plain": [
       "<Figure size 432x288 with 1 Axes>"
      ]
     },
     "metadata": {
      "needs_background": "light"
     },
     "output_type": "display_data"
    }
   ],
   "source": [
    "#Get bar chart comparing contract \n",
    "w.get_bar_contract(train)"
   ]
  },
  {
   "cell_type": "markdown",
   "id": "400f6f18",
   "metadata": {},
   "source": [
    "#### It appears that customers with month-to-month contracts churn at a much higher rate than those with two-year contracts. Customers with one-year contracts churn less than month-to-month, but more than two-year contact customers."
   ]
  },
  {
   "cell_type": "markdown",
   "id": "2923d220",
   "metadata": {},
   "source": [
    "### Contract Type vs. Churn: Testing Significance of Relationship\n",
    "\n",
    "* Both variables are categorical so a Chi-Squared test is required\n",
    "* I used a 95% confidence interval\n",
    "* The resulting alpha value is .05\n",
    "\n",
    "Hypotheses:\n",
    "\n",
    "$H_0$: The churn rate of those on a month-to-month contract is less than or equal to other customers.\n",
    "\n",
    "$H_a$: The churn rate of those on a month-to-month contract is greater than other customers."
   ]
  },
  {
   "cell_type": "code",
   "execution_count": 13,
   "id": "afc1242d",
   "metadata": {},
   "outputs": [
    {
     "name": "stdout",
     "output_type": "stream",
     "text": [
      "chi^2 = 837.2493\n",
      "p     = 0.0000\n"
     ]
    }
   ],
   "source": [
    "#Running chi-squared test comparing contract type and churn\n",
    "w.get_chi_contract(train)"
   ]
  },
  {
   "cell_type": "markdown",
   "id": "5eed2866",
   "metadata": {},
   "source": [
    "**The p-value is less than alpha. Therefore, there is evidence to support the hypothesis that customer contract type is related to churn rate. I believe that including this feature in modeling will likely have a strong positive impact on model accuracy.**"
   ]
  },
  {
   "cell_type": "markdown",
   "id": "f396d49a",
   "metadata": {},
   "source": [
    "## Does a customer's monthly charge amount impact churn?"
   ]
  },
  {
   "cell_type": "code",
   "execution_count": 14,
   "id": "0ea9391d",
   "metadata": {},
   "outputs": [
    {
     "data": {
      "image/png": "[encoded data removed]",
      "text/plain": [
       "<Figure size 432x288 with 1 Axes>"
      ]
     },
     "metadata": {
      "needs_background": "light"
     },
     "output_type": "display_data"
    }
   ],
   "source": [
    "#Get viz of monthly charge vs churn\n",
    "w.monthly_charges_md(train)"
   ]
  },
  {
   "cell_type": "markdown",
   "id": "9979149b",
   "metadata": {},
   "source": [
    "#### It appears that customers who have lower monthly charges churn less."
   ]
  },
  {
   "cell_type": "markdown",
   "id": "2afe7e78",
   "metadata": {},
   "source": [
    "### Monthly Charges vs. Churn: Testing Significance of Relationship\n",
    "\n",
    "* Monthly Charges is a continuous variable, and both populations are independent, so an independent T-Test is required.\n",
    "* I used a 95% confidence interval (alpha value .05)\n",
    "* Variances were tested and not equal, and indicated in testing parameter\n",
    "\n",
    "Hypotheses:\n",
    "\n",
    "$H_0$: **Customers with lower monthly charges have a churn rate greater than or equal to those with higher charges.**\n",
    "\n",
    "$H_a$: **Customers with lower monthly charges have a lower churn rate than those with higher monthly charges.**"
   ]
  },
  {
   "cell_type": "code",
   "execution_count": 15,
   "id": "d86c84f8",
   "metadata": {},
   "outputs": [
    {
     "name": "stdout",
     "output_type": "stream",
     "text": [
      "t = -16.0750\n",
      "p = 0.0000\n"
     ]
    }
   ],
   "source": [
    "#Run T-test comparing monthly charges and churn status\n",
    "w.get_t_monthly(train)"
   ]
  },
  {
   "cell_type": "markdown",
   "id": "b844de0a",
   "metadata": {},
   "source": [
    "**The p-value is less than alpha. Therefore, there is evidence to support the hypothesis that customer monthly charge amount is related to churn rate. I believe that including this feature in modeling will likely have a positive impact on model accuracy.**"
   ]
  },
  {
   "cell_type": "markdown",
   "id": "e2956310",
   "metadata": {},
   "source": [
    "## Does the total charges a customer has accrued impact churn rate?"
   ]
  },
  {
   "cell_type": "code",
   "execution_count": 16,
   "id": "de71f6e2",
   "metadata": {},
   "outputs": [
    {
     "data": {
      "image/png": "[encoded data removed]",
      "text/plain": [
       "<Figure size 432x288 with 1 Axes>"
      ]
     },
     "metadata": {
      "needs_background": "light"
     },
     "output_type": "display_data"
    }
   ],
   "source": [
    "#Get bar chart comparing total charges with churn\n",
    "w.total_charges_md(train)"
   ]
  },
  {
   "cell_type": "markdown",
   "id": "47644a29",
   "metadata": {},
   "source": [
    "#### It appears that customers with higher total charges churn less."
   ]
  },
  {
   "cell_type": "markdown",
   "id": "7e7b1427",
   "metadata": {},
   "source": [
    "### Total Charges vs. Churn: Testing Significance of Relationship\n",
    "\n",
    "* Total Charges is a continuous variable, and both populations are independent, so an independent T-Test is required.\n",
    "* I used a 95% confidence interval (alpha value .05)\n",
    "* Variances were tested and not equal, and indicated in testing parameter\n",
    "\n",
    "Hypotheses:\n",
    "\n",
    "$H_0$: Customers with higher total charges have a churn rate greater than or equal to those with lower total charges\n",
    "\n",
    "$H_a$: Customers with higher total charges have a lower churn rate than those with lower total charges"
   ]
  },
  {
   "cell_type": "code",
   "execution_count": 17,
   "id": "f5fe5594",
   "metadata": {},
   "outputs": [
    {
     "name": "stdout",
     "output_type": "stream",
     "text": [
      "t = 14.6932\n",
      "p = 0.0000\n"
     ]
    }
   ],
   "source": [
    "#Run t-test comparing total charges and churn\n",
    "w.get_t_total(train)"
   ]
  },
  {
   "cell_type": "markdown",
   "id": "d5988d08",
   "metadata": {},
   "source": [
    "**The p-value is less than alpha. Therefore, there is evidence to support the hypothesis that customer total charge amount is related to churn rate.**"
   ]
  },
  {
   "cell_type": "markdown",
   "id": "1b0bfb47",
   "metadata": {},
   "source": [
    "## Exploration Summary"
   ]
  },
  {
   "cell_type": "markdown",
   "id": "b3b040a9",
   "metadata": {},
   "source": [
    "* Most categorical variables in this dataset had significant relationships with the target variable of \"churn\"\n",
    "* Categorical variables that did not impact churn were Gender and Phone Service\n",
    "* Senior Citizen status is a driver of churn\n",
    "* Both partner status and having dependents are drivers of churn\n",
    "* More time to explore this data could yield greater results in exploration (feature engineering)"
   ]
  },
  {
   "cell_type": "markdown",
   "id": "41f458e4",
   "metadata": {},
   "source": [
    "## Features I am moving to modeling with"
   ]
  },
  {
   "cell_type": "markdown",
   "id": "52c34149",
   "metadata": {},
   "source": [
    "* \"Senior Citizen\": significant difference in churn rates between customers who are senior citizens and those who are not\n",
    "* \"Has Dependents\": significant difference in churn rates between customers with dependents and those without.\n",
    "* \"Contract Type\": significant difference in churn rates between customers with two-year contracts, one-year contracts, and those on month-to-month contract\n",
    "* \"Monthly Charges\": significant difference in mean monthly charges between customers who churned and those who have not."
   ]
  },
  {
   "cell_type": "markdown",
   "id": "368565d6",
   "metadata": {},
   "source": [
    "## Features I am not moving to modeling with"
   ]
  },
  {
   "cell_type": "markdown",
   "id": "729caea3",
   "metadata": {},
   "source": [
    "* \"Has Partner\": Significant relationship to churn, but population overlap between this group and \"Has Dependents\" could yield less results. Furthermore, there could be more potential in focusing on customers with dependents with add-ons (programming for children, etc)\n",
    "* \"Total Charges\": Significant relationship to churn, but I believe that focusing on monthly charges will have a greater impact on my model."
   ]
  },
  {
   "cell_type": "markdown",
   "id": "0ca673e1",
   "metadata": {},
   "source": [
    "# Modeling\n",
    "* I will use accuracy as my evaluation metric\n",
    "* non-churned customers makeup 73% of the data\n",
    "* by guessing non-churn for every customer, one could achieve an accuracy of 73%\n",
    "* 73% will be the baseline accuracy I use for this project\n",
    "* I will be evaluating models developed using four different model types and various hyperparameter configurations\n",
    "* Models will be evaluated on train and validate data\n",
    "* The model that performs the best will then be evaluated on test data"
   ]
  },
  {
   "cell_type": "code",
   "execution_count": 18,
   "id": "e86cccb7",
   "metadata": {},
   "outputs": [],
   "source": [
    "#preparing data for modeling\n",
    "X_train, X_validate, X_test, y_train, y_validate, y_test = w.model_prep(train, validate, test)"
   ]
  },
  {
   "cell_type": "markdown",
   "id": "13f2d5a7",
   "metadata": {},
   "source": [
    "## Decision Tree"
   ]
  },
  {
   "cell_type": "code",
   "execution_count": 19,
   "id": "34085064",
   "metadata": {},
   "outputs": [
    {
     "name": "stdout",
     "output_type": "stream",
     "text": [
      "Accuracy of Decision Tree on train data is 0.7643234457537587\n",
      "Accuracy of Decision Tree on validate data is 0.7601895734597156\n"
     ]
    }
   ],
   "source": [
    "#Run decision tree on train and validate data\n",
    "w.get_tree(X_train, X_validate, y_train, y_validate)"
   ]
  },
  {
   "cell_type": "markdown",
   "id": "c622062e",
   "metadata": {},
   "source": [
    "#### Decision tree accuracy is three percentage points above the baseline."
   ]
  },
  {
   "cell_type": "markdown",
   "id": "bb7812d6",
   "metadata": {},
   "source": [
    "## Random Forest"
   ]
  },
  {
   "cell_type": "code",
   "execution_count": 20,
   "id": "570d017d",
   "metadata": {},
   "outputs": [
    {
     "name": "stdout",
     "output_type": "stream",
     "text": [
      "Accuracy of Random Forest on training data is 0.7639171068671272\n",
      "Accuracy of Random Forest on validate data is 0.7649289099526067\n"
     ]
    }
   ],
   "source": [
    "#Run random forest model on train and validate data\n",
    "w.get_forest(X_train, X_validate, y_train, y_validate)"
   ]
  },
  {
   "cell_type": "markdown",
   "id": "18a4a24a",
   "metadata": {},
   "source": [
    "#### Random Forest model (max depth 5, 5 leaves) is approximately three points more accurate than the baseline."
   ]
  },
  {
   "cell_type": "markdown",
   "id": "b881b333",
   "metadata": {},
   "source": [
    "## K Nearest Neighbors (KNN) Model"
   ]
  },
  {
   "cell_type": "code",
   "execution_count": 21,
   "id": "dbd0e0a9",
   "metadata": {},
   "outputs": [
    {
     "name": "stdout",
     "output_type": "stream",
     "text": [
      "Accuracy of Logistic Regression on training data is 0.7850467289719626\n",
      "Accuracy of Logistic Regression on validate data is 0.7450236966824645\n"
     ]
    }
   ],
   "source": [
    "#Run KNN model on train and validate data, return accuracy\n",
    "w.get_knn(X_train, X_validate, y_train, y_validate)"
   ]
  },
  {
   "cell_type": "markdown",
   "id": "44c1599b",
   "metadata": {},
   "source": [
    "#### Accuracy of KNN Model (14 Nearest Neighbors) is nearly 79 percent. However, it was only 74.5 percent accurate on validate data."
   ]
  },
  {
   "cell_type": "markdown",
   "id": "4cbfcfa8",
   "metadata": {},
   "source": [
    "## Logistic Regression Model"
   ]
  },
  {
   "cell_type": "code",
   "execution_count": 22,
   "id": "c9c3a4df",
   "metadata": {},
   "outputs": [
    {
     "name": "stdout",
     "output_type": "stream",
     "text": [
      "Accuracy of Logistic Regression on train is 0.7480698902885006\n",
      "Accuracy of Logistic Regression on validate is 0.747867298578199\n"
     ]
    }
   ],
   "source": [
    "#Run logistic regression model on train and validate data, return accuracy\n",
    "w.get_log(X_train, X_validate, y_train, y_validate)"
   ]
  },
  {
   "cell_type": "markdown",
   "id": "9e5660a0",
   "metadata": {},
   "source": [
    "#### Logistic Regression model performed slightly above baseline, but with very low recall on training and validation data (0.38,0.36)"
   ]
  },
  {
   "cell_type": "markdown",
   "id": "287b9341",
   "metadata": {},
   "source": [
    "# Comparing Models"
   ]
  },
  {
   "cell_type": "markdown",
   "id": "8011ca18",
   "metadata": {},
   "source": [
    "* All models performed on training data within the 74-78 percent accuracy range.\n",
    "* KNN models (5 neighbors and 14 neighbors) performed the best in accuracy (82 and 79 percent, respectively) but these models performed significantly worse on validate data.\n",
    "* Decision Tree model (depth of 3) and Random Forest model (depth of 5, minimum 5 leaves) performed the best on both training and validation data.\n",
    "* I elected to move forward with the Decision Tree model due to its minimal difference in accuracy between the training and validation data (76.2 percent training, 75 percent on validation).\n",
    "* Random Forest Model produced the highest recall scores of any test. Minimizing false negatives (When telco predicts a customer will not churn, but the customer churns) could help telco further minimize churn within its customer base."
   ]
  },
  {
   "cell_type": "markdown",
   "id": "94f32be1",
   "metadata": {},
   "source": [
    "## Random Forest Model on Test Data"
   ]
  },
  {
   "cell_type": "code",
   "execution_count": 23,
   "id": "d372386f",
   "metadata": {},
   "outputs": [
    {
     "name": "stdout",
     "output_type": "stream",
     "text": [
      "Accuracy of Decision Tree on train data is 0.7561966680211296\n",
      "Accuracy of Decision Tree on test data is 0.7507109004739336\n"
     ]
    }
   ],
   "source": [
    "#Running random forest model on training and test data, returning accuracy\n",
    "w.get_tree_test(X_train,X_test,y_train,y_test)"
   ]
  },
  {
   "cell_type": "markdown",
   "id": "af2335be",
   "metadata": {},
   "source": [
    "# Conclusions"
   ]
  },
  {
   "cell_type": "markdown",
   "id": "fe5c4233",
   "metadata": {},
   "source": [
    "* Exploration of the data revealed significant relationships between most features of this data and whether a customer would churn\n",
    "* More time in exploration could yield a different combination of features, improving model accuracy.\n",
    "* The combination of examining senior citizens, those with dependents, customer monthly charges, and customer contract type helped created a model with approximately 76 accuracy on training data. Its selection focused on replicability on testing data, which helped create a model that predicted accuracy within a half-percentage point of modeling on training data\n",
    "* Besides accuracy, the chosen model maximized recall, which could further help Telco reduce customer churn"
   ]
  },
  {
   "cell_type": "markdown",
   "id": "c4019eac",
   "metadata": {},
   "source": [
    "## Recommendations"
   ]
  },
  {
   "cell_type": "markdown",
   "id": "1ac3c941",
   "metadata": {},
   "source": [
    "* Focusing on feature selection or feature engineering to maximize future modeling accuracy\n",
    "* Looking at features included in this model to target customers (Senior Citizens, those with dependents) with specific offers to reduce churn.\n",
    "* "
   ]
  },
  {
   "cell_type": "markdown",
   "id": "758d3018",
   "metadata": {},
   "source": [
    "## Next Steps"
   ]
  },
  {
   "cell_type": "markdown",
   "id": "a9c41094",
   "metadata": {},
   "source": [
    "* Feature engineering add-ons in different iterations\n",
    "* Examining other possible drivers of churn based on customer feedback/sales reports"
   ]
  }
 ],
 "metadata": {
  "kernelspec": {
   "display_name": "Python 3 (ipykernel)",
   "language": "python",
   "name": "python3"
  },
  "language_info": {
   "codemirror_mode": {
    "name": "ipython",
    "version": 3
   },
   "file_extension": ".py",
   "mimetype": "text/x-python",
   "name": "python",
   "nbconvert_exporter": "python",
   "pygments_lexer": "ipython3",
   "version": "3.9.12"
  }
 },
 "nbformat": 4,
 "nbformat_minor": 5
}
