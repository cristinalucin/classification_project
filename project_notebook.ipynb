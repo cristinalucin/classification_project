{
 "cells": [
  {
   "cell_type": "markdown",
   "id": "12c6cb71",
   "metadata": {},
   "source": [
    "## Goal:\n",
    "* Discover drivers of churn within the Telco dataset\n",
    "* Use these drivers to develop a machine learning model to predict whether or not a customer will churn"
   ]
  },
  {
   "cell_type": "markdown",
   "id": "0a1256b5",
   "metadata": {},
   "source": [
    "#### Imports"
   ]
  },
  {
   "cell_type": "code",
   "execution_count": 1,
   "id": "01772ce5",
   "metadata": {},
   "outputs": [],
   "source": [
    "# General DS Imports\n",
    "import matplotlib.pyplot as plt\n",
    "import numpy as np\n",
    "import pandas as pd\n",
    "import seaborn as sns\n",
    "import scipy.stats as stats\n",
    "\n",
    "# ignore warnings\n",
    "import warnings\n",
    "warnings.filterwarnings(\"ignore\")\n",
    "\n",
    "# acquire\n",
    "import wrangle as w\n",
    "import env\n",
    "import explore\n",
    "\n",
    "# Decision Tree and Model Evaluation Imports\n",
    "from sklearn.tree import DecisionTreeClassifier, plot_tree, export_text\n",
    "from sklearn.metrics import classification_report, confusion_matrix, plot_confusion_matrix, ConfusionMatrixDisplay\n",
    "from sklearn.ensemble import RandomForestClassifier\n",
    "from sklearn.neighbors import KNeighborsClassifier\n",
    "from sklearn.impute import SimpleImputer\n",
    "from sklearn.linear_model import LogisticRegression"
   ]
  },
  {
   "cell_type": "markdown",
   "id": "405fb230",
   "metadata": {},
   "source": [
    "## Acquire\n",
    "* Data acquired from Codeup Database\n",
    "* It contained 7043 rows and 24 columns before cleaning\n",
    "* Each row represents a customer from the Telco company\n",
    "* Each column represents a feature of those customers"
   ]
  },
  {
   "cell_type": "markdown",
   "id": "86963eb5",
   "metadata": {},
   "source": [
    "## Prepare\n",
    "### Prepare Actions:\n",
    "\n",
    "* Dropped duplicate columns\n",
    "* Removed columns that did not contain useful information\n",
    "* Renamed columns to promote readability\n",
    "* Checked for nulls in the data (there were none)\n",
    "* Dropped Null Values stored as whitespace\n",
    "* Checked that column data types were appropriate, converted total charges to the correct data type\n",
    "* Encoded categorical variables\n",
    "* Split data into train, validate and test (approx. 75/12.5/12.5), stratifying on 'churn'\n",
    "* Outliers have not been removed for this iteration of the project"
   ]
  },
  {
   "cell_type": "code",
   "execution_count": 2,
   "id": "acfb0037",
   "metadata": {},
   "outputs": [],
   "source": [
    "# acquiring telco data from codeup database\n",
    "df = w.get_telco_data()\n",
    "\n",
    "#Preparing telco data for exploration\n",
    "df = w.prep_telco(df)\n",
    "\n",
    "#Split data and set target variable\n",
    "target = 'churn'\n",
    "train, validate, test = w.train_validate_test_split(df, target)"
   ]
  },
  {
   "cell_type": "markdown",
   "id": "3e9c1021",
   "metadata": {},
   "source": [
    "## A brief look at the data"
   ]
  },
  {
   "cell_type": "code",
   "execution_count": 3,
   "id": "53371ae5",
   "metadata": {},
   "outputs": [
    {
     "data": {
      "text/html": [
       "<div>\n",
       "<style scoped>\n",
       "    .dataframe tbody tr th:only-of-type {\n",
       "        vertical-align: middle;\n",
       "    }\n",
       "\n",
       "    .dataframe tbody tr th {\n",
       "        vertical-align: top;\n",
       "    }\n",
       "\n",
       "    .dataframe thead th {\n",
       "        text-align: right;\n",
       "    }\n",
       "</style>\n",
       "<table border=\"1\" class=\"dataframe\">\n",
       "  <thead>\n",
       "    <tr style=\"text-align: right;\">\n",
       "      <th></th>\n",
       "      <th>gender</th>\n",
       "      <th>senior_citizen</th>\n",
       "      <th>partner</th>\n",
       "      <th>dependents</th>\n",
       "      <th>tenure</th>\n",
       "      <th>phone_service</th>\n",
       "      <th>multiple_lines</th>\n",
       "      <th>online_security</th>\n",
       "      <th>online_backup</th>\n",
       "      <th>device_protection</th>\n",
       "      <th>...</th>\n",
       "      <th>contract_type_Month-to-month</th>\n",
       "      <th>contract_type_One year</th>\n",
       "      <th>contract_type_Two year</th>\n",
       "      <th>internet_service_type_DSL</th>\n",
       "      <th>internet_service_type_Fiber optic</th>\n",
       "      <th>internet_service_type_None</th>\n",
       "      <th>payment_type_Bank transfer (automatic)</th>\n",
       "      <th>payment_type_Credit card (automatic)</th>\n",
       "      <th>payment_type_Electronic check</th>\n",
       "      <th>payment_type_Mailed check</th>\n",
       "    </tr>\n",
       "  </thead>\n",
       "  <tbody>\n",
       "    <tr>\n",
       "      <th>4407</th>\n",
       "      <td>Female</td>\n",
       "      <td>0</td>\n",
       "      <td>No</td>\n",
       "      <td>No</td>\n",
       "      <td>50</td>\n",
       "      <td>Yes</td>\n",
       "      <td>Yes</td>\n",
       "      <td>No</td>\n",
       "      <td>No</td>\n",
       "      <td>No</td>\n",
       "      <td>...</td>\n",
       "      <td>1</td>\n",
       "      <td>0</td>\n",
       "      <td>0</td>\n",
       "      <td>0</td>\n",
       "      <td>1</td>\n",
       "      <td>0</td>\n",
       "      <td>0</td>\n",
       "      <td>0</td>\n",
       "      <td>1</td>\n",
       "      <td>0</td>\n",
       "    </tr>\n",
       "    <tr>\n",
       "      <th>1756</th>\n",
       "      <td>Male</td>\n",
       "      <td>0</td>\n",
       "      <td>No</td>\n",
       "      <td>No</td>\n",
       "      <td>4</td>\n",
       "      <td>Yes</td>\n",
       "      <td>No</td>\n",
       "      <td>No</td>\n",
       "      <td>No</td>\n",
       "      <td>No</td>\n",
       "      <td>...</td>\n",
       "      <td>1</td>\n",
       "      <td>0</td>\n",
       "      <td>0</td>\n",
       "      <td>0</td>\n",
       "      <td>1</td>\n",
       "      <td>0</td>\n",
       "      <td>0</td>\n",
       "      <td>0</td>\n",
       "      <td>1</td>\n",
       "      <td>0</td>\n",
       "    </tr>\n",
       "    <tr>\n",
       "      <th>4669</th>\n",
       "      <td>Male</td>\n",
       "      <td>0</td>\n",
       "      <td>Yes</td>\n",
       "      <td>Yes</td>\n",
       "      <td>72</td>\n",
       "      <td>Yes</td>\n",
       "      <td>No</td>\n",
       "      <td>No internet service</td>\n",
       "      <td>No internet service</td>\n",
       "      <td>No internet service</td>\n",
       "      <td>...</td>\n",
       "      <td>0</td>\n",
       "      <td>0</td>\n",
       "      <td>1</td>\n",
       "      <td>0</td>\n",
       "      <td>0</td>\n",
       "      <td>1</td>\n",
       "      <td>0</td>\n",
       "      <td>0</td>\n",
       "      <td>1</td>\n",
       "      <td>0</td>\n",
       "    </tr>\n",
       "    <tr>\n",
       "      <th>2379</th>\n",
       "      <td>Female</td>\n",
       "      <td>0</td>\n",
       "      <td>Yes</td>\n",
       "      <td>Yes</td>\n",
       "      <td>71</td>\n",
       "      <td>Yes</td>\n",
       "      <td>Yes</td>\n",
       "      <td>Yes</td>\n",
       "      <td>Yes</td>\n",
       "      <td>Yes</td>\n",
       "      <td>...</td>\n",
       "      <td>0</td>\n",
       "      <td>0</td>\n",
       "      <td>1</td>\n",
       "      <td>0</td>\n",
       "      <td>1</td>\n",
       "      <td>0</td>\n",
       "      <td>1</td>\n",
       "      <td>0</td>\n",
       "      <td>0</td>\n",
       "      <td>0</td>\n",
       "    </tr>\n",
       "    <tr>\n",
       "      <th>4118</th>\n",
       "      <td>Male</td>\n",
       "      <td>0</td>\n",
       "      <td>Yes</td>\n",
       "      <td>Yes</td>\n",
       "      <td>56</td>\n",
       "      <td>Yes</td>\n",
       "      <td>Yes</td>\n",
       "      <td>No</td>\n",
       "      <td>Yes</td>\n",
       "      <td>No</td>\n",
       "      <td>...</td>\n",
       "      <td>1</td>\n",
       "      <td>0</td>\n",
       "      <td>0</td>\n",
       "      <td>0</td>\n",
       "      <td>1</td>\n",
       "      <td>0</td>\n",
       "      <td>0</td>\n",
       "      <td>1</td>\n",
       "      <td>0</td>\n",
       "      <td>0</td>\n",
       "    </tr>\n",
       "  </tbody>\n",
       "</table>\n",
       "<p>5 rows × 56 columns</p>\n",
       "</div>"
      ],
      "text/plain": [
       "      gender  senior_citizen partner dependents  tenure phone_service  \\\n",
       "4407  Female               0      No         No      50           Yes   \n",
       "1756    Male               0      No         No       4           Yes   \n",
       "4669    Male               0     Yes        Yes      72           Yes   \n",
       "2379  Female               0     Yes        Yes      71           Yes   \n",
       "4118    Male               0     Yes        Yes      56           Yes   \n",
       "\n",
       "     multiple_lines      online_security        online_backup  \\\n",
       "4407            Yes                   No                   No   \n",
       "1756             No                   No                   No   \n",
       "4669             No  No internet service  No internet service   \n",
       "2379            Yes                  Yes                  Yes   \n",
       "4118            Yes                   No                  Yes   \n",
       "\n",
       "        device_protection  ... contract_type_Month-to-month  \\\n",
       "4407                   No  ...                            1   \n",
       "1756                   No  ...                            1   \n",
       "4669  No internet service  ...                            0   \n",
       "2379                  Yes  ...                            0   \n",
       "4118                   No  ...                            1   \n",
       "\n",
       "     contract_type_One year contract_type_Two year internet_service_type_DSL  \\\n",
       "4407                      0                      0                         0   \n",
       "1756                      0                      0                         0   \n",
       "4669                      0                      1                         0   \n",
       "2379                      0                      1                         0   \n",
       "4118                      0                      0                         0   \n",
       "\n",
       "      internet_service_type_Fiber optic  internet_service_type_None  \\\n",
       "4407                                  1                           0   \n",
       "1756                                  1                           0   \n",
       "4669                                  0                           1   \n",
       "2379                                  1                           0   \n",
       "4118                                  1                           0   \n",
       "\n",
       "     payment_type_Bank transfer (automatic)  \\\n",
       "4407                                      0   \n",
       "1756                                      0   \n",
       "4669                                      0   \n",
       "2379                                      1   \n",
       "4118                                      0   \n",
       "\n",
       "     payment_type_Credit card (automatic) payment_type_Electronic check  \\\n",
       "4407                                    0                             1   \n",
       "1756                                    0                             1   \n",
       "4669                                    0                             1   \n",
       "2379                                    0                             0   \n",
       "4118                                    1                             0   \n",
       "\n",
       "      payment_type_Mailed check  \n",
       "4407                          0  \n",
       "1756                          0  \n",
       "4669                          0  \n",
       "2379                          0  \n",
       "4118                          0  \n",
       "\n",
       "[5 rows x 56 columns]"
      ]
     },
     "execution_count": 3,
     "metadata": {},
     "output_type": "execute_result"
    }
   ],
   "source": [
    "train.head()"
   ]
  },
  {
   "cell_type": "markdown",
   "id": "f5ced28a",
   "metadata": {},
   "source": [
    "## Summary of the data"
   ]
  },
  {
   "cell_type": "code",
   "execution_count": 4,
   "id": "c6284ee4",
   "metadata": {},
   "outputs": [
    {
     "data": {
      "text/html": [
       "<div>\n",
       "<style scoped>\n",
       "    .dataframe tbody tr th:only-of-type {\n",
       "        vertical-align: middle;\n",
       "    }\n",
       "\n",
       "    .dataframe tbody tr th {\n",
       "        vertical-align: top;\n",
       "    }\n",
       "\n",
       "    .dataframe thead th {\n",
       "        text-align: right;\n",
       "    }\n",
       "</style>\n",
       "<table border=\"1\" class=\"dataframe\">\n",
       "  <thead>\n",
       "    <tr style=\"text-align: right;\">\n",
       "      <th></th>\n",
       "      <th>senior_citizen</th>\n",
       "      <th>tenure</th>\n",
       "      <th>monthly_charges</th>\n",
       "      <th>total_charges</th>\n",
       "      <th>gender_encoded</th>\n",
       "      <th>partner_encoded</th>\n",
       "      <th>dependents_encoded</th>\n",
       "      <th>phone_service_encoded</th>\n",
       "      <th>paperless_billing_encoded</th>\n",
       "      <th>churn</th>\n",
       "      <th>...</th>\n",
       "      <th>contract_type_Month-to-month</th>\n",
       "      <th>contract_type_One year</th>\n",
       "      <th>contract_type_Two year</th>\n",
       "      <th>internet_service_type_DSL</th>\n",
       "      <th>internet_service_type_Fiber optic</th>\n",
       "      <th>internet_service_type_None</th>\n",
       "      <th>payment_type_Bank transfer (automatic)</th>\n",
       "      <th>payment_type_Credit card (automatic)</th>\n",
       "      <th>payment_type_Electronic check</th>\n",
       "      <th>payment_type_Mailed check</th>\n",
       "    </tr>\n",
       "  </thead>\n",
       "  <tbody>\n",
       "    <tr>\n",
       "      <th>count</th>\n",
       "      <td>4922.000000</td>\n",
       "      <td>4922.000000</td>\n",
       "      <td>4922.000000</td>\n",
       "      <td>4922.000000</td>\n",
       "      <td>4922.000000</td>\n",
       "      <td>4922.000000</td>\n",
       "      <td>4922.000000</td>\n",
       "      <td>4922.000000</td>\n",
       "      <td>4922.000000</td>\n",
       "      <td>4922.000000</td>\n",
       "      <td>...</td>\n",
       "      <td>4922.000000</td>\n",
       "      <td>4922.000000</td>\n",
       "      <td>4922.000000</td>\n",
       "      <td>4922.000000</td>\n",
       "      <td>4922.000000</td>\n",
       "      <td>4922.000000</td>\n",
       "      <td>4922.000000</td>\n",
       "      <td>4922.000000</td>\n",
       "      <td>4922.000000</td>\n",
       "      <td>4922.000000</td>\n",
       "    </tr>\n",
       "    <tr>\n",
       "      <th>mean</th>\n",
       "      <td>0.163145</td>\n",
       "      <td>32.549573</td>\n",
       "      <td>64.640583</td>\n",
       "      <td>2279.278230</td>\n",
       "      <td>0.495530</td>\n",
       "      <td>0.491670</td>\n",
       "      <td>0.301910</td>\n",
       "      <td>0.903088</td>\n",
       "      <td>0.590207</td>\n",
       "      <td>0.265949</td>\n",
       "      <td>...</td>\n",
       "      <td>0.546323</td>\n",
       "      <td>0.208046</td>\n",
       "      <td>0.245632</td>\n",
       "      <td>0.341325</td>\n",
       "      <td>0.438643</td>\n",
       "      <td>0.220033</td>\n",
       "      <td>0.215766</td>\n",
       "      <td>0.224096</td>\n",
       "      <td>0.335636</td>\n",
       "      <td>0.224502</td>\n",
       "    </tr>\n",
       "    <tr>\n",
       "      <th>std</th>\n",
       "      <td>0.369536</td>\n",
       "      <td>24.563833</td>\n",
       "      <td>30.096846</td>\n",
       "      <td>2254.640564</td>\n",
       "      <td>0.500031</td>\n",
       "      <td>0.499981</td>\n",
       "      <td>0.459133</td>\n",
       "      <td>0.295868</td>\n",
       "      <td>0.491845</td>\n",
       "      <td>0.441882</td>\n",
       "      <td>...</td>\n",
       "      <td>0.497900</td>\n",
       "      <td>0.405951</td>\n",
       "      <td>0.430505</td>\n",
       "      <td>0.474202</td>\n",
       "      <td>0.496271</td>\n",
       "      <td>0.414310</td>\n",
       "      <td>0.411394</td>\n",
       "      <td>0.417028</td>\n",
       "      <td>0.472260</td>\n",
       "      <td>0.417296</td>\n",
       "    </tr>\n",
       "    <tr>\n",
       "      <th>min</th>\n",
       "      <td>0.000000</td>\n",
       "      <td>1.000000</td>\n",
       "      <td>18.250000</td>\n",
       "      <td>18.800000</td>\n",
       "      <td>0.000000</td>\n",
       "      <td>0.000000</td>\n",
       "      <td>0.000000</td>\n",
       "      <td>0.000000</td>\n",
       "      <td>0.000000</td>\n",
       "      <td>0.000000</td>\n",
       "      <td>...</td>\n",
       "      <td>0.000000</td>\n",
       "      <td>0.000000</td>\n",
       "      <td>0.000000</td>\n",
       "      <td>0.000000</td>\n",
       "      <td>0.000000</td>\n",
       "      <td>0.000000</td>\n",
       "      <td>0.000000</td>\n",
       "      <td>0.000000</td>\n",
       "      <td>0.000000</td>\n",
       "      <td>0.000000</td>\n",
       "    </tr>\n",
       "    <tr>\n",
       "      <th>25%</th>\n",
       "      <td>0.000000</td>\n",
       "      <td>9.000000</td>\n",
       "      <td>35.150000</td>\n",
       "      <td>400.500000</td>\n",
       "      <td>0.000000</td>\n",
       "      <td>0.000000</td>\n",
       "      <td>0.000000</td>\n",
       "      <td>1.000000</td>\n",
       "      <td>0.000000</td>\n",
       "      <td>0.000000</td>\n",
       "      <td>...</td>\n",
       "      <td>0.000000</td>\n",
       "      <td>0.000000</td>\n",
       "      <td>0.000000</td>\n",
       "      <td>0.000000</td>\n",
       "      <td>0.000000</td>\n",
       "      <td>0.000000</td>\n",
       "      <td>0.000000</td>\n",
       "      <td>0.000000</td>\n",
       "      <td>0.000000</td>\n",
       "      <td>0.000000</td>\n",
       "    </tr>\n",
       "    <tr>\n",
       "      <th>50%</th>\n",
       "      <td>0.000000</td>\n",
       "      <td>29.000000</td>\n",
       "      <td>70.300000</td>\n",
       "      <td>1398.975000</td>\n",
       "      <td>0.000000</td>\n",
       "      <td>0.000000</td>\n",
       "      <td>0.000000</td>\n",
       "      <td>1.000000</td>\n",
       "      <td>1.000000</td>\n",
       "      <td>0.000000</td>\n",
       "      <td>...</td>\n",
       "      <td>1.000000</td>\n",
       "      <td>0.000000</td>\n",
       "      <td>0.000000</td>\n",
       "      <td>0.000000</td>\n",
       "      <td>0.000000</td>\n",
       "      <td>0.000000</td>\n",
       "      <td>0.000000</td>\n",
       "      <td>0.000000</td>\n",
       "      <td>0.000000</td>\n",
       "      <td>0.000000</td>\n",
       "    </tr>\n",
       "    <tr>\n",
       "      <th>75%</th>\n",
       "      <td>0.000000</td>\n",
       "      <td>56.000000</td>\n",
       "      <td>89.850000</td>\n",
       "      <td>3810.100000</td>\n",
       "      <td>1.000000</td>\n",
       "      <td>1.000000</td>\n",
       "      <td>1.000000</td>\n",
       "      <td>1.000000</td>\n",
       "      <td>1.000000</td>\n",
       "      <td>1.000000</td>\n",
       "      <td>...</td>\n",
       "      <td>1.000000</td>\n",
       "      <td>0.000000</td>\n",
       "      <td>0.000000</td>\n",
       "      <td>1.000000</td>\n",
       "      <td>1.000000</td>\n",
       "      <td>0.000000</td>\n",
       "      <td>0.000000</td>\n",
       "      <td>0.000000</td>\n",
       "      <td>1.000000</td>\n",
       "      <td>0.000000</td>\n",
       "    </tr>\n",
       "    <tr>\n",
       "      <th>max</th>\n",
       "      <td>1.000000</td>\n",
       "      <td>72.000000</td>\n",
       "      <td>118.750000</td>\n",
       "      <td>8672.450000</td>\n",
       "      <td>1.000000</td>\n",
       "      <td>1.000000</td>\n",
       "      <td>1.000000</td>\n",
       "      <td>1.000000</td>\n",
       "      <td>1.000000</td>\n",
       "      <td>1.000000</td>\n",
       "      <td>...</td>\n",
       "      <td>1.000000</td>\n",
       "      <td>1.000000</td>\n",
       "      <td>1.000000</td>\n",
       "      <td>1.000000</td>\n",
       "      <td>1.000000</td>\n",
       "      <td>1.000000</td>\n",
       "      <td>1.000000</td>\n",
       "      <td>1.000000</td>\n",
       "      <td>1.000000</td>\n",
       "      <td>1.000000</td>\n",
       "    </tr>\n",
       "  </tbody>\n",
       "</table>\n",
       "<p>8 rows × 41 columns</p>\n",
       "</div>"
      ],
      "text/plain": [
       "       senior_citizen       tenure  monthly_charges  total_charges  \\\n",
       "count     4922.000000  4922.000000      4922.000000    4922.000000   \n",
       "mean         0.163145    32.549573        64.640583    2279.278230   \n",
       "std          0.369536    24.563833        30.096846    2254.640564   \n",
       "min          0.000000     1.000000        18.250000      18.800000   \n",
       "25%          0.000000     9.000000        35.150000     400.500000   \n",
       "50%          0.000000    29.000000        70.300000    1398.975000   \n",
       "75%          0.000000    56.000000        89.850000    3810.100000   \n",
       "max          1.000000    72.000000       118.750000    8672.450000   \n",
       "\n",
       "       gender_encoded  partner_encoded  dependents_encoded  \\\n",
       "count     4922.000000      4922.000000         4922.000000   \n",
       "mean         0.495530         0.491670            0.301910   \n",
       "std          0.500031         0.499981            0.459133   \n",
       "min          0.000000         0.000000            0.000000   \n",
       "25%          0.000000         0.000000            0.000000   \n",
       "50%          0.000000         0.000000            0.000000   \n",
       "75%          1.000000         1.000000            1.000000   \n",
       "max          1.000000         1.000000            1.000000   \n",
       "\n",
       "       phone_service_encoded  paperless_billing_encoded        churn  ...  \\\n",
       "count            4922.000000                4922.000000  4922.000000  ...   \n",
       "mean                0.903088                   0.590207     0.265949  ...   \n",
       "std                 0.295868                   0.491845     0.441882  ...   \n",
       "min                 0.000000                   0.000000     0.000000  ...   \n",
       "25%                 1.000000                   0.000000     0.000000  ...   \n",
       "50%                 1.000000                   1.000000     0.000000  ...   \n",
       "75%                 1.000000                   1.000000     1.000000  ...   \n",
       "max                 1.000000                   1.000000     1.000000  ...   \n",
       "\n",
       "       contract_type_Month-to-month  contract_type_One year  \\\n",
       "count                   4922.000000             4922.000000   \n",
       "mean                       0.546323                0.208046   \n",
       "std                        0.497900                0.405951   \n",
       "min                        0.000000                0.000000   \n",
       "25%                        0.000000                0.000000   \n",
       "50%                        1.000000                0.000000   \n",
       "75%                        1.000000                0.000000   \n",
       "max                        1.000000                1.000000   \n",
       "\n",
       "       contract_type_Two year  internet_service_type_DSL  \\\n",
       "count             4922.000000                4922.000000   \n",
       "mean                 0.245632                   0.341325   \n",
       "std                  0.430505                   0.474202   \n",
       "min                  0.000000                   0.000000   \n",
       "25%                  0.000000                   0.000000   \n",
       "50%                  0.000000                   0.000000   \n",
       "75%                  0.000000                   1.000000   \n",
       "max                  1.000000                   1.000000   \n",
       "\n",
       "       internet_service_type_Fiber optic  internet_service_type_None  \\\n",
       "count                        4922.000000                 4922.000000   \n",
       "mean                            0.438643                    0.220033   \n",
       "std                             0.496271                    0.414310   \n",
       "min                             0.000000                    0.000000   \n",
       "25%                             0.000000                    0.000000   \n",
       "50%                             0.000000                    0.000000   \n",
       "75%                             1.000000                    0.000000   \n",
       "max                             1.000000                    1.000000   \n",
       "\n",
       "       payment_type_Bank transfer (automatic)  \\\n",
       "count                             4922.000000   \n",
       "mean                                 0.215766   \n",
       "std                                  0.411394   \n",
       "min                                  0.000000   \n",
       "25%                                  0.000000   \n",
       "50%                                  0.000000   \n",
       "75%                                  0.000000   \n",
       "max                                  1.000000   \n",
       "\n",
       "       payment_type_Credit card (automatic)  payment_type_Electronic check  \\\n",
       "count                           4922.000000                    4922.000000   \n",
       "mean                               0.224096                       0.335636   \n",
       "std                                0.417028                       0.472260   \n",
       "min                                0.000000                       0.000000   \n",
       "25%                                0.000000                       0.000000   \n",
       "50%                                0.000000                       0.000000   \n",
       "75%                                0.000000                       1.000000   \n",
       "max                                1.000000                       1.000000   \n",
       "\n",
       "       payment_type_Mailed check  \n",
       "count                4922.000000  \n",
       "mean                    0.224502  \n",
       "std                     0.417296  \n",
       "min                     0.000000  \n",
       "25%                     0.000000  \n",
       "50%                     0.000000  \n",
       "75%                     0.000000  \n",
       "max                     1.000000  \n",
       "\n",
       "[8 rows x 41 columns]"
      ]
     },
     "execution_count": 4,
     "metadata": {},
     "output_type": "execute_result"
    }
   ],
   "source": [
    "train.describe()"
   ]
  },
  {
   "cell_type": "markdown",
   "id": "9bc0b67a",
   "metadata": {},
   "source": [
    "## Exploration"
   ]
  },
  {
   "cell_type": "markdown",
   "id": "a331d98d",
   "metadata": {},
   "source": [
    "## What is the percentage of customers who churn?"
   ]
  },
  {
   "cell_type": "code",
   "execution_count": 5,
   "id": "88ec3db2",
   "metadata": {},
   "outputs": [
    {
     "data": {
      "text/plain": [
       "0    3613\n",
       "1    1309\n",
       "Name: churn, dtype: int64"
      ]
     },
     "execution_count": 5,
     "metadata": {},
     "output_type": "execute_result"
    }
   ],
   "source": [
    "#Target variable value counts\n",
    "train.churn.value_counts()"
   ]
  },
  {
   "cell_type": "code",
   "execution_count": 6,
   "id": "2d584d55",
   "metadata": {},
   "outputs": [
    {
     "data": {
      "image/png": "[encoded data removed]",
      "text/plain": [
       "<Figure size 432x288 with 1 Axes>"
      ]
     },
     "metadata": {},
     "output_type": "display_data"
    }
   ],
   "source": [
    "w.get_pie_churn(train)"
   ]
  },
  {
   "cell_type": "markdown",
   "id": "b68a299f",
   "metadata": {},
   "source": [
    "* **Approximately 27 percent of customers in this dataset \"churned\" (left the company)**"
   ]
  },
  {
   "cell_type": "code",
   "execution_count": 7,
   "id": "299fd4b3",
   "metadata": {},
   "outputs": [],
   "source": [
    "num_vars = ['senior_citizen', 'tenure', 'monthly_charges', 'total_charges']\n",
    "cat_vars = ['gender','partner','dependents','phone_service','multiple_lines','online_security','online_backup','device_protection', \\\n",
    "            'tech_support', 'streaming_tv', 'streaming_movies','paperless_billing','contract_type','internet_service_type', \\\n",
    "            'payment_type']"
   ]
  },
  {
   "cell_type": "code",
   "execution_count": 8,
   "id": "ac1a6546",
   "metadata": {},
   "outputs": [
    {
     "name": "stdout",
     "output_type": "stream",
     "text": [
      "gender\n",
      "Male      2483\n",
      "Female    2439\n",
      "Name: gender, dtype: int64\n",
      "Male      50.446973\n",
      "Female    49.553027\n",
      "Name: gender, dtype: float64\n"
     ]
    },
    {
     "data": {
      "image/png": "[encoded data removed]",
      "text/plain": [
       "<Figure size 432x288 with 1 Axes>"
      ]
     },
     "metadata": {
      "needs_background": "light"
     },
     "output_type": "display_data"
    },
    {
     "name": "stdout",
     "output_type": "stream",
     "text": [
      "partner\n",
      "No     2502\n",
      "Yes    2420\n",
      "Name: partner, dtype: int64\n",
      "No     50.832995\n",
      "Yes    49.167005\n",
      "Name: partner, dtype: float64\n"
     ]
    },
    {
     "data": {
      "image/png": "[encoded data removed]",
      "text/plain": [
       "<Figure size 432x288 with 1 Axes>"
      ]
     },
     "metadata": {
      "needs_background": "light"
     },
     "output_type": "display_data"
    },
    {
     "name": "stdout",
     "output_type": "stream",
     "text": [
      "dependents\n",
      "No     3436\n",
      "Yes    1486\n",
      "Name: dependents, dtype: int64\n",
      "No     69.809021\n",
      "Yes    30.190979\n",
      "Name: dependents, dtype: float64\n"
     ]
    },
    {
     "data": {
      "image/png": "[encoded data removed]",
      "text/plain": [
       "<Figure size 432x288 with 1 Axes>"
      ]
     },
     "metadata": {
      "needs_background": "light"
     },
     "output_type": "display_data"
    },
    {
     "name": "stdout",
     "output_type": "stream",
     "text": [
      "phone_service\n",
      "Yes    4445\n",
      "No      477\n",
      "Name: phone_service, dtype: int64\n",
      "Yes    90.308818\n",
      "No      9.691182\n",
      "Name: phone_service, dtype: float64\n"
     ]
    },
    {
     "data": {
      "image/png": "[encoded data removed]",
      "text/plain": [
       "<Figure size 432x288 with 1 Axes>"
      ]
     },
     "metadata": {
      "needs_background": "light"
     },
     "output_type": "display_data"
    },
    {
     "name": "stdout",
     "output_type": "stream",
     "text": [
      "multiple_lines\n",
      "No                  2392\n",
      "Yes                 2053\n",
      "No phone service     477\n",
      "Name: multiple_lines, dtype: int64\n",
      "No                  48.598131\n",
      "Yes                 41.710687\n",
      "No phone service     9.691182\n",
      "Name: multiple_lines, dtype: float64\n"
     ]
    },
    {
     "data": {
      "image/png": "[encoded data removed]",
      "text/plain": [
       "<Figure size 432x288 with 1 Axes>"
      ]
     },
     "metadata": {
      "needs_background": "light"
     },
     "output_type": "display_data"
    },
    {
     "name": "stdout",
     "output_type": "stream",
     "text": [
      "online_security\n",
      "No                     2437\n",
      "Yes                    1402\n",
      "No internet service    1083\n",
      "Name: online_security, dtype: int64\n",
      "No                     49.512393\n",
      "Yes                    28.484356\n",
      "No internet service    22.003251\n",
      "Name: online_security, dtype: float64\n"
     ]
    },
    {
     "data": {
      "image/png": "[encoded data removed]",
      "text/plain": [
       "<Figure size 432x288 with 1 Axes>"
      ]
     },
     "metadata": {
      "needs_background": "light"
     },
     "output_type": "display_data"
    },
    {
     "name": "stdout",
     "output_type": "stream",
     "text": [
      "online_backup\n",
      "No                     2141\n",
      "Yes                    1698\n",
      "No internet service    1083\n",
      "Name: online_backup, dtype: int64\n",
      "No                     43.498578\n",
      "Yes                    34.498171\n",
      "No internet service    22.003251\n",
      "Name: online_backup, dtype: float64\n"
     ]
    },
    {
     "data": {
      "image/png": "[encoded data removed]",
      "text/plain": [
       "<Figure size 432x288 with 1 Axes>"
      ]
     },
     "metadata": {
      "needs_background": "light"
     },
     "output_type": "display_data"
    },
    {
     "name": "stdout",
     "output_type": "stream",
     "text": [
      "device_protection\n",
      "No                     2137\n",
      "Yes                    1702\n",
      "No internet service    1083\n",
      "Name: device_protection, dtype: int64\n",
      "No                     43.417310\n",
      "Yes                    34.579439\n",
      "No internet service    22.003251\n",
      "Name: device_protection, dtype: float64\n"
     ]
    },
    {
     "data": {
      "image/png": "[encoded data removed]",
      "text/plain": [
       "<Figure size 432x288 with 1 Axes>"
      ]
     },
     "metadata": {
      "needs_background": "light"
     },
     "output_type": "display_data"
    },
    {
     "name": "stdout",
     "output_type": "stream",
     "text": [
      "tech_support\n",
      "No                     2406\n",
      "Yes                    1433\n",
      "No internet service    1083\n",
      "Name: tech_support, dtype: int64\n",
      "No                     48.882568\n",
      "Yes                    29.114181\n",
      "No internet service    22.003251\n",
      "Name: tech_support, dtype: float64\n"
     ]
    },
    {
     "data": {
      "image/png": "[encoded data removed]",
      "text/plain": [
       "<Figure size 432x288 with 1 Axes>"
      ]
     },
     "metadata": {
      "needs_background": "light"
     },
     "output_type": "display_data"
    },
    {
     "name": "stdout",
     "output_type": "stream",
     "text": [
      "streaming_tv\n",
      "No                     1967\n",
      "Yes                    1872\n",
      "No internet service    1083\n",
      "Name: streaming_tv, dtype: int64\n",
      "No                     39.963430\n",
      "Yes                    38.033320\n",
      "No internet service    22.003251\n",
      "Name: streaming_tv, dtype: float64\n"
     ]
    },
    {
     "data": {
      "image/png": "[encoded data removed]",
      "text/plain": [
       "<Figure size 432x288 with 1 Axes>"
      ]
     },
     "metadata": {
      "needs_background": "light"
     },
     "output_type": "display_data"
    },
    {
     "name": "stdout",
     "output_type": "stream",
     "text": [
      "streaming_movies\n",
      "Yes                    1922\n",
      "No                     1917\n",
      "No internet service    1083\n",
      "Name: streaming_movies, dtype: int64\n",
      "Yes                    39.049167\n",
      "No                     38.947582\n",
      "No internet service    22.003251\n",
      "Name: streaming_movies, dtype: float64\n"
     ]
    },
    {
     "data": {
      "image/png": "[encoded data removed]",
      "text/plain": [
       "<Figure size 432x288 with 1 Axes>"
      ]
     },
     "metadata": {
      "needs_background": "light"
     },
     "output_type": "display_data"
    },
    {
     "name": "stdout",
     "output_type": "stream",
     "text": [
      "paperless_billing\n",
      "Yes    2905\n",
      "No     2017\n",
      "Name: paperless_billing, dtype: int64\n",
      "Yes    59.020723\n",
      "No     40.979277\n",
      "Name: paperless_billing, dtype: float64\n"
     ]
    },
    {
     "data": {
      "image/png": "[encoded data removed]",
      "text/plain": [
       "<Figure size 432x288 with 1 Axes>"
      ]
     },
     "metadata": {
      "needs_background": "light"
     },
     "output_type": "display_data"
    },
    {
     "name": "stdout",
     "output_type": "stream",
     "text": [
      "contract_type\n",
      "Month-to-month    2689\n",
      "Two year          1209\n",
      "One year          1024\n",
      "Name: contract_type, dtype: int64\n",
      "Month-to-month    54.632263\n",
      "Two year          24.563186\n",
      "One year          20.804551\n",
      "Name: contract_type, dtype: float64\n"
     ]
    },
    {
     "data": {
      "image/png": "[encoded data removed]",
      "text/plain": [
       "<Figure size 432x288 with 1 Axes>"
      ]
     },
     "metadata": {
      "needs_background": "light"
     },
     "output_type": "display_data"
    },
    {
     "name": "stdout",
     "output_type": "stream",
     "text": [
      "internet_service_type\n",
      "Fiber optic    2159\n",
      "DSL            1680\n",
      "None           1083\n",
      "Name: internet_service_type, dtype: int64\n",
      "Fiber optic    43.864283\n",
      "DSL            34.132466\n",
      "None           22.003251\n",
      "Name: internet_service_type, dtype: float64\n"
     ]
    },
    {
     "data": {
      "image/png": "[encoded data removed]",
      "text/plain": [
       "<Figure size 432x288 with 1 Axes>"
      ]
     },
     "metadata": {
      "needs_background": "light"
     },
     "output_type": "display_data"
    },
    {
     "name": "stdout",
     "output_type": "stream",
     "text": [
      "payment_type\n",
      "Electronic check             1652\n",
      "Mailed check                 1105\n",
      "Credit card (automatic)      1103\n",
      "Bank transfer (automatic)    1062\n",
      "Name: payment_type, dtype: int64\n",
      "Electronic check             33.563592\n",
      "Mailed check                 22.450223\n",
      "Credit card (automatic)      22.409590\n",
      "Bank transfer (automatic)    21.576595\n",
      "Name: payment_type, dtype: float64\n"
     ]
    },
    {
     "data": {
      "image/png": "[encoded data removed]",
      "text/plain": [
       "<Figure size 432x288 with 1 Axes>"
      ]
     },
     "metadata": {
      "needs_background": "light"
     },
     "output_type": "display_data"
    }
   ],
   "source": [
    "for col in cat_vars:\n",
    "    print(col)\n",
    "    print(train[col].value_counts())\n",
    "    print(train[col].value_counts(normalize=True)*100)\n",
    "    sns.countplot(x=col, data=train)\n",
    "    plt.show()"
   ]
  },
  {
   "cell_type": "code",
   "execution_count": 9,
   "id": "dd260bc8",
   "metadata": {},
   "outputs": [
    {
     "data": {
      "image/png": "[encoded data removed]",
      "text/plain": [
       "<Figure size 432x288 with 1 Axes>"
      ]
     },
     "metadata": {
      "needs_background": "light"
     },
     "output_type": "display_data"
    },
    {
     "data": {
      "image/png": "[encoded data removed]",
      "text/plain": [
       "<Figure size 432x288 with 1 Axes>"
      ]
     },
     "metadata": {
      "needs_background": "light"
     },
     "output_type": "display_data"
    },
    {
     "data": {
      "image/png": "[encoded data removed]",
      "text/plain": [
       "<Figure size 432x288 with 1 Axes>"
      ]
     },
     "metadata": {
      "needs_background": "light"
     },
     "output_type": "display_data"
    },
    {
     "data": {
      "image/png": "[encoded data removed]",
      "text/plain": [
       "<Figure size 432x288 with 1 Axes>"
      ]
     },
     "metadata": {
      "needs_background": "light"
     },
     "output_type": "display_data"
    }
   ],
   "source": [
    "# Visualize float columns\n",
    "num_cols = train.columns[[train[col].dtype == 'float64' for col in train.columns]]\n",
    "for col in num_cols:\n",
    "    plt.hist(train[col])\n",
    "    plt.title(col)\n",
    "    plt.show()\n",
    "    plt.boxplot(train[col])\n",
    "    plt.title(col)\n",
    "    plt.show()"
   ]
  },
  {
   "cell_type": "code",
   "execution_count": 10,
   "id": "0e2a4f0a",
   "metadata": {},
   "outputs": [
    {
     "data": {
      "image/png": "[encoded data removed]",
      "text/plain": [
       "<Figure size 432x288 with 1 Axes>"
      ]
     },
     "metadata": {
      "needs_background": "light"
     },
     "output_type": "display_data"
    },
    {
     "data": {
      "image/png": "[encoded data removed]",
      "text/plain": [
       "<Figure size 432x288 with 1 Axes>"
      ]
     },
     "metadata": {
      "needs_background": "light"
     },
     "output_type": "display_data"
    },
    {
     "data": {
      "image/png": "[encoded data removed]",
      "text/plain": [
       "<Figure size 432x288 with 1 Axes>"
      ]
     },
     "metadata": {
      "needs_background": "light"
     },
     "output_type": "display_data"
    },
    {
     "data": {
      "image/png": "[encoded data removed]",
      "text/plain": [
       "<Figure size 432x288 with 1 Axes>"
      ]
     },
     "metadata": {
      "needs_background": "light"
     },
     "output_type": "display_data"
    },
    {
     "data": {
      "image/png": "[encoded data removed]",
      "text/plain": [
       "<Figure size 432x288 with 1 Axes>"
      ]
     },
     "metadata": {
      "needs_background": "light"
     },
     "output_type": "display_data"
    },
    {
     "data": {
      "image/png": "[encoded data removed]",
      "text/plain": [
       "<Figure size 432x288 with 1 Axes>"
      ]
     },
     "metadata": {
      "needs_background": "light"
     },
     "output_type": "display_data"
    },
    {
     "data": {
      "image/png": "[encoded data removed]",
      "text/plain": [
       "<Figure size 432x288 with 1 Axes>"
      ]
     },
     "metadata": {
      "needs_background": "light"
     },
     "output_type": "display_data"
    },
    {
     "data": {
      "image/png": "[encoded data removed]",
      "text/plain": [
       "<Figure size 432x288 with 1 Axes>"
      ]
     },
     "metadata": {
      "needs_background": "light"
     },
     "output_type": "display_data"
    }
   ],
   "source": [
    "#Visualize other numeric data\n",
    "# Plot numeric columns\n",
    "for col in num_vars:\n",
    "    plt.hist(train[col])\n",
    "    plt.title(col)\n",
    "    plt.show()\n",
    "    plt.boxplot(train[col])\n",
    "    plt.title(col)\n",
    "    plt.show()"
   ]
  },
  {
   "cell_type": "markdown",
   "id": "e64c32f0",
   "metadata": {},
   "source": [
    "### Bivariate Analysis"
   ]
  },
  {
   "cell_type": "code",
   "execution_count": 11,
   "id": "a0914d8f",
   "metadata": {},
   "outputs": [],
   "source": [
    "def cat_vis(train, col):\n",
    "    plt.title('Relationship of churn rate and '+col)\n",
    "    sns.barplot(x=col, y='churn', data=train)\n",
    "    survival_rate = train.churn.mean()\n",
    "    plt.axhline(survival_rate, label='churn rate')\n",
    "    plt.legend()\n",
    "    plt.show()"
   ]
  },
  {
   "cell_type": "code",
   "execution_count": 12,
   "id": "d241c105",
   "metadata": {},
   "outputs": [],
   "source": [
    "def cat_test(train, col):\n",
    "    alpha = 0.05\n",
    "    null_hyp = col+' and churn rate are independent'\n",
    "    alt_hyp = 'There is a relationship between churn rate and '+col\n",
    "    observed = pd.crosstab(train.churn, train[col])\n",
    "    chi2, p, degf, expected = stats.chi2_contingency(observed)\n",
    "    if p < alpha:\n",
    "        print('We reject the null hypothesis that', null_hyp)\n",
    "        print(alt_hyp)\n",
    "    else:\n",
    "        print('We fail to reject the null hypothesis that', null_hyp)\n",
    "        print('There appears to be no relationship between survival rate and '+col)"
   ]
  },
  {
   "cell_type": "code",
   "execution_count": 13,
   "id": "4ab0ca35",
   "metadata": {},
   "outputs": [
    {
     "data": {
      "image/png": "[encoded data removed]",
      "text/plain": [
       "<Figure size 432x288 with 1 Axes>"
      ]
     },
     "metadata": {
      "needs_background": "light"
     },
     "output_type": "display_data"
    },
    {
     "name": "stdout",
     "output_type": "stream",
     "text": [
      "We fail to reject the null hypothesis that gender and churn rate are independent\n",
      "There appears to be no relationship between survival rate and gender\n"
     ]
    },
    {
     "data": {
      "image/png": "[encoded data removed]",
      "text/plain": [
       "<Figure size 432x288 with 1 Axes>"
      ]
     },
     "metadata": {
      "needs_background": "light"
     },
     "output_type": "display_data"
    },
    {
     "name": "stdout",
     "output_type": "stream",
     "text": [
      "We reject the null hypothesis that partner and churn rate are independent\n",
      "There is a relationship between churn rate and partner\n"
     ]
    },
    {
     "data": {
      "image/png": "[encoded data removed]",
      "text/plain": [
       "<Figure size 432x288 with 1 Axes>"
      ]
     },
     "metadata": {
      "needs_background": "light"
     },
     "output_type": "display_data"
    },
    {
     "name": "stdout",
     "output_type": "stream",
     "text": [
      "We reject the null hypothesis that dependents and churn rate are independent\n",
      "There is a relationship between churn rate and dependents\n"
     ]
    },
    {
     "data": {
      "image/png": "[encoded data removed]",
      "text/plain": [
       "<Figure size 432x288 with 1 Axes>"
      ]
     },
     "metadata": {
      "needs_background": "light"
     },
     "output_type": "display_data"
    },
    {
     "name": "stdout",
     "output_type": "stream",
     "text": [
      "We fail to reject the null hypothesis that phone_service and churn rate are independent\n",
      "There appears to be no relationship between survival rate and phone_service\n"
     ]
    },
    {
     "data": {
      "image/png": "[encoded data removed]",
      "text/plain": [
       "<Figure size 432x288 with 1 Axes>"
      ]
     },
     "metadata": {
      "needs_background": "light"
     },
     "output_type": "display_data"
    },
    {
     "name": "stdout",
     "output_type": "stream",
     "text": [
      "We reject the null hypothesis that multiple_lines and churn rate are independent\n",
      "There is a relationship between churn rate and multiple_lines\n"
     ]
    },
    {
     "data": {
      "image/png": "[encoded data removed]",
      "text/plain": [
       "<Figure size 432x288 with 1 Axes>"
      ]
     },
     "metadata": {
      "needs_background": "light"
     },
     "output_type": "display_data"
    },
    {
     "name": "stdout",
     "output_type": "stream",
     "text": [
      "We reject the null hypothesis that online_security and churn rate are independent\n",
      "There is a relationship between churn rate and online_security\n"
     ]
    },
    {
     "data": {
      "image/png": "[encoded data removed]",
      "text/plain": [
       "<Figure size 432x288 with 1 Axes>"
      ]
     },
     "metadata": {
      "needs_background": "light"
     },
     "output_type": "display_data"
    },
    {
     "name": "stdout",
     "output_type": "stream",
     "text": [
      "We reject the null hypothesis that online_backup and churn rate are independent\n",
      "There is a relationship between churn rate and online_backup\n"
     ]
    },
    {
     "data": {
      "image/png": "[encoded data removed]",
      "text/plain": [
       "<Figure size 432x288 with 1 Axes>"
      ]
     },
     "metadata": {
      "needs_background": "light"
     },
     "output_type": "display_data"
    },
    {
     "name": "stdout",
     "output_type": "stream",
     "text": [
      "We reject the null hypothesis that device_protection and churn rate are independent\n",
      "There is a relationship between churn rate and device_protection\n"
     ]
    },
    {
     "data": {
      "image/png": "[encoded data removed]",
      "text/plain": [
       "<Figure size 432x288 with 1 Axes>"
      ]
     },
     "metadata": {
      "needs_background": "light"
     },
     "output_type": "display_data"
    },
    {
     "name": "stdout",
     "output_type": "stream",
     "text": [
      "We reject the null hypothesis that tech_support and churn rate are independent\n",
      "There is a relationship between churn rate and tech_support\n"
     ]
    },
    {
     "data": {
      "image/png": "[encoded data removed]",
      "text/plain": [
       "<Figure size 432x288 with 1 Axes>"
      ]
     },
     "metadata": {
      "needs_background": "light"
     },
     "output_type": "display_data"
    },
    {
     "name": "stdout",
     "output_type": "stream",
     "text": [
      "We reject the null hypothesis that streaming_tv and churn rate are independent\n",
      "There is a relationship between churn rate and streaming_tv\n"
     ]
    },
    {
     "data": {
      "image/png": "[encoded data removed]",
      "text/plain": [
       "<Figure size 432x288 with 1 Axes>"
      ]
     },
     "metadata": {
      "needs_background": "light"
     },
     "output_type": "display_data"
    },
    {
     "name": "stdout",
     "output_type": "stream",
     "text": [
      "We reject the null hypothesis that streaming_movies and churn rate are independent\n",
      "There is a relationship between churn rate and streaming_movies\n"
     ]
    },
    {
     "data": {
      "image/png": "[encoded data removed]",
      "text/plain": [
       "<Figure size 432x288 with 1 Axes>"
      ]
     },
     "metadata": {
      "needs_background": "light"
     },
     "output_type": "display_data"
    },
    {
     "name": "stdout",
     "output_type": "stream",
     "text": [
      "We reject the null hypothesis that paperless_billing and churn rate are independent\n",
      "There is a relationship between churn rate and paperless_billing\n"
     ]
    },
    {
     "data": {
      "image/png": "[encoded data removed]",
      "text/plain": [
       "<Figure size 432x288 with 1 Axes>"
      ]
     },
     "metadata": {
      "needs_background": "light"
     },
     "output_type": "display_data"
    },
    {
     "name": "stdout",
     "output_type": "stream",
     "text": [
      "We reject the null hypothesis that contract_type and churn rate are independent\n",
      "There is a relationship between churn rate and contract_type\n"
     ]
    },
    {
     "data": {
      "image/png": "[encoded data removed]",
      "text/plain": [
       "<Figure size 432x288 with 1 Axes>"
      ]
     },
     "metadata": {
      "needs_background": "light"
     },
     "output_type": "display_data"
    },
    {
     "name": "stdout",
     "output_type": "stream",
     "text": [
      "We reject the null hypothesis that internet_service_type and churn rate are independent\n",
      "There is a relationship between churn rate and internet_service_type\n"
     ]
    },
    {
     "data": {
      "image/png": "[encoded data removed]",
      "text/plain": [
       "<Figure size 432x288 with 1 Axes>"
      ]
     },
     "metadata": {
      "needs_background": "light"
     },
     "output_type": "display_data"
    },
    {
     "name": "stdout",
     "output_type": "stream",
     "text": [
      "We reject the null hypothesis that payment_type and churn rate are independent\n",
      "There is a relationship between churn rate and payment_type\n"
     ]
    }
   ],
   "source": [
    "for col in cat_vars:\n",
    "    cat_vis(train, col)\n",
    "    cat_test(train, col)"
   ]
  },
  {
   "cell_type": "code",
   "execution_count": 14,
   "id": "a79ee0f8",
   "metadata": {},
   "outputs": [
    {
     "data": {
      "image/png": "[encoded data removed]",
      "text/plain": [
       "<Figure size 432x288 with 1 Axes>"
      ]
     },
     "metadata": {
      "needs_background": "light"
     },
     "output_type": "display_data"
    }
   ],
   "source": [
    "#Looking at relationship between gender and churn\n",
    "\n",
    "plt.title(\"Gender and churn, Female = 1\")\n",
    "sns.barplot(x=\"gender_encoded\", y=\"churn\", data=train)\n",
    "churn_rate = train.churn.mean()\n",
    "plt.axhline(churn_rate, label=\"churn_rate\")\n",
    "plt.legend()\n",
    "plt.show()"
   ]
  },
  {
   "cell_type": "markdown",
   "id": "f51f3574",
   "metadata": {},
   "source": [
    "### 1. Gender_Encoded (female ==1) vs. Churn:\n",
    "\n",
    "Hypotheses:\n",
    "\n",
    "H^0: The churn rate of women is less than or equal to the chrn rate of men.\n",
    "\n",
    "H^a: The churn rate of women is greater than the churn rate of men"
   ]
  },
  {
   "cell_type": "code",
   "execution_count": 15,
   "id": "0eb99568",
   "metadata": {},
   "outputs": [
    {
     "name": "stdout",
     "output_type": "stream",
     "text": [
      "Fail to reject the null\n",
      "Insufficient evidence to reject the null\n"
     ]
    }
   ],
   "source": [
    "# Chi-Square test to compare two categorical variables (Gender and Churn)\n",
    "\n",
    "alpha = 0.05\n",
    "null_hypothesis = \"The churn rate of women is less than or equal to the chrn rate of men.\"\n",
    "alternative_hypothesis = \"The churn rate of women is greater than the churn rate of men.\"\n",
    "\n",
    "# Setup a crosstab of observed survival to pclass\n",
    "observed = pd.crosstab(train.churn, train['gender_encoded'])\n",
    "\n",
    "chi2, p, degf, expected = stats.chi2_contingency(observed)\n",
    "p\n",
    "\n",
    "if p < alpha:\n",
    "    print(\"Reject the null hypothesis that\", null_hypothesis)\n",
    "    print(\"Sufficient evidence to move forward understanding that\", alternative_hypothesis)\n",
    "else:\n",
    "    print(\"Fail to reject the null\")\n",
    "    print(\"Insufficient evidence to reject the null\")"
   ]
  },
  {
   "cell_type": "markdown",
   "id": "c150c75c",
   "metadata": {},
   "source": [
    "#### Conclusion for gender: not a significant difference for churn rate"
   ]
  },
  {
   "cell_type": "markdown",
   "id": "67085e07",
   "metadata": {},
   "source": [
    "## Is there a relationship between being a Senior Citizen and Churn rate?"
   ]
  },
  {
   "cell_type": "code",
   "execution_count": 16,
   "id": "62d5f746",
   "metadata": {},
   "outputs": [
    {
     "data": {
      "image/png": "[encoded data removed]",
      "text/plain": [
       "<Figure size 432x288 with 1 Axes>"
      ]
     },
     "metadata": {
      "needs_background": "light"
     },
     "output_type": "display_data"
    }
   ],
   "source": [
    "#Create bar chart (senior_citizen)\n",
    "w.get_bar_senior(train)"
   ]
  },
  {
   "cell_type": "markdown",
   "id": "b4cb15e9",
   "metadata": {},
   "source": [
    "### Senior Citizen vs. Churn:\n",
    "\n",
    "* I used a 95% confidence interval\n",
    "* The resulting alpha value is .05\n",
    "\n",
    "Hypotheses:\n",
    "\n",
    "$H_0$: **The churn rate of senior citizens is less than or equal to the churn rate of non-senior citizens.**\n",
    "\n",
    "$H_a$: **The churn rate of senior citizens is greater than the churn rate of non-senior citizens.**"
   ]
  },
  {
   "cell_type": "code",
   "execution_count": 17,
   "id": "f1995e54",
   "metadata": {},
   "outputs": [
    {
     "name": "stdout",
     "output_type": "stream",
     "text": [
      "chi^2 = 128.7112\n",
      "p     = 0.0000\n"
     ]
    }
   ],
   "source": [
    "#Get chi-square test results\n",
    "w.get_chi_senior(train)"
   ]
  },
  {
   "cell_type": "markdown",
   "id": "18cd6938",
   "metadata": {},
   "source": [
    "**The p-value is less than alpha. Therefore, there is evidence to support the hypothesis that \"Senior Citizen\" and \"Churn\" are related. I believe that including this feature in modeling will likely have a positive impact on model accuracy.**"
   ]
  },
  {
   "cell_type": "markdown",
   "id": "be616836",
   "metadata": {},
   "source": [
    "## Does a customer having a partner affect churn?"
   ]
  },
  {
   "cell_type": "code",
   "execution_count": 18,
   "id": "7c242473",
   "metadata": {},
   "outputs": [
    {
     "data": {
      "image/png": "[encoded data removed]",
      "text/plain": [
       "<Figure size 432x288 with 1 Axes>"
      ]
     },
     "metadata": {
      "needs_background": "light"
     },
     "output_type": "display_data"
    }
   ],
   "source": [
    "#Visualizing relationship between partner status and churn\n",
    "w.get_bar_partner(train)"
   ]
  },
  {
   "cell_type": "markdown",
   "id": "9a12ebb6",
   "metadata": {},
   "source": [
    "#### It appears that those with partners churn less than those without."
   ]
  },
  {
   "cell_type": "markdown",
   "id": "8a064b28",
   "metadata": {},
   "source": [
    "### Partner Status vs. Churn: Looking at the significance of the relationship\n",
    "\n",
    "* Both variables are categorical so a Chi-Squared test is required\n",
    "* I used a 95% confidence interval\n",
    "* The resulting alpha value is .05\n",
    "\n",
    "Hypotheses:\n",
    "\n",
    "$H_0$: **The churn rate of partnered customers is greater than or equal to the churn rate of single customers.**\n",
    "\n",
    "$H_a$: **The churn rate of partnered customers is less than the churn rate of single customers.**"
   ]
  },
  {
   "cell_type": "code",
   "execution_count": 19,
   "id": "be5c367b",
   "metadata": {},
   "outputs": [],
   "source": [
    "def get_chi_partner(train):\n",
    "    '''gets results of chi-square test for partner status and churn'''\n",
    "    observed = pd.crosstab(train.churn, train['partner_encoded'])\n",
    "\n",
    "    chi2, p, degf, expected = stats.chi2_contingency(observed)\n",
    "\n",
    "    print(f'chi^2 = {chi2:.4f}')\n",
    "    print(f'p     = {p:.4f}')"
   ]
  },
  {
   "cell_type": "code",
   "execution_count": 20,
   "id": "e9a180f3",
   "metadata": {},
   "outputs": [
    {
     "name": "stdout",
     "output_type": "stream",
     "text": [
      "chi^2 = 121.8975\n",
      "p     = 0.0000\n"
     ]
    }
   ],
   "source": [
    "w.get_chi_partner(train)"
   ]
  },
  {
   "cell_type": "markdown",
   "id": "4f5e673d",
   "metadata": {},
   "source": [
    "**The p-value is less than alpha. Therefore, there is evidence to support the hypothesis that a customer having a partner and churn are related. However, this feature is similar to having dependents, and may not add value when included in modeling.**"
   ]
  },
  {
   "cell_type": "code",
   "execution_count": 21,
   "id": "7679753a",
   "metadata": {},
   "outputs": [
    {
     "name": "stdout",
     "output_type": "stream",
     "text": [
      "Reject the null hypothesis that The churn rate of partnered customers is greater than or equal to the churn rate of single customers.\n",
      "Sufficient evidence to move forward understanding that The churn rate of partnered customers is less than the churn rate of single customers.\n"
     ]
    }
   ],
   "source": [
    "# Chi-Square test to compare two categorical variables (Partner and Churn)\n",
    "\n",
    "alpha = 0.05\n",
    "null_hypothesis = \"The churn rate of partnered customers is greater than or equal to the churn rate of single customers.\"\n",
    "alternative_hypothesis = \"The churn rate of partnered customers is less than the churn rate of single customers.\"\n",
    "\n",
    "# Setup a crosstab of observed survival to pclass\n",
    "observed = pd.crosstab(train.churn, train['partner_encoded'])\n",
    "\n",
    "chi2, p, degf, expected = stats.chi2_contingency(observed)\n",
    "p\n",
    "\n",
    "if p < alpha:\n",
    "    print(\"Reject the null hypothesis that\", null_hypothesis)\n",
    "    print(\"Sufficient evidence to move forward understanding that\", alternative_hypothesis)\n",
    "else:\n",
    "    print(\"Fail to reject the null\")\n",
    "    print(\"Insufficient evidence to reject the null\")"
   ]
  },
  {
   "cell_type": "markdown",
   "id": "2fabca74",
   "metadata": {},
   "source": [
    "### Conclusion for partner status: significant relationship"
   ]
  },
  {
   "cell_type": "markdown",
   "id": "07a3de06",
   "metadata": {},
   "source": [
    "## Does a customer having dependents affect churn?"
   ]
  },
  {
   "cell_type": "code",
   "execution_count": 22,
   "id": "490fa06e",
   "metadata": {},
   "outputs": [
    {
     "data": {
      "image/png": "[encoded data removed]",
      "text/plain": [
       "<Figure size 432x288 with 1 Axes>"
      ]
     },
     "metadata": {
      "needs_background": "light"
     },
     "output_type": "display_data"
    }
   ],
   "source": [
    "w.get_bar_dependents(train)"
   ]
  },
  {
   "cell_type": "markdown",
   "id": "4a1a3cd3",
   "metadata": {},
   "source": [
    "### It appears that customers with dependents churn less than those without dependents."
   ]
  },
  {
   "cell_type": "markdown",
   "id": "7c091e69",
   "metadata": {},
   "source": [
    "### Dependents vs. Churn: Testing Significance of Relationship\n",
    "\n",
    "* Both variables are categorical so a Chi-Squared test is required\n",
    "* I used a 95% confidence interval\n",
    "* The resulting alpha value is .05\n",
    "\n",
    "Hypotheses:\n",
    "\n",
    "$H_0$: **The churn rate of those with dependents is greater than or equal to those without dependents.**\n",
    "\n",
    "$H_a$: **The churn rate of those with dependents is less than those without dependents.**"
   ]
  },
  {
   "cell_type": "code",
   "execution_count": 23,
   "id": "85a6499c",
   "metadata": {},
   "outputs": [
    {
     "name": "stdout",
     "output_type": "stream",
     "text": [
      "chi^2 = 133.9467\n",
      "p     = 0.0000\n"
     ]
    }
   ],
   "source": [
    "#Run chi-square test on dependents vs churn\n",
    "w.get_chi_dependents(train)"
   ]
  },
  {
   "cell_type": "markdown",
   "id": "e31d0807",
   "metadata": {},
   "source": [
    "**The p-value is less than alpha. Therefore, there is evidence to support the hypothesis that a customer having dependents is related to churn rate. I believe that including this feature in modeling will likely have a positive impact on model accuracy.**"
   ]
  },
  {
   "cell_type": "markdown",
   "id": "e212fdc2",
   "metadata": {},
   "source": [
    "## Does customer contract type affect churn?"
   ]
  },
  {
   "cell_type": "code",
   "execution_count": 24,
   "id": "62b7c010",
   "metadata": {},
   "outputs": [
    {
     "data": {
      "image/png": "[encoded data removed]",
      "text/plain": [
       "<Figure size 432x288 with 1 Axes>"
      ]
     },
     "metadata": {
      "needs_background": "light"
     },
     "output_type": "display_data"
    }
   ],
   "source": [
    "w.get_bar_contract(train)"
   ]
  },
  {
   "cell_type": "markdown",
   "id": "31e633e4",
   "metadata": {},
   "source": [
    "#### It appears that customers with month-to-month contracts churn at a much higher rate than those with two-year contracts. Customers with one-year contracts churn less than month-to-month, but more than two-year contact customers."
   ]
  },
  {
   "cell_type": "markdown",
   "id": "4b6d5931",
   "metadata": {},
   "source": [
    "### Contract Type vs. Churn: Testing Significance of Relationship\n",
    "\n",
    "* Both variables are categorical so a Chi-Squared test is required\n",
    "* I used a 95% confidence interval\n",
    "* The resulting alpha value is .05\n",
    "\n",
    "Hypotheses:\n",
    "\n",
    "$H_0$: The churn rate of those on a month-to-month contract is less than or equal to other customers.\n",
    "\n",
    "$H_a$: The churn rate of those on a month-to-month contract is greater than other customers."
   ]
  },
  {
   "cell_type": "code",
   "execution_count": 25,
   "id": "b792e876",
   "metadata": {},
   "outputs": [
    {
     "name": "stdout",
     "output_type": "stream",
     "text": [
      "chi^2 = 837.2493\n",
      "p     = 0.0000\n"
     ]
    }
   ],
   "source": [
    "#Running chi-squared test comparing contract type and churn\n",
    "w.get_chi_contract(train)"
   ]
  },
  {
   "cell_type": "markdown",
   "id": "3fb763b1",
   "metadata": {},
   "source": [
    "**The p-value is less than alpha. Therefore, there is evidence to support the hypothesis that customer contract type is related to churn rate. I believe that including this feature in modeling will likely have a strong positive impact on model accuracy.**"
   ]
  },
  {
   "cell_type": "markdown",
   "id": "55d2bbbd",
   "metadata": {},
   "source": [
    "## Examining Numeric variables vs discrete (Churn)"
   ]
  },
  {
   "cell_type": "code",
   "execution_count": 26,
   "id": "0a1339b5",
   "metadata": {},
   "outputs": [
    {
     "data": {
      "text/html": [
       "<div>\n",
       "<style scoped>\n",
       "    .dataframe tbody tr th:only-of-type {\n",
       "        vertical-align: middle;\n",
       "    }\n",
       "\n",
       "    .dataframe tbody tr th {\n",
       "        vertical-align: top;\n",
       "    }\n",
       "\n",
       "    .dataframe thead th {\n",
       "        text-align: right;\n",
       "    }\n",
       "</style>\n",
       "<table border=\"1\" class=\"dataframe\">\n",
       "  <thead>\n",
       "    <tr style=\"text-align: right;\">\n",
       "      <th></th>\n",
       "      <th>gender</th>\n",
       "      <th>senior_citizen</th>\n",
       "      <th>partner</th>\n",
       "      <th>dependents</th>\n",
       "      <th>tenure</th>\n",
       "      <th>phone_service</th>\n",
       "      <th>multiple_lines</th>\n",
       "      <th>online_security</th>\n",
       "      <th>online_backup</th>\n",
       "      <th>device_protection</th>\n",
       "      <th>...</th>\n",
       "      <th>contract_type_Month-to-month</th>\n",
       "      <th>contract_type_One year</th>\n",
       "      <th>contract_type_Two year</th>\n",
       "      <th>internet_service_type_DSL</th>\n",
       "      <th>internet_service_type_Fiber optic</th>\n",
       "      <th>internet_service_type_None</th>\n",
       "      <th>payment_type_Bank transfer (automatic)</th>\n",
       "      <th>payment_type_Credit card (automatic)</th>\n",
       "      <th>payment_type_Electronic check</th>\n",
       "      <th>payment_type_Mailed check</th>\n",
       "    </tr>\n",
       "  </thead>\n",
       "  <tbody>\n",
       "    <tr>\n",
       "      <th>4407</th>\n",
       "      <td>Female</td>\n",
       "      <td>0</td>\n",
       "      <td>No</td>\n",
       "      <td>No</td>\n",
       "      <td>50</td>\n",
       "      <td>Yes</td>\n",
       "      <td>Yes</td>\n",
       "      <td>No</td>\n",
       "      <td>No</td>\n",
       "      <td>No</td>\n",
       "      <td>...</td>\n",
       "      <td>1</td>\n",
       "      <td>0</td>\n",
       "      <td>0</td>\n",
       "      <td>0</td>\n",
       "      <td>1</td>\n",
       "      <td>0</td>\n",
       "      <td>0</td>\n",
       "      <td>0</td>\n",
       "      <td>1</td>\n",
       "      <td>0</td>\n",
       "    </tr>\n",
       "    <tr>\n",
       "      <th>1756</th>\n",
       "      <td>Male</td>\n",
       "      <td>0</td>\n",
       "      <td>No</td>\n",
       "      <td>No</td>\n",
       "      <td>4</td>\n",
       "      <td>Yes</td>\n",
       "      <td>No</td>\n",
       "      <td>No</td>\n",
       "      <td>No</td>\n",
       "      <td>No</td>\n",
       "      <td>...</td>\n",
       "      <td>1</td>\n",
       "      <td>0</td>\n",
       "      <td>0</td>\n",
       "      <td>0</td>\n",
       "      <td>1</td>\n",
       "      <td>0</td>\n",
       "      <td>0</td>\n",
       "      <td>0</td>\n",
       "      <td>1</td>\n",
       "      <td>0</td>\n",
       "    </tr>\n",
       "    <tr>\n",
       "      <th>4669</th>\n",
       "      <td>Male</td>\n",
       "      <td>0</td>\n",
       "      <td>Yes</td>\n",
       "      <td>Yes</td>\n",
       "      <td>72</td>\n",
       "      <td>Yes</td>\n",
       "      <td>No</td>\n",
       "      <td>No internet service</td>\n",
       "      <td>No internet service</td>\n",
       "      <td>No internet service</td>\n",
       "      <td>...</td>\n",
       "      <td>0</td>\n",
       "      <td>0</td>\n",
       "      <td>1</td>\n",
       "      <td>0</td>\n",
       "      <td>0</td>\n",
       "      <td>1</td>\n",
       "      <td>0</td>\n",
       "      <td>0</td>\n",
       "      <td>1</td>\n",
       "      <td>0</td>\n",
       "    </tr>\n",
       "    <tr>\n",
       "      <th>2379</th>\n",
       "      <td>Female</td>\n",
       "      <td>0</td>\n",
       "      <td>Yes</td>\n",
       "      <td>Yes</td>\n",
       "      <td>71</td>\n",
       "      <td>Yes</td>\n",
       "      <td>Yes</td>\n",
       "      <td>Yes</td>\n",
       "      <td>Yes</td>\n",
       "      <td>Yes</td>\n",
       "      <td>...</td>\n",
       "      <td>0</td>\n",
       "      <td>0</td>\n",
       "      <td>1</td>\n",
       "      <td>0</td>\n",
       "      <td>1</td>\n",
       "      <td>0</td>\n",
       "      <td>1</td>\n",
       "      <td>0</td>\n",
       "      <td>0</td>\n",
       "      <td>0</td>\n",
       "    </tr>\n",
       "    <tr>\n",
       "      <th>4118</th>\n",
       "      <td>Male</td>\n",
       "      <td>0</td>\n",
       "      <td>Yes</td>\n",
       "      <td>Yes</td>\n",
       "      <td>56</td>\n",
       "      <td>Yes</td>\n",
       "      <td>Yes</td>\n",
       "      <td>No</td>\n",
       "      <td>Yes</td>\n",
       "      <td>No</td>\n",
       "      <td>...</td>\n",
       "      <td>1</td>\n",
       "      <td>0</td>\n",
       "      <td>0</td>\n",
       "      <td>0</td>\n",
       "      <td>1</td>\n",
       "      <td>0</td>\n",
       "      <td>0</td>\n",
       "      <td>1</td>\n",
       "      <td>0</td>\n",
       "      <td>0</td>\n",
       "    </tr>\n",
       "  </tbody>\n",
       "</table>\n",
       "<p>5 rows × 56 columns</p>\n",
       "</div>"
      ],
      "text/plain": [
       "      gender  senior_citizen partner dependents  tenure phone_service  \\\n",
       "4407  Female               0      No         No      50           Yes   \n",
       "1756    Male               0      No         No       4           Yes   \n",
       "4669    Male               0     Yes        Yes      72           Yes   \n",
       "2379  Female               0     Yes        Yes      71           Yes   \n",
       "4118    Male               0     Yes        Yes      56           Yes   \n",
       "\n",
       "     multiple_lines      online_security        online_backup  \\\n",
       "4407            Yes                   No                   No   \n",
       "1756             No                   No                   No   \n",
       "4669             No  No internet service  No internet service   \n",
       "2379            Yes                  Yes                  Yes   \n",
       "4118            Yes                   No                  Yes   \n",
       "\n",
       "        device_protection  ... contract_type_Month-to-month  \\\n",
       "4407                   No  ...                            1   \n",
       "1756                   No  ...                            1   \n",
       "4669  No internet service  ...                            0   \n",
       "2379                  Yes  ...                            0   \n",
       "4118                   No  ...                            1   \n",
       "\n",
       "     contract_type_One year contract_type_Two year internet_service_type_DSL  \\\n",
       "4407                      0                      0                         0   \n",
       "1756                      0                      0                         0   \n",
       "4669                      0                      1                         0   \n",
       "2379                      0                      1                         0   \n",
       "4118                      0                      0                         0   \n",
       "\n",
       "      internet_service_type_Fiber optic  internet_service_type_None  \\\n",
       "4407                                  1                           0   \n",
       "1756                                  1                           0   \n",
       "4669                                  0                           1   \n",
       "2379                                  1                           0   \n",
       "4118                                  1                           0   \n",
       "\n",
       "     payment_type_Bank transfer (automatic)  \\\n",
       "4407                                      0   \n",
       "1756                                      0   \n",
       "4669                                      0   \n",
       "2379                                      1   \n",
       "4118                                      0   \n",
       "\n",
       "     payment_type_Credit card (automatic) payment_type_Electronic check  \\\n",
       "4407                                    0                             1   \n",
       "1756                                    0                             1   \n",
       "4669                                    0                             1   \n",
       "2379                                    0                             0   \n",
       "4118                                    1                             0   \n",
       "\n",
       "      payment_type_Mailed check  \n",
       "4407                          0  \n",
       "1756                          0  \n",
       "4669                          0  \n",
       "2379                          0  \n",
       "4118                          0  \n",
       "\n",
       "[5 rows x 56 columns]"
      ]
     },
     "execution_count": 26,
     "metadata": {},
     "output_type": "execute_result"
    }
   ],
   "source": [
    "train.head()"
   ]
  },
  {
   "cell_type": "code",
   "execution_count": 27,
   "id": "a8ce81d1",
   "metadata": {},
   "outputs": [
    {
     "data": {
      "text/plain": [
       "['senior_citizen', 'tenure', 'monthly_charges', 'total_charges']"
      ]
     },
     "execution_count": 27,
     "metadata": {},
     "output_type": "execute_result"
    }
   ],
   "source": [
    "num_vars"
   ]
  },
  {
   "cell_type": "code",
   "execution_count": 28,
   "id": "ae54febd",
   "metadata": {},
   "outputs": [
    {
     "data": {
      "text/plain": [
       "<seaborn.axisgrid.FacetGrid at 0x166d0cc70>"
      ]
     },
     "execution_count": 28,
     "metadata": {},
     "output_type": "execute_result"
    },
    {
     "data": {
      "image/png": "[encoded data removed]",
      "text/plain": [
       "<Figure size 762.375x360 with 2 Axes>"
      ]
     },
     "metadata": {
      "needs_background": "light"
     },
     "output_type": "display_data"
    }
   ],
   "source": [
    "sns.relplot(data=train, x='monthly_charges', y='tenure', kind='scatter', hue='churn', col='churn')"
   ]
  },
  {
   "cell_type": "code",
   "execution_count": 29,
   "id": "708c266d",
   "metadata": {},
   "outputs": [
    {
     "data": {
      "text/plain": [
       "<AxesSubplot:xlabel='churn', ylabel='tenure'>"
      ]
     },
     "execution_count": 29,
     "metadata": {},
     "output_type": "execute_result"
    },
    {
     "data": {
      "image/png": "[encoded data removed]",
      "text/plain": [
       "<Figure size 432x288 with 1 Axes>"
      ]
     },
     "metadata": {
      "needs_background": "light"
     },
     "output_type": "display_data"
    }
   ],
   "source": [
    "sns.swarmplot(data=train, x='churn', y='tenure', hue='churn')"
   ]
  },
  {
   "cell_type": "markdown",
   "id": "3b1ce44b",
   "metadata": {},
   "source": [
    "### Looking at tenure vs. churn rate"
   ]
  },
  {
   "cell_type": "code",
   "execution_count": 30,
   "id": "677ac188",
   "metadata": {},
   "outputs": [],
   "source": [
    "# Subset the data into churn and not-churned status\n",
    "not_churned = train[train.churn == 0]\n",
    "churned = train[train.churn == 1]"
   ]
  },
  {
   "cell_type": "code",
   "execution_count": 31,
   "id": "6fe68d1b",
   "metadata": {},
   "outputs": [
    {
     "data": {
      "image/png": "[encoded data removed]",
      "text/plain": [
       "<Figure size 432x288 with 1 Axes>"
      ]
     },
     "metadata": {
      "needs_background": "light"
     },
     "output_type": "display_data"
    }
   ],
   "source": [
    "plt.title(\"What's the relationship of tenure and churn rate?\")\n",
    "plt.hist(not_churned.tenure, label=\"not churned\")\n",
    "plt.hist(churned.tenure, label=\"churned\")\n",
    "plt.legend()\n",
    "plt.show()"
   ]
  },
  {
   "cell_type": "markdown",
   "id": "8a0d2bc0",
   "metadata": {},
   "source": [
    "#### It appears that customers with a longer tenure churn less"
   ]
  },
  {
   "cell_type": "code",
   "execution_count": null,
   "id": "92e88f4f",
   "metadata": {},
   "outputs": [],
   "source": []
  },
  {
   "cell_type": "markdown",
   "id": "0c377a12",
   "metadata": {},
   "source": [
    "#### Establish Hypotheses:"
   ]
  },
  {
   "cell_type": "markdown",
   "id": "f4676168",
   "metadata": {},
   "source": [
    "$H_0$ : null_hypothesis = Customers with a higher mean tenure have a churn rate greater than or equal to those with a shorter tenure.\n",
    "\n",
    "$H_a$: alternative_hypothesis = Customers with a higher mean tenure churn less than those with shorter tenure."
   ]
  },
  {
   "cell_type": "code",
   "execution_count": 32,
   "id": "f43db3c9",
   "metadata": {},
   "outputs": [
    {
     "data": {
      "text/plain": [
       "(581.7647560688213, 389.679911831285)"
      ]
     },
     "execution_count": 32,
     "metadata": {},
     "output_type": "execute_result"
    }
   ],
   "source": [
    "# check variances of the two groups\n",
    "not_churned.tenure.var(), churned.tenure.var()"
   ]
  },
  {
   "cell_type": "code",
   "execution_count": 33,
   "id": "fab5e2cf",
   "metadata": {},
   "outputs": [
    {
     "data": {
      "text/plain": [
       "1.7397543077146337e-58"
      ]
     },
     "execution_count": 33,
     "metadata": {},
     "output_type": "execute_result"
    }
   ],
   "source": [
    "#Need to ensure variances are equal\n",
    "stat, pval = stats.levene(not_churned.tenure, churned.tenure)\n",
    "pval\n",
    "# pval is significant so we can conclude variances are NOT equal"
   ]
  },
  {
   "cell_type": "code",
   "execution_count": 34,
   "id": "53bcda24",
   "metadata": {},
   "outputs": [
    {
     "data": {
      "text/plain": [
       "(28.50778830481801, 3.210034358004407e-157)"
      ]
     },
     "execution_count": 34,
     "metadata": {},
     "output_type": "execute_result"
    }
   ],
   "source": [
    "# Two-sample T-test to compare a continuous variable (tenure) with a categorical variable (churn)\n",
    "alpha = 0.05\n",
    "null_hypothesis = \"Customers with a higher tenure have a churn rate greater than or equal to those with a shorter tenure.\"\n",
    "alternative_hypothesis = \"Customers with a higher tenure have a lower churn rate than those with shorter tenure.\"\n",
    "\n",
    "# Setup test\n",
    "t, p = stats.ttest_ind(not_churned.tenure, churned.tenure, equal_var=False)\n",
    "t, p"
   ]
  },
  {
   "cell_type": "code",
   "execution_count": 35,
   "id": "55a5babe",
   "metadata": {},
   "outputs": [
    {
     "name": "stdout",
     "output_type": "stream",
     "text": [
      "Reject the null hypothesis that Customers with a higher tenure have a churn rate greater than or equal to those with a shorter tenure.\n",
      "Sufficient evidence to move forward understanding that Customers with a higher tenure have a lower churn rate than those with shorter tenure.\n"
     ]
    }
   ],
   "source": [
    "if (p/2 < alpha) & (t > 0):\n",
    "    print(\"Reject the null hypothesis that\", null_hypothesis)\n",
    "    print(\"Sufficient evidence to move forward understanding that\", alternative_hypothesis)\n",
    "else:\n",
    "    print(\"Fail to reject the null\")"
   ]
  },
  {
   "cell_type": "markdown",
   "id": "742ac0f8",
   "metadata": {},
   "source": [
    "### Conclusion: Customers with a longer tenure (in months) have a lower churn rate than customers with lower tenures"
   ]
  },
  {
   "cell_type": "markdown",
   "id": "8bbd8252",
   "metadata": {},
   "source": [
    "## Does a customer's monthly charge amount impact churn?"
   ]
  },
  {
   "cell_type": "code",
   "execution_count": 36,
   "id": "51c55c5c",
   "metadata": {},
   "outputs": [],
   "source": [
    "# Subset the data into churn and not-churned status\n",
    "not_churned = train[train.churn == 0]\n",
    "churned = train[train.churn == 1]"
   ]
  },
  {
   "cell_type": "code",
   "execution_count": 37,
   "id": "b08fcd53",
   "metadata": {},
   "outputs": [
    {
     "data": {
      "image/png": "[encoded data removed]",
      "text/plain": [
       "<Figure size 432x288 with 1 Axes>"
      ]
     },
     "metadata": {
      "needs_background": "light"
     },
     "output_type": "display_data"
    }
   ],
   "source": [
    "#Get viz of monthly charge vs churn\n",
    "w.monthly_charges_md(train)"
   ]
  },
  {
   "cell_type": "markdown",
   "id": "02d5b773",
   "metadata": {},
   "source": [
    "#### It appears that customers who have lower monthly charges churn less."
   ]
  },
  {
   "cell_type": "markdown",
   "id": "da57f681",
   "metadata": {},
   "source": [
    "### Monthly Charges vs. Churn: Testing Significance of Relationship\n",
    "\n",
    "* Monthly Charges is a continuous variable, and both populations are independent, so an independent T-Test is required.\n",
    "* I used a 95% confidence interval (alpha value .05)\n",
    "* Variances were tested and not equal, and indicated in testing parameter\n",
    "\n",
    "Hypotheses:\n",
    "\n",
    "$H_0$: **Customers with lower monthly charges have a churn rate greater than or equal to those with higher charges.**\n",
    "\n",
    "$H_a$: **Customers with lower monthly charges have a lower churn rate than those with higher monthly charges.**"
   ]
  },
  {
   "cell_type": "code",
   "execution_count": 38,
   "id": "72cc142c",
   "metadata": {},
   "outputs": [
    {
     "data": {
      "text/plain": [
       "(965.508171621473, 603.4479280323469)"
      ]
     },
     "execution_count": 38,
     "metadata": {},
     "output_type": "execute_result"
    }
   ],
   "source": [
    "# check variances of the two groups\n",
    "not_churned.monthly_charges.var(), churned.monthly_charges.var()"
   ]
  },
  {
   "cell_type": "code",
   "execution_count": 39,
   "id": "f3db8457",
   "metadata": {},
   "outputs": [
    {
     "data": {
      "text/plain": [
       "1.5630731582434918e-57"
      ]
     },
     "execution_count": 39,
     "metadata": {},
     "output_type": "execute_result"
    }
   ],
   "source": [
    "#Need to ensure variances are equal\n",
    "stat, pval = stats.levene(not_churned.monthly_charges, churned.monthly_charges)\n",
    "pval\n",
    "# pval is significant so we can conclude variances are NOT equal"
   ]
  },
  {
   "cell_type": "code",
   "execution_count": 40,
   "id": "4c343ccd",
   "metadata": {},
   "outputs": [],
   "source": [
    "def get_t_monthly(train):\n",
    "    \"get t-test for monthly charges and churn\"\n",
    "    #Seperate samples into churn and not churn\n",
    "    not_churned = train[train.churn == 0]\n",
    "    churned = train[train.churn == 1]\n",
    "    #Run t-test on these groups, variances are not equal\n",
    "    t, p = stats.ttest_ind(not_churned.monthly_charges, churned.monthly_charges, equal_var=False)\n",
    "\n",
    "    print(f't = {t:.4f}')\n",
    "    print(f'p = {p:.4f}') "
   ]
  },
  {
   "cell_type": "code",
   "execution_count": 41,
   "id": "bf63ed52",
   "metadata": {},
   "outputs": [
    {
     "name": "stdout",
     "output_type": "stream",
     "text": [
      "t = -16.0750\n",
      "p = 0.0000\n"
     ]
    }
   ],
   "source": [
    "#Run T-test comparing monthly charges and churn status\n",
    "w.get_t_monthly(train)"
   ]
  },
  {
   "cell_type": "markdown",
   "id": "ef5e8713",
   "metadata": {},
   "source": [
    "**The p-value is less than alpha. Therefore, there is evidence to support the hypothesis that customer monthly charge amount is related to churn rate. I believe that including this feature in modeling will likely have a positive impact on model accuracy.**"
   ]
  },
  {
   "cell_type": "markdown",
   "id": "05ef4288",
   "metadata": {},
   "source": [
    "## Does the total charges a customer has accrued impact churn rate?"
   ]
  },
  {
   "cell_type": "code",
   "execution_count": 42,
   "id": "10091486",
   "metadata": {},
   "outputs": [
    {
     "data": {
      "image/png": "[encoded data removed]",
      "text/plain": [
       "<Figure size 432x288 with 1 Axes>"
      ]
     },
     "metadata": {
      "needs_background": "light"
     },
     "output_type": "display_data"
    }
   ],
   "source": [
    "plt.title(\"What's the relationship of customer total charges and churn?\")\n",
    "plt.hist(not_churned.total_charges, label=\"not churned\")\n",
    "plt.hist(churned.total_charges, label=\"churned\")\n",
    "plt.legend()\n",
    "plt.show()"
   ]
  },
  {
   "cell_type": "code",
   "execution_count": 43,
   "id": "0ffb74ec",
   "metadata": {},
   "outputs": [
    {
     "data": {
      "text/plain": [
       "<AxesSubplot:xlabel='total_charges'>"
      ]
     },
     "execution_count": 43,
     "metadata": {},
     "output_type": "execute_result"
    },
    {
     "data": {
      "image/png": "[encoded data removed]",
      "text/plain": [
       "<Figure size 432x288 with 1 Axes>"
      ]
     },
     "metadata": {
      "needs_background": "light"
     },
     "output_type": "display_data"
    }
   ],
   "source": [
    "sns.boxplot(x='total_charges', data=train)"
   ]
  },
  {
   "cell_type": "code",
   "execution_count": 44,
   "id": "01723469",
   "metadata": {},
   "outputs": [],
   "source": [
    "def total_charges_md(train):\n",
    "    # Subset the data into churn and not-churned status\n",
    "    not_churned = train[train.churn == 0]\n",
    "    churned = train[train.churn == 1]\n",
    "    #assign values and labels\n",
    "    values = [not_churned.total_charges.mean(), churned.total_charges.mean()]\n",
    "    labels = ['not_churned', 'churned']\n",
    "    # generate and display chart\n",
    "    plt.bar(height=values, x=labels, color=['#ffc3a0', '#c0d6e4'])\n",
    "    plt.title('Customer mean total charge differences (churn vs non-churn)')\n",
    "    plt.tight_layout()\n",
    "    plt.show()"
   ]
  },
  {
   "cell_type": "code",
   "execution_count": 45,
   "id": "fddaabee",
   "metadata": {},
   "outputs": [
    {
     "data": {
      "image/png": "[encoded data removed]",
      "text/plain": [
       "<Figure size 432x288 with 1 Axes>"
      ]
     },
     "metadata": {
      "needs_background": "light"
     },
     "output_type": "display_data"
    }
   ],
   "source": [
    "total_charges_md(train)"
   ]
  },
  {
   "cell_type": "markdown",
   "id": "95c83265",
   "metadata": {},
   "source": [
    "$H_0$ : null_hypothesis = \"Customers with higher total charges have a mean churn rate greater than or equal to those with lower total charges.\"\n",
    "\n",
    "$H_a$: alternative_hypothesis = \"Customers with higher total charges have a lower mean churn rate than those with lower total charges.\""
   ]
  },
  {
   "cell_type": "markdown",
   "id": "20962d79",
   "metadata": {},
   "source": [
    "#### It appears that the mean total charges for customers who churned is higher than those who did not churn"
   ]
  },
  {
   "cell_type": "code",
   "execution_count": 46,
   "id": "c9a2d225",
   "metadata": {},
   "outputs": [
    {
     "data": {
      "text/plain": [
       "(5357521.492075216, 3652610.2915710476)"
      ]
     },
     "execution_count": 46,
     "metadata": {},
     "output_type": "execute_result"
    }
   ],
   "source": [
    "# check variances of the two groups\n",
    "not_churned.total_charges.var(), churned.total_charges.var()"
   ]
  },
  {
   "cell_type": "code",
   "execution_count": 47,
   "id": "1c542de2",
   "metadata": {},
   "outputs": [
    {
     "data": {
      "text/plain": [
       "4.5964991297566226e-23"
      ]
     },
     "execution_count": 47,
     "metadata": {},
     "output_type": "execute_result"
    }
   ],
   "source": [
    "#Need to ensure variances are equal\n",
    "stat, pval = stats.levene(not_churned.total_charges, churned.total_charges)\n",
    "pval\n",
    "# pval is significant so we can conclude variances are NOT equal"
   ]
  },
  {
   "cell_type": "code",
   "execution_count": 48,
   "id": "4b8b165f",
   "metadata": {},
   "outputs": [
    {
     "data": {
      "text/plain": [
       "(14.693186342527401, 3.9686459602437414e-47)"
      ]
     },
     "execution_count": 48,
     "metadata": {},
     "output_type": "execute_result"
    }
   ],
   "source": [
    "# Two-sample T-test to compare a continuous variable (monthly charges) with a categorical variable (churn)\n",
    "alpha = 0.05\n",
    "null_hypothesis = \"Customers with higher total charges have a mean churn rate greater than or equal to those with lower total charges.\"\n",
    "alternative_hypothesis = \"Customers with higher total charges have a lower mean churn rate than those with lower total charges.\"\n",
    "\n",
    "# Setup test\n",
    "t, p = stats.ttest_ind(not_churned.total_charges, churned.total_charges, equal_var=False)\n",
    "t, p"
   ]
  },
  {
   "cell_type": "code",
   "execution_count": 49,
   "id": "bf19d266",
   "metadata": {},
   "outputs": [
    {
     "name": "stdout",
     "output_type": "stream",
     "text": [
      "Reject the null hypothesis that Customers with higher total charges have a mean churn rate greater than or equal to those with lower total charges.\n",
      "Sufficient evidence to move forward understanding that Customers with higher total charges have a lower mean churn rate than those with lower total charges.\n"
     ]
    }
   ],
   "source": [
    "if (p/2 < alpha):\n",
    "    print(\"Reject the null hypothesis that\", null_hypothesis)\n",
    "    print(\"Sufficient evidence to move forward understanding that\", alternative_hypothesis)\n",
    "else:\n",
    "    print(\"Fail to reject the null\")"
   ]
  },
  {
   "cell_type": "markdown",
   "id": "a43da039",
   "metadata": {},
   "source": [
    "## Exploration Summary"
   ]
  },
  {
   "cell_type": "code",
   "execution_count": 50,
   "id": "17e6fb01",
   "metadata": {},
   "outputs": [
    {
     "ename": "NameError",
     "evalue": "name 'y_train' is not defined",
     "output_type": "error",
     "traceback": [
      "\u001b[0;31m---------------------------------------------------------------------------\u001b[0m",
      "\u001b[0;31mNameError\u001b[0m                                 Traceback (most recent call last)",
      "Input \u001b[0;32mIn [50]\u001b[0m, in \u001b[0;36m<cell line: 2>\u001b[0;34m()\u001b[0m\n\u001b[1;32m      1\u001b[0m \u001b[38;5;66;03m#Baseline accuracy\u001b[39;00m\n\u001b[0;32m----> 2\u001b[0m (\u001b[43my_train\u001b[49m \u001b[38;5;241m==\u001b[39m \u001b[38;5;241m0\u001b[39m)\u001b[38;5;241m.\u001b[39mmean()\n",
      "\u001b[0;31mNameError\u001b[0m: name 'y_train' is not defined"
     ]
    }
   ],
   "source": [
    "#Baseline accuracy\n",
    "(y_train == 0).mean()"
   ]
  },
  {
   "cell_type": "code",
   "execution_count": null,
   "id": "880a44de",
   "metadata": {},
   "outputs": [],
   "source": [
    "#Find Baseline\n",
    "y_train.value_counts()\n",
    "#Baseline is 0, customer did not churn"
   ]
  },
  {
   "cell_type": "markdown",
   "id": "d05fa83f",
   "metadata": {},
   "source": [
    "# Modeling\n",
    "* I will use accuracy as my evaluation metric\n",
    "* non-churned customers makeup 73% of the data\n",
    "* by guessing non-churn for every customer, one could achieve an accuracy of 73%\n",
    "* 73% will be the baseline accuracy I use for this project\n",
    "* I will be evaluating models developed using four different model types and various hyperparameter configurations\n",
    "* Models will be evaluated on train and validate data\n",
    "* The model that performs the best will then be evaluated on test data"
   ]
  },
  {
   "cell_type": "markdown",
   "id": "8a1091f0",
   "metadata": {},
   "source": [
    "### Modeling"
   ]
  },
  {
   "cell_type": "code",
   "execution_count": null,
   "id": "d3fdc5e6",
   "metadata": {},
   "outputs": [],
   "source": [
    "#preparing data for modeling\n",
    "X_train, X_validate, X_test, y_train, y_validate, y_test = w.model_prep(train, validate, test)"
   ]
  },
  {
   "cell_type": "code",
   "execution_count": null,
   "id": "4855c3d5",
   "metadata": {},
   "outputs": [],
   "source": [
    "X_train.head()"
   ]
  },
  {
   "cell_type": "code",
   "execution_count": null,
   "id": "c5e2f13c",
   "metadata": {},
   "outputs": [],
   "source": [
    "X_train.shape\n",
    "X_validate.shape\n",
    "X_test.shape"
   ]
  },
  {
   "cell_type": "code",
   "execution_count": null,
   "id": "7bf6a767",
   "metadata": {},
   "outputs": [],
   "source": [
    "#Find Baseline\n",
    "y_train.value_counts()\n",
    "#Baseline is 0, customer did not churn"
   ]
  },
  {
   "cell_type": "code",
   "execution_count": null,
   "id": "7f2678d7",
   "metadata": {},
   "outputs": [],
   "source": [
    "#Baseline Accuracy\n",
    "(y_train == 0).mean()"
   ]
  },
  {
   "cell_type": "markdown",
   "id": "77cf90df",
   "metadata": {},
   "source": [
    "### Decision Tree"
   ]
  },
  {
   "cell_type": "code",
   "execution_count": null,
   "id": "e5f59d49",
   "metadata": {},
   "outputs": [],
   "source": [
    "tree = DecisionTreeClassifier(max_depth=3, random_state=123)"
   ]
  },
  {
   "cell_type": "code",
   "execution_count": null,
   "id": "71f65d36",
   "metadata": {},
   "outputs": [],
   "source": [
    "# model.fit(X, y)\n",
    "tree.fit(X_train, y_train)"
   ]
  },
  {
   "cell_type": "code",
   "execution_count": null,
   "id": "050aa198",
   "metadata": {},
   "outputs": [],
   "source": [
    "print(export_text(tree, feature_names=X_train.columns.tolist()))"
   ]
  },
  {
   "cell_type": "code",
   "execution_count": null,
   "id": "e90a095a",
   "metadata": {},
   "outputs": [],
   "source": [
    "#Use your model to make predictions on the in-sample data\n",
    "tree.predict(X_train)"
   ]
  },
  {
   "cell_type": "code",
   "execution_count": null,
   "id": "ed6b011c",
   "metadata": {},
   "outputs": [],
   "source": [
    "y_pred = tree.predict(X_train)\n",
    "actual = y_train"
   ]
  },
  {
   "cell_type": "code",
   "execution_count": null,
   "id": "b7604b8b",
   "metadata": {},
   "outputs": [],
   "source": [
    "y_pred.shape"
   ]
  },
  {
   "cell_type": "code",
   "execution_count": null,
   "id": "f36bc08a",
   "metadata": {},
   "outputs": [],
   "source": [
    "#Baseline accuracy\n",
    "(y_train == 0).mean()"
   ]
  },
  {
   "cell_type": "code",
   "execution_count": null,
   "id": "1091b34a",
   "metadata": {},
   "outputs": [],
   "source": [
    "y_pred_proba = tree.predict_proba(X_train)\n",
    "y_pred_proba[0:5]"
   ]
  },
  {
   "cell_type": "markdown",
   "id": "4189ea6f",
   "metadata": {},
   "source": [
    "### Evaluating in-sample results using the model score, confusion matrix, and classification report."
   ]
  },
  {
   "cell_type": "code",
   "execution_count": null,
   "id": "0c7f36b7",
   "metadata": {},
   "outputs": [],
   "source": [
    "confusion_matrix(actual, y_pred)"
   ]
  },
  {
   "cell_type": "code",
   "execution_count": null,
   "id": "491f4026",
   "metadata": {},
   "outputs": [],
   "source": [
    "print(classification_report(actual, y_pred))"
   ]
  },
  {
   "cell_type": "code",
   "execution_count": null,
   "id": "ef5ea6f0",
   "metadata": {},
   "outputs": [],
   "source": [
    "print('Accuracy of Decision Tree classifier on training set: {:.2f}'\n",
    "      .format(tree.score(X_train, y_train)))"
   ]
  },
  {
   "cell_type": "markdown",
   "id": "2a53d34a",
   "metadata": {},
   "source": [
    "### 76 percent accuracy for decision tree on training set"
   ]
  },
  {
   "cell_type": "code",
   "execution_count": null,
   "id": "3c92cb21",
   "metadata": {},
   "outputs": [],
   "source": [
    "# confusion matrix\n",
    "\n",
    "confusion_matrix(y_train, y_pred)"
   ]
  },
  {
   "cell_type": "code",
   "execution_count": null,
   "id": "f464177f",
   "metadata": {},
   "outputs": [],
   "source": [
    "y_train.value_counts()"
   ]
  },
  {
   "cell_type": "code",
   "execution_count": null,
   "id": "63b7ec3a",
   "metadata": {},
   "outputs": [],
   "source": [
    "# Produce the classification report on the actual y values and this model's predicted y values\n",
    "report = classification_report(y_train, y_pred, output_dict=True)\n",
    "print(\"Tree of 3 depth\")\n",
    "pd.DataFrame(report)"
   ]
  },
  {
   "cell_type": "code",
   "execution_count": null,
   "id": "d4fe5c10",
   "metadata": {},
   "outputs": [],
   "source": [
    "#Calculating TP, FP, FN, TP\n",
    "TN, FP, FN, TP = confusion_matrix(y_train, y_pred).ravel()\n",
    "TN, FP, FN, TP"
   ]
  },
  {
   "cell_type": "code",
   "execution_count": null,
   "id": "56f669da",
   "metadata": {},
   "outputs": [],
   "source": [
    "ALL = TP + FP + FN + TN\n",
    "\n",
    "accuracy = (TP + TN)/ALL\n",
    "true_positive_rate = sensitivity = recall = power = TP/(TP+FN)\n",
    "false_positive_rate = false_alarm_ratio = fallout = FP/(FP+TN)\n",
    "true_negative_rate = specificity = selectivity = TN/(TN+FP)\n",
    "false_negative_rate = miss_rate = FN/(FN+TP)\n",
    "precision = PPV = TP/(TP+FP)\n",
    "f1_score = 2*(precision*recall)/(precision+recall)\n",
    "support_pos = TP + FN\n",
    "support_neg = FP + TN\n",
    "\n",
    "print(f\"Accuracy: {accuracy}\", '\\n')\n",
    "print(f\"True Positive Rate/Sensitivity/Recall/Power: {true_positive_rate}\", '\\n')\n",
    "print(f\"False Positive Rate/False Alarm Ratio/Fall-out: {false_positive_rate}\", '\\n')\n",
    "print(f\"True Negative Rate/Specificity/Selectivity: {true_negative_rate}\", '\\n')\n",
    "print(f\"False Negative Rate/Miss Rate: {false_negative_rate}\", '\\n')\n",
    "print(f\"Precision/PPV: {precision}\", '\\n')\n",
    "print(f\"F1 Score: {f1_score}\", '\\n')\n",
    "print(f\"Support (0): {support_neg}\", '\\n')\n",
    "print(f\"Support (1): {support_pos}\")"
   ]
  },
  {
   "cell_type": "markdown",
   "id": "8d685160",
   "metadata": {},
   "source": [
    "### Evaluate on validate data"
   ]
  },
  {
   "cell_type": "code",
   "execution_count": null,
   "id": "418910eb",
   "metadata": {},
   "outputs": [],
   "source": [
    "print('Accuracy of Decision Tree classifier on validate set: {:.2f}'\n",
    "     .format(tree.score(X_validate, y_validate)))"
   ]
  },
  {
   "cell_type": "code",
   "execution_count": null,
   "id": "98d2e514",
   "metadata": {},
   "outputs": [],
   "source": [
    "# Produce y_predictions that come from the X_validate\n",
    "y_pred_validate = tree.predict(X_validate)\n",
    "\n",
    "# Compare actual y values (from validate) to predicted y_values from the model run on X_validate\n",
    "print(classification_report(y_validate, y_pred_validate))"
   ]
  },
  {
   "cell_type": "code",
   "execution_count": null,
   "id": "ea777de6",
   "metadata": {},
   "outputs": [],
   "source": [
    "# confusion matrix\n",
    "\n",
    "confusion_matrix(y_validate, y_pred_validate)"
   ]
  },
  {
   "cell_type": "code",
   "execution_count": null,
   "id": "81cd9edb",
   "metadata": {},
   "outputs": [],
   "source": [
    "# Produce the classification report on the actual y values and this model's predicted y values\n",
    "report = classification_report(y_validate, y_pred_validate, output_dict=True)\n",
    "print(\"Tree of 3 depth\")\n",
    "pd.DataFrame(report)"
   ]
  },
  {
   "cell_type": "code",
   "execution_count": null,
   "id": "4523eb9c",
   "metadata": {},
   "outputs": [],
   "source": [
    "#Running on validate\n",
    "TN, FP, FN, TP = confusion_matrix(y_validate, y_pred_validate).ravel()\n",
    "TN, FP, FN, TP"
   ]
  },
  {
   "cell_type": "code",
   "execution_count": null,
   "id": "bf58de19",
   "metadata": {},
   "outputs": [],
   "source": [
    "ALL = TP + FP + FN + TN\n",
    "\n",
    "accuracy = (TP + TN)/ALL\n",
    "true_positive_rate = sensitivity = recall = power = TP/(TP+FN)\n",
    "false_positive_rate = false_alarm_ratio = fallout = FP/(FP+TN)\n",
    "true_negative_rate = specificity = selectivity = TN/(TN+FP)\n",
    "false_negative_rate = miss_rate = FN/(FN+TP)\n",
    "precision = PPV = TP/(TP+FP)\n",
    "f1_score = 2*(precision*recall)/(precision+recall)\n",
    "support_pos = TP + FN\n",
    "support_neg = FP + TN\n",
    "\n",
    "print(f\"Accuracy: {accuracy}\", '\\n')\n",
    "print(f\"True Positive Rate/Sensitivity/Recall/Power: {true_positive_rate}\", '\\n')\n",
    "print(f\"False Positive Rate/False Alarm Ratio/Fall-out: {false_positive_rate}\", '\\n')\n",
    "print(f\"True Negative Rate/Specificity/Selectivity: {true_negative_rate}\", '\\n')\n",
    "print(f\"False Negative Rate/Miss Rate: {false_negative_rate}\", '\\n')\n",
    "print(f\"Precision/PPV: {precision}\", '\\n')\n",
    "print(f\"F1 Score: {f1_score}\", '\\n')\n",
    "print(f\"Support (0): {support_neg}\", '\\n')\n",
    "print(f\"Support (1): {support_pos}\")"
   ]
  },
  {
   "cell_type": "markdown",
   "id": "2f5a05d3",
   "metadata": {},
   "source": [
    "### Conclusion for decision tree (depth 3): very close results between training and validate. 76/75 percent accuracy respectively. Baseline is 73.4 so both outperform baseline"
   ]
  },
  {
   "cell_type": "markdown",
   "id": "fbff1854",
   "metadata": {},
   "source": [
    "### Looking at changing depth"
   ]
  },
  {
   "cell_type": "code",
   "execution_count": null,
   "id": "da9beff6",
   "metadata": {},
   "outputs": [],
   "source": [
    "for i in range(1, 21):\n",
    "    # Make the model\n",
    "    tree = DecisionTreeClassifier(max_depth=i, random_state=123)\n",
    "\n",
    "    # Fit the model (on train and only train)\n",
    "    tree = tree.fit(X_train, y_train)\n",
    "\n",
    "    # Use the model\n",
    "    # We'll evaluate the model's performance on train, first\n",
    "    y_predictions = tree.predict(X_train)\n",
    "\n",
    "    # Produce the classification report on the actual y values and this model's predicted y values\n",
    "    report = classification_report(y_train, y_predictions, output_dict=True)\n",
    "    print(f\"Tree with max depth of {i}\")\n",
    "    print(pd.DataFrame(report))\n",
    "    print()"
   ]
  },
  {
   "cell_type": "markdown",
   "id": "1f324a81",
   "metadata": {},
   "source": [
    "### Comparing in-sample to out of sample performance"
   ]
  },
  {
   "cell_type": "code",
   "execution_count": null,
   "id": "06a77dee",
   "metadata": {},
   "outputs": [],
   "source": [
    "# Let's continue getting loopy, so we can compare in-sample to out-of-sample\n",
    "metrics = []\n",
    "\n",
    "for i in range(1, 25):\n",
    "    # Make the model\n",
    "    tree = DecisionTreeClassifier(max_depth=i, random_state=123)\n",
    "\n",
    "    # Fit the model (on train and only train)\n",
    "    tree = tree.fit(X_train, y_train)\n",
    "\n",
    "    # Use the model\n",
    "    # We'll evaluate the model's performance on train, first\n",
    "    in_sample_accuracy = tree.score(X_train, y_train)\n",
    "    \n",
    "    out_of_sample_accuracy = tree.score(X_validate, y_validate)\n",
    "\n",
    "    output = {\n",
    "        \"max_depth\": i,\n",
    "        \"train_accuracy\": in_sample_accuracy,\n",
    "        \"validate_accuracy\": out_of_sample_accuracy\n",
    "    }\n",
    "    \n",
    "    metrics.append(output)\n",
    "    \n",
    "df = pd.DataFrame(metrics)\n",
    "df[\"difference\"] = df.train_accuracy - df.validate_accuracy\n",
    "df"
   ]
  },
  {
   "cell_type": "code",
   "execution_count": null,
   "id": "33d4da6d",
   "metadata": {},
   "outputs": [],
   "source": [
    "plt.figure(figsize=(12, 6))\n",
    "plt.plot(df.max_depth, df.train_accuracy, marker = 'o', label = 'Train')\n",
    "plt.plot(df.max_depth, df.validate_accuracy, marker = 'o', label = 'Validate')\n",
    "plt.title('Overfitting Occurs at Higher Values for Max Depth')\n",
    "plt.xlabel('Max Depth')\n",
    "plt.ylabel('Accuracy')\n",
    "plt.legend()\n",
    "plt.show()"
   ]
  },
  {
   "cell_type": "code",
   "execution_count": null,
   "id": "a8f2e96e",
   "metadata": {},
   "outputs": [],
   "source": [
    "df[df.difference <= 0.10].sort_values(by=['validate_accuracy', 'difference'], ascending = [False,True])"
   ]
  },
  {
   "cell_type": "markdown",
   "id": "569f0b0c",
   "metadata": {},
   "source": [
    "#### It appears that a depth of 3-5 would be the best to ensure closer performance on test/validate"
   ]
  },
  {
   "cell_type": "markdown",
   "id": "adb571f2",
   "metadata": {},
   "source": [
    "### Re-run decision tree with depth of 4"
   ]
  },
  {
   "cell_type": "code",
   "execution_count": null,
   "id": "f5ef6de8",
   "metadata": {},
   "outputs": [],
   "source": [
    "tree2 = DecisionTreeClassifier(max_depth=4, random_state=123)\n",
    "# model.fit(X, y)\n",
    "tree2.fit(X_train, y_train)\n",
    "y_pred = tree2.predict(X_train)\n",
    "actual = y_train"
   ]
  },
  {
   "cell_type": "code",
   "execution_count": null,
   "id": "0ae1f2e4",
   "metadata": {},
   "outputs": [],
   "source": [
    "y_pred_proba = tree2.predict_proba(X_train)\n",
    "y_pred_proba[0:5]"
   ]
  },
  {
   "cell_type": "code",
   "execution_count": null,
   "id": "d2bfb18f",
   "metadata": {},
   "outputs": [],
   "source": [
    "confusion_matrix(actual, y_pred)"
   ]
  },
  {
   "cell_type": "code",
   "execution_count": null,
   "id": "2a24ba3e",
   "metadata": {},
   "outputs": [],
   "source": [
    "# Classification report on the actual y values and this model's predicted y values\n",
    "report = classification_report(y_train, y_pred, output_dict=True)\n",
    "print(\"Tree of 4 depth\")\n",
    "pd.DataFrame(report)"
   ]
  },
  {
   "cell_type": "code",
   "execution_count": null,
   "id": "50d78520",
   "metadata": {},
   "outputs": [],
   "source": [
    "#Calculating TP, FP, FN, TP\n",
    "TN, FP, FN, TP = confusion_matrix(y_train, y_pred).ravel()\n",
    "TN, FP, FN, TP"
   ]
  },
  {
   "cell_type": "code",
   "execution_count": null,
   "id": "332eddce",
   "metadata": {},
   "outputs": [],
   "source": [
    "ALL = TP + FP + FN + TN\n",
    "\n",
    "accuracy = (TP + TN)/ALL\n",
    "true_positive_rate = sensitivity = recall = power = TP/(TP+FN)\n",
    "false_positive_rate = false_alarm_ratio = fallout = FP/(FP+TN)\n",
    "true_negative_rate = specificity = selectivity = TN/(TN+FP)\n",
    "false_negative_rate = miss_rate = FN/(FN+TP)\n",
    "precision = PPV = TP/(TP+FP)\n",
    "f1_score = 2*(precision*recall)/(precision+recall)\n",
    "support_pos = TP + FN\n",
    "support_neg = FP + TN\n",
    "\n",
    "print(f\"Accuracy: {accuracy}\", '\\n')\n",
    "print(f\"True Positive Rate/Sensitivity/Recall/Power: {true_positive_rate}\", '\\n')\n",
    "print(f\"False Positive Rate/False Alarm Ratio/Fall-out: {false_positive_rate}\", '\\n')\n",
    "print(f\"True Negative Rate/Specificity/Selectivity: {true_negative_rate}\", '\\n')\n",
    "print(f\"False Negative Rate/Miss Rate: {false_negative_rate}\", '\\n')\n",
    "print(f\"Precision/PPV: {precision}\", '\\n')\n",
    "print(f\"F1 Score: {f1_score}\", '\\n')\n",
    "print(f\"Support (0): {support_neg}\", '\\n')\n",
    "print(f\"Support (1): {support_pos}\")"
   ]
  },
  {
   "cell_type": "markdown",
   "id": "f9d3d3d6",
   "metadata": {},
   "source": [
    "#### Running against validate data"
   ]
  },
  {
   "cell_type": "code",
   "execution_count": null,
   "id": "a4c46dd7",
   "metadata": {},
   "outputs": [],
   "source": [
    "y_pred_validate = tree2.predict(X_validate)"
   ]
  },
  {
   "cell_type": "code",
   "execution_count": null,
   "id": "1938789d",
   "metadata": {},
   "outputs": [],
   "source": [
    "#Running on validate\n",
    "TN, FP, FN, TP = confusion_matrix(y_validate, y_pred_validate).ravel()\n",
    "TN, FP, FN, TP"
   ]
  },
  {
   "cell_type": "code",
   "execution_count": null,
   "id": "548b13b3",
   "metadata": {},
   "outputs": [],
   "source": [
    "ALL = TP + FP + FN + TN\n",
    "\n",
    "accuracy = (TP + TN)/ALL\n",
    "true_positive_rate = sensitivity = recall = power = TP/(TP+FN)\n",
    "false_positive_rate = false_alarm_ratio = fallout = FP/(FP+TN)\n",
    "true_negative_rate = specificity = selectivity = TN/(TN+FP)\n",
    "false_negative_rate = miss_rate = FN/(FN+TP)\n",
    "precision = PPV = TP/(TP+FP)\n",
    "f1_score = 2*(precision*recall)/(precision+recall)\n",
    "support_pos = TP + FN\n",
    "support_neg = FP + TN\n",
    "\n",
    "print(f\"Accuracy: {accuracy}\", '\\n')\n",
    "print(f\"True Positive Rate/Sensitivity/Recall/Power: {true_positive_rate}\", '\\n')\n",
    "print(f\"False Positive Rate/False Alarm Ratio/Fall-out: {false_positive_rate}\", '\\n')\n",
    "print(f\"True Negative Rate/Specificity/Selectivity: {true_negative_rate}\", '\\n')\n",
    "print(f\"False Negative Rate/Miss Rate: {false_negative_rate}\", '\\n')\n",
    "print(f\"Precision/PPV: {precision}\", '\\n')\n",
    "print(f\"F1 Score: {f1_score}\", '\\n')\n",
    "print(f\"Support (0): {support_neg}\", '\\n')\n",
    "print(f\"Support (1): {support_pos}\")"
   ]
  },
  {
   "cell_type": "markdown",
   "id": "4a13dafb",
   "metadata": {},
   "source": [
    "#### I will use decision tree model with depth of 3, it has a slightly lower accuracy than four, and a small difference in accuracy between training and validate data. It also has a higher recall rate (0.61) than tree model with depth of 4."
   ]
  },
  {
   "cell_type": "markdown",
   "id": "6cf720d3",
   "metadata": {},
   "source": [
    "## Random Forest Modeling"
   ]
  },
  {
   "cell_type": "code",
   "execution_count": null,
   "id": "efb86492",
   "metadata": {},
   "outputs": [],
   "source": [
    "rf = RandomForestClassifier(bootstrap=True, \n",
    "                            class_weight=None, \n",
    "                            criterion='gini',\n",
    "                            min_samples_leaf=3,\n",
    "                            n_estimators=100,\n",
    "                            max_depth=3, \n",
    "                            random_state=123)"
   ]
  },
  {
   "cell_type": "code",
   "execution_count": null,
   "id": "1335dbc7",
   "metadata": {},
   "outputs": [],
   "source": [
    "#fit the model, max depth 3, min sample leaf 3\n",
    "rf.fit(X_train, y_train)"
   ]
  },
  {
   "cell_type": "code",
   "execution_count": null,
   "id": "9d775601",
   "metadata": {},
   "outputs": [],
   "source": [
    "# Evaluate importance, or weight, of each feature.\n",
    "print(rf.feature_importances_)"
   ]
  },
  {
   "cell_type": "code",
   "execution_count": null,
   "id": "300580ac",
   "metadata": {},
   "outputs": [],
   "source": [
    "#Visualize feature importance\n",
    "plt.bar(X_train.columns, rf.feature_importances_)\n",
    "plt.show()"
   ]
  },
  {
   "cell_type": "code",
   "execution_count": null,
   "id": "c69ba297",
   "metadata": {},
   "outputs": [],
   "source": [
    "#interpret feature weight\n",
    "X_train.head()"
   ]
  },
  {
   "cell_type": "code",
   "execution_count": null,
   "id": "1bd628fd",
   "metadata": {},
   "outputs": [],
   "source": [
    "#Make predictions\n",
    "y_pred = rf.predict(X_train)"
   ]
  },
  {
   "cell_type": "code",
   "execution_count": null,
   "id": "2cb307ed",
   "metadata": {},
   "outputs": [],
   "source": [
    "#Estimate Probability\n",
    "y_pred_proba = rf.predict_proba(X_train)"
   ]
  },
  {
   "cell_type": "markdown",
   "id": "b6e953ca",
   "metadata": {},
   "source": [
    "### Evaluate model performance on training data"
   ]
  },
  {
   "cell_type": "code",
   "execution_count": null,
   "id": "5082a8e0",
   "metadata": {},
   "outputs": [],
   "source": [
    "#Evaluate model performance\n",
    "print('Accuracy of random forest classifier on training set: {:.2f}'\n",
    "     .format(rf.score(X_train, y_train)))"
   ]
  },
  {
   "cell_type": "code",
   "execution_count": null,
   "id": "42787014",
   "metadata": {},
   "outputs": [],
   "source": [
    "rf.score(X_train, y_train)"
   ]
  },
  {
   "cell_type": "code",
   "execution_count": null,
   "id": "472e06a6",
   "metadata": {},
   "outputs": [],
   "source": [
    "cm = confusion_matrix(y_train, y_pred)\n",
    "print(cm)"
   ]
  },
  {
   "cell_type": "code",
   "execution_count": null,
   "id": "5c0eb18d",
   "metadata": {},
   "outputs": [],
   "source": [
    "disp = ConfusionMatrixDisplay(confusion_matrix=cm, display_labels=rf.classes_)\n",
    "\n",
    "disp.plot()\n",
    "plt.show()"
   ]
  },
  {
   "cell_type": "code",
   "execution_count": null,
   "id": "48b2c132",
   "metadata": {},
   "outputs": [],
   "source": [
    "print(classification_report(y_train, y_pred))"
   ]
  },
  {
   "cell_type": "code",
   "execution_count": null,
   "id": "94878c8e",
   "metadata": {},
   "outputs": [],
   "source": [
    "TN, FP, FN, TP = confusion_matrix(y_train,y_pred).ravel()\n",
    "ALL = TP + TN + FP + FN\n",
    "\n",
    "TP, TN, FP, FN, ALL"
   ]
  },
  {
   "cell_type": "code",
   "execution_count": null,
   "id": "c8036c6a",
   "metadata": {},
   "outputs": [],
   "source": [
    "accuracy = (TP + TN)/ALL\n",
    "print(f\"Accuracy: {accuracy}\")\n",
    "\n",
    "true_positive_rate = TP/(TP+FN)\n",
    "print(f\"True Positive Rate: {true_positive_rate}\")\n",
    "\n",
    "false_positive_rate = FP/(FP+TN)\n",
    "print(f\"False Positive Rate: {false_positive_rate}\")\n",
    "\n",
    "true_negative_rate = TN/(TN+FP)\n",
    "print(f\"True Negative Rate: {true_negative_rate}\")\n",
    "\n",
    "false_negative_rate = FN/(FN+TP)\n",
    "print(f\"False Negative Rate: {false_negative_rate}\")\n",
    "\n",
    "precision = TP/(TP+FP)\n",
    "print(f\"Precision: {precision}\")\n",
    "\n",
    "recall = TP/(TP+FN)\n",
    "print(f\"Recall: {recall}\")\n",
    "\n",
    "f1_score = 2*(precision*recall)/(precision+recall)\n",
    "print(f\"F1 Score: {f1_score}\")\n",
    "\n",
    "support_pos = TP + FN\n",
    "print(f\"Support (0): {support_pos}\")\n",
    "\n",
    "support_neg = FP + TN\n",
    "print(f\"Support (1): {support_neg}\")"
   ]
  },
  {
   "cell_type": "markdown",
   "id": "0fe419f7",
   "metadata": {},
   "source": [
    "### Comparing in-sample to out of sample performance (evaluate on validate data)"
   ]
  },
  {
   "cell_type": "code",
   "execution_count": null,
   "id": "cf780fdb",
   "metadata": {},
   "outputs": [],
   "source": [
    "rf.score(X_validate, y_validate)"
   ]
  },
  {
   "cell_type": "code",
   "execution_count": null,
   "id": "83fb490d",
   "metadata": {},
   "outputs": [],
   "source": [
    "print('Accuracy of random forest classifier on validate set: {:.2f}'\n",
    "     .format(rf.score(X_validate, y_validate)))"
   ]
  },
  {
   "cell_type": "code",
   "execution_count": null,
   "id": "0d907520",
   "metadata": {},
   "outputs": [],
   "source": [
    "y_pred_validate = tree2.predict(X_validate)"
   ]
  },
  {
   "cell_type": "code",
   "execution_count": null,
   "id": "dbac1d79",
   "metadata": {},
   "outputs": [],
   "source": [
    "TN, FP, FN, TP = confusion_matrix(y_validate,y_pred_validate).ravel()\n",
    "ALL = TP + TN + FP + FN\n",
    "\n",
    "TP, TN, FP, FN, ALL"
   ]
  },
  {
   "cell_type": "code",
   "execution_count": null,
   "id": "792910db",
   "metadata": {},
   "outputs": [],
   "source": [
    "accuracy = (TP + TN)/ALL\n",
    "print(f\"Accuracy: {accuracy}\")\n",
    "\n",
    "true_positive_rate = TP/(TP+FN)\n",
    "print(f\"True Positive Rate: {true_positive_rate}\")\n",
    "\n",
    "false_positive_rate = FP/(FP+TN)\n",
    "print(f\"False Positive Rate: {false_positive_rate}\")\n",
    "\n",
    "true_negative_rate = TN/(TN+FP)\n",
    "print(f\"True Negative Rate: {true_negative_rate}\")\n",
    "\n",
    "false_negative_rate = FN/(FN+TP)\n",
    "print(f\"False Negative Rate: {false_negative_rate}\")\n",
    "\n",
    "precision = TP/(TP+FP)\n",
    "print(f\"Precision: {precision}\")\n",
    "\n",
    "recall = TP/(TP+FN)\n",
    "print(f\"Recall: {recall}\")\n",
    "\n",
    "f1_score = 2*(precision*recall)/(precision+recall)\n",
    "print(f\"F1 Score: {f1_score}\")\n",
    "\n",
    "support_pos = TP + FN\n",
    "print(f\"Support (0): {support_pos}\")\n",
    "\n",
    "support_neg = FP + TN\n",
    "print(f\"Support (1): {support_neg}\")"
   ]
  },
  {
   "cell_type": "markdown",
   "id": "2a42cd60",
   "metadata": {},
   "source": [
    "### Comparing accuracy of different depths"
   ]
  },
  {
   "cell_type": "code",
   "execution_count": null,
   "id": "3628fbb5",
   "metadata": {},
   "outputs": [],
   "source": [
    "for i in range(2, 11):\n",
    "    # Make the model\n",
    "    forest = RandomForestClassifier(max_depth=i, random_state=123)\n",
    "\n",
    "    # Fit the model (on train and only train)\n",
    "    forest = forest.fit(X_train, y_train)\n",
    "\n",
    "    # Use the model\n",
    "    # We'll evaluate the model's performance on train, first\n",
    "    y_predictions = forest.predict(X_train)\n",
    "\n",
    "    # Produce the classification report on the actual y values and this model's predicted y values\n",
    "    report = classification_report(y_train, y_predictions, output_dict=True)\n",
    "    print(f\"Tree with max depth of {i}\")\n",
    "    print(pd.DataFrame(report))\n",
    "    print()"
   ]
  },
  {
   "cell_type": "code",
   "execution_count": null,
   "id": "f7ecd71b",
   "metadata": {},
   "outputs": [],
   "source": [
    "# Let's continue getting loopy, so we can compare in-sample to out-of-sample\n",
    "metrics = []\n",
    "\n",
    "for i in range(2, 25):\n",
    "    # Make the model\n",
    "    forest = RandomForestClassifier(max_depth=i, random_state=123)\n",
    "\n",
    "    # Fit the model (on train and only train)\n",
    "    forest = forest.fit(X_train, y_train)\n",
    "\n",
    "    # Use the model\n",
    "    # We'll evaluate the model's performance on train, first then check validate\n",
    "    in_sample_accuracy = forest.score(X_train, y_train)\n",
    "    \n",
    "    out_of_sample_accuracy = forest.score(X_validate, y_validate)\n",
    "\n",
    "    output = {\n",
    "        \"max_depth\": i,\n",
    "        \"train_accuracy\": in_sample_accuracy,\n",
    "        \"validate_accuracy\": out_of_sample_accuracy\n",
    "    }\n",
    "    \n",
    "    metrics.append(output)\n",
    "    \n",
    "df = pd.DataFrame(metrics)\n",
    "df[\"difference\"] = df.train_accuracy - df.validate_accuracy\n",
    "df"
   ]
  },
  {
   "cell_type": "markdown",
   "id": "ebd31aa8",
   "metadata": {},
   "source": [
    "### Looking at increasing min samples of leaf while decreasing max depth"
   ]
  },
  {
   "cell_type": "code",
   "execution_count": null,
   "id": "0e1ffa3a",
   "metadata": {},
   "outputs": [],
   "source": [
    "# Let's continue getting loopy, so we can compare in-sample to out-of-sample\n",
    "metrics = []\n",
    "max_depth = 20\n",
    "\n",
    "for i in range(2, max_depth):\n",
    "    # Make the model\n",
    "    depth = max_depth - i\n",
    "    n_samples = i\n",
    "    forest = RandomForestClassifier(max_depth=depth, min_samples_leaf=n_samples, random_state=123)\n",
    "\n",
    "    # Fit the model (on train and only train)\n",
    "    forest = forest.fit(X_train, y_train)\n",
    "\n",
    "    # Use the model\n",
    "    # We'll evaluate the model's performance on train, first\n",
    "    in_sample_accuracy = forest.score(X_train, y_train)\n",
    "    \n",
    "    out_of_sample_accuracy = forest.score(X_validate, y_validate)\n",
    "\n",
    "    output = {\n",
    "        \"min_samples_per_leaf\": n_samples,\n",
    "        \"max_depth\": depth,\n",
    "        \"train_accuracy\": in_sample_accuracy,\n",
    "        \"validate_accuracy\": out_of_sample_accuracy\n",
    "    }\n",
    "    \n",
    "    metrics.append(output)\n",
    "    \n",
    "df = pd.DataFrame(metrics)\n",
    "df[\"difference\"] = df.train_accuracy - df.validate_accuracy\n",
    "df"
   ]
  },
  {
   "cell_type": "code",
   "execution_count": null,
   "id": "7db8f8bd",
   "metadata": {},
   "outputs": [],
   "source": [
    "df.set_index('max_depth')[['train_accuracy', 'validate_accuracy','difference']].plot(figsize = (16,9))\n",
    "plt.ylabel('Accuracy')\n",
    "plt.xticks(np.arange(0,21,1))\n",
    "plt.grid()"
   ]
  },
  {
   "cell_type": "markdown",
   "id": "d4dd7324",
   "metadata": {},
   "source": [
    "### increase both min_samples_per_leaf and max_depth"
   ]
  },
  {
   "cell_type": "code",
   "execution_count": null,
   "id": "c525a83d",
   "metadata": {},
   "outputs": [],
   "source": [
    "# Let's continue getting loopy, so we can compare in-sample to out-of-sample\n",
    "metrics = []\n",
    "max_depth = 20\n",
    "\n",
    "for i in range(2, max_depth):\n",
    "    # Make the model\n",
    "    depth = i\n",
    "    n_samples = i\n",
    "    forest = RandomForestClassifier(max_depth=depth, min_samples_leaf=n_samples, random_state=123)\n",
    "\n",
    "    # Fit the model (on train and only train)\n",
    "    forest = forest.fit(X_train, y_train)\n",
    "\n",
    "    # Use the model\n",
    "    # We'll evaluate the model's performance on train, first\n",
    "    in_sample_accuracy = forest.score(X_train, y_train)\n",
    "    \n",
    "    out_of_sample_accuracy = forest.score(X_validate, y_validate)\n",
    "\n",
    "    output = {\n",
    "        \"min_samples_per_leaf\": n_samples,\n",
    "        \"max_depth\": depth,\n",
    "        \"train_accuracy\": in_sample_accuracy,\n",
    "        \"validate_accuracy\": out_of_sample_accuracy\n",
    "    }\n",
    "    \n",
    "    metrics.append(output)\n",
    "    \n",
    "df = pd.DataFrame(metrics)\n",
    "df[\"difference\"] = df.train_accuracy - df.validate_accuracy\n",
    "df"
   ]
  },
  {
   "cell_type": "code",
   "execution_count": null,
   "id": "3a1587de",
   "metadata": {},
   "outputs": [],
   "source": [
    "df[['train_accuracy', 'validate_accuracy','difference']].plot(figsize = (16,9))\n",
    "plt.grid()"
   ]
  },
  {
   "cell_type": "markdown",
   "id": "e88ab23f",
   "metadata": {},
   "source": [
    "### fixed depth and increasing min_samples_leaf"
   ]
  },
  {
   "cell_type": "code",
   "execution_count": null,
   "id": "a1429e8b",
   "metadata": {},
   "outputs": [],
   "source": [
    "metrics = []\n",
    "\n",
    "\n",
    "for i in range(2, 50):\n",
    "    # Make the model\n",
    "    depth = 6\n",
    "    n_samples = i\n",
    "    forest = RandomForestClassifier(max_depth=depth, min_samples_leaf=n_samples, random_state=123)\n",
    "\n",
    "    # Fit the model (on train and only train)\n",
    "    forest = forest.fit(X_train, y_train)\n",
    "\n",
    "    # Use the model\n",
    "    # We'll evaluate the model's performance on train, first\n",
    "    in_sample_accuracy = forest.score(X_train, y_train)\n",
    "    \n",
    "    out_of_sample_accuracy = forest.score(X_validate, y_validate)\n",
    "\n",
    "    output = {\n",
    "        \"min_samples_per_leaf\": n_samples,\n",
    "        \"max_depth\": depth,\n",
    "        \"train_accuracy\": in_sample_accuracy,\n",
    "        \"validate_accuracy\": out_of_sample_accuracy\n",
    "    }\n",
    "    \n",
    "    metrics.append(output)\n",
    "    \n",
    "df = pd.DataFrame(metrics)\n",
    "df[\"difference\"] = df.train_accuracy - df.validate_accuracy\n",
    "df"
   ]
  },
  {
   "cell_type": "code",
   "execution_count": null,
   "id": "f21dd2ca",
   "metadata": {},
   "outputs": [],
   "source": [
    "df.set_index('min_samples_per_leaf')[['train_accuracy', 'validate_accuracy', 'difference']].plot(figsize = (16,9))\n",
    "plt.ylabel('Accuracy')\n",
    "plt.xticks(np.arange(0,50,5))\n",
    "plt.grid()"
   ]
  },
  {
   "cell_type": "markdown",
   "id": "76dac429",
   "metadata": {},
   "source": [
    "### Going to rerun  random forest modeling with max depth of 5, min samples leaf of 5"
   ]
  },
  {
   "cell_type": "code",
   "execution_count": null,
   "id": "084d6e11",
   "metadata": {},
   "outputs": [],
   "source": [
    "rf5 = RandomForestClassifier(bootstrap=True, \n",
    "                            class_weight=None, \n",
    "                            criterion='gini',\n",
    "                            min_samples_leaf=5,\n",
    "                            n_estimators=100,\n",
    "                            max_depth=5, \n",
    "                            random_state=123)"
   ]
  },
  {
   "cell_type": "code",
   "execution_count": null,
   "id": "aa0472ed",
   "metadata": {},
   "outputs": [],
   "source": [
    "#fit the model, max depth 5, min sample leaf 5\n",
    "rf5.fit(X_train, y_train)"
   ]
  },
  {
   "cell_type": "code",
   "execution_count": null,
   "id": "8a4429c1",
   "metadata": {},
   "outputs": [],
   "source": [
    "# Evaluate importance, or weight, of each feature.\n",
    "print(rf5.feature_importances_)"
   ]
  },
  {
   "cell_type": "code",
   "execution_count": null,
   "id": "d8bf3b68",
   "metadata": {},
   "outputs": [],
   "source": [
    "#Visualize feature importance\n",
    "plt.bar(X_train.columns, rf.feature_importances_)\n",
    "plt.show()"
   ]
  },
  {
   "cell_type": "code",
   "execution_count": null,
   "id": "bdb00578",
   "metadata": {},
   "outputs": [],
   "source": [
    "#Make predictions\n",
    "y_pred = rf5.predict(X_train)"
   ]
  },
  {
   "cell_type": "code",
   "execution_count": null,
   "id": "b3a35c68",
   "metadata": {},
   "outputs": [],
   "source": [
    "#Estimate Probability\n",
    "y_pred_proba = rf5.predict_proba(X_train)"
   ]
  },
  {
   "cell_type": "markdown",
   "id": "93db264a",
   "metadata": {},
   "source": [
    "### Evaluate performance of rf model (5,5) on training data"
   ]
  },
  {
   "cell_type": "code",
   "execution_count": null,
   "id": "41e09f07",
   "metadata": {},
   "outputs": [],
   "source": [
    "#Evaluate model performance\n",
    "print('Accuracy of random forest classifier on training set: {:.2f}'\n",
    "     .format(rf5.score(X_train, y_train)))"
   ]
  },
  {
   "cell_type": "code",
   "execution_count": null,
   "id": "0f650e0c",
   "metadata": {},
   "outputs": [],
   "source": [
    "cm = confusion_matrix(y_train, y_pred)\n",
    "print(cm)"
   ]
  },
  {
   "cell_type": "code",
   "execution_count": null,
   "id": "128cbe5d",
   "metadata": {},
   "outputs": [],
   "source": [
    "disp = ConfusionMatrixDisplay(confusion_matrix=cm, display_labels=rf5.classes_)\n",
    "\n",
    "disp.plot()\n",
    "plt.show()"
   ]
  },
  {
   "cell_type": "code",
   "execution_count": null,
   "id": "96eaab05",
   "metadata": {},
   "outputs": [],
   "source": [
    "print(classification_report(y_train, y_pred))"
   ]
  },
  {
   "cell_type": "code",
   "execution_count": null,
   "id": "03362569",
   "metadata": {},
   "outputs": [],
   "source": [
    "TN, FP, FN, TP = confusion_matrix(y_train,y_pred).ravel()\n",
    "ALL = TP + TN + FP + FN\n",
    "\n",
    "TP, TN, FP, FN, ALL"
   ]
  },
  {
   "cell_type": "code",
   "execution_count": null,
   "id": "7e888df3",
   "metadata": {},
   "outputs": [],
   "source": [
    "accuracy = (TP + TN)/ALL\n",
    "print(f\"Accuracy: {accuracy}\")\n",
    "\n",
    "true_positive_rate = TP/(TP+FN)\n",
    "print(f\"True Positive Rate: {true_positive_rate}\")\n",
    "\n",
    "false_positive_rate = FP/(FP+TN)\n",
    "print(f\"False Positive Rate: {false_positive_rate}\")\n",
    "\n",
    "true_negative_rate = TN/(TN+FP)\n",
    "print(f\"True Negative Rate: {true_negative_rate}\")\n",
    "\n",
    "false_negative_rate = FN/(FN+TP)\n",
    "print(f\"False Negative Rate: {false_negative_rate}\")\n",
    "\n",
    "precision = TP/(TP+FP)\n",
    "print(f\"Precision: {precision}\")\n",
    "\n",
    "recall = TP/(TP+FN)\n",
    "print(f\"Recall: {recall}\")\n",
    "\n",
    "f1_score = 2*(precision*recall)/(precision+recall)\n",
    "print(f\"F1 Score: {f1_score}\")\n",
    "\n",
    "support_pos = TP + FN\n",
    "print(f\"Support (0): {support_pos}\")\n",
    "\n",
    "support_neg = FP + TN\n",
    "print(f\"Support (1): {support_neg}\")"
   ]
  },
  {
   "cell_type": "markdown",
   "id": "f9e87b31",
   "metadata": {},
   "source": [
    "#### Performance of RF model (5,5) on validate data"
   ]
  },
  {
   "cell_type": "code",
   "execution_count": null,
   "id": "0f68a8b8",
   "metadata": {},
   "outputs": [],
   "source": [
    "print('Accuracy of random forest classifier on validate set: {:.2f}'\n",
    "     .format(rf5.score(X_validate, y_validate)))"
   ]
  },
  {
   "cell_type": "code",
   "execution_count": null,
   "id": "63eeb2ed",
   "metadata": {},
   "outputs": [],
   "source": [
    "y_pred_validate = tree2.predict(X_validate)"
   ]
  },
  {
   "cell_type": "code",
   "execution_count": null,
   "id": "89ba2d59",
   "metadata": {},
   "outputs": [],
   "source": [
    "TN, FP, FN, TP = confusion_matrix(y_validate,y_pred_validate).ravel()\n",
    "ALL = TP + TN + FP + FN\n",
    "\n",
    "TP, TN, FP, FN, ALL"
   ]
  },
  {
   "cell_type": "code",
   "execution_count": null,
   "id": "7344b561",
   "metadata": {},
   "outputs": [],
   "source": [
    "accuracy = (TP + TN)/ALL\n",
    "print(f\"Accuracy: {accuracy}\")\n",
    "\n",
    "true_positive_rate = TP/(TP+FN)\n",
    "print(f\"True Positive Rate: {true_positive_rate}\")\n",
    "\n",
    "false_positive_rate = FP/(FP+TN)\n",
    "print(f\"False Positive Rate: {false_positive_rate}\")\n",
    "\n",
    "true_negative_rate = TN/(TN+FP)\n",
    "print(f\"True Negative Rate: {true_negative_rate}\")\n",
    "\n",
    "false_negative_rate = FN/(FN+TP)\n",
    "print(f\"False Negative Rate: {false_negative_rate}\")\n",
    "\n",
    "precision = TP/(TP+FP)\n",
    "print(f\"Precision: {precision}\")\n",
    "\n",
    "recall = TP/(TP+FN)\n",
    "print(f\"Recall: {recall}\")\n",
    "\n",
    "f1_score = 2*(precision*recall)/(precision+recall)\n",
    "print(f\"F1 Score: {f1_score}\")\n",
    "\n",
    "support_pos = TP + FN\n",
    "print(f\"Support (0): {support_pos}\")\n",
    "\n",
    "support_neg = FP + TN\n",
    "print(f\"Support (1): {support_neg}\")"
   ]
  },
  {
   "cell_type": "markdown",
   "id": "530f9b9c",
   "metadata": {},
   "source": [
    "### Conclusion for RF modeling: our best model is 76 percent accurate on training and validation data, about the same as decision tree. Recall (0.52) and precision (0.52)"
   ]
  },
  {
   "cell_type": "markdown",
   "id": "21128115",
   "metadata": {},
   "source": [
    "## K Nearest Neighbor modeling"
   ]
  },
  {
   "cell_type": "code",
   "execution_count": null,
   "id": "80411eaa",
   "metadata": {},
   "outputs": [],
   "source": [
    "#Starting with basic model, 5 neighbors\n",
    "# weights = ['uniform', 'density']\n",
    "knn = KNeighborsClassifier(n_neighbors=5, weights='uniform')"
   ]
  },
  {
   "cell_type": "code",
   "execution_count": null,
   "id": "a128d495",
   "metadata": {},
   "outputs": [],
   "source": [
    "#fitting the model\n",
    "knn.fit(X_train, y_train)"
   ]
  },
  {
   "cell_type": "code",
   "execution_count": null,
   "id": "fecdd40f",
   "metadata": {},
   "outputs": [],
   "source": [
    "#Making predictions\n",
    "y_pred = knn.predict(X_train)"
   ]
  },
  {
   "cell_type": "code",
   "execution_count": null,
   "id": "fd7262e3",
   "metadata": {},
   "outputs": [],
   "source": [
    "#Estimating probability\n",
    "y_pred_proba = knn.predict_proba(X_train)"
   ]
  },
  {
   "cell_type": "code",
   "execution_count": null,
   "id": "0804c772",
   "metadata": {},
   "outputs": [],
   "source": [
    "#Accuracy\n",
    "print('Accuracy of KNN classifier on training set: {:.2f}'\n",
    "     .format(knn.score(X_train, y_train)))"
   ]
  },
  {
   "cell_type": "code",
   "execution_count": null,
   "id": "b62562fa",
   "metadata": {},
   "outputs": [],
   "source": [
    "#Confusion Matrix\n",
    "print(confusion_matrix(y_train, y_pred))"
   ]
  },
  {
   "cell_type": "code",
   "execution_count": null,
   "id": "f396e572",
   "metadata": {},
   "outputs": [],
   "source": [
    "#Classification Report\n",
    "print(classification_report(y_train, y_pred))"
   ]
  },
  {
   "cell_type": "code",
   "execution_count": null,
   "id": "fcdf7432",
   "metadata": {},
   "outputs": [],
   "source": [
    "TN, FP, FN, TP = confusion_matrix(y_train, y_pred).ravel()"
   ]
  },
  {
   "cell_type": "code",
   "execution_count": null,
   "id": "60042b4e",
   "metadata": {},
   "outputs": [],
   "source": [
    "ALL = TP + TN + FP + FN\n",
    "\n",
    "accuracy = (TP + TN)/ALL\n",
    "print(f\"Accuracy: {accuracy}\")\n",
    "\n",
    "true_positive_rate = TP/(TP+FN)\n",
    "print(f\"True Positive Rate: {true_positive_rate}\")\n",
    "\n",
    "false_positive_rate = FP/(FP+TN)\n",
    "print(f\"False Positive Rate: {false_positive_rate}\")\n",
    "\n",
    "true_negative_rate = TN/(TN+FP)\n",
    "print(f\"True Negative Rate: {true_negative_rate}\")\n",
    "\n",
    "false_negative_rate = FN/(FN+TP)\n",
    "print(f\"False Negative Rate: {false_negative_rate}\")\n",
    "\n",
    "precision = TP/(TP+FP)\n",
    "print(f\"Precision: {precision}\")\n",
    "\n",
    "recall = TP/(TP+FN)\n",
    "print(f\"Recall: {recall}\")\n",
    "\n",
    "f1_score = 2*(precision*recall)/(precision+recall)\n",
    "print(f\"F1 Score: {f1_score}\")\n",
    "\n",
    "support_pos = TP + FN\n",
    "print(f\"Support (0): {support_pos}\")\n",
    "\n",
    "support_neg = FP + TN\n",
    "print(f\"Support (1): {support_neg}\")"
   ]
  },
  {
   "cell_type": "markdown",
   "id": "36ce5076",
   "metadata": {},
   "source": [
    "#### Performance on Validate"
   ]
  },
  {
   "cell_type": "code",
   "execution_count": null,
   "id": "0a2c1874",
   "metadata": {},
   "outputs": [],
   "source": [
    "print('Accuracy of KNN classifier on validate set: {:.2f}'\n",
    "     .format(knn.score(X_validate, y_validate)))"
   ]
  },
  {
   "cell_type": "code",
   "execution_count": null,
   "id": "2d57ea40",
   "metadata": {},
   "outputs": [],
   "source": [
    "import matplotlib.pyplot as plt\n",
    "k_range = range(1, 20)\n",
    "scores = []\n",
    "for k in k_range:\n",
    "    knn = KNeighborsClassifier(n_neighbors = k)\n",
    "    knn.fit(X_train, y_train)\n",
    "    scores.append(knn.score(X_test, y_test))\n",
    "plt.figure()\n",
    "plt.xlabel('k')\n",
    "plt.ylabel('accuracy')\n",
    "plt.scatter(k_range, scores)\n",
    "plt.xticks([0,5,10,15,20])\n",
    "plt.show()"
   ]
  },
  {
   "cell_type": "code",
   "execution_count": null,
   "id": "8c53e829",
   "metadata": {},
   "outputs": [],
   "source": [
    "# iteration to look at different model accuracies:\n",
    "model_set = []\n",
    "model_accuracies = {}\n",
    "for i in range(1,21):\n",
    "    clf = KNeighborsClassifier(n_neighbors=i)\n",
    "    clf.fit(X_train, y_train)\n",
    "    model_set.append(clf)\n",
    "    model_accuracies[f'{i}_neighbors'] = {\n",
    "        'train_score': round(clf.score(X_train, y_train), 2),\n",
    "        'validate_score': round(clf.score(X_validate, y_validate), 2)}"
   ]
  },
  {
   "cell_type": "code",
   "execution_count": null,
   "id": "ad800254",
   "metadata": {},
   "outputs": [],
   "source": [
    "model_accuracies"
   ]
  },
  {
   "cell_type": "code",
   "execution_count": null,
   "id": "470cb30e",
   "metadata": {},
   "outputs": [],
   "source": [
    "#another iteration to look at best k score\n",
    "k_range = range(1, 20)\n",
    "train_scores = []\n",
    "validate_scores = []\n",
    "for k in k_range:\n",
    "    knn = KNeighborsClassifier(n_neighbors = k)\n",
    "    knn.fit(X_train, y_train)\n",
    "    train_scores.append(knn.score(X_train, y_train))\n",
    "    validate_scores.append(knn.score(X_validate, y_validate))\n",
    "plt.figure()\n",
    "plt.xlabel('k')\n",
    "plt.ylabel('accuracy')\n",
    "plt.plot(k_range, train_scores, label='Train')\n",
    "plt.plot(k_range, validate_scores, label='Validate')\n",
    "plt.legend()\n",
    "plt.xticks([0,5,10,15,20])\n",
    "plt.show()"
   ]
  },
  {
   "cell_type": "markdown",
   "id": "8365e520",
   "metadata": {},
   "source": [
    "### Attempting to look further into metrics of k=14"
   ]
  },
  {
   "cell_type": "code",
   "execution_count": null,
   "id": "71e91bd2",
   "metadata": {},
   "outputs": [],
   "source": [
    "#Running knn on 14\n",
    "knn14 = KNeighborsClassifier(n_neighbors=14, weights='uniform')\n",
    "#fitting the model\n",
    "knn14.fit(X_train, y_train)\n",
    "#Making predictions\n",
    "y_pred = knn14.predict(X_train)\n",
    "#Estimating probability\n",
    "y_pred_proba = knn14.predict_proba(X_train)\n",
    "#Accuracy\n",
    "print('Accuracy of KNN classifier on training set: {:.2f}'\n",
    "     .format(knn14.score(X_train, y_train)))"
   ]
  },
  {
   "cell_type": "code",
   "execution_count": null,
   "id": "a4f8902c",
   "metadata": {},
   "outputs": [],
   "source": [
    "#Confusion Matrix\n",
    "print(confusion_matrix(y_train, y_pred))"
   ]
  },
  {
   "cell_type": "code",
   "execution_count": null,
   "id": "3080c59d",
   "metadata": {},
   "outputs": [],
   "source": [
    "#Classification Report\n",
    "print(classification_report(y_train, y_pred))"
   ]
  },
  {
   "cell_type": "code",
   "execution_count": null,
   "id": "c92c03c8",
   "metadata": {},
   "outputs": [],
   "source": [
    "cm = confusion_matrix(y_train, y_pred)\n",
    "print(cm)"
   ]
  },
  {
   "cell_type": "code",
   "execution_count": null,
   "id": "ffb1c5ca",
   "metadata": {},
   "outputs": [],
   "source": [
    "#Plot confusion matrix\n",
    "plot_confusion_matrix(knn14, X_train, y_train)"
   ]
  },
  {
   "cell_type": "code",
   "execution_count": null,
   "id": "1b418f52",
   "metadata": {},
   "outputs": [],
   "source": [
    "TN, FP, FN, TP = confusion_matrix(y_train, y_pred).ravel() # Why is this line of code failing?"
   ]
  },
  {
   "cell_type": "code",
   "execution_count": null,
   "id": "58064873",
   "metadata": {},
   "outputs": [],
   "source": [
    "ALL = TP + TN + FP + FN\n",
    "\n",
    "TP, TN, FP, FN, ALL"
   ]
  },
  {
   "cell_type": "code",
   "execution_count": null,
   "id": "5218d4b2",
   "metadata": {},
   "outputs": [],
   "source": [
    "accuracy = (TP + TN)/ALL\n",
    "print(f\"Accuracy: {accuracy}\")\n",
    "\n",
    "true_positive_rate = TP/(TP+FN)\n",
    "print(f\"True Positive Rate: {true_positive_rate}\")\n",
    "\n",
    "false_positive_rate = FP/(FP+TN)\n",
    "print(f\"False Positive Rate: {false_positive_rate}\")\n",
    "\n",
    "true_negative_rate = TN/(TN+FP)\n",
    "print(f\"True Negative Rate: {true_negative_rate}\")\n",
    "\n",
    "false_negative_rate = FN/(FN+TP)\n",
    "print(f\"False Negative Rate: {false_negative_rate}\")\n",
    "\n",
    "precision = TP/(TP+FP)\n",
    "print(f\"Precision: {precision}\")\n",
    "\n",
    "recall = TP/(TP+FN)\n",
    "print(f\"Recall: {recall}\")\n",
    "\n",
    "f1_score = 2*(precision*recall)/(precision+recall)\n",
    "print(f\"F1 Score: {f1_score}\")\n",
    "\n",
    "support_pos = TP + FN\n",
    "print(f\"Support (0): {support_pos}\")\n",
    "\n",
    "support_neg = FP + TN\n",
    "print(f\"Support (1): {support_neg}\")"
   ]
  },
  {
   "cell_type": "code",
   "execution_count": null,
   "id": "fab5957f",
   "metadata": {},
   "outputs": [],
   "source": [
    "print('Accuracy of KNN (14) classifier on validate set: {:.2f}'\n",
    "     .format(knn14.score(X_validate, y_validate)))"
   ]
  },
  {
   "cell_type": "code",
   "execution_count": null,
   "id": "b139c760",
   "metadata": {},
   "outputs": [],
   "source": [
    "y_pred_validate = knn14.predict(X_validate)"
   ]
  },
  {
   "cell_type": "code",
   "execution_count": null,
   "id": "4d9ee9d2",
   "metadata": {},
   "outputs": [],
   "source": [
    "TN, FP, FN, TP = confusion_matrix(y_validate,y_pred_validate).ravel()\n",
    "ALL = TP + TN + FP + FN\n",
    "\n",
    "TP, TN, FP, FN, ALL"
   ]
  },
  {
   "cell_type": "code",
   "execution_count": null,
   "id": "53fc6550",
   "metadata": {},
   "outputs": [],
   "source": [
    "accuracy = (TP + TN)/ALL\n",
    "print(f\"Accuracy: {accuracy}\")\n",
    "\n",
    "true_positive_rate = TP/(TP+FN)\n",
    "print(f\"True Positive Rate: {true_positive_rate}\")\n",
    "\n",
    "false_positive_rate = FP/(FP+TN)\n",
    "print(f\"False Positive Rate: {false_positive_rate}\")\n",
    "\n",
    "true_negative_rate = TN/(TN+FP)\n",
    "print(f\"True Negative Rate: {true_negative_rate}\")\n",
    "\n",
    "false_negative_rate = FN/(FN+TP)\n",
    "print(f\"False Negative Rate: {false_negative_rate}\")\n",
    "\n",
    "precision = TP/(TP+FP)\n",
    "print(f\"Precision: {precision}\")\n",
    "\n",
    "recall = TP/(TP+FN)\n",
    "print(f\"Recall: {recall}\")\n",
    "\n",
    "f1_score = 2*(precision*recall)/(precision+recall)\n",
    "print(f\"F1 Score: {f1_score}\")\n",
    "\n",
    "support_pos = TP + FN\n",
    "print(f\"Support (0): {support_pos}\")\n",
    "\n",
    "support_neg = FP + TN\n",
    "print(f\"Support (1): {support_neg}\")"
   ]
  },
  {
   "cell_type": "markdown",
   "id": "0e4e699e",
   "metadata": {},
   "source": [
    "### Conclusion for KNN: a KNN model using 14 nearest neighbors produces an accuracy of .79 percent accuracy on training data, but only 0.75 accuracy on validate data. Additionally, this model produces a large (0.59) portion of False Negatives."
   ]
  },
  {
   "cell_type": "markdown",
   "id": "a949715b",
   "metadata": {},
   "source": [
    "## Regression Modeling"
   ]
  },
  {
   "cell_type": "code",
   "execution_count": null,
   "id": "34db72d3",
   "metadata": {},
   "outputs": [],
   "source": [
    "# Make the model, using defaults but lbfgs solver (could be default)\n",
    "logit = LogisticRegression(solver='lbfgs',random_state=123)"
   ]
  },
  {
   "cell_type": "code",
   "execution_count": null,
   "id": "0dfd38b3",
   "metadata": {},
   "outputs": [],
   "source": [
    "# fit the model on train data\n",
    "logit.fit(X_train, y_train)"
   ]
  },
  {
   "cell_type": "code",
   "execution_count": null,
   "id": "07192877",
   "metadata": {},
   "outputs": [],
   "source": [
    "# now use the model to make predictions\n",
    "y_pred = logit.predict(X_train)"
   ]
  },
  {
   "cell_type": "code",
   "execution_count": null,
   "id": "f50bfafb",
   "metadata": {},
   "outputs": [],
   "source": [
    "# look at predicted probabilites for first 10 observations\n",
    "logit.predict_proba(X_train)[:10]"
   ]
  },
  {
   "cell_type": "code",
   "execution_count": null,
   "id": "b84e71bd",
   "metadata": {},
   "outputs": [],
   "source": [
    "# classification report for training data\n",
    "print(classification_report(y_train, y_pred))"
   ]
  },
  {
   "cell_type": "code",
   "execution_count": null,
   "id": "e48eb984",
   "metadata": {},
   "outputs": [],
   "source": [
    "TN, FP, FN, TP = confusion_matrix(y_train, y_pred).ravel()"
   ]
  },
  {
   "cell_type": "code",
   "execution_count": null,
   "id": "f3fd2e91",
   "metadata": {},
   "outputs": [],
   "source": [
    "ALL = TP + TN + FP + FN\n",
    "\n",
    "TP, TN, FP, FN, ALL"
   ]
  },
  {
   "cell_type": "code",
   "execution_count": null,
   "id": "2050d8e7",
   "metadata": {},
   "outputs": [],
   "source": [
    "accuracy = (TP + TN)/ALL\n",
    "print(f\"Accuracy: {accuracy}\")\n",
    "\n",
    "true_positive_rate = TP/(TP+FN)\n",
    "print(f\"True Positive Rate: {true_positive_rate}\")\n",
    "\n",
    "false_positive_rate = FP/(FP+TN)\n",
    "print(f\"False Positive Rate: {false_positive_rate}\")\n",
    "\n",
    "true_negative_rate = TN/(TN+FP)\n",
    "print(f\"True Negative Rate: {true_negative_rate}\")\n",
    "\n",
    "false_negative_rate = FN/(FN+TP)\n",
    "print(f\"False Negative Rate: {false_negative_rate}\")\n",
    "\n",
    "precision = TP/(TP+FP)\n",
    "print(f\"Precision: {precision}\")\n",
    "\n",
    "recall = TP/(TP+FN)\n",
    "print(f\"Recall: {recall}\")\n",
    "\n",
    "f1_score = 2*(precision*recall)/(precision+recall)\n",
    "print(f\"F1 Score: {f1_score}\")\n",
    "\n",
    "support_pos = TP + FN\n",
    "print(f\"Support (0): {support_pos}\")\n",
    "\n",
    "support_neg = FP + TN\n",
    "print(f\"Support (1): {support_neg}\")"
   ]
  },
  {
   "cell_type": "code",
   "execution_count": null,
   "id": "e518ecdd",
   "metadata": {},
   "outputs": [],
   "source": [
    "# look at model 1 coefficents\n",
    " \n",
    "print('Coefficient: \\n', logit.coef_[0])"
   ]
  },
  {
   "cell_type": "code",
   "execution_count": null,
   "id": "f1c0bad9",
   "metadata": {},
   "outputs": [],
   "source": [
    "# Make a dataframe of model 1 coefficients and feature names\n",
    "\n",
    "log_coeffs = pd.DataFrame(logit.coef_[0], index = X_train.columns,\n",
    "                          columns = ['coeffs']).sort_values(by = 'coeffs', ascending = True)\n",
    "log_coeffs"
   ]
  },
  {
   "cell_type": "markdown",
   "id": "7849d680",
   "metadata": {},
   "source": [
    "#### Examining model 1 performance on validate data"
   ]
  },
  {
   "cell_type": "code",
   "execution_count": null,
   "id": "953d2ae6",
   "metadata": {},
   "outputs": [],
   "source": [
    "print('Logit model 1, default features, solver lbfgs')\n",
    "print(classification_report(y_validate, logit.predict(X_validate)))"
   ]
  },
  {
   "cell_type": "markdown",
   "id": "26ac3c1d",
   "metadata": {},
   "source": [
    "#### Making a second iteration of regression, but balancing class weights"
   ]
  },
  {
   "cell_type": "code",
   "execution_count": null,
   "id": "a267e98d",
   "metadata": {},
   "outputs": [],
   "source": [
    "#Making a second iteration of regression, but balancing class weights\n",
    "logit2 = LogisticRegression(solver='lbfgs', random_state=123, class_weight='balanced')\n",
    "\n",
    "logit2.fit(X_train, y_train)\n",
    "\n",
    "y_pred = logit2.predict(X_train)\n",
    "\n",
    "accuracy = logit2.score(X_train, y_train)\n",
    "\n",
    "print(\"All Features and we're setting the class_weight hyperparameter\")\n",
    "print(f'Accuracy of Logistic Regression classifier on training set: {accuracy:.2}')"
   ]
  },
  {
   "cell_type": "code",
   "execution_count": null,
   "id": "47f3a20c",
   "metadata": {},
   "outputs": [],
   "source": [
    "TN, FP, FN, TP = confusion_matrix(y_train, y_pred).ravel()\n",
    "ALL = TN + FP + FN + TP"
   ]
  },
  {
   "cell_type": "code",
   "execution_count": null,
   "id": "9ff406b2",
   "metadata": {},
   "outputs": [],
   "source": [
    "accuracy = (TP + TN)/ALL\n",
    "print(f\"Accuracy: {accuracy}\")\n",
    "\n",
    "true_positive_rate = TP/(TP+FN)\n",
    "print(f\"True Positive Rate: {true_positive_rate}\")\n",
    "\n",
    "false_positive_rate = FP/(FP+TN)\n",
    "print(f\"False Positive Rate: {false_positive_rate}\")\n",
    "\n",
    "true_negative_rate = TN/(TN+FP)\n",
    "print(f\"True Negative Rate: {true_negative_rate}\")\n",
    "\n",
    "false_negative_rate = FN/(FN+TP)\n",
    "print(f\"False Negative Rate: {false_negative_rate}\")\n",
    "\n",
    "precision = TP/(TP+FP)\n",
    "print(f\"Precision: {precision}\")\n",
    "\n",
    "recall = TP/(TP+FN)\n",
    "print(f\"Recall: {recall}\")\n",
    "\n",
    "f1_score = 2*(precision*recall)/(precision+recall)\n",
    "print(f\"F1 Score: {f1_score}\")\n",
    "\n",
    "support_pos = TP + FN\n",
    "print(f\"Support (0): {support_pos}\")\n",
    "\n",
    "support_neg = FP + TN\n",
    "print(f\"Support (1): {support_neg}\")"
   ]
  },
  {
   "cell_type": "markdown",
   "id": "3d0f99d7",
   "metadata": {},
   "source": [
    "#### Examining model 2 performance on validate data"
   ]
  },
  {
   "cell_type": "code",
   "execution_count": null,
   "id": "588ca7d5",
   "metadata": {},
   "outputs": [],
   "source": [
    "print('Logit model 2, balancing class weights, solver lbfgs')\n",
    "print(classification_report(y_validate, logit2.predict(X_validate)))"
   ]
  },
  {
   "cell_type": "markdown",
   "id": "75053c03",
   "metadata": {},
   "source": [
    "### Conclusion for regession:  The original model performed equally well (accuracy) on both train and validate data (0.75). However, recall is very low (0.38) compared to other models with precision being 0.54"
   ]
  },
  {
   "cell_type": "markdown",
   "id": "7efae4df",
   "metadata": {},
   "source": [
    "## Overall conclusion on modeling: Based on results of the modeling section, I am moving forward with my best model. My best model is a decision tree with a depth of 3. I chose this model because it performed almost equally well on testing and training data (0.756 on train, 0.75 on validate). It also produced the best combination of Recall and precision with both train and validate, with small differences between the two. \n",
    "\n",
    "## Predicting customers who will not churn but churn (a false negative) can be minimized by selecting a model with higher Recall. The decision tree (depth of 3) produced a model with 0.61 recall on both the training and validation data."
   ]
  },
  {
   "cell_type": "code",
   "execution_count": null,
   "id": "ba4daab8",
   "metadata": {},
   "outputs": [],
   "source": [
    "def get_tree_test(X_train,X_test,y_train,y_test):\n",
    "    '''get decision tree accuracy on train and test data'''\n",
    "    #Testing on Decision Tree (depth of 3):\n",
    "    tree = DecisionTreeClassifier(max_depth=3, random_state=123)\n",
    "    # fitting the model(X, y)\n",
    "    tree.fit(X_train, y_train)\n",
    "    y_pred = tree.predict(X_train)\n",
    "    print(f\"Accuracy of Decision Tree on train data is {tree.score(X_train, y_train)}\")\n",
    "    print(f\"Accuracy of Decision Tree on test data is {tree.score(X_test, y_test)}\")"
   ]
  },
  {
   "cell_type": "code",
   "execution_count": null,
   "id": "49465609",
   "metadata": {},
   "outputs": [],
   "source": [
    "w.get_tree_test(X_train,X_test,y_train,y_test)"
   ]
  },
  {
   "cell_type": "code",
   "execution_count": null,
   "id": "b204d16a",
   "metadata": {},
   "outputs": [],
   "source": [
    "print('Accuracy of Decision Tree classifier on training set: {:.2f}'\n",
    "      .format(tree.score(X_train, y_train)))"
   ]
  }
 ],
 "metadata": {
  "kernelspec": {
   "display_name": "Python 3 (ipykernel)",
   "language": "python",
   "name": "python3"
  },
  "language_info": {
   "codemirror_mode": {
    "name": "ipython",
    "version": 3
   },
   "file_extension": ".py",
   "mimetype": "text/x-python",
   "name": "python",
   "nbconvert_exporter": "python",
   "pygments_lexer": "ipython3",
   "version": "3.9.12"
  }
 },
 "nbformat": 4,
 "nbformat_minor": 5
}
