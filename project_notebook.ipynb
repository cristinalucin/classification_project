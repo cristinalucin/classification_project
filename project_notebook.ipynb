{
 "cells": [
  {
   "cell_type": "markdown",
   "id": "12c6cb71",
   "metadata": {},
   "source": [
    "## Goal:\n",
    "* Discover drivers of churn within the Telco dataset\n",
    "* Use these drivers to develop a machine learning model to predict whether or not a customer will churn"
   ]
  },
  {
   "cell_type": "markdown",
   "id": "0a1256b5",
   "metadata": {},
   "source": [
    "#### Imports"
   ]
  },
  {
   "cell_type": "code",
   "execution_count": 1,
   "id": "01772ce5",
   "metadata": {},
   "outputs": [],
   "source": [
    "# General DS Imports\n",
    "import matplotlib.pyplot as plt\n",
    "import numpy as np\n",
    "import pandas as pd\n",
    "import seaborn as sns\n",
    "import scipy.stats as stats\n",
    "\n",
    "# ignore warnings\n",
    "import warnings\n",
    "warnings.filterwarnings(\"ignore\")\n",
    "\n",
    "# acquire\n",
    "import wrangle as w\n",
    "import env\n",
    "import explore\n",
    "\n",
    "# Decision Tree and Model Evaluation Imports\n",
    "from sklearn.tree import DecisionTreeClassifier, plot_tree, export_text\n",
    "from sklearn.metrics import classification_report, confusion_matrix, plot_confusion_matrix, ConfusionMatrixDisplay\n",
    "from sklearn.ensemble import RandomForestClassifier\n",
    "from sklearn.neighbors import KNeighborsClassifier\n",
    "from sklearn.impute import SimpleImputer\n",
    "from sklearn.linear_model import LogisticRegression"
   ]
  },
  {
   "cell_type": "markdown",
   "id": "405fb230",
   "metadata": {},
   "source": [
    "## Acquire\n",
    "* Data acquired from Codeup Database\n",
    "* It contained 7043 rows and 24 columns before cleaning\n",
    "* Each row represents a customer from the Telco company\n",
    "* Each column represents a feature of those customers"
   ]
  },
  {
   "cell_type": "markdown",
   "id": "86963eb5",
   "metadata": {},
   "source": [
    "## Prepare\n",
    "### Prepare Actions:\n",
    "\n",
    "* Dropped duplicate columns\n",
    "* Removed columns that did not contain useful information\n",
    "* Renamed columns to promote readability\n",
    "* Checked for nulls in the data (there were none)\n",
    "* Dropped Null Values stored as whitespace\n",
    "* Checked that column data types were appropriate, converted total charges to the correct data type\n",
    "* Encoded categorical variables\n",
    "* Split data into train, validate and test (approx. 75/12.5/12.5), stratifying on 'churn'\n",
    "* Outliers have not been removed for this iteration of the project"
   ]
  },
  {
   "cell_type": "code",
   "execution_count": 2,
   "id": "acfb0037",
   "metadata": {},
   "outputs": [],
   "source": [
    "# acquiring telco data from codeup database\n",
    "df = w.get_telco_data()\n",
    "\n",
    "#Preparing telco data for exploration\n",
    "df = w.prep_telco(df)\n",
    "\n",
    "#Split data and set target variable\n",
    "target = 'churn'\n",
    "train, validate, test = w.train_validate_test_split(df, target)"
   ]
  },
  {
   "cell_type": "markdown",
   "id": "3e9c1021",
   "metadata": {},
   "source": [
    "## A brief look at the data"
   ]
  },
  {
   "cell_type": "code",
   "execution_count": 3,
   "id": "53371ae5",
   "metadata": {},
   "outputs": [
    {
     "data": {
      "text/html": [
       "<div>\n",
       "<style scoped>\n",
       "    .dataframe tbody tr th:only-of-type {\n",
       "        vertical-align: middle;\n",
       "    }\n",
       "\n",
       "    .dataframe tbody tr th {\n",
       "        vertical-align: top;\n",
       "    }\n",
       "\n",
       "    .dataframe thead th {\n",
       "        text-align: right;\n",
       "    }\n",
       "</style>\n",
       "<table border=\"1\" class=\"dataframe\">\n",
       "  <thead>\n",
       "    <tr style=\"text-align: right;\">\n",
       "      <th></th>\n",
       "      <th>gender</th>\n",
       "      <th>senior_citizen</th>\n",
       "      <th>partner</th>\n",
       "      <th>dependents</th>\n",
       "      <th>tenure</th>\n",
       "      <th>phone_service</th>\n",
       "      <th>multiple_lines</th>\n",
       "      <th>online_security</th>\n",
       "      <th>online_backup</th>\n",
       "      <th>device_protection</th>\n",
       "      <th>...</th>\n",
       "      <th>contract_type_Month-to-month</th>\n",
       "      <th>contract_type_One year</th>\n",
       "      <th>contract_type_Two year</th>\n",
       "      <th>internet_service_type_DSL</th>\n",
       "      <th>internet_service_type_Fiber optic</th>\n",
       "      <th>internet_service_type_None</th>\n",
       "      <th>payment_type_Bank transfer (automatic)</th>\n",
       "      <th>payment_type_Credit card (automatic)</th>\n",
       "      <th>payment_type_Electronic check</th>\n",
       "      <th>payment_type_Mailed check</th>\n",
       "    </tr>\n",
       "  </thead>\n",
       "  <tbody>\n",
       "    <tr>\n",
       "      <th>4407</th>\n",
       "      <td>Female</td>\n",
       "      <td>0</td>\n",
       "      <td>No</td>\n",
       "      <td>No</td>\n",
       "      <td>50</td>\n",
       "      <td>Yes</td>\n",
       "      <td>Yes</td>\n",
       "      <td>No</td>\n",
       "      <td>No</td>\n",
       "      <td>No</td>\n",
       "      <td>...</td>\n",
       "      <td>1</td>\n",
       "      <td>0</td>\n",
       "      <td>0</td>\n",
       "      <td>0</td>\n",
       "      <td>1</td>\n",
       "      <td>0</td>\n",
       "      <td>0</td>\n",
       "      <td>0</td>\n",
       "      <td>1</td>\n",
       "      <td>0</td>\n",
       "    </tr>\n",
       "    <tr>\n",
       "      <th>1756</th>\n",
       "      <td>Male</td>\n",
       "      <td>0</td>\n",
       "      <td>No</td>\n",
       "      <td>No</td>\n",
       "      <td>4</td>\n",
       "      <td>Yes</td>\n",
       "      <td>No</td>\n",
       "      <td>No</td>\n",
       "      <td>No</td>\n",
       "      <td>No</td>\n",
       "      <td>...</td>\n",
       "      <td>1</td>\n",
       "      <td>0</td>\n",
       "      <td>0</td>\n",
       "      <td>0</td>\n",
       "      <td>1</td>\n",
       "      <td>0</td>\n",
       "      <td>0</td>\n",
       "      <td>0</td>\n",
       "      <td>1</td>\n",
       "      <td>0</td>\n",
       "    </tr>\n",
       "    <tr>\n",
       "      <th>4669</th>\n",
       "      <td>Male</td>\n",
       "      <td>0</td>\n",
       "      <td>Yes</td>\n",
       "      <td>Yes</td>\n",
       "      <td>72</td>\n",
       "      <td>Yes</td>\n",
       "      <td>No</td>\n",
       "      <td>No internet service</td>\n",
       "      <td>No internet service</td>\n",
       "      <td>No internet service</td>\n",
       "      <td>...</td>\n",
       "      <td>0</td>\n",
       "      <td>0</td>\n",
       "      <td>1</td>\n",
       "      <td>0</td>\n",
       "      <td>0</td>\n",
       "      <td>1</td>\n",
       "      <td>0</td>\n",
       "      <td>0</td>\n",
       "      <td>1</td>\n",
       "      <td>0</td>\n",
       "    </tr>\n",
       "    <tr>\n",
       "      <th>2379</th>\n",
       "      <td>Female</td>\n",
       "      <td>0</td>\n",
       "      <td>Yes</td>\n",
       "      <td>Yes</td>\n",
       "      <td>71</td>\n",
       "      <td>Yes</td>\n",
       "      <td>Yes</td>\n",
       "      <td>Yes</td>\n",
       "      <td>Yes</td>\n",
       "      <td>Yes</td>\n",
       "      <td>...</td>\n",
       "      <td>0</td>\n",
       "      <td>0</td>\n",
       "      <td>1</td>\n",
       "      <td>0</td>\n",
       "      <td>1</td>\n",
       "      <td>0</td>\n",
       "      <td>1</td>\n",
       "      <td>0</td>\n",
       "      <td>0</td>\n",
       "      <td>0</td>\n",
       "    </tr>\n",
       "    <tr>\n",
       "      <th>4118</th>\n",
       "      <td>Male</td>\n",
       "      <td>0</td>\n",
       "      <td>Yes</td>\n",
       "      <td>Yes</td>\n",
       "      <td>56</td>\n",
       "      <td>Yes</td>\n",
       "      <td>Yes</td>\n",
       "      <td>No</td>\n",
       "      <td>Yes</td>\n",
       "      <td>No</td>\n",
       "      <td>...</td>\n",
       "      <td>1</td>\n",
       "      <td>0</td>\n",
       "      <td>0</td>\n",
       "      <td>0</td>\n",
       "      <td>1</td>\n",
       "      <td>0</td>\n",
       "      <td>0</td>\n",
       "      <td>1</td>\n",
       "      <td>0</td>\n",
       "      <td>0</td>\n",
       "    </tr>\n",
       "  </tbody>\n",
       "</table>\n",
       "<p>5 rows × 56 columns</p>\n",
       "</div>"
      ],
      "text/plain": [
       "      gender  senior_citizen partner dependents  tenure phone_service  \\\n",
       "4407  Female               0      No         No      50           Yes   \n",
       "1756    Male               0      No         No       4           Yes   \n",
       "4669    Male               0     Yes        Yes      72           Yes   \n",
       "2379  Female               0     Yes        Yes      71           Yes   \n",
       "4118    Male               0     Yes        Yes      56           Yes   \n",
       "\n",
       "     multiple_lines      online_security        online_backup  \\\n",
       "4407            Yes                   No                   No   \n",
       "1756             No                   No                   No   \n",
       "4669             No  No internet service  No internet service   \n",
       "2379            Yes                  Yes                  Yes   \n",
       "4118            Yes                   No                  Yes   \n",
       "\n",
       "        device_protection  ... contract_type_Month-to-month  \\\n",
       "4407                   No  ...                            1   \n",
       "1756                   No  ...                            1   \n",
       "4669  No internet service  ...                            0   \n",
       "2379                  Yes  ...                            0   \n",
       "4118                   No  ...                            1   \n",
       "\n",
       "     contract_type_One year contract_type_Two year internet_service_type_DSL  \\\n",
       "4407                      0                      0                         0   \n",
       "1756                      0                      0                         0   \n",
       "4669                      0                      1                         0   \n",
       "2379                      0                      1                         0   \n",
       "4118                      0                      0                         0   \n",
       "\n",
       "      internet_service_type_Fiber optic  internet_service_type_None  \\\n",
       "4407                                  1                           0   \n",
       "1756                                  1                           0   \n",
       "4669                                  0                           1   \n",
       "2379                                  1                           0   \n",
       "4118                                  1                           0   \n",
       "\n",
       "     payment_type_Bank transfer (automatic)  \\\n",
       "4407                                      0   \n",
       "1756                                      0   \n",
       "4669                                      0   \n",
       "2379                                      1   \n",
       "4118                                      0   \n",
       "\n",
       "     payment_type_Credit card (automatic) payment_type_Electronic check  \\\n",
       "4407                                    0                             1   \n",
       "1756                                    0                             1   \n",
       "4669                                    0                             1   \n",
       "2379                                    0                             0   \n",
       "4118                                    1                             0   \n",
       "\n",
       "      payment_type_Mailed check  \n",
       "4407                          0  \n",
       "1756                          0  \n",
       "4669                          0  \n",
       "2379                          0  \n",
       "4118                          0  \n",
       "\n",
       "[5 rows x 56 columns]"
      ]
     },
     "execution_count": 3,
     "metadata": {},
     "output_type": "execute_result"
    }
   ],
   "source": [
    "train.head()"
   ]
  },
  {
   "cell_type": "markdown",
   "id": "f5ced28a",
   "metadata": {},
   "source": [
    "## Summary of the data"
   ]
  },
  {
   "cell_type": "code",
   "execution_count": 4,
   "id": "c6284ee4",
   "metadata": {},
   "outputs": [
    {
     "data": {
      "text/html": [
       "<div>\n",
       "<style scoped>\n",
       "    .dataframe tbody tr th:only-of-type {\n",
       "        vertical-align: middle;\n",
       "    }\n",
       "\n",
       "    .dataframe tbody tr th {\n",
       "        vertical-align: top;\n",
       "    }\n",
       "\n",
       "    .dataframe thead th {\n",
       "        text-align: right;\n",
       "    }\n",
       "</style>\n",
       "<table border=\"1\" class=\"dataframe\">\n",
       "  <thead>\n",
       "    <tr style=\"text-align: right;\">\n",
       "      <th></th>\n",
       "      <th>senior_citizen</th>\n",
       "      <th>tenure</th>\n",
       "      <th>monthly_charges</th>\n",
       "      <th>total_charges</th>\n",
       "      <th>gender_encoded</th>\n",
       "      <th>partner_encoded</th>\n",
       "      <th>dependents_encoded</th>\n",
       "      <th>phone_service_encoded</th>\n",
       "      <th>paperless_billing_encoded</th>\n",
       "      <th>churn</th>\n",
       "      <th>...</th>\n",
       "      <th>contract_type_Month-to-month</th>\n",
       "      <th>contract_type_One year</th>\n",
       "      <th>contract_type_Two year</th>\n",
       "      <th>internet_service_type_DSL</th>\n",
       "      <th>internet_service_type_Fiber optic</th>\n",
       "      <th>internet_service_type_None</th>\n",
       "      <th>payment_type_Bank transfer (automatic)</th>\n",
       "      <th>payment_type_Credit card (automatic)</th>\n",
       "      <th>payment_type_Electronic check</th>\n",
       "      <th>payment_type_Mailed check</th>\n",
       "    </tr>\n",
       "  </thead>\n",
       "  <tbody>\n",
       "    <tr>\n",
       "      <th>count</th>\n",
       "      <td>4922.000000</td>\n",
       "      <td>4922.000000</td>\n",
       "      <td>4922.000000</td>\n",
       "      <td>4922.000000</td>\n",
       "      <td>4922.000000</td>\n",
       "      <td>4922.000000</td>\n",
       "      <td>4922.000000</td>\n",
       "      <td>4922.000000</td>\n",
       "      <td>4922.000000</td>\n",
       "      <td>4922.000000</td>\n",
       "      <td>...</td>\n",
       "      <td>4922.000000</td>\n",
       "      <td>4922.000000</td>\n",
       "      <td>4922.000000</td>\n",
       "      <td>4922.000000</td>\n",
       "      <td>4922.000000</td>\n",
       "      <td>4922.000000</td>\n",
       "      <td>4922.000000</td>\n",
       "      <td>4922.000000</td>\n",
       "      <td>4922.000000</td>\n",
       "      <td>4922.000000</td>\n",
       "    </tr>\n",
       "    <tr>\n",
       "      <th>mean</th>\n",
       "      <td>0.163145</td>\n",
       "      <td>32.549573</td>\n",
       "      <td>64.640583</td>\n",
       "      <td>2279.278230</td>\n",
       "      <td>0.495530</td>\n",
       "      <td>0.491670</td>\n",
       "      <td>0.301910</td>\n",
       "      <td>0.903088</td>\n",
       "      <td>0.590207</td>\n",
       "      <td>0.265949</td>\n",
       "      <td>...</td>\n",
       "      <td>0.546323</td>\n",
       "      <td>0.208046</td>\n",
       "      <td>0.245632</td>\n",
       "      <td>0.341325</td>\n",
       "      <td>0.438643</td>\n",
       "      <td>0.220033</td>\n",
       "      <td>0.215766</td>\n",
       "      <td>0.224096</td>\n",
       "      <td>0.335636</td>\n",
       "      <td>0.224502</td>\n",
       "    </tr>\n",
       "    <tr>\n",
       "      <th>std</th>\n",
       "      <td>0.369536</td>\n",
       "      <td>24.563833</td>\n",
       "      <td>30.096846</td>\n",
       "      <td>2254.640564</td>\n",
       "      <td>0.500031</td>\n",
       "      <td>0.499981</td>\n",
       "      <td>0.459133</td>\n",
       "      <td>0.295868</td>\n",
       "      <td>0.491845</td>\n",
       "      <td>0.441882</td>\n",
       "      <td>...</td>\n",
       "      <td>0.497900</td>\n",
       "      <td>0.405951</td>\n",
       "      <td>0.430505</td>\n",
       "      <td>0.474202</td>\n",
       "      <td>0.496271</td>\n",
       "      <td>0.414310</td>\n",
       "      <td>0.411394</td>\n",
       "      <td>0.417028</td>\n",
       "      <td>0.472260</td>\n",
       "      <td>0.417296</td>\n",
       "    </tr>\n",
       "    <tr>\n",
       "      <th>min</th>\n",
       "      <td>0.000000</td>\n",
       "      <td>1.000000</td>\n",
       "      <td>18.250000</td>\n",
       "      <td>18.800000</td>\n",
       "      <td>0.000000</td>\n",
       "      <td>0.000000</td>\n",
       "      <td>0.000000</td>\n",
       "      <td>0.000000</td>\n",
       "      <td>0.000000</td>\n",
       "      <td>0.000000</td>\n",
       "      <td>...</td>\n",
       "      <td>0.000000</td>\n",
       "      <td>0.000000</td>\n",
       "      <td>0.000000</td>\n",
       "      <td>0.000000</td>\n",
       "      <td>0.000000</td>\n",
       "      <td>0.000000</td>\n",
       "      <td>0.000000</td>\n",
       "      <td>0.000000</td>\n",
       "      <td>0.000000</td>\n",
       "      <td>0.000000</td>\n",
       "    </tr>\n",
       "    <tr>\n",
       "      <th>25%</th>\n",
       "      <td>0.000000</td>\n",
       "      <td>9.000000</td>\n",
       "      <td>35.150000</td>\n",
       "      <td>400.500000</td>\n",
       "      <td>0.000000</td>\n",
       "      <td>0.000000</td>\n",
       "      <td>0.000000</td>\n",
       "      <td>1.000000</td>\n",
       "      <td>0.000000</td>\n",
       "      <td>0.000000</td>\n",
       "      <td>...</td>\n",
       "      <td>0.000000</td>\n",
       "      <td>0.000000</td>\n",
       "      <td>0.000000</td>\n",
       "      <td>0.000000</td>\n",
       "      <td>0.000000</td>\n",
       "      <td>0.000000</td>\n",
       "      <td>0.000000</td>\n",
       "      <td>0.000000</td>\n",
       "      <td>0.000000</td>\n",
       "      <td>0.000000</td>\n",
       "    </tr>\n",
       "    <tr>\n",
       "      <th>50%</th>\n",
       "      <td>0.000000</td>\n",
       "      <td>29.000000</td>\n",
       "      <td>70.300000</td>\n",
       "      <td>1398.975000</td>\n",
       "      <td>0.000000</td>\n",
       "      <td>0.000000</td>\n",
       "      <td>0.000000</td>\n",
       "      <td>1.000000</td>\n",
       "      <td>1.000000</td>\n",
       "      <td>0.000000</td>\n",
       "      <td>...</td>\n",
       "      <td>1.000000</td>\n",
       "      <td>0.000000</td>\n",
       "      <td>0.000000</td>\n",
       "      <td>0.000000</td>\n",
       "      <td>0.000000</td>\n",
       "      <td>0.000000</td>\n",
       "      <td>0.000000</td>\n",
       "      <td>0.000000</td>\n",
       "      <td>0.000000</td>\n",
       "      <td>0.000000</td>\n",
       "    </tr>\n",
       "    <tr>\n",
       "      <th>75%</th>\n",
       "      <td>0.000000</td>\n",
       "      <td>56.000000</td>\n",
       "      <td>89.850000</td>\n",
       "      <td>3810.100000</td>\n",
       "      <td>1.000000</td>\n",
       "      <td>1.000000</td>\n",
       "      <td>1.000000</td>\n",
       "      <td>1.000000</td>\n",
       "      <td>1.000000</td>\n",
       "      <td>1.000000</td>\n",
       "      <td>...</td>\n",
       "      <td>1.000000</td>\n",
       "      <td>0.000000</td>\n",
       "      <td>0.000000</td>\n",
       "      <td>1.000000</td>\n",
       "      <td>1.000000</td>\n",
       "      <td>0.000000</td>\n",
       "      <td>0.000000</td>\n",
       "      <td>0.000000</td>\n",
       "      <td>1.000000</td>\n",
       "      <td>0.000000</td>\n",
       "    </tr>\n",
       "    <tr>\n",
       "      <th>max</th>\n",
       "      <td>1.000000</td>\n",
       "      <td>72.000000</td>\n",
       "      <td>118.750000</td>\n",
       "      <td>8672.450000</td>\n",
       "      <td>1.000000</td>\n",
       "      <td>1.000000</td>\n",
       "      <td>1.000000</td>\n",
       "      <td>1.000000</td>\n",
       "      <td>1.000000</td>\n",
       "      <td>1.000000</td>\n",
       "      <td>...</td>\n",
       "      <td>1.000000</td>\n",
       "      <td>1.000000</td>\n",
       "      <td>1.000000</td>\n",
       "      <td>1.000000</td>\n",
       "      <td>1.000000</td>\n",
       "      <td>1.000000</td>\n",
       "      <td>1.000000</td>\n",
       "      <td>1.000000</td>\n",
       "      <td>1.000000</td>\n",
       "      <td>1.000000</td>\n",
       "    </tr>\n",
       "  </tbody>\n",
       "</table>\n",
       "<p>8 rows × 41 columns</p>\n",
       "</div>"
      ],
      "text/plain": [
       "       senior_citizen       tenure  monthly_charges  total_charges  \\\n",
       "count     4922.000000  4922.000000      4922.000000    4922.000000   \n",
       "mean         0.163145    32.549573        64.640583    2279.278230   \n",
       "std          0.369536    24.563833        30.096846    2254.640564   \n",
       "min          0.000000     1.000000        18.250000      18.800000   \n",
       "25%          0.000000     9.000000        35.150000     400.500000   \n",
       "50%          0.000000    29.000000        70.300000    1398.975000   \n",
       "75%          0.000000    56.000000        89.850000    3810.100000   \n",
       "max          1.000000    72.000000       118.750000    8672.450000   \n",
       "\n",
       "       gender_encoded  partner_encoded  dependents_encoded  \\\n",
       "count     4922.000000      4922.000000         4922.000000   \n",
       "mean         0.495530         0.491670            0.301910   \n",
       "std          0.500031         0.499981            0.459133   \n",
       "min          0.000000         0.000000            0.000000   \n",
       "25%          0.000000         0.000000            0.000000   \n",
       "50%          0.000000         0.000000            0.000000   \n",
       "75%          1.000000         1.000000            1.000000   \n",
       "max          1.000000         1.000000            1.000000   \n",
       "\n",
       "       phone_service_encoded  paperless_billing_encoded        churn  ...  \\\n",
       "count            4922.000000                4922.000000  4922.000000  ...   \n",
       "mean                0.903088                   0.590207     0.265949  ...   \n",
       "std                 0.295868                   0.491845     0.441882  ...   \n",
       "min                 0.000000                   0.000000     0.000000  ...   \n",
       "25%                 1.000000                   0.000000     0.000000  ...   \n",
       "50%                 1.000000                   1.000000     0.000000  ...   \n",
       "75%                 1.000000                   1.000000     1.000000  ...   \n",
       "max                 1.000000                   1.000000     1.000000  ...   \n",
       "\n",
       "       contract_type_Month-to-month  contract_type_One year  \\\n",
       "count                   4922.000000             4922.000000   \n",
       "mean                       0.546323                0.208046   \n",
       "std                        0.497900                0.405951   \n",
       "min                        0.000000                0.000000   \n",
       "25%                        0.000000                0.000000   \n",
       "50%                        1.000000                0.000000   \n",
       "75%                        1.000000                0.000000   \n",
       "max                        1.000000                1.000000   \n",
       "\n",
       "       contract_type_Two year  internet_service_type_DSL  \\\n",
       "count             4922.000000                4922.000000   \n",
       "mean                 0.245632                   0.341325   \n",
       "std                  0.430505                   0.474202   \n",
       "min                  0.000000                   0.000000   \n",
       "25%                  0.000000                   0.000000   \n",
       "50%                  0.000000                   0.000000   \n",
       "75%                  0.000000                   1.000000   \n",
       "max                  1.000000                   1.000000   \n",
       "\n",
       "       internet_service_type_Fiber optic  internet_service_type_None  \\\n",
       "count                        4922.000000                 4922.000000   \n",
       "mean                            0.438643                    0.220033   \n",
       "std                             0.496271                    0.414310   \n",
       "min                             0.000000                    0.000000   \n",
       "25%                             0.000000                    0.000000   \n",
       "50%                             0.000000                    0.000000   \n",
       "75%                             1.000000                    0.000000   \n",
       "max                             1.000000                    1.000000   \n",
       "\n",
       "       payment_type_Bank transfer (automatic)  \\\n",
       "count                             4922.000000   \n",
       "mean                                 0.215766   \n",
       "std                                  0.411394   \n",
       "min                                  0.000000   \n",
       "25%                                  0.000000   \n",
       "50%                                  0.000000   \n",
       "75%                                  0.000000   \n",
       "max                                  1.000000   \n",
       "\n",
       "       payment_type_Credit card (automatic)  payment_type_Electronic check  \\\n",
       "count                           4922.000000                    4922.000000   \n",
       "mean                               0.224096                       0.335636   \n",
       "std                                0.417028                       0.472260   \n",
       "min                                0.000000                       0.000000   \n",
       "25%                                0.000000                       0.000000   \n",
       "50%                                0.000000                       0.000000   \n",
       "75%                                0.000000                       1.000000   \n",
       "max                                1.000000                       1.000000   \n",
       "\n",
       "       payment_type_Mailed check  \n",
       "count                4922.000000  \n",
       "mean                    0.224502  \n",
       "std                     0.417296  \n",
       "min                     0.000000  \n",
       "25%                     0.000000  \n",
       "50%                     0.000000  \n",
       "75%                     0.000000  \n",
       "max                     1.000000  \n",
       "\n",
       "[8 rows x 41 columns]"
      ]
     },
     "execution_count": 4,
     "metadata": {},
     "output_type": "execute_result"
    }
   ],
   "source": [
    "train.describe()"
   ]
  },
  {
   "cell_type": "markdown",
   "id": "9bc0b67a",
   "metadata": {},
   "source": [
    "## Exploration"
   ]
  },
  {
   "cell_type": "markdown",
   "id": "a331d98d",
   "metadata": {},
   "source": [
    "## What is the percentage of customers who churn?"
   ]
  },
  {
   "cell_type": "code",
   "execution_count": 5,
   "id": "88ec3db2",
   "metadata": {},
   "outputs": [
    {
     "data": {
      "text/plain": [
       "0    3613\n",
       "1    1309\n",
       "Name: churn, dtype: int64"
      ]
     },
     "execution_count": 5,
     "metadata": {},
     "output_type": "execute_result"
    }
   ],
   "source": [
    "#Target variable value counts\n",
    "train.churn.value_counts()"
   ]
  },
  {
   "cell_type": "code",
   "execution_count": 6,
   "id": "2d584d55",
   "metadata": {},
   "outputs": [
    {
     "data": {
      "image/png": "[encoded data removed]",
      "text/plain": [
       "<Figure size 432x288 with 1 Axes>"
      ]
     },
     "metadata": {},
     "output_type": "display_data"
    }
   ],
   "source": [
    "w.get_pie_churn(train)"
   ]
  },
  {
   "cell_type": "markdown",
   "id": "b68a299f",
   "metadata": {},
   "source": [
    "* **Approximately 27 percent of customers in this dataset \"churned\" (left the company)**"
   ]
  },
  {
   "cell_type": "code",
   "execution_count": 7,
   "id": "299fd4b3",
   "metadata": {},
   "outputs": [],
   "source": [
    "num_vars = ['senior_citizen', 'tenure', 'monthly_charges', 'total_charges']\n",
    "cat_vars = ['gender','partner','dependents','phone_service','multiple_lines','online_security','online_backup','device_protection', \\\n",
    "            'tech_support', 'streaming_tv', 'streaming_movies','paperless_billing','contract_type','internet_service_type', \\\n",
    "            'payment_type']"
   ]
  },
  {
   "cell_type": "code",
   "execution_count": null,
   "id": "ac1a6546",
   "metadata": {},
   "outputs": [],
   "source": [
    "for col in cat_vars:\n",
    "    print(col)\n",
    "    print(train[col].value_counts())\n",
    "    print(train[col].value_counts(normalize=True)*100)\n",
    "    sns.countplot(x=col, data=train)\n",
    "    plt.show()"
   ]
  },
  {
   "cell_type": "code",
   "execution_count": null,
   "id": "dd260bc8",
   "metadata": {},
   "outputs": [],
   "source": [
    "# Visualize float columns\n",
    "num_cols = train.columns[[train[col].dtype == 'float64' for col in train.columns]]\n",
    "for col in num_cols:\n",
    "    plt.hist(train[col])\n",
    "    plt.title(col)\n",
    "    plt.show()\n",
    "    plt.boxplot(train[col])\n",
    "    plt.title(col)\n",
    "    plt.show()"
   ]
  },
  {
   "cell_type": "code",
   "execution_count": null,
   "id": "0e2a4f0a",
   "metadata": {},
   "outputs": [],
   "source": [
    "#Visualize other numeric data\n",
    "# Plot numeric columns\n",
    "for col in num_vars:\n",
    "    plt.hist(train[col])\n",
    "    plt.title(col)\n",
    "    plt.show()\n",
    "    plt.boxplot(train[col])\n",
    "    plt.title(col)\n",
    "    plt.show()"
   ]
  },
  {
   "cell_type": "markdown",
   "id": "e64c32f0",
   "metadata": {},
   "source": [
    "### Bivariate Analysis"
   ]
  },
  {
   "cell_type": "code",
   "execution_count": null,
   "id": "a0914d8f",
   "metadata": {},
   "outputs": [],
   "source": [
    "def cat_vis(train, col):\n",
    "    plt.title('Relationship of churn rate and '+col)\n",
    "    sns.barplot(x=col, y='churn', data=train)\n",
    "    survival_rate = train.churn.mean()\n",
    "    plt.axhline(survival_rate, label='churn rate')\n",
    "    plt.legend()\n",
    "    plt.show()"
   ]
  },
  {
   "cell_type": "code",
   "execution_count": null,
   "id": "d241c105",
   "metadata": {},
   "outputs": [],
   "source": [
    "def cat_test(train, col):\n",
    "    alpha = 0.05\n",
    "    null_hyp = col+' and churn rate are independent'\n",
    "    alt_hyp = 'There is a relationship between churn rate and '+col\n",
    "    observed = pd.crosstab(train.churn, train[col])\n",
    "    chi2, p, degf, expected = stats.chi2_contingency(observed)\n",
    "    if p < alpha:\n",
    "        print('We reject the null hypothesis that', null_hyp)\n",
    "        print(alt_hyp)\n",
    "    else:\n",
    "        print('We fail to reject the null hypothesis that', null_hyp)\n",
    "        print('There appears to be no relationship between survival rate and '+col)"
   ]
  },
  {
   "cell_type": "code",
   "execution_count": null,
   "id": "4ab0ca35",
   "metadata": {},
   "outputs": [],
   "source": [
    "for col in cat_vars:\n",
    "    cat_vis(train, col)\n",
    "    cat_test(train, col)"
   ]
  },
  {
   "cell_type": "code",
   "execution_count": null,
   "id": "a79ee0f8",
   "metadata": {},
   "outputs": [],
   "source": [
    "#Looking at relationship between gender and churn\n",
    "\n",
    "plt.title(\"Gender and churn, Female = 1\")\n",
    "sns.barplot(x=\"gender_encoded\", y=\"churn\", data=train)\n",
    "churn_rate = train.churn.mean()\n",
    "plt.axhline(churn_rate, label=\"churn_rate\")\n",
    "plt.legend()\n",
    "plt.show()"
   ]
  },
  {
   "cell_type": "markdown",
   "id": "f51f3574",
   "metadata": {},
   "source": [
    "### 1. Gender_Encoded (female ==1) vs. Churn:\n",
    "\n",
    "Hypotheses:\n",
    "\n",
    "H^0: The churn rate of women is less than or equal to the chrn rate of men.\n",
    "\n",
    "H^a: The churn rate of women is greater than the churn rate of men"
   ]
  },
  {
   "cell_type": "code",
   "execution_count": null,
   "id": "0eb99568",
   "metadata": {},
   "outputs": [],
   "source": [
    "# Chi-Square test to compare two categorical variables (Gender and Churn)\n",
    "\n",
    "alpha = 0.05\n",
    "null_hypothesis = \"The churn rate of women is less than or equal to the chrn rate of men.\"\n",
    "alternative_hypothesis = \"The churn rate of women is greater than the churn rate of men.\"\n",
    "\n",
    "# Setup a crosstab of observed survival to pclass\n",
    "observed = pd.crosstab(train.churn, train['gender_encoded'])\n",
    "\n",
    "chi2, p, degf, expected = stats.chi2_contingency(observed)\n",
    "p\n",
    "\n",
    "if p < alpha:\n",
    "    print(\"Reject the null hypothesis that\", null_hypothesis)\n",
    "    print(\"Sufficient evidence to move forward understanding that\", alternative_hypothesis)\n",
    "else:\n",
    "    print(\"Fail to reject the null\")\n",
    "    print(\"Insufficient evidence to reject the null\")"
   ]
  },
  {
   "cell_type": "markdown",
   "id": "c150c75c",
   "metadata": {},
   "source": [
    "#### Conclusion for gender: not a significant difference for churn rate"
   ]
  },
  {
   "cell_type": "markdown",
   "id": "67085e07",
   "metadata": {},
   "source": [
    "## Is there a relationship between being a Senior Citizen and Churn rate?"
   ]
  },
  {
   "cell_type": "code",
   "execution_count": null,
   "id": "0a5dfd37",
   "metadata": {},
   "outputs": [],
   "source": [
    "#Create bar chart (senior_citizen)\n",
    "w.get_bar_senior(train)"
   ]
  },
  {
   "cell_type": "markdown",
   "id": "b4cb15e9",
   "metadata": {},
   "source": [
    "### Senior Citizen vs. Churn:\n",
    "\n",
    "* I used a 95% confidence interval\n",
    "* The resulting alpha value is .05\n",
    "\n",
    "Hypotheses:\n",
    "\n",
    "$H_0$: **The churn rate of senior citizens is less than or equal to the churn rate of non-senior citizens.**\n",
    "\n",
    "$H_a$: **The churn rate of senior citizens is greater than the churn rate of non-senior citizens.**"
   ]
  },
  {
   "cell_type": "code",
   "execution_count": null,
   "id": "1663fa47",
   "metadata": {},
   "outputs": [],
   "source": [
    "#Get chi-square test results\n",
    "w.get_chi_senior(train)"
   ]
  },
  {
   "cell_type": "markdown",
   "id": "9e9a6758",
   "metadata": {},
   "source": [
    "**The p-value is less than alpha. Therefore, there is evidence to support the hypothesis that \"Senior Citizen\" and \"Churn\" are related. I believe that including this feature in modeling will likely have a positive impact on model accuracy.**"
   ]
  },
  {
   "cell_type": "markdown",
   "id": "be616836",
   "metadata": {},
   "source": [
    "## Does a customer having a partner affect churn?"
   ]
  },
  {
   "cell_type": "code",
   "execution_count": null,
   "id": "72fcaedf",
   "metadata": {},
   "outputs": [],
   "source": [
    "#Visualizing relationship between partner status and churn\n",
    "w.get_bar_partner(train)"
   ]
  },
  {
   "cell_type": "markdown",
   "id": "0ed4ccc3",
   "metadata": {},
   "source": [
    "#### It appears that those with partners churn less than those without."
   ]
  },
  {
   "cell_type": "markdown",
   "id": "8a064b28",
   "metadata": {},
   "source": [
    "### Partner Status vs. Churn: Looking at the significance of the relationship\n",
    "\n",
    "* Both variables are categorical so a Chi-Squared test is required\n",
    "* I used a 95% confidence interval\n",
    "* The resulting alpha value is .05\n",
    "\n",
    "Hypotheses:\n",
    "\n",
    "$H_0$: **The churn rate of partnered customers is greater than or equal to the churn rate of single customers.**\n",
    "\n",
    "$H_a$: **The churn rate of partnered customers is less than the churn rate of single customers.**"
   ]
  },
  {
   "cell_type": "code",
   "execution_count": null,
   "id": "d2953b86",
   "metadata": {},
   "outputs": [],
   "source": [
    "def get_chi_partner(train):\n",
    "    '''gets results of chi-square test for partner status and churn'''\n",
    "    observed = pd.crosstab(train.churn, train['partner_encoded'])\n",
    "\n",
    "    chi2, p, degf, expected = stats.chi2_contingency(observed)\n",
    "\n",
    "    print(f'chi^2 = {chi2:.4f}')\n",
    "    print(f'p     = {p:.4f}')"
   ]
  },
  {
   "cell_type": "code",
   "execution_count": null,
   "id": "3618ec3f",
   "metadata": {},
   "outputs": [],
   "source": [
    "w.get_chi_partner(train)"
   ]
  },
  {
   "cell_type": "markdown",
   "id": "538e798e",
   "metadata": {},
   "source": [
    "**The p-value is less than alpha. Therefore, there is evidence to support the hypothesis that a customer having a partner and churn are related. However, this feature is similar to having dependents, and may not add value when included in modeling.**"
   ]
  },
  {
   "cell_type": "code",
   "execution_count": null,
   "id": "7679753a",
   "metadata": {},
   "outputs": [],
   "source": [
    "# Chi-Square test to compare two categorical variables (Partner and Churn)\n",
    "\n",
    "alpha = 0.05\n",
    "null_hypothesis = \"The churn rate of partnered customers is greater than or equal to the churn rate of single customers.\"\n",
    "alternative_hypothesis = \"The churn rate of partnered customers is less than the churn rate of single customers.\"\n",
    "\n",
    "# Setup a crosstab of observed survival to pclass\n",
    "observed = pd.crosstab(train.churn, train['partner_encoded'])\n",
    "\n",
    "chi2, p, degf, expected = stats.chi2_contingency(observed)\n",
    "p\n",
    "\n",
    "if p < alpha:\n",
    "    print(\"Reject the null hypothesis that\", null_hypothesis)\n",
    "    print(\"Sufficient evidence to move forward understanding that\", alternative_hypothesis)\n",
    "else:\n",
    "    print(\"Fail to reject the null\")\n",
    "    print(\"Insufficient evidence to reject the null\")"
   ]
  },
  {
   "cell_type": "markdown",
   "id": "2fabca74",
   "metadata": {},
   "source": [
    "### Conclusion for partner status: significant relationship"
   ]
  },
  {
   "cell_type": "markdown",
   "id": "73e25a7f",
   "metadata": {},
   "source": [
    "## Does a customer having dependents affect churn?"
   ]
  },
  {
   "cell_type": "code",
   "execution_count": null,
   "id": "1a0b8187",
   "metadata": {},
   "outputs": [],
   "source": [
    "w.get_bar_dependents(train)"
   ]
  },
  {
   "cell_type": "markdown",
   "id": "cc23a138",
   "metadata": {},
   "source": [
    "### It appears that customers with dependents churn less than those without dependents."
   ]
  },
  {
   "cell_type": "markdown",
   "id": "ac64cbba",
   "metadata": {},
   "source": [
    "### Dependents vs. Churn: Testing Significance of Relationship\n",
    "\n",
    "* Both variables are categorical so a Chi-Squared test is required\n",
    "* I used a 95% confidence interval\n",
    "* The resulting alpha value is .05\n",
    "\n",
    "Hypotheses:\n",
    "\n",
    "$H_0$: **The churn rate of those with dependents is greater than or equal to those without dependents.**\n",
    "\n",
    "$H_a$: **The churn rate of those with dependents is less than those without dependents.**"
   ]
  },
  {
   "cell_type": "code",
   "execution_count": null,
   "id": "ec3f696a",
   "metadata": {},
   "outputs": [],
   "source": [
    "#Run chi-square test on dependents vs churn\n",
    "w.get_chi_dependents(train)"
   ]
  },
  {
   "cell_type": "markdown",
   "id": "48732666",
   "metadata": {},
   "source": [
    "**The p-value is less than alpha. Therefore, there is evidence to support the hypothesis that a customer having dependents is related to churn rate. I believe that including this feature in modeling will likely have a positive impact on model accuracy.**"
   ]
  },
  {
   "cell_type": "markdown",
   "id": "e212fdc2",
   "metadata": {},
   "source": [
    "## Does customer contract type affect churn?"
   ]
  },
  {
   "cell_type": "code",
   "execution_count": null,
   "id": "de43447d",
   "metadata": {},
   "outputs": [],
   "source": [
    "w.get_bar_contract(train)"
   ]
  },
  {
   "cell_type": "markdown",
   "id": "c9915323",
   "metadata": {},
   "source": [
    "#### It appears that customers with month-to-month contracts churn at a much higher rate than those with two-year contracts. Customers with one-year contracts churn less than month-to-month, but more than two-year contact customers."
   ]
  },
  {
   "cell_type": "markdown",
   "id": "4b6d5931",
   "metadata": {},
   "source": [
    "### Contract Type vs. Churn: Testing Significance of Relationship\n",
    "\n",
    "* Both variables are categorical so a Chi-Squared test is required\n",
    "* I used a 95% confidence interval\n",
    "* The resulting alpha value is .05\n",
    "\n",
    "Hypotheses:\n",
    "\n",
    "$H_0$: The churn rate of those on a month-to-month contract is less than or equal to other customers.\n",
    "\n",
    "$H_a$: The churn rate of those on a month-to-month contract is greater than other customers."
   ]
  },
  {
   "cell_type": "code",
   "execution_count": null,
   "id": "f7957a7f",
   "metadata": {},
   "outputs": [],
   "source": [
    "#Running chi-squared test comparing contract type and churn\n",
    "w.get_chi_contract(train)"
   ]
  },
  {
   "cell_type": "markdown",
   "id": "4527b0f3",
   "metadata": {},
   "source": [
    "**The p-value is less than alpha. Therefore, there is evidence to support the hypothesis that customer contract type is related to churn rate. I believe that including this feature in modeling will likely have a strong positive impact on model accuracy.**"
   ]
  },
  {
   "cell_type": "markdown",
   "id": "55d2bbbd",
   "metadata": {},
   "source": [
    "## Examining Numeric variables vs discrete (Churn)"
   ]
  },
  {
   "cell_type": "code",
   "execution_count": null,
   "id": "0a1339b5",
   "metadata": {},
   "outputs": [],
   "source": [
    "train.head()"
   ]
  },
  {
   "cell_type": "code",
   "execution_count": null,
   "id": "a8ce81d1",
   "metadata": {},
   "outputs": [],
   "source": [
    "num_vars"
   ]
  },
  {
   "cell_type": "code",
   "execution_count": null,
   "id": "ae54febd",
   "metadata": {},
   "outputs": [],
   "source": [
    "sns.relplot(data=train, x='monthly_charges', y='tenure', kind='scatter', hue='churn', col='churn')"
   ]
  },
  {
   "cell_type": "code",
   "execution_count": null,
   "id": "708c266d",
   "metadata": {},
   "outputs": [],
   "source": [
    "sns.swarmplot(data=train, x='churn', y='tenure', hue='churn')"
   ]
  },
  {
   "cell_type": "markdown",
   "id": "3b1ce44b",
   "metadata": {},
   "source": [
    "### Looking at tenure vs. churn rate"
   ]
  },
  {
   "cell_type": "code",
   "execution_count": null,
   "id": "677ac188",
   "metadata": {},
   "outputs": [],
   "source": [
    "# Subset the data into churn and not-churned status\n",
    "not_churned = train[train.churn == 0]\n",
    "churned = train[train.churn == 1]"
   ]
  },
  {
   "cell_type": "code",
   "execution_count": null,
   "id": "6fe68d1b",
   "metadata": {},
   "outputs": [],
   "source": [
    "plt.title(\"What's the relationship of tenure and churn rate?\")\n",
    "plt.hist(not_churned.tenure, label=\"not churned\")\n",
    "plt.hist(churned.tenure, label=\"churned\")\n",
    "plt.legend()\n",
    "plt.show()"
   ]
  },
  {
   "cell_type": "markdown",
   "id": "8a0d2bc0",
   "metadata": {},
   "source": [
    "#### It appears that customers with a longer tenure churn less"
   ]
  },
  {
   "cell_type": "code",
   "execution_count": null,
   "id": "746866d5",
   "metadata": {},
   "outputs": [],
   "source": []
  },
  {
   "cell_type": "markdown",
   "id": "0c377a12",
   "metadata": {},
   "source": [
    "#### Establish Hypotheses:"
   ]
  },
  {
   "cell_type": "markdown",
   "id": "f4676168",
   "metadata": {},
   "source": [
    "$H_0$ : null_hypothesis = Customers with a higher mean tenure have a churn rate greater than or equal to those with a shorter tenure.\n",
    "\n",
    "$H_a$: alternative_hypothesis = Customers with a higher mean tenure churn less than those with shorter tenure."
   ]
  },
  {
   "cell_type": "code",
   "execution_count": null,
   "id": "f43db3c9",
   "metadata": {},
   "outputs": [],
   "source": [
    "# check variances of the two groups\n",
    "not_churned.tenure.var(), churned.tenure.var()"
   ]
  },
  {
   "cell_type": "code",
   "execution_count": null,
   "id": "fab5e2cf",
   "metadata": {},
   "outputs": [],
   "source": [
    "#Need to ensure variances are equal\n",
    "stat, pval = stats.levene(not_churned.tenure, churned.tenure)\n",
    "pval\n",
    "# pval is significant so we can conclude variances are NOT equal"
   ]
  },
  {
   "cell_type": "code",
   "execution_count": null,
   "id": "53bcda24",
   "metadata": {},
   "outputs": [],
   "source": [
    "# Two-sample T-test to compare a continuous variable (tenure) with a categorical variable (churn)\n",
    "alpha = 0.05\n",
    "null_hypothesis = \"Customers with a higher tenure have a churn rate greater than or equal to those with a shorter tenure.\"\n",
    "alternative_hypothesis = \"Customers with a higher tenure have a lower churn rate than those with shorter tenure.\"\n",
    "\n",
    "# Setup test\n",
    "t, p = stats.ttest_ind(not_churned.tenure, churned.tenure, equal_var=False)\n",
    "t, p"
   ]
  },
  {
   "cell_type": "code",
   "execution_count": null,
   "id": "55a5babe",
   "metadata": {},
   "outputs": [],
   "source": [
    "if (p/2 < alpha) & (t > 0):\n",
    "    print(\"Reject the null hypothesis that\", null_hypothesis)\n",
    "    print(\"Sufficient evidence to move forward understanding that\", alternative_hypothesis)\n",
    "else:\n",
    "    print(\"Fail to reject the null\")"
   ]
  },
  {
   "cell_type": "markdown",
   "id": "742ac0f8",
   "metadata": {},
   "source": [
    "### Conclusion: Customers with a longer tenure (in months) have a lower churn rate than customers with lower tenures"
   ]
  },
  {
   "cell_type": "markdown",
   "id": "8bbd8252",
   "metadata": {},
   "source": [
    "## Does a customer's monthly charge amount impact churn?"
   ]
  },
  {
   "cell_type": "code",
   "execution_count": 5,
   "id": "8bf55a27",
   "metadata": {},
   "outputs": [],
   "source": [
    "# Subset the data into churn and not-churned status\n",
    "not_churned = train[train.churn == 0]\n",
    "churned = train[train.churn == 1]"
   ]
  },
  {
   "cell_type": "code",
   "execution_count": 6,
   "id": "b08fcd53",
   "metadata": {},
   "outputs": [
    {
     "data": {
      "image/png": "[encoded data removed]",
      "text/plain": [
       "<Figure size 432x288 with 1 Axes>"
      ]
     },
     "metadata": {
      "needs_background": "light"
     },
     "output_type": "display_data"
    }
   ],
   "source": [
    "#Get viz of monthly charge vs churn\n",
    "w.monthly_charges_md(train)"
   ]
  },
  {
   "cell_type": "markdown",
   "id": "02d5b773",
   "metadata": {},
   "source": [
    "#### It appears that customers who have lower monthly charges churn less."
   ]
  },
  {
   "cell_type": "markdown",
   "id": "67d46544",
   "metadata": {},
   "source": [
    "### Monthly Charges vs. Churn: Testing Significance of Relationship\n",
    "\n",
    "* Monthly Charges is a continuous variable, and both populations are independent, so an independent T-Test is required.\n",
    "* I used a 95% confidence interval (alpha value .05)\n",
    "* Variances were tested and not equal, and indicated in testing parameter\n",
    "\n",
    "Hypotheses:\n",
    "\n",
    "$H_0$: **Customers with lower monthly charges have a churn rate greater than or equal to those with higher charges.**\n",
    "\n",
    "$H_a$: **Customers with lower monthly charges have a lower churn rate than those with higher monthly charges.**"
   ]
  },
  {
   "cell_type": "code",
   "execution_count": null,
   "id": "72cc142c",
   "metadata": {},
   "outputs": [],
   "source": [
    "# check variances of the two groups\n",
    "not_churned.monthly_charges.var(), churned.monthly_charges.var()"
   ]
  },
  {
   "cell_type": "code",
   "execution_count": null,
   "id": "f3db8457",
   "metadata": {},
   "outputs": [],
   "source": [
    "#Need to ensure variances are equal\n",
    "stat, pval = stats.levene(not_churned.monthly_charges, churned.monthly_charges)\n",
    "pval\n",
    "# pval is significant so we can conclude variances are NOT equal"
   ]
  },
  {
   "cell_type": "code",
   "execution_count": null,
   "id": "be8a8c20",
   "metadata": {},
   "outputs": [],
   "source": [
    "def get_t_monthly(train):\n",
    "    \"get t-test for monthly charges and churn\"\n",
    "    #Seperate samples into churn and not churn\n",
    "    not_churned = train[train.churn == 0]\n",
    "    churned = train[train.churn == 1]\n",
    "    #Run t-test on these groups, variances are not equal\n",
    "    t, p = stats.ttest_ind(not_churned.monthly_charges, churned.monthly_charges, equal_var=False)\n",
    "\n",
    "    print(f't = {t:.4f}')\n",
    "    print(f'p = {p:.4f}') "
   ]
  },
  {
   "cell_type": "code",
   "execution_count": null,
   "id": "8324da93",
   "metadata": {},
   "outputs": [],
   "source": [
    "#Run T-test comparing monthly charges and churn status\n",
    "w.get_t_monthly(train)"
   ]
  },
  {
   "cell_type": "markdown",
   "id": "e60d51ec",
   "metadata": {},
   "source": [
    "**The p-value is less than alpha. Therefore, there is evidence to support the hypothesis that customer monthly charge amount is related to churn rate. I believe that including this feature in modeling will likely have a positive impact on model accuracy.**"
   ]
  },
  {
   "cell_type": "markdown",
   "id": "05ef4288",
   "metadata": {},
   "source": [
    "## Does the total charges a customer has accrued impact churn rate?"
   ]
  },
  {
   "cell_type": "code",
   "execution_count": null,
   "id": "10091486",
   "metadata": {},
   "outputs": [],
   "source": [
    "plt.title(\"What's the relationship of customer total charges and churn?\")\n",
    "plt.hist(not_churned.total_charges, label=\"not churned\")\n",
    "plt.hist(churned.total_charges, label=\"churned\")\n",
    "plt.legend()\n",
    "plt.show()"
   ]
  },
  {
   "cell_type": "code",
   "execution_count": null,
   "id": "0ffb74ec",
   "metadata": {},
   "outputs": [],
   "source": [
    "sns.boxplot(x='total_charges', data=train)"
   ]
  },
  {
   "cell_type": "code",
   "execution_count": null,
   "id": "01723469",
   "metadata": {},
   "outputs": [],
   "source": [
    "def total_charges_md(train):\n",
    "    # Subset the data into churn and not-churned status\n",
    "    not_churned = train[train.churn == 0]\n",
    "    churned = train[train.churn == 1]\n",
    "    #assign values and labels\n",
    "    values = [not_churned.total_charges.mean(), churned.total_charges.mean()]\n",
    "    labels = ['not_churned', 'churned']\n",
    "    # generate and display chart\n",
    "    plt.bar(height=values, x=labels, color=['#ffc3a0', '#c0d6e4'])\n",
    "    plt.title('Customer mean total charge differences (churn vs non-churn)')\n",
    "    plt.tight_layout()\n",
    "    plt.show()"
   ]
  },
  {
   "cell_type": "code",
   "execution_count": 7,
   "id": "fddaabee",
   "metadata": {},
   "outputs": [
    {
     "data": {
      "image/png": "[encoded data removed]",
      "text/plain": [
       "<Figure size 432x288 with 1 Axes>"
      ]
     },
     "metadata": {
      "needs_background": "light"
     },
     "output_type": "display_data"
    }
   ],
   "source": [
    "#Get bar chart comparing total charges with churn\n",
    "w.total_charges_md(train)"
   ]
  },
  {
   "cell_type": "markdown",
   "id": "594143d3",
   "metadata": {},
   "source": [
    "### Total Charges vs. Churn: Testing Significance of Relationship\n",
    "\n",
    "* Total Charges is a continuous variable, and both populations are independent, so an independent T-Test is required.\n",
    "* I used a 95% confidence interval (alpha value .05)\n",
    "* Variances were tested and not equal, and indicated in testing parameter\n",
    "\n",
    "Hypotheses:\n",
    "\n",
    "$H_0$: Customers with higher total charges have a churn rate greater than or equal to those with lower total charges\n",
    "\n",
    "$H_a$: Customers with higher total charges have a lower churn rate than those with lower total charges"
   ]
  },
  {
   "cell_type": "code",
   "execution_count": 8,
   "id": "fa37dee4",
   "metadata": {},
   "outputs": [],
   "source": [
    "def get_t_total(train):\n",
    "    '''get t-test for total charges and churn\"'''\n",
    "    #Seperate samples into churn and not churn\n",
    "    not_churned = train[train.churn == 0]\n",
    "    churned = train[train.churn == 1]\n",
    "    #Run t-test on these groups, variances are not equal\n",
    "    t, p = stats.ttest_ind(not_churned.total_charges, churned.total_charges, equal_var=False)\n",
    "    #format results\n",
    "    print(f't = {t:.4f}')\n",
    "    print(f'p = {p:.4f}') "
   ]
  },
  {
   "cell_type": "code",
   "execution_count": 9,
   "id": "7eeabe3e",
   "metadata": {},
   "outputs": [
    {
     "name": "stdout",
     "output_type": "stream",
     "text": [
      "t = 14.6932\n",
      "p = 0.0000\n"
     ]
    }
   ],
   "source": [
    "#Run t-test comparing total charges and churn\n",
    "w.get_t_total(train)"
   ]
  },
  {
   "cell_type": "markdown",
   "id": "95c83265",
   "metadata": {},
   "source": [
    "$H_0$ : null_hypothesis = \"Customers with higher total charges have a mean churn rate greater than or equal to those with lower total charges.\"\n",
    "\n",
    "$H_a$: alternative_hypothesis = \"Customers with higher total charges have a lower mean churn rate than those with lower total charges.\""
   ]
  },
  {
   "cell_type": "markdown",
   "id": "20962d79",
   "metadata": {},
   "source": [
    "#### It appears that the mean total charges for customers who churned is higher than those who did not churn"
   ]
  },
  {
   "cell_type": "code",
   "execution_count": null,
   "id": "c9a2d225",
   "metadata": {},
   "outputs": [],
   "source": [
    "# check variances of the two groups\n",
    "not_churned.total_charges.var(), churned.total_charges.var()"
   ]
  },
  {
   "cell_type": "code",
   "execution_count": null,
   "id": "1c542de2",
   "metadata": {},
   "outputs": [],
   "source": [
    "#Need to ensure variances are equal\n",
    "stat, pval = stats.levene(not_churned.total_charges, churned.total_charges)\n",
    "pval\n",
    "# pval is significant so we can conclude variances are NOT equal"
   ]
  },
  {
   "cell_type": "code",
   "execution_count": null,
   "id": "4b8b165f",
   "metadata": {},
   "outputs": [],
   "source": [
    "# Two-sample T-test to compare a continuous variable (monthly charges) with a categorical variable (churn)\n",
    "alpha = 0.05\n",
    "null_hypothesis = \"Customers with higher total charges have a mean churn rate greater than or equal to those with lower total charges.\"\n",
    "alternative_hypothesis = \"Customers with higher total charges have a lower mean churn rate than those with lower total charges.\"\n",
    "\n",
    "# Setup test\n",
    "t, p = stats.ttest_ind(not_churned.total_charges, churned.total_charges, equal_var=False)\n",
    "t, p"
   ]
  },
  {
   "cell_type": "code",
   "execution_count": null,
   "id": "bf19d266",
   "metadata": {},
   "outputs": [],
   "source": [
    "if (p/2 < alpha):\n",
    "    print(\"Reject the null hypothesis that\", null_hypothesis)\n",
    "    print(\"Sufficient evidence to move forward understanding that\", alternative_hypothesis)\n",
    "else:\n",
    "    print(\"Fail to reject the null\")"
   ]
  },
  {
   "cell_type": "markdown",
   "id": "a43da039",
   "metadata": {},
   "source": [
    "## Exploration Summary"
   ]
  },
  {
   "cell_type": "code",
   "execution_count": null,
   "id": "389a7304",
   "metadata": {},
   "outputs": [],
   "source": [
    "#Baseline accuracy\n",
    "(y_train == 0).mean()"
   ]
  },
  {
   "cell_type": "code",
   "execution_count": null,
   "id": "bd14a613",
   "metadata": {},
   "outputs": [],
   "source": [
    "#Find Baseline\n",
    "y_train.value_counts()\n",
    "#Baseline is 0, customer did not churn"
   ]
  },
  {
   "cell_type": "markdown",
   "id": "ce42403e",
   "metadata": {},
   "source": [
    "# Modeling\n",
    "* I will use accuracy as my evaluation metric\n",
    "* non-churned customers makeup 73% of the data\n",
    "* by guessing non-churn for every customer, one could achieve an accuracy of 73%\n",
    "* 73% will be the baseline accuracy I use for this project\n",
    "* I will be evaluating models developed using four different model types and various hyperparameter configurations\n",
    "* Models will be evaluated on train and validate data\n",
    "* The model that performs the best will then be evaluated on test data"
   ]
  },
  {
   "cell_type": "markdown",
   "id": "8a1091f0",
   "metadata": {},
   "source": [
    "### Modeling"
   ]
  },
  {
   "cell_type": "code",
   "execution_count": 11,
   "id": "d3fdc5e6",
   "metadata": {},
   "outputs": [],
   "source": [
    "#preparing data for modeling\n",
    "X_train, X_validate, X_test, y_train, y_validate, y_test = w.model_prep(train, validate, test)"
   ]
  },
  {
   "cell_type": "code",
   "execution_count": 9,
   "id": "4855c3d5",
   "metadata": {},
   "outputs": [
    {
     "data": {
      "text/html": [
       "<div>\n",
       "<style scoped>\n",
       "    .dataframe tbody tr th:only-of-type {\n",
       "        vertical-align: middle;\n",
       "    }\n",
       "\n",
       "    .dataframe tbody tr th {\n",
       "        vertical-align: top;\n",
       "    }\n",
       "\n",
       "    .dataframe thead th {\n",
       "        text-align: right;\n",
       "    }\n",
       "</style>\n",
       "<table border=\"1\" class=\"dataframe\">\n",
       "  <thead>\n",
       "    <tr style=\"text-align: right;\">\n",
       "      <th></th>\n",
       "      <th>senior_citizen</th>\n",
       "      <th>dependents_encoded</th>\n",
       "      <th>monthly_charges</th>\n",
       "      <th>contract_type_Month-to-month</th>\n",
       "      <th>contract_type_One year</th>\n",
       "      <th>contract_type_Two year</th>\n",
       "    </tr>\n",
       "  </thead>\n",
       "  <tbody>\n",
       "    <tr>\n",
       "      <th>0</th>\n",
       "      <td>0</td>\n",
       "      <td>0</td>\n",
       "      <td>95.70</td>\n",
       "      <td>1</td>\n",
       "      <td>0</td>\n",
       "      <td>0</td>\n",
       "    </tr>\n",
       "    <tr>\n",
       "      <th>1</th>\n",
       "      <td>0</td>\n",
       "      <td>0</td>\n",
       "      <td>70.20</td>\n",
       "      <td>1</td>\n",
       "      <td>0</td>\n",
       "      <td>0</td>\n",
       "    </tr>\n",
       "    <tr>\n",
       "      <th>2</th>\n",
       "      <td>0</td>\n",
       "      <td>1</td>\n",
       "      <td>20.35</td>\n",
       "      <td>0</td>\n",
       "      <td>0</td>\n",
       "      <td>1</td>\n",
       "    </tr>\n",
       "    <tr>\n",
       "      <th>3</th>\n",
       "      <td>0</td>\n",
       "      <td>1</td>\n",
       "      <td>109.00</td>\n",
       "      <td>0</td>\n",
       "      <td>0</td>\n",
       "      <td>1</td>\n",
       "    </tr>\n",
       "    <tr>\n",
       "      <th>4</th>\n",
       "      <td>0</td>\n",
       "      <td>1</td>\n",
       "      <td>96.95</td>\n",
       "      <td>1</td>\n",
       "      <td>0</td>\n",
       "      <td>0</td>\n",
       "    </tr>\n",
       "  </tbody>\n",
       "</table>\n",
       "</div>"
      ],
      "text/plain": [
       "   senior_citizen  dependents_encoded  monthly_charges  \\\n",
       "0               0                   0            95.70   \n",
       "1               0                   0            70.20   \n",
       "2               0                   1            20.35   \n",
       "3               0                   1           109.00   \n",
       "4               0                   1            96.95   \n",
       "\n",
       "   contract_type_Month-to-month  contract_type_One year  \\\n",
       "0                             1                       0   \n",
       "1                             1                       0   \n",
       "2                             0                       0   \n",
       "3                             0                       0   \n",
       "4                             1                       0   \n",
       "\n",
       "   contract_type_Two year  \n",
       "0                       0  \n",
       "1                       0  \n",
       "2                       1  \n",
       "3                       1  \n",
       "4                       0  "
      ]
     },
     "execution_count": 9,
     "metadata": {},
     "output_type": "execute_result"
    }
   ],
   "source": [
    "X_train.head()"
   ]
  },
  {
   "cell_type": "code",
   "execution_count": 11,
   "id": "c5e2f13c",
   "metadata": {},
   "outputs": [
    {
     "data": {
      "text/plain": [
       "(1055, 6)"
      ]
     },
     "execution_count": 11,
     "metadata": {},
     "output_type": "execute_result"
    }
   ],
   "source": [
    "X_train.shape\n",
    "X_validate.shape\n",
    "#_test.shape"
   ]
  },
  {
   "cell_type": "code",
   "execution_count": null,
   "id": "7bf6a767",
   "metadata": {},
   "outputs": [],
   "source": [
    "#Find Baseline\n",
    "y_train.value_counts()\n",
    "#Baseline is 0, customer did not churn"
   ]
  },
  {
   "cell_type": "code",
   "execution_count": null,
   "id": "7f2678d7",
   "metadata": {},
   "outputs": [],
   "source": [
    "#Baseline Accuracy\n",
    "(y_train == 0).mean()"
   ]
  },
  {
   "cell_type": "markdown",
   "id": "77cf90df",
   "metadata": {},
   "source": [
    "### Decision Tree"
   ]
  },
  {
   "cell_type": "code",
   "execution_count": 10,
   "id": "142d4fb7",
   "metadata": {},
   "outputs": [],
   "source": [
    "def get_tree(X_train, X_validate, y_train, y_validate):\n",
    "    '''get decision tree accuracy on train and validate data'''\n",
    "\n",
    "    # create classifier object\n",
    "    clf = DecisionTreeClassifier(max_depth=3, random_state=123)\n",
    "\n",
    "    #fit model on training data\n",
    "    clf = clf.fit(X_train, y_train)\n",
    "\n",
    "    # print result\n",
    "    print(f\"Accuracy of Decision Tree on train data is {clf.score(X_train, y_train)}\")\n",
    "    print(f\"Accuracy of Decision Tree on validate data is {clf.score(X_validate, y_validate)}\")"
   ]
  },
  {
   "cell_type": "code",
   "execution_count": 12,
   "id": "c326edec",
   "metadata": {},
   "outputs": [
    {
     "name": "stdout",
     "output_type": "stream",
     "text": [
      "Accuracy of Decision Tree on train data is 0.7561966680211296\n",
      "Accuracy of Decision Tree on validate data is 0.7545023696682465\n"
     ]
    }
   ],
   "source": [
    "#Run decision tree on train and validate data\n",
    "w.get_tree(X_train, X_validate, y_train, y_validate)"
   ]
  },
  {
   "cell_type": "code",
   "execution_count": 12,
   "id": "e5f59d49",
   "metadata": {},
   "outputs": [],
   "source": [
    "tree = DecisionTreeClassifier(max_depth=3, random_state=123)"
   ]
  },
  {
   "cell_type": "code",
   "execution_count": 13,
   "id": "71f65d36",
   "metadata": {},
   "outputs": [
    {
     "data": {
      "text/plain": [
       "DecisionTreeClassifier(max_depth=3, random_state=123)"
      ]
     },
     "execution_count": 13,
     "metadata": {},
     "output_type": "execute_result"
    }
   ],
   "source": [
    "# model.fit(X, y)\n",
    "tree.fit(X_train, y_train)"
   ]
  },
  {
   "cell_type": "code",
   "execution_count": 14,
   "id": "050aa198",
   "metadata": {},
   "outputs": [
    {
     "name": "stdout",
     "output_type": "stream",
     "text": [
      "|--- contract_type_Month-to-month <= 0.50\n",
      "|   |--- monthly_charges <= 95.22\n",
      "|   |   |--- contract_type_Two year <= 0.50\n",
      "|   |   |   |--- class: 0\n",
      "|   |   |--- contract_type_Two year >  0.50\n",
      "|   |   |   |--- class: 0\n",
      "|   |--- monthly_charges >  95.22\n",
      "|   |   |--- contract_type_One year <= 0.50\n",
      "|   |   |   |--- class: 0\n",
      "|   |   |--- contract_type_One year >  0.50\n",
      "|   |   |   |--- class: 0\n",
      "|--- contract_type_Month-to-month >  0.50\n",
      "|   |--- monthly_charges <= 69.22\n",
      "|   |   |--- monthly_charges <= 20.93\n",
      "|   |   |   |--- class: 0\n",
      "|   |   |--- monthly_charges >  20.93\n",
      "|   |   |   |--- class: 0\n",
      "|   |--- monthly_charges >  69.22\n",
      "|   |   |--- monthly_charges <= 107.42\n",
      "|   |   |   |--- class: 1\n",
      "|   |   |--- monthly_charges >  107.42\n",
      "|   |   |   |--- class: 0\n",
      "\n"
     ]
    }
   ],
   "source": [
    "print(export_text(tree, feature_names=X_train.columns.tolist()))"
   ]
  },
  {
   "cell_type": "code",
   "execution_count": 15,
   "id": "e90a095a",
   "metadata": {},
   "outputs": [
    {
     "data": {
      "text/plain": [
       "array([1, 1, 0, ..., 0, 1, 1])"
      ]
     },
     "execution_count": 15,
     "metadata": {},
     "output_type": "execute_result"
    }
   ],
   "source": [
    "#Use your model to make predictions on the in-sample data\n",
    "tree.predict(X_train)"
   ]
  },
  {
   "cell_type": "code",
   "execution_count": 16,
   "id": "ed6b011c",
   "metadata": {},
   "outputs": [],
   "source": [
    "y_pred = tree.predict(X_train)\n",
    "actual = y_train"
   ]
  },
  {
   "cell_type": "code",
   "execution_count": 17,
   "id": "b7604b8b",
   "metadata": {},
   "outputs": [
    {
     "data": {
      "text/plain": [
       "(4922,)"
      ]
     },
     "execution_count": 17,
     "metadata": {},
     "output_type": "execute_result"
    }
   ],
   "source": [
    "y_pred.shape"
   ]
  },
  {
   "cell_type": "code",
   "execution_count": 18,
   "id": "f36bc08a",
   "metadata": {},
   "outputs": [
    {
     "data": {
      "text/plain": [
       "churn    0.734051\n",
       "dtype: float64"
      ]
     },
     "execution_count": 18,
     "metadata": {},
     "output_type": "execute_result"
    }
   ],
   "source": [
    "#Baseline accuracy\n",
    "(y_train == 0).mean()"
   ]
  },
  {
   "cell_type": "code",
   "execution_count": 19,
   "id": "1091b34a",
   "metadata": {},
   "outputs": [
    {
     "data": {
      "text/plain": [
       "array([[0.46359385, 0.53640615],\n",
       "       [0.46359385, 0.53640615],\n",
       "       [0.98540146, 0.01459854],\n",
       "       [0.916     , 0.084     ],\n",
       "       [0.46359385, 0.53640615]])"
      ]
     },
     "execution_count": 19,
     "metadata": {},
     "output_type": "execute_result"
    }
   ],
   "source": [
    "y_pred_proba = tree.predict_proba(X_train)\n",
    "y_pred_proba[0:5]"
   ]
  },
  {
   "cell_type": "markdown",
   "id": "4189ea6f",
   "metadata": {},
   "source": [
    "### Evaluating in-sample results using the model score, confusion matrix, and classification report."
   ]
  },
  {
   "cell_type": "code",
   "execution_count": 20,
   "id": "0c7f36b7",
   "metadata": {},
   "outputs": [
    {
     "data": {
      "text/plain": [
       "array([[2919,  694],\n",
       "       [ 506,  803]])"
      ]
     },
     "execution_count": 20,
     "metadata": {},
     "output_type": "execute_result"
    }
   ],
   "source": [
    "confusion_matrix(actual, y_pred)"
   ]
  },
  {
   "cell_type": "code",
   "execution_count": 21,
   "id": "491f4026",
   "metadata": {},
   "outputs": [
    {
     "name": "stdout",
     "output_type": "stream",
     "text": [
      "              precision    recall  f1-score   support\n",
      "\n",
      "           0       0.85      0.81      0.83      3613\n",
      "           1       0.54      0.61      0.57      1309\n",
      "\n",
      "    accuracy                           0.76      4922\n",
      "   macro avg       0.69      0.71      0.70      4922\n",
      "weighted avg       0.77      0.76      0.76      4922\n",
      "\n"
     ]
    }
   ],
   "source": [
    "print(classification_report(actual, y_pred))"
   ]
  },
  {
   "cell_type": "code",
   "execution_count": 22,
   "id": "ef5ea6f0",
   "metadata": {},
   "outputs": [
    {
     "name": "stdout",
     "output_type": "stream",
     "text": [
      "Accuracy of Decision Tree classifier on training set: 0.76\n"
     ]
    }
   ],
   "source": [
    "print('Accuracy of Decision Tree classifier on training set: {:.2f}'\n",
    "      .format(tree.score(X_train, y_train)))"
   ]
  },
  {
   "cell_type": "markdown",
   "id": "2a53d34a",
   "metadata": {},
   "source": [
    "### 76 percent accuracy for decision tree on training set"
   ]
  },
  {
   "cell_type": "code",
   "execution_count": 23,
   "id": "3c92cb21",
   "metadata": {},
   "outputs": [
    {
     "data": {
      "text/plain": [
       "array([[2919,  694],\n",
       "       [ 506,  803]])"
      ]
     },
     "execution_count": 23,
     "metadata": {},
     "output_type": "execute_result"
    }
   ],
   "source": [
    "# confusion matrix\n",
    "\n",
    "confusion_matrix(y_train, y_pred)"
   ]
  },
  {
   "cell_type": "code",
   "execution_count": 24,
   "id": "f464177f",
   "metadata": {},
   "outputs": [
    {
     "data": {
      "text/plain": [
       "churn\n",
       "0        3613\n",
       "1        1309\n",
       "dtype: int64"
      ]
     },
     "execution_count": 24,
     "metadata": {},
     "output_type": "execute_result"
    }
   ],
   "source": [
    "y_train.value_counts()"
   ]
  },
  {
   "cell_type": "code",
   "execution_count": 25,
   "id": "63b7ec3a",
   "metadata": {},
   "outputs": [
    {
     "name": "stdout",
     "output_type": "stream",
     "text": [
      "Tree of 3 depth\n"
     ]
    },
    {
     "data": {
      "text/html": [
       "<div>\n",
       "<style scoped>\n",
       "    .dataframe tbody tr th:only-of-type {\n",
       "        vertical-align: middle;\n",
       "    }\n",
       "\n",
       "    .dataframe tbody tr th {\n",
       "        vertical-align: top;\n",
       "    }\n",
       "\n",
       "    .dataframe thead th {\n",
       "        text-align: right;\n",
       "    }\n",
       "</style>\n",
       "<table border=\"1\" class=\"dataframe\">\n",
       "  <thead>\n",
       "    <tr style=\"text-align: right;\">\n",
       "      <th></th>\n",
       "      <th>0</th>\n",
       "      <th>1</th>\n",
       "      <th>accuracy</th>\n",
       "      <th>macro avg</th>\n",
       "      <th>weighted avg</th>\n",
       "    </tr>\n",
       "  </thead>\n",
       "  <tbody>\n",
       "    <tr>\n",
       "      <th>precision</th>\n",
       "      <td>0.852263</td>\n",
       "      <td>0.536406</td>\n",
       "      <td>0.756197</td>\n",
       "      <td>0.694334</td>\n",
       "      <td>0.768261</td>\n",
       "    </tr>\n",
       "    <tr>\n",
       "      <th>recall</th>\n",
       "      <td>0.807916</td>\n",
       "      <td>0.613445</td>\n",
       "      <td>0.756197</td>\n",
       "      <td>0.710681</td>\n",
       "      <td>0.756197</td>\n",
       "    </tr>\n",
       "    <tr>\n",
       "      <th>f1-score</th>\n",
       "      <td>0.829497</td>\n",
       "      <td>0.572345</td>\n",
       "      <td>0.756197</td>\n",
       "      <td>0.700921</td>\n",
       "      <td>0.761108</td>\n",
       "    </tr>\n",
       "    <tr>\n",
       "      <th>support</th>\n",
       "      <td>3613.000000</td>\n",
       "      <td>1309.000000</td>\n",
       "      <td>0.756197</td>\n",
       "      <td>4922.000000</td>\n",
       "      <td>4922.000000</td>\n",
       "    </tr>\n",
       "  </tbody>\n",
       "</table>\n",
       "</div>"
      ],
      "text/plain": [
       "                     0            1  accuracy    macro avg  weighted avg\n",
       "precision     0.852263     0.536406  0.756197     0.694334      0.768261\n",
       "recall        0.807916     0.613445  0.756197     0.710681      0.756197\n",
       "f1-score      0.829497     0.572345  0.756197     0.700921      0.761108\n",
       "support    3613.000000  1309.000000  0.756197  4922.000000   4922.000000"
      ]
     },
     "execution_count": 25,
     "metadata": {},
     "output_type": "execute_result"
    }
   ],
   "source": [
    "# Produce the classification report on the actual y values and this model's predicted y values\n",
    "report = classification_report(y_train, y_pred, output_dict=True)\n",
    "print(\"Tree of 3 depth\")\n",
    "pd.DataFrame(report)"
   ]
  },
  {
   "cell_type": "code",
   "execution_count": 26,
   "id": "d4fe5c10",
   "metadata": {},
   "outputs": [
    {
     "data": {
      "text/plain": [
       "(2919, 694, 506, 803)"
      ]
     },
     "execution_count": 26,
     "metadata": {},
     "output_type": "execute_result"
    }
   ],
   "source": [
    "#Calculating TP, FP, FN, TP\n",
    "TN, FP, FN, TP = confusion_matrix(y_train, y_pred).ravel()\n",
    "TN, FP, FN, TP"
   ]
  },
  {
   "cell_type": "code",
   "execution_count": 27,
   "id": "56f669da",
   "metadata": {},
   "outputs": [
    {
     "name": "stdout",
     "output_type": "stream",
     "text": [
      "Accuracy: 0.7561966680211296 \n",
      "\n",
      "True Positive Rate/Sensitivity/Recall/Power: 0.6134453781512605 \n",
      "\n",
      "False Positive Rate/False Alarm Ratio/Fall-out: 0.1920841406033767 \n",
      "\n",
      "True Negative Rate/Specificity/Selectivity: 0.8079158593966234 \n",
      "\n",
      "False Negative Rate/Miss Rate: 0.3865546218487395 \n",
      "\n",
      "Precision/PPV: 0.5364061456245826 \n",
      "\n",
      "F1 Score: 0.5723449750534569 \n",
      "\n",
      "Support (0): 3613 \n",
      "\n",
      "Support (1): 1309\n"
     ]
    }
   ],
   "source": [
    "ALL = TP + FP + FN + TN\n",
    "\n",
    "accuracy = (TP + TN)/ALL\n",
    "true_positive_rate = sensitivity = recall = power = TP/(TP+FN)\n",
    "false_positive_rate = false_alarm_ratio = fallout = FP/(FP+TN)\n",
    "true_negative_rate = specificity = selectivity = TN/(TN+FP)\n",
    "false_negative_rate = miss_rate = FN/(FN+TP)\n",
    "precision = PPV = TP/(TP+FP)\n",
    "f1_score = 2*(precision*recall)/(precision+recall)\n",
    "support_pos = TP + FN\n",
    "support_neg = FP + TN\n",
    "\n",
    "print(f\"Accuracy: {accuracy}\", '\\n')\n",
    "print(f\"True Positive Rate/Sensitivity/Recall/Power: {true_positive_rate}\", '\\n')\n",
    "print(f\"False Positive Rate/False Alarm Ratio/Fall-out: {false_positive_rate}\", '\\n')\n",
    "print(f\"True Negative Rate/Specificity/Selectivity: {true_negative_rate}\", '\\n')\n",
    "print(f\"False Negative Rate/Miss Rate: {false_negative_rate}\", '\\n')\n",
    "print(f\"Precision/PPV: {precision}\", '\\n')\n",
    "print(f\"F1 Score: {f1_score}\", '\\n')\n",
    "print(f\"Support (0): {support_neg}\", '\\n')\n",
    "print(f\"Support (1): {support_pos}\")"
   ]
  },
  {
   "cell_type": "markdown",
   "id": "8d685160",
   "metadata": {},
   "source": [
    "### Evaluate on validate data"
   ]
  },
  {
   "cell_type": "code",
   "execution_count": 28,
   "id": "418910eb",
   "metadata": {},
   "outputs": [
    {
     "name": "stdout",
     "output_type": "stream",
     "text": [
      "Accuracy of Decision Tree classifier on validate set: 0.75\n"
     ]
    }
   ],
   "source": [
    "print('Accuracy of Decision Tree classifier on validate set: {:.2f}'\n",
    "     .format(tree.score(X_validate, y_validate)))"
   ]
  },
  {
   "cell_type": "code",
   "execution_count": 29,
   "id": "98d2e514",
   "metadata": {},
   "outputs": [
    {
     "name": "stdout",
     "output_type": "stream",
     "text": [
      "              precision    recall  f1-score   support\n",
      "\n",
      "           0       0.85      0.81      0.83       775\n",
      "           1       0.53      0.61      0.57       280\n",
      "\n",
      "    accuracy                           0.75      1055\n",
      "   macro avg       0.69      0.71      0.70      1055\n",
      "weighted avg       0.77      0.75      0.76      1055\n",
      "\n"
     ]
    }
   ],
   "source": [
    "# Produce y_predictions that come from the X_validate\n",
    "y_pred_validate = tree.predict(X_validate)\n",
    "\n",
    "# Compare actual y values (from validate) to predicted y_values from the model run on X_validate\n",
    "print(classification_report(y_validate, y_pred_validate))"
   ]
  },
  {
   "cell_type": "code",
   "execution_count": 30,
   "id": "ea777de6",
   "metadata": {},
   "outputs": [
    {
     "data": {
      "text/plain": [
       "array([[625, 150],\n",
       "       [109, 171]])"
      ]
     },
     "execution_count": 30,
     "metadata": {},
     "output_type": "execute_result"
    }
   ],
   "source": [
    "# confusion matrix\n",
    "\n",
    "confusion_matrix(y_validate, y_pred_validate)"
   ]
  },
  {
   "cell_type": "code",
   "execution_count": 31,
   "id": "81cd9edb",
   "metadata": {},
   "outputs": [
    {
     "name": "stdout",
     "output_type": "stream",
     "text": [
      "Tree of 3 depth\n"
     ]
    },
    {
     "data": {
      "text/html": [
       "<div>\n",
       "<style scoped>\n",
       "    .dataframe tbody tr th:only-of-type {\n",
       "        vertical-align: middle;\n",
       "    }\n",
       "\n",
       "    .dataframe tbody tr th {\n",
       "        vertical-align: top;\n",
       "    }\n",
       "\n",
       "    .dataframe thead th {\n",
       "        text-align: right;\n",
       "    }\n",
       "</style>\n",
       "<table border=\"1\" class=\"dataframe\">\n",
       "  <thead>\n",
       "    <tr style=\"text-align: right;\">\n",
       "      <th></th>\n",
       "      <th>0</th>\n",
       "      <th>1</th>\n",
       "      <th>accuracy</th>\n",
       "      <th>macro avg</th>\n",
       "      <th>weighted avg</th>\n",
       "    </tr>\n",
       "  </thead>\n",
       "  <tbody>\n",
       "    <tr>\n",
       "      <th>precision</th>\n",
       "      <td>0.851499</td>\n",
       "      <td>0.532710</td>\n",
       "      <td>0.754502</td>\n",
       "      <td>0.692104</td>\n",
       "      <td>0.766891</td>\n",
       "    </tr>\n",
       "    <tr>\n",
       "      <th>recall</th>\n",
       "      <td>0.806452</td>\n",
       "      <td>0.610714</td>\n",
       "      <td>0.754502</td>\n",
       "      <td>0.708583</td>\n",
       "      <td>0.754502</td>\n",
       "    </tr>\n",
       "    <tr>\n",
       "      <th>f1-score</th>\n",
       "      <td>0.828363</td>\n",
       "      <td>0.569052</td>\n",
       "      <td>0.754502</td>\n",
       "      <td>0.698707</td>\n",
       "      <td>0.759541</td>\n",
       "    </tr>\n",
       "    <tr>\n",
       "      <th>support</th>\n",
       "      <td>775.000000</td>\n",
       "      <td>280.000000</td>\n",
       "      <td>0.754502</td>\n",
       "      <td>1055.000000</td>\n",
       "      <td>1055.000000</td>\n",
       "    </tr>\n",
       "  </tbody>\n",
       "</table>\n",
       "</div>"
      ],
      "text/plain": [
       "                    0           1  accuracy    macro avg  weighted avg\n",
       "precision    0.851499    0.532710  0.754502     0.692104      0.766891\n",
       "recall       0.806452    0.610714  0.754502     0.708583      0.754502\n",
       "f1-score     0.828363    0.569052  0.754502     0.698707      0.759541\n",
       "support    775.000000  280.000000  0.754502  1055.000000   1055.000000"
      ]
     },
     "execution_count": 31,
     "metadata": {},
     "output_type": "execute_result"
    }
   ],
   "source": [
    "# Produce the classification report on the actual y values and this model's predicted y values\n",
    "report = classification_report(y_validate, y_pred_validate, output_dict=True)\n",
    "print(\"Tree of 3 depth\")\n",
    "pd.DataFrame(report)"
   ]
  },
  {
   "cell_type": "code",
   "execution_count": 32,
   "id": "4523eb9c",
   "metadata": {},
   "outputs": [
    {
     "data": {
      "text/plain": [
       "(625, 150, 109, 171)"
      ]
     },
     "execution_count": 32,
     "metadata": {},
     "output_type": "execute_result"
    }
   ],
   "source": [
    "#Running on validate\n",
    "TN, FP, FN, TP = confusion_matrix(y_validate, y_pred_validate).ravel()\n",
    "TN, FP, FN, TP"
   ]
  },
  {
   "cell_type": "code",
   "execution_count": 33,
   "id": "bf58de19",
   "metadata": {},
   "outputs": [
    {
     "name": "stdout",
     "output_type": "stream",
     "text": [
      "Accuracy: 0.7545023696682465 \n",
      "\n",
      "True Positive Rate/Sensitivity/Recall/Power: 0.6107142857142858 \n",
      "\n",
      "False Positive Rate/False Alarm Ratio/Fall-out: 0.1935483870967742 \n",
      "\n",
      "True Negative Rate/Specificity/Selectivity: 0.8064516129032258 \n",
      "\n",
      "False Negative Rate/Miss Rate: 0.3892857142857143 \n",
      "\n",
      "Precision/PPV: 0.5327102803738317 \n",
      "\n",
      "F1 Score: 0.5690515806988353 \n",
      "\n",
      "Support (0): 775 \n",
      "\n",
      "Support (1): 280\n"
     ]
    }
   ],
   "source": [
    "ALL = TP + FP + FN + TN\n",
    "\n",
    "accuracy = (TP + TN)/ALL\n",
    "true_positive_rate = sensitivity = recall = power = TP/(TP+FN)\n",
    "false_positive_rate = false_alarm_ratio = fallout = FP/(FP+TN)\n",
    "true_negative_rate = specificity = selectivity = TN/(TN+FP)\n",
    "false_negative_rate = miss_rate = FN/(FN+TP)\n",
    "precision = PPV = TP/(TP+FP)\n",
    "f1_score = 2*(precision*recall)/(precision+recall)\n",
    "support_pos = TP + FN\n",
    "support_neg = FP + TN\n",
    "\n",
    "print(f\"Accuracy: {accuracy}\", '\\n')\n",
    "print(f\"True Positive Rate/Sensitivity/Recall/Power: {true_positive_rate}\", '\\n')\n",
    "print(f\"False Positive Rate/False Alarm Ratio/Fall-out: {false_positive_rate}\", '\\n')\n",
    "print(f\"True Negative Rate/Specificity/Selectivity: {true_negative_rate}\", '\\n')\n",
    "print(f\"False Negative Rate/Miss Rate: {false_negative_rate}\", '\\n')\n",
    "print(f\"Precision/PPV: {precision}\", '\\n')\n",
    "print(f\"F1 Score: {f1_score}\", '\\n')\n",
    "print(f\"Support (0): {support_neg}\", '\\n')\n",
    "print(f\"Support (1): {support_pos}\")"
   ]
  },
  {
   "cell_type": "markdown",
   "id": "2f5a05d3",
   "metadata": {},
   "source": [
    "### Conclusion for decision tree (depth 3): very close results between training and validate. 76/75 percent accuracy respectively. Baseline is 73.4 so both outperform baseline"
   ]
  },
  {
   "cell_type": "markdown",
   "id": "fbff1854",
   "metadata": {},
   "source": [
    "### Looking at changing depth"
   ]
  },
  {
   "cell_type": "code",
   "execution_count": 34,
   "id": "da9beff6",
   "metadata": {},
   "outputs": [
    {
     "name": "stdout",
     "output_type": "stream",
     "text": [
      "Tree with max depth of 1\n",
      "                     0       1  accuracy    macro avg  weighted avg\n",
      "precision     0.734051     0.0  0.734051     0.367026      0.538831\n",
      "recall        1.000000     0.0  0.734051     0.500000      0.734051\n",
      "f1-score      0.846632     0.0  0.734051     0.423316      0.621471\n",
      "support    3613.000000  1309.0  0.734051  4922.000000   4922.000000\n",
      "\n",
      "Tree with max depth of 2\n",
      "                     0            1  accuracy    macro avg  weighted avg\n",
      "precision     0.853637     0.528571   0.75193     0.691104      0.767186\n",
      "recall        0.799059     0.621849   0.75193     0.710454      0.751930\n",
      "f1-score      0.825447     0.571429   0.75193     0.698438      0.757891\n",
      "support    3613.000000  1309.000000   0.75193  4922.000000   4922.000000\n",
      "\n",
      "Tree with max depth of 3\n",
      "                     0            1  accuracy    macro avg  weighted avg\n",
      "precision     0.852263     0.536406  0.756197     0.694334      0.768261\n",
      "recall        0.807916     0.613445  0.756197     0.710681      0.756197\n",
      "f1-score      0.829497     0.572345  0.756197     0.700921      0.761108\n",
      "support    3613.000000  1309.000000  0.756197  4922.000000   4922.000000\n",
      "\n",
      "Tree with max depth of 4\n",
      "                     0            1  accuracy    macro avg  weighted avg\n",
      "precision     0.831839     0.556003  0.762292     0.693921      0.758481\n",
      "recall        0.847495     0.527120  0.762292     0.687308      0.762292\n",
      "f1-score      0.839594     0.541176  0.762292     0.690385      0.760230\n",
      "support    3613.000000  1309.000000  0.762292  4922.000000   4922.000000\n",
      "\n",
      "Tree with max depth of 5\n",
      "                     0            1  accuracy    macro avg  weighted avg\n",
      "precision     0.837600     0.557797  0.764323     0.697698      0.763186\n",
      "recall        0.842236     0.549274  0.764323     0.695755      0.764323\n",
      "f1-score      0.839912     0.553503  0.764323     0.696707      0.763742\n",
      "support    3613.000000  1309.000000  0.764323  4922.000000   4922.000000\n",
      "\n",
      "Tree with max depth of 6\n",
      "                     0            1  accuracy    macro avg  weighted avg\n",
      "precision     0.839506     0.566954  0.768793     0.703230      0.767021\n",
      "recall        0.846942     0.553094  0.768793     0.700018      0.768793\n",
      "f1-score      0.843207     0.559938  0.768793     0.701573      0.767872\n",
      "support    3613.000000  1309.000000  0.768793  4922.000000   4922.000000\n",
      "\n",
      "Tree with max depth of 7\n",
      "                     0            1  accuracy    macro avg  weighted avg\n",
      "precision     0.853555     0.573295  0.775091     0.713425      0.779020\n",
      "recall        0.837254     0.603514  0.775091     0.720384      0.775091\n",
      "f1-score      0.845326     0.588016  0.775091     0.716671      0.776895\n",
      "support    3613.000000  1309.000000  0.775091  4922.000000   4922.000000\n",
      "\n",
      "Tree with max depth of 8\n",
      "                     0            1  accuracy    macro avg  weighted avg\n",
      "precision     0.845594     0.607762  0.787078     0.726678      0.782343\n",
      "recall        0.868530     0.562261  0.787078     0.715396      0.787078\n",
      "f1-score      0.856909     0.584127  0.787078     0.720518      0.784363\n",
      "support    3613.000000  1309.000000  0.787078  4922.000000   4922.000000\n",
      "\n",
      "Tree with max depth of 9\n",
      "                     0            1  accuracy    macro avg  weighted avg\n",
      "precision     0.847507     0.629377  0.795612     0.738442      0.789496\n",
      "recall        0.879878     0.563025  0.795612     0.721452      0.795612\n",
      "f1-score      0.863389     0.594355  0.795612     0.728872      0.791840\n",
      "support    3613.000000  1309.000000  0.795612  4922.000000   4922.000000\n",
      "\n",
      "Tree with max depth of 10\n",
      "                     0            1  accuracy    macro avg  weighted avg\n",
      "precision     0.849616     0.647162  0.802519     0.748389      0.795774\n",
      "recall        0.888182     0.566081  0.802519     0.727131      0.802519\n",
      "f1-score      0.868471     0.603912  0.802519     0.736191      0.798112\n",
      "support    3613.000000  1309.000000  0.802519  4922.000000   4922.000000\n",
      "\n",
      "Tree with max depth of 11\n",
      "                     0            1  accuracy    macro avg  weighted avg\n",
      "precision     0.848705     0.682674  0.812881     0.765689      0.804549\n",
      "recall        0.906726     0.553858  0.812881     0.730292      0.812881\n",
      "f1-score      0.876756     0.611556  0.812881     0.744156      0.806227\n",
      "support    3613.000000  1309.000000  0.812881  4922.000000   4922.000000\n",
      "\n",
      "Tree with max depth of 12\n",
      "                     0            1  accuracy    macro avg  weighted avg\n",
      "precision     0.857068     0.703053  0.823243     0.780061      0.816108\n",
      "recall        0.911154     0.580596  0.823243     0.745875      0.823243\n",
      "f1-score      0.883284     0.635983  0.823243     0.759634      0.817515\n",
      "support    3613.000000  1309.000000  0.823243  4922.000000   4922.000000\n",
      "\n",
      "Tree with max depth of 13\n",
      "                     0            1  accuracy    macro avg  weighted avg\n",
      "precision     0.864230     0.722527  0.832792     0.793379      0.826544\n",
      "recall        0.916136     0.602750  0.832792     0.759443      0.832792\n",
      "f1-score      0.889426     0.657226  0.832792     0.773326      0.827673\n",
      "support    3613.000000  1309.000000  0.832792  4922.000000   4922.000000\n",
      "\n",
      "Tree with max depth of 14\n",
      "                     0            1  accuracy    macro avg  weighted avg\n",
      "precision     0.873548     0.731922  0.840918     0.802735      0.835883\n",
      "recall        0.915859     0.634072  0.840918     0.774966      0.840918\n",
      "f1-score      0.894203     0.679492  0.840918     0.786848      0.837101\n",
      "support    3613.000000  1309.000000  0.840918  4922.000000   4922.000000\n",
      "\n",
      "Tree with max depth of 15\n",
      "                     0            1  accuracy    macro avg  weighted avg\n",
      "precision     0.884544     0.752365  0.853312     0.818454      0.849391\n",
      "recall        0.920288     0.668449  0.853312     0.794369      0.853312\n",
      "f1-score      0.902062     0.707929  0.853312     0.804995      0.850432\n",
      "support    3613.000000  1309.000000  0.853312  4922.000000   4922.000000\n",
      "\n",
      "Tree with max depth of 16\n",
      "                     0            1  accuracy    macro avg  weighted avg\n",
      "precision     0.893222     0.757475  0.860016     0.825349      0.857120\n",
      "recall        0.919181     0.696715  0.860016     0.807948      0.860016\n",
      "f1-score      0.906016     0.725826  0.860016     0.815921      0.858094\n",
      "support    3613.000000  1309.000000  0.860016  4922.000000   4922.000000\n",
      "\n",
      "Tree with max depth of 17\n",
      "                     0            1  accuracy    macro avg  weighted avg\n",
      "precision     0.899946     0.778239  0.870175     0.839093      0.867578\n",
      "recall        0.926100     0.715814  0.870175     0.820957      0.870175\n",
      "f1-score      0.912836     0.745722  0.870175     0.829279      0.868392\n",
      "support    3613.000000  1309.000000  0.870175  4922.000000   4922.000000\n",
      "\n",
      "Tree with max depth of 18\n",
      "                     0            1  accuracy    macro avg  weighted avg\n",
      "precision     0.900535     0.792724  0.874644     0.846629      0.871863\n",
      "recall        0.932189     0.715814  0.874644     0.824001      0.874644\n",
      "f1-score      0.916089     0.752308  0.874644     0.834198      0.872531\n",
      "support    3613.000000  1309.000000  0.874644  4922.000000   4922.000000\n",
      "\n",
      "Tree with max depth of 19\n",
      "                     0            1  accuracy    macro avg  weighted avg\n",
      "precision     0.892829     0.845137  0.882568     0.868983      0.880146\n",
      "recall        0.954608     0.683728  0.882568     0.819168      0.882568\n",
      "f1-score      0.922686     0.755912  0.882568     0.839299      0.878333\n",
      "support    3613.000000  1309.000000  0.882568  4922.000000   4922.000000\n",
      "\n",
      "Tree with max depth of 20\n",
      "                     0            1  accuracy    macro avg  weighted avg\n",
      "precision     0.904674     0.835242  0.888663     0.869958      0.886209\n",
      "recall        0.948242     0.724217  0.888663     0.836230      0.888663\n",
      "f1-score      0.925946     0.775777  0.888663     0.850862      0.886009\n",
      "support    3613.000000  1309.000000  0.888663  4922.000000   4922.000000\n",
      "\n"
     ]
    }
   ],
   "source": [
    "for i in range(1, 21):\n",
    "    # Make the model\n",
    "    tree = DecisionTreeClassifier(max_depth=i, random_state=123)\n",
    "\n",
    "    # Fit the model (on train and only train)\n",
    "    tree = tree.fit(X_train, y_train)\n",
    "\n",
    "    # Use the model\n",
    "    # We'll evaluate the model's performance on train, first\n",
    "    y_predictions = tree.predict(X_train)\n",
    "\n",
    "    # Produce the classification report on the actual y values and this model's predicted y values\n",
    "    report = classification_report(y_train, y_predictions, output_dict=True)\n",
    "    print(f\"Tree with max depth of {i}\")\n",
    "    print(pd.DataFrame(report))\n",
    "    print()"
   ]
  },
  {
   "cell_type": "markdown",
   "id": "1f324a81",
   "metadata": {},
   "source": [
    "### Comparing in-sample to out of sample performance"
   ]
  },
  {
   "cell_type": "code",
   "execution_count": 35,
   "id": "06a77dee",
   "metadata": {},
   "outputs": [
    {
     "data": {
      "text/html": [
       "<div>\n",
       "<style scoped>\n",
       "    .dataframe tbody tr th:only-of-type {\n",
       "        vertical-align: middle;\n",
       "    }\n",
       "\n",
       "    .dataframe tbody tr th {\n",
       "        vertical-align: top;\n",
       "    }\n",
       "\n",
       "    .dataframe thead th {\n",
       "        text-align: right;\n",
       "    }\n",
       "</style>\n",
       "<table border=\"1\" class=\"dataframe\">\n",
       "  <thead>\n",
       "    <tr style=\"text-align: right;\">\n",
       "      <th></th>\n",
       "      <th>max_depth</th>\n",
       "      <th>train_accuracy</th>\n",
       "      <th>validate_accuracy</th>\n",
       "      <th>difference</th>\n",
       "    </tr>\n",
       "  </thead>\n",
       "  <tbody>\n",
       "    <tr>\n",
       "      <th>0</th>\n",
       "      <td>1</td>\n",
       "      <td>0.734051</td>\n",
       "      <td>0.734597</td>\n",
       "      <td>-0.000546</td>\n",
       "    </tr>\n",
       "    <tr>\n",
       "      <th>1</th>\n",
       "      <td>2</td>\n",
       "      <td>0.751930</td>\n",
       "      <td>0.750711</td>\n",
       "      <td>0.001219</td>\n",
       "    </tr>\n",
       "    <tr>\n",
       "      <th>2</th>\n",
       "      <td>3</td>\n",
       "      <td>0.756197</td>\n",
       "      <td>0.754502</td>\n",
       "      <td>0.001694</td>\n",
       "    </tr>\n",
       "    <tr>\n",
       "      <th>3</th>\n",
       "      <td>4</td>\n",
       "      <td>0.762292</td>\n",
       "      <td>0.762085</td>\n",
       "      <td>0.000206</td>\n",
       "    </tr>\n",
       "    <tr>\n",
       "      <th>4</th>\n",
       "      <td>5</td>\n",
       "      <td>0.764323</td>\n",
       "      <td>0.760190</td>\n",
       "      <td>0.004134</td>\n",
       "    </tr>\n",
       "    <tr>\n",
       "      <th>5</th>\n",
       "      <td>6</td>\n",
       "      <td>0.768793</td>\n",
       "      <td>0.753555</td>\n",
       "      <td>0.015239</td>\n",
       "    </tr>\n",
       "    <tr>\n",
       "      <th>6</th>\n",
       "      <td>7</td>\n",
       "      <td>0.775091</td>\n",
       "      <td>0.751659</td>\n",
       "      <td>0.023433</td>\n",
       "    </tr>\n",
       "    <tr>\n",
       "      <th>7</th>\n",
       "      <td>8</td>\n",
       "      <td>0.787078</td>\n",
       "      <td>0.748815</td>\n",
       "      <td>0.038263</td>\n",
       "    </tr>\n",
       "    <tr>\n",
       "      <th>8</th>\n",
       "      <td>9</td>\n",
       "      <td>0.795612</td>\n",
       "      <td>0.740284</td>\n",
       "      <td>0.055327</td>\n",
       "    </tr>\n",
       "    <tr>\n",
       "      <th>9</th>\n",
       "      <td>10</td>\n",
       "      <td>0.802519</td>\n",
       "      <td>0.743128</td>\n",
       "      <td>0.059391</td>\n",
       "    </tr>\n",
       "    <tr>\n",
       "      <th>10</th>\n",
       "      <td>11</td>\n",
       "      <td>0.812881</td>\n",
       "      <td>0.733649</td>\n",
       "      <td>0.079232</td>\n",
       "    </tr>\n",
       "    <tr>\n",
       "      <th>11</th>\n",
       "      <td>12</td>\n",
       "      <td>0.823243</td>\n",
       "      <td>0.737441</td>\n",
       "      <td>0.085802</td>\n",
       "    </tr>\n",
       "    <tr>\n",
       "      <th>12</th>\n",
       "      <td>13</td>\n",
       "      <td>0.832792</td>\n",
       "      <td>0.729858</td>\n",
       "      <td>0.102934</td>\n",
       "    </tr>\n",
       "    <tr>\n",
       "      <th>13</th>\n",
       "      <td>14</td>\n",
       "      <td>0.840918</td>\n",
       "      <td>0.723223</td>\n",
       "      <td>0.117696</td>\n",
       "    </tr>\n",
       "    <tr>\n",
       "      <th>14</th>\n",
       "      <td>15</td>\n",
       "      <td>0.853312</td>\n",
       "      <td>0.706161</td>\n",
       "      <td>0.147151</td>\n",
       "    </tr>\n",
       "    <tr>\n",
       "      <th>15</th>\n",
       "      <td>16</td>\n",
       "      <td>0.860016</td>\n",
       "      <td>0.699526</td>\n",
       "      <td>0.160490</td>\n",
       "    </tr>\n",
       "    <tr>\n",
       "      <th>16</th>\n",
       "      <td>17</td>\n",
       "      <td>0.870175</td>\n",
       "      <td>0.701422</td>\n",
       "      <td>0.168753</td>\n",
       "    </tr>\n",
       "    <tr>\n",
       "      <th>17</th>\n",
       "      <td>18</td>\n",
       "      <td>0.874644</td>\n",
       "      <td>0.705213</td>\n",
       "      <td>0.169431</td>\n",
       "    </tr>\n",
       "    <tr>\n",
       "      <th>18</th>\n",
       "      <td>19</td>\n",
       "      <td>0.882568</td>\n",
       "      <td>0.700474</td>\n",
       "      <td>0.182094</td>\n",
       "    </tr>\n",
       "    <tr>\n",
       "      <th>19</th>\n",
       "      <td>20</td>\n",
       "      <td>0.888663</td>\n",
       "      <td>0.695735</td>\n",
       "      <td>0.192929</td>\n",
       "    </tr>\n",
       "    <tr>\n",
       "      <th>20</th>\n",
       "      <td>21</td>\n",
       "      <td>0.893742</td>\n",
       "      <td>0.694787</td>\n",
       "      <td>0.198956</td>\n",
       "    </tr>\n",
       "    <tr>\n",
       "      <th>21</th>\n",
       "      <td>22</td>\n",
       "      <td>0.900447</td>\n",
       "      <td>0.694787</td>\n",
       "      <td>0.205660</td>\n",
       "    </tr>\n",
       "    <tr>\n",
       "      <th>22</th>\n",
       "      <td>23</td>\n",
       "      <td>0.903901</td>\n",
       "      <td>0.694787</td>\n",
       "      <td>0.209114</td>\n",
       "    </tr>\n",
       "    <tr>\n",
       "      <th>23</th>\n",
       "      <td>24</td>\n",
       "      <td>0.907964</td>\n",
       "      <td>0.699526</td>\n",
       "      <td>0.208438</td>\n",
       "    </tr>\n",
       "  </tbody>\n",
       "</table>\n",
       "</div>"
      ],
      "text/plain": [
       "    max_depth  train_accuracy  validate_accuracy  difference\n",
       "0           1        0.734051           0.734597   -0.000546\n",
       "1           2        0.751930           0.750711    0.001219\n",
       "2           3        0.756197           0.754502    0.001694\n",
       "3           4        0.762292           0.762085    0.000206\n",
       "4           5        0.764323           0.760190    0.004134\n",
       "5           6        0.768793           0.753555    0.015239\n",
       "6           7        0.775091           0.751659    0.023433\n",
       "7           8        0.787078           0.748815    0.038263\n",
       "8           9        0.795612           0.740284    0.055327\n",
       "9          10        0.802519           0.743128    0.059391\n",
       "10         11        0.812881           0.733649    0.079232\n",
       "11         12        0.823243           0.737441    0.085802\n",
       "12         13        0.832792           0.729858    0.102934\n",
       "13         14        0.840918           0.723223    0.117696\n",
       "14         15        0.853312           0.706161    0.147151\n",
       "15         16        0.860016           0.699526    0.160490\n",
       "16         17        0.870175           0.701422    0.168753\n",
       "17         18        0.874644           0.705213    0.169431\n",
       "18         19        0.882568           0.700474    0.182094\n",
       "19         20        0.888663           0.695735    0.192929\n",
       "20         21        0.893742           0.694787    0.198956\n",
       "21         22        0.900447           0.694787    0.205660\n",
       "22         23        0.903901           0.694787    0.209114\n",
       "23         24        0.907964           0.699526    0.208438"
      ]
     },
     "execution_count": 35,
     "metadata": {},
     "output_type": "execute_result"
    }
   ],
   "source": [
    "# Let's continue getting loopy, so we can compare in-sample to out-of-sample\n",
    "metrics = []\n",
    "\n",
    "for i in range(1, 25):\n",
    "    # Make the model\n",
    "    tree = DecisionTreeClassifier(max_depth=i, random_state=123)\n",
    "\n",
    "    # Fit the model (on train and only train)\n",
    "    tree = tree.fit(X_train, y_train)\n",
    "\n",
    "    # Use the model\n",
    "    # We'll evaluate the model's performance on train, first\n",
    "    in_sample_accuracy = tree.score(X_train, y_train)\n",
    "    \n",
    "    out_of_sample_accuracy = tree.score(X_validate, y_validate)\n",
    "\n",
    "    output = {\n",
    "        \"max_depth\": i,\n",
    "        \"train_accuracy\": in_sample_accuracy,\n",
    "        \"validate_accuracy\": out_of_sample_accuracy\n",
    "    }\n",
    "    \n",
    "    metrics.append(output)\n",
    "    \n",
    "df = pd.DataFrame(metrics)\n",
    "df[\"difference\"] = df.train_accuracy - df.validate_accuracy\n",
    "df"
   ]
  },
  {
   "cell_type": "code",
   "execution_count": 36,
   "id": "33d4da6d",
   "metadata": {},
   "outputs": [
    {
     "data": {
      "image/png": "[encoded data removed]",
      "text/plain": [
       "<Figure size 864x432 with 1 Axes>"
      ]
     },
     "metadata": {
      "needs_background": "light"
     },
     "output_type": "display_data"
    }
   ],
   "source": [
    "plt.figure(figsize=(12, 6))\n",
    "plt.plot(df.max_depth, df.train_accuracy, marker = 'o', label = 'Train')\n",
    "plt.plot(df.max_depth, df.validate_accuracy, marker = 'o', label = 'Validate')\n",
    "plt.title('Overfitting Occurs at Higher Values for Max Depth')\n",
    "plt.xlabel('Max Depth')\n",
    "plt.ylabel('Accuracy')\n",
    "plt.legend()\n",
    "plt.show()"
   ]
  },
  {
   "cell_type": "code",
   "execution_count": null,
   "id": "a8f2e96e",
   "metadata": {},
   "outputs": [],
   "source": [
    "df[df.difference <= 0.10].sort_values(by=['validate_accuracy', 'difference'], ascending = [False,True])"
   ]
  },
  {
   "cell_type": "markdown",
   "id": "569f0b0c",
   "metadata": {},
   "source": [
    "#### It appears that a depth of 3-5 would be the best to ensure closer performance on test/validate"
   ]
  },
  {
   "cell_type": "markdown",
   "id": "adb571f2",
   "metadata": {},
   "source": [
    "### Re-run decision tree with depth of 4"
   ]
  },
  {
   "cell_type": "code",
   "execution_count": 37,
   "id": "f5ef6de8",
   "metadata": {},
   "outputs": [],
   "source": [
    "tree2 = DecisionTreeClassifier(max_depth=4, random_state=123)\n",
    "# model.fit(X, y)\n",
    "tree2.fit(X_train, y_train)\n",
    "y_pred = tree2.predict(X_train)\n",
    "actual = y_train"
   ]
  },
  {
   "cell_type": "code",
   "execution_count": 38,
   "id": "0ae1f2e4",
   "metadata": {},
   "outputs": [
    {
     "data": {
      "text/plain": [
       "array([[0.44498382, 0.55501618],\n",
       "       [0.44498382, 0.55501618],\n",
       "       [0.9889258 , 0.0110742 ],\n",
       "       [0.92622951, 0.07377049],\n",
       "       [0.55172414, 0.44827586]])"
      ]
     },
     "execution_count": 38,
     "metadata": {},
     "output_type": "execute_result"
    }
   ],
   "source": [
    "y_pred_proba = tree2.predict_proba(X_train)\n",
    "y_pred_proba[0:5]"
   ]
  },
  {
   "cell_type": "code",
   "execution_count": 39,
   "id": "d2bfb18f",
   "metadata": {},
   "outputs": [
    {
     "data": {
      "text/plain": [
       "array([[3062,  551],\n",
       "       [ 619,  690]])"
      ]
     },
     "execution_count": 39,
     "metadata": {},
     "output_type": "execute_result"
    }
   ],
   "source": [
    "confusion_matrix(actual, y_pred)"
   ]
  },
  {
   "cell_type": "code",
   "execution_count": 40,
   "id": "2a24ba3e",
   "metadata": {},
   "outputs": [
    {
     "name": "stdout",
     "output_type": "stream",
     "text": [
      "Tree of 4 depth\n"
     ]
    },
    {
     "data": {
      "text/html": [
       "<div>\n",
       "<style scoped>\n",
       "    .dataframe tbody tr th:only-of-type {\n",
       "        vertical-align: middle;\n",
       "    }\n",
       "\n",
       "    .dataframe tbody tr th {\n",
       "        vertical-align: top;\n",
       "    }\n",
       "\n",
       "    .dataframe thead th {\n",
       "        text-align: right;\n",
       "    }\n",
       "</style>\n",
       "<table border=\"1\" class=\"dataframe\">\n",
       "  <thead>\n",
       "    <tr style=\"text-align: right;\">\n",
       "      <th></th>\n",
       "      <th>0</th>\n",
       "      <th>1</th>\n",
       "      <th>accuracy</th>\n",
       "      <th>macro avg</th>\n",
       "      <th>weighted avg</th>\n",
       "    </tr>\n",
       "  </thead>\n",
       "  <tbody>\n",
       "    <tr>\n",
       "      <th>precision</th>\n",
       "      <td>0.831839</td>\n",
       "      <td>0.556003</td>\n",
       "      <td>0.762292</td>\n",
       "      <td>0.693921</td>\n",
       "      <td>0.758481</td>\n",
       "    </tr>\n",
       "    <tr>\n",
       "      <th>recall</th>\n",
       "      <td>0.847495</td>\n",
       "      <td>0.527120</td>\n",
       "      <td>0.762292</td>\n",
       "      <td>0.687308</td>\n",
       "      <td>0.762292</td>\n",
       "    </tr>\n",
       "    <tr>\n",
       "      <th>f1-score</th>\n",
       "      <td>0.839594</td>\n",
       "      <td>0.541176</td>\n",
       "      <td>0.762292</td>\n",
       "      <td>0.690385</td>\n",
       "      <td>0.760230</td>\n",
       "    </tr>\n",
       "    <tr>\n",
       "      <th>support</th>\n",
       "      <td>3613.000000</td>\n",
       "      <td>1309.000000</td>\n",
       "      <td>0.762292</td>\n",
       "      <td>4922.000000</td>\n",
       "      <td>4922.000000</td>\n",
       "    </tr>\n",
       "  </tbody>\n",
       "</table>\n",
       "</div>"
      ],
      "text/plain": [
       "                     0            1  accuracy    macro avg  weighted avg\n",
       "precision     0.831839     0.556003  0.762292     0.693921      0.758481\n",
       "recall        0.847495     0.527120  0.762292     0.687308      0.762292\n",
       "f1-score      0.839594     0.541176  0.762292     0.690385      0.760230\n",
       "support    3613.000000  1309.000000  0.762292  4922.000000   4922.000000"
      ]
     },
     "execution_count": 40,
     "metadata": {},
     "output_type": "execute_result"
    }
   ],
   "source": [
    "# Classification report on the actual y values and this model's predicted y values\n",
    "report = classification_report(y_train, y_pred, output_dict=True)\n",
    "print(\"Tree of 4 depth\")\n",
    "pd.DataFrame(report)"
   ]
  },
  {
   "cell_type": "code",
   "execution_count": 41,
   "id": "50d78520",
   "metadata": {},
   "outputs": [
    {
     "data": {
      "text/plain": [
       "(3062, 551, 619, 690)"
      ]
     },
     "execution_count": 41,
     "metadata": {},
     "output_type": "execute_result"
    }
   ],
   "source": [
    "#Calculating TP, FP, FN, TP\n",
    "TN, FP, FN, TP = confusion_matrix(y_train, y_pred).ravel()\n",
    "TN, FP, FN, TP"
   ]
  },
  {
   "cell_type": "code",
   "execution_count": 42,
   "id": "332eddce",
   "metadata": {},
   "outputs": [
    {
     "name": "stdout",
     "output_type": "stream",
     "text": [
      "Accuracy: 0.7622917513206013 \n",
      "\n",
      "True Positive Rate/Sensitivity/Recall/Power: 0.5271199388846448 \n",
      "\n",
      "False Positive Rate/False Alarm Ratio/Fall-out: 0.15250484362026018 \n",
      "\n",
      "True Negative Rate/Specificity/Selectivity: 0.8474951563797398 \n",
      "\n",
      "False Negative Rate/Miss Rate: 0.47288006111535524 \n",
      "\n",
      "Precision/PPV: 0.5560032232070911 \n",
      "\n",
      "F1 Score: 0.5411764705882353 \n",
      "\n",
      "Support (0): 3613 \n",
      "\n",
      "Support (1): 1309\n"
     ]
    }
   ],
   "source": [
    "ALL = TP + FP + FN + TN\n",
    "\n",
    "accuracy = (TP + TN)/ALL\n",
    "true_positive_rate = sensitivity = recall = power = TP/(TP+FN)\n",
    "false_positive_rate = false_alarm_ratio = fallout = FP/(FP+TN)\n",
    "true_negative_rate = specificity = selectivity = TN/(TN+FP)\n",
    "false_negative_rate = miss_rate = FN/(FN+TP)\n",
    "precision = PPV = TP/(TP+FP)\n",
    "f1_score = 2*(precision*recall)/(precision+recall)\n",
    "support_pos = TP + FN\n",
    "support_neg = FP + TN\n",
    "\n",
    "print(f\"Accuracy: {accuracy}\", '\\n')\n",
    "print(f\"True Positive Rate/Sensitivity/Recall/Power: {true_positive_rate}\", '\\n')\n",
    "print(f\"False Positive Rate/False Alarm Ratio/Fall-out: {false_positive_rate}\", '\\n')\n",
    "print(f\"True Negative Rate/Specificity/Selectivity: {true_negative_rate}\", '\\n')\n",
    "print(f\"False Negative Rate/Miss Rate: {false_negative_rate}\", '\\n')\n",
    "print(f\"Precision/PPV: {precision}\", '\\n')\n",
    "print(f\"F1 Score: {f1_score}\", '\\n')\n",
    "print(f\"Support (0): {support_neg}\", '\\n')\n",
    "print(f\"Support (1): {support_pos}\")"
   ]
  },
  {
   "cell_type": "markdown",
   "id": "f9d3d3d6",
   "metadata": {},
   "source": [
    "#### Running against validate data"
   ]
  },
  {
   "cell_type": "code",
   "execution_count": 43,
   "id": "a4c46dd7",
   "metadata": {},
   "outputs": [],
   "source": [
    "y_pred_validate = tree2.predict(X_validate)"
   ]
  },
  {
   "cell_type": "code",
   "execution_count": 44,
   "id": "1938789d",
   "metadata": {},
   "outputs": [
    {
     "data": {
      "text/plain": [
       "(663, 112, 139, 141)"
      ]
     },
     "execution_count": 44,
     "metadata": {},
     "output_type": "execute_result"
    }
   ],
   "source": [
    "#Running on validate\n",
    "TN, FP, FN, TP = confusion_matrix(y_validate, y_pred_validate).ravel()\n",
    "TN, FP, FN, TP"
   ]
  },
  {
   "cell_type": "code",
   "execution_count": 45,
   "id": "548b13b3",
   "metadata": {},
   "outputs": [
    {
     "name": "stdout",
     "output_type": "stream",
     "text": [
      "Accuracy: 0.762085308056872 \n",
      "\n",
      "True Positive Rate/Sensitivity/Recall/Power: 0.5035714285714286 \n",
      "\n",
      "False Positive Rate/False Alarm Ratio/Fall-out: 0.14451612903225808 \n",
      "\n",
      "True Negative Rate/Specificity/Selectivity: 0.8554838709677419 \n",
      "\n",
      "False Negative Rate/Miss Rate: 0.49642857142857144 \n",
      "\n",
      "Precision/PPV: 0.5573122529644269 \n",
      "\n",
      "F1 Score: 0.5290806754221389 \n",
      "\n",
      "Support (0): 775 \n",
      "\n",
      "Support (1): 280\n"
     ]
    }
   ],
   "source": [
    "ALL = TP + FP + FN + TN\n",
    "\n",
    "accuracy = (TP + TN)/ALL\n",
    "true_positive_rate = sensitivity = recall = power = TP/(TP+FN)\n",
    "false_positive_rate = false_alarm_ratio = fallout = FP/(FP+TN)\n",
    "true_negative_rate = specificity = selectivity = TN/(TN+FP)\n",
    "false_negative_rate = miss_rate = FN/(FN+TP)\n",
    "precision = PPV = TP/(TP+FP)\n",
    "f1_score = 2*(precision*recall)/(precision+recall)\n",
    "support_pos = TP + FN\n",
    "support_neg = FP + TN\n",
    "\n",
    "print(f\"Accuracy: {accuracy}\", '\\n')\n",
    "print(f\"True Positive Rate/Sensitivity/Recall/Power: {true_positive_rate}\", '\\n')\n",
    "print(f\"False Positive Rate/False Alarm Ratio/Fall-out: {false_positive_rate}\", '\\n')\n",
    "print(f\"True Negative Rate/Specificity/Selectivity: {true_negative_rate}\", '\\n')\n",
    "print(f\"False Negative Rate/Miss Rate: {false_negative_rate}\", '\\n')\n",
    "print(f\"Precision/PPV: {precision}\", '\\n')\n",
    "print(f\"F1 Score: {f1_score}\", '\\n')\n",
    "print(f\"Support (0): {support_neg}\", '\\n')\n",
    "print(f\"Support (1): {support_pos}\")"
   ]
  },
  {
   "cell_type": "markdown",
   "id": "4a13dafb",
   "metadata": {},
   "source": [
    "#### I will use decision tree model with depth of 3, it has a slightly lower accuracy than four, and a small difference in accuracy between training and validate data. It also has a higher recall rate (0.61) than tree model with depth of 4."
   ]
  },
  {
   "cell_type": "markdown",
   "id": "6cf720d3",
   "metadata": {},
   "source": [
    "## Random Forest Modeling"
   ]
  },
  {
   "cell_type": "code",
   "execution_count": 46,
   "id": "efb86492",
   "metadata": {},
   "outputs": [],
   "source": [
    "rf = RandomForestClassifier(bootstrap=True, \n",
    "                            class_weight=None, \n",
    "                            criterion='gini',\n",
    "                            min_samples_leaf=3,\n",
    "                            n_estimators=100,\n",
    "                            max_depth=3, \n",
    "                            random_state=123)"
   ]
  },
  {
   "cell_type": "code",
   "execution_count": 47,
   "id": "1335dbc7",
   "metadata": {},
   "outputs": [
    {
     "data": {
      "text/plain": [
       "RandomForestClassifier(max_depth=3, min_samples_leaf=3, random_state=123)"
      ]
     },
     "execution_count": 47,
     "metadata": {},
     "output_type": "execute_result"
    }
   ],
   "source": [
    "#fit the model, max depth 3, min sample leaf 3\n",
    "rf.fit(X_train, y_train)"
   ]
  },
  {
   "cell_type": "code",
   "execution_count": 48,
   "id": "9d775601",
   "metadata": {},
   "outputs": [
    {
     "name": "stdout",
     "output_type": "stream",
     "text": [
      "[0.0313264  0.03418535 0.1775129  0.43672083 0.10585512 0.2143994 ]\n"
     ]
    }
   ],
   "source": [
    "# Evaluate importance, or weight, of each feature.\n",
    "print(rf.feature_importances_)"
   ]
  },
  {
   "cell_type": "code",
   "execution_count": 49,
   "id": "300580ac",
   "metadata": {},
   "outputs": [
    {
     "data": {
      "image/png": "[encoded data removed]",
      "text/plain": [
       "<Figure size 432x288 with 1 Axes>"
      ]
     },
     "metadata": {
      "needs_background": "light"
     },
     "output_type": "display_data"
    }
   ],
   "source": [
    "#Visualize feature importance\n",
    "plt.bar(X_train.columns, rf.feature_importances_)\n",
    "plt.show()"
   ]
  },
  {
   "cell_type": "code",
   "execution_count": 50,
   "id": "c69ba297",
   "metadata": {},
   "outputs": [
    {
     "data": {
      "text/html": [
       "<div>\n",
       "<style scoped>\n",
       "    .dataframe tbody tr th:only-of-type {\n",
       "        vertical-align: middle;\n",
       "    }\n",
       "\n",
       "    .dataframe tbody tr th {\n",
       "        vertical-align: top;\n",
       "    }\n",
       "\n",
       "    .dataframe thead th {\n",
       "        text-align: right;\n",
       "    }\n",
       "</style>\n",
       "<table border=\"1\" class=\"dataframe\">\n",
       "  <thead>\n",
       "    <tr style=\"text-align: right;\">\n",
       "      <th></th>\n",
       "      <th>senior_citizen</th>\n",
       "      <th>dependents_encoded</th>\n",
       "      <th>monthly_charges</th>\n",
       "      <th>contract_type_Month-to-month</th>\n",
       "      <th>contract_type_One year</th>\n",
       "      <th>contract_type_Two year</th>\n",
       "    </tr>\n",
       "  </thead>\n",
       "  <tbody>\n",
       "    <tr>\n",
       "      <th>0</th>\n",
       "      <td>0</td>\n",
       "      <td>0</td>\n",
       "      <td>95.70</td>\n",
       "      <td>1</td>\n",
       "      <td>0</td>\n",
       "      <td>0</td>\n",
       "    </tr>\n",
       "    <tr>\n",
       "      <th>1</th>\n",
       "      <td>0</td>\n",
       "      <td>0</td>\n",
       "      <td>70.20</td>\n",
       "      <td>1</td>\n",
       "      <td>0</td>\n",
       "      <td>0</td>\n",
       "    </tr>\n",
       "    <tr>\n",
       "      <th>2</th>\n",
       "      <td>0</td>\n",
       "      <td>1</td>\n",
       "      <td>20.35</td>\n",
       "      <td>0</td>\n",
       "      <td>0</td>\n",
       "      <td>1</td>\n",
       "    </tr>\n",
       "    <tr>\n",
       "      <th>3</th>\n",
       "      <td>0</td>\n",
       "      <td>1</td>\n",
       "      <td>109.00</td>\n",
       "      <td>0</td>\n",
       "      <td>0</td>\n",
       "      <td>1</td>\n",
       "    </tr>\n",
       "    <tr>\n",
       "      <th>4</th>\n",
       "      <td>0</td>\n",
       "      <td>1</td>\n",
       "      <td>96.95</td>\n",
       "      <td>1</td>\n",
       "      <td>0</td>\n",
       "      <td>0</td>\n",
       "    </tr>\n",
       "  </tbody>\n",
       "</table>\n",
       "</div>"
      ],
      "text/plain": [
       "   senior_citizen  dependents_encoded  monthly_charges  \\\n",
       "0               0                   0            95.70   \n",
       "1               0                   0            70.20   \n",
       "2               0                   1            20.35   \n",
       "3               0                   1           109.00   \n",
       "4               0                   1            96.95   \n",
       "\n",
       "   contract_type_Month-to-month  contract_type_One year  \\\n",
       "0                             1                       0   \n",
       "1                             1                       0   \n",
       "2                             0                       0   \n",
       "3                             0                       0   \n",
       "4                             1                       0   \n",
       "\n",
       "   contract_type_Two year  \n",
       "0                       0  \n",
       "1                       0  \n",
       "2                       1  \n",
       "3                       1  \n",
       "4                       0  "
      ]
     },
     "execution_count": 50,
     "metadata": {},
     "output_type": "execute_result"
    }
   ],
   "source": [
    "#interpret feature weight\n",
    "X_train.head()"
   ]
  },
  {
   "cell_type": "code",
   "execution_count": 51,
   "id": "1bd628fd",
   "metadata": {},
   "outputs": [],
   "source": [
    "#Make predictions\n",
    "y_pred = rf.predict(X_train)"
   ]
  },
  {
   "cell_type": "code",
   "execution_count": 52,
   "id": "2cb307ed",
   "metadata": {},
   "outputs": [],
   "source": [
    "#Estimate Probability\n",
    "y_pred_proba = rf.predict_proba(X_train)"
   ]
  },
  {
   "cell_type": "markdown",
   "id": "b6e953ca",
   "metadata": {},
   "source": [
    "### Evaluate model performance on training data"
   ]
  },
  {
   "cell_type": "code",
   "execution_count": 53,
   "id": "5082a8e0",
   "metadata": {},
   "outputs": [
    {
     "name": "stdout",
     "output_type": "stream",
     "text": [
      "Accuracy of random forest classifier on training set: 0.75\n"
     ]
    }
   ],
   "source": [
    "#Evaluate model performance\n",
    "print('Accuracy of random forest classifier on training set: {:.2f}'\n",
    "     .format(rf.score(X_train, y_train)))"
   ]
  },
  {
   "cell_type": "code",
   "execution_count": 54,
   "id": "42787014",
   "metadata": {},
   "outputs": [
    {
     "data": {
      "text/plain": [
       "0.7513206013815522"
      ]
     },
     "execution_count": 54,
     "metadata": {},
     "output_type": "execute_result"
    }
   ],
   "source": [
    "rf.score(X_train, y_train)"
   ]
  },
  {
   "cell_type": "code",
   "execution_count": 55,
   "id": "472e06a6",
   "metadata": {},
   "outputs": [
    {
     "name": "stdout",
     "output_type": "stream",
     "text": [
      "[[3447  166]\n",
      " [1058  251]]\n"
     ]
    }
   ],
   "source": [
    "cm = confusion_matrix(y_train, y_pred)\n",
    "print(cm)"
   ]
  },
  {
   "cell_type": "code",
   "execution_count": 56,
   "id": "5c0eb18d",
   "metadata": {},
   "outputs": [
    {
     "data": {
      "image/png": "[encoded data removed]",
      "text/plain": [
       "<Figure size 432x288 with 2 Axes>"
      ]
     },
     "metadata": {
      "needs_background": "light"
     },
     "output_type": "display_data"
    }
   ],
   "source": [
    "disp = ConfusionMatrixDisplay(confusion_matrix=cm, display_labels=rf.classes_)\n",
    "\n",
    "disp.plot()\n",
    "plt.show()"
   ]
  },
  {
   "cell_type": "code",
   "execution_count": 57,
   "id": "48b2c132",
   "metadata": {},
   "outputs": [
    {
     "name": "stdout",
     "output_type": "stream",
     "text": [
      "              precision    recall  f1-score   support\n",
      "\n",
      "           0       0.77      0.95      0.85      3613\n",
      "           1       0.60      0.19      0.29      1309\n",
      "\n",
      "    accuracy                           0.75      4922\n",
      "   macro avg       0.68      0.57      0.57      4922\n",
      "weighted avg       0.72      0.75      0.70      4922\n",
      "\n"
     ]
    }
   ],
   "source": [
    "print(classification_report(y_train, y_pred))"
   ]
  },
  {
   "cell_type": "code",
   "execution_count": 58,
   "id": "94878c8e",
   "metadata": {},
   "outputs": [
    {
     "data": {
      "text/plain": [
       "(251, 3447, 166, 1058, 4922)"
      ]
     },
     "execution_count": 58,
     "metadata": {},
     "output_type": "execute_result"
    }
   ],
   "source": [
    "TN, FP, FN, TP = confusion_matrix(y_train,y_pred).ravel()\n",
    "ALL = TP + TN + FP + FN\n",
    "\n",
    "TP, TN, FP, FN, ALL"
   ]
  },
  {
   "cell_type": "code",
   "execution_count": 59,
   "id": "c8036c6a",
   "metadata": {},
   "outputs": [
    {
     "name": "stdout",
     "output_type": "stream",
     "text": [
      "Accuracy: 0.7513206013815522\n",
      "True Positive Rate: 0.1917494270435447\n",
      "False Positive Rate: 0.045945197896484914\n",
      "True Negative Rate: 0.9540548021035151\n",
      "False Negative Rate: 0.8082505729564553\n",
      "Precision: 0.6019184652278178\n",
      "Recall: 0.1917494270435447\n",
      "F1 Score: 0.290845886442642\n",
      "Support (0): 1309\n",
      "Support (1): 3613\n"
     ]
    }
   ],
   "source": [
    "accuracy = (TP + TN)/ALL\n",
    "print(f\"Accuracy: {accuracy}\")\n",
    "\n",
    "true_positive_rate = TP/(TP+FN)\n",
    "print(f\"True Positive Rate: {true_positive_rate}\")\n",
    "\n",
    "false_positive_rate = FP/(FP+TN)\n",
    "print(f\"False Positive Rate: {false_positive_rate}\")\n",
    "\n",
    "true_negative_rate = TN/(TN+FP)\n",
    "print(f\"True Negative Rate: {true_negative_rate}\")\n",
    "\n",
    "false_negative_rate = FN/(FN+TP)\n",
    "print(f\"False Negative Rate: {false_negative_rate}\")\n",
    "\n",
    "precision = TP/(TP+FP)\n",
    "print(f\"Precision: {precision}\")\n",
    "\n",
    "recall = TP/(TP+FN)\n",
    "print(f\"Recall: {recall}\")\n",
    "\n",
    "f1_score = 2*(precision*recall)/(precision+recall)\n",
    "print(f\"F1 Score: {f1_score}\")\n",
    "\n",
    "support_pos = TP + FN\n",
    "print(f\"Support (0): {support_pos}\")\n",
    "\n",
    "support_neg = FP + TN\n",
    "print(f\"Support (1): {support_neg}\")"
   ]
  },
  {
   "cell_type": "markdown",
   "id": "0fe419f7",
   "metadata": {},
   "source": [
    "### Comparing in-sample to out of sample performance (evaluate on validate data)"
   ]
  },
  {
   "cell_type": "code",
   "execution_count": 60,
   "id": "cf780fdb",
   "metadata": {},
   "outputs": [
    {
     "data": {
      "text/plain": [
       "0.7459715639810427"
      ]
     },
     "execution_count": 60,
     "metadata": {},
     "output_type": "execute_result"
    }
   ],
   "source": [
    "rf.score(X_validate, y_validate)"
   ]
  },
  {
   "cell_type": "code",
   "execution_count": 61,
   "id": "83fb490d",
   "metadata": {},
   "outputs": [
    {
     "name": "stdout",
     "output_type": "stream",
     "text": [
      "Accuracy of random forest classifier on validate set: 0.75\n"
     ]
    }
   ],
   "source": [
    "print('Accuracy of random forest classifier on validate set: {:.2f}'\n",
    "     .format(rf.score(X_validate, y_validate)))"
   ]
  },
  {
   "cell_type": "code",
   "execution_count": 62,
   "id": "0d907520",
   "metadata": {},
   "outputs": [],
   "source": [
    "y_pred_validate = tree2.predict(X_validate)"
   ]
  },
  {
   "cell_type": "code",
   "execution_count": 63,
   "id": "dbac1d79",
   "metadata": {},
   "outputs": [
    {
     "data": {
      "text/plain": [
       "(141, 663, 112, 139, 1055)"
      ]
     },
     "execution_count": 63,
     "metadata": {},
     "output_type": "execute_result"
    }
   ],
   "source": [
    "TN, FP, FN, TP = confusion_matrix(y_validate,y_pred_validate).ravel()\n",
    "ALL = TP + TN + FP + FN\n",
    "\n",
    "TP, TN, FP, FN, ALL"
   ]
  },
  {
   "cell_type": "code",
   "execution_count": 64,
   "id": "792910db",
   "metadata": {},
   "outputs": [
    {
     "name": "stdout",
     "output_type": "stream",
     "text": [
      "Accuracy: 0.762085308056872\n",
      "True Positive Rate: 0.5035714285714286\n",
      "False Positive Rate: 0.14451612903225808\n",
      "True Negative Rate: 0.8554838709677419\n",
      "False Negative Rate: 0.49642857142857144\n",
      "Precision: 0.5573122529644269\n",
      "Recall: 0.5035714285714286\n",
      "F1 Score: 0.5290806754221389\n",
      "Support (0): 280\n",
      "Support (1): 775\n"
     ]
    }
   ],
   "source": [
    "accuracy = (TP + TN)/ALL\n",
    "print(f\"Accuracy: {accuracy}\")\n",
    "\n",
    "true_positive_rate = TP/(TP+FN)\n",
    "print(f\"True Positive Rate: {true_positive_rate}\")\n",
    "\n",
    "false_positive_rate = FP/(FP+TN)\n",
    "print(f\"False Positive Rate: {false_positive_rate}\")\n",
    "\n",
    "true_negative_rate = TN/(TN+FP)\n",
    "print(f\"True Negative Rate: {true_negative_rate}\")\n",
    "\n",
    "false_negative_rate = FN/(FN+TP)\n",
    "print(f\"False Negative Rate: {false_negative_rate}\")\n",
    "\n",
    "precision = TP/(TP+FP)\n",
    "print(f\"Precision: {precision}\")\n",
    "\n",
    "recall = TP/(TP+FN)\n",
    "print(f\"Recall: {recall}\")\n",
    "\n",
    "f1_score = 2*(precision*recall)/(precision+recall)\n",
    "print(f\"F1 Score: {f1_score}\")\n",
    "\n",
    "support_pos = TP + FN\n",
    "print(f\"Support (0): {support_pos}\")\n",
    "\n",
    "support_neg = FP + TN\n",
    "print(f\"Support (1): {support_neg}\")"
   ]
  },
  {
   "cell_type": "markdown",
   "id": "2a42cd60",
   "metadata": {},
   "source": [
    "### Comparing accuracy of different depths"
   ]
  },
  {
   "cell_type": "code",
   "execution_count": 65,
   "id": "3628fbb5",
   "metadata": {},
   "outputs": [
    {
     "name": "stdout",
     "output_type": "stream",
     "text": [
      "Tree with max depth of 2\n",
      "                     0       1  accuracy    macro avg  weighted avg\n",
      "precision     0.734051     0.0  0.734051     0.367026      0.538831\n",
      "recall        1.000000     0.0  0.734051     0.500000      0.734051\n",
      "f1-score      0.846632     0.0  0.734051     0.423316      0.621471\n",
      "support    3613.000000  1309.0  0.734051  4922.000000   4922.000000\n",
      "\n",
      "Tree with max depth of 3\n",
      "                     0            1  accuracy    macro avg  weighted avg\n",
      "precision     0.765150     0.601918  0.751321     0.683534      0.721739\n",
      "recall        0.954055     0.191749  0.751321     0.572902      0.751321\n",
      "f1-score      0.849224     0.290846  0.751321     0.570035      0.700724\n",
      "support    3613.000000  1309.000000  0.751321  4922.000000   4922.000000\n",
      "\n",
      "Tree with max depth of 4\n",
      "                     0            1  accuracy    macro avg  weighted avg\n",
      "precision     0.828032     0.553630  0.760463     0.690831      0.755055\n",
      "recall        0.850263     0.512605  0.760463     0.681434      0.760463\n",
      "f1-score      0.839000     0.532328  0.760463     0.685664      0.757441\n",
      "support    3613.000000  1309.000000  0.760463  4922.000000   4922.000000\n",
      "\n",
      "Tree with max depth of 5\n",
      "                     0            1  accuracy    macro avg  weighted avg\n",
      "precision     0.832067     0.558252  0.763308     0.695160      0.759247\n",
      "recall        0.848879     0.527120  0.763308     0.687999      0.763308\n",
      "f1-score      0.840389     0.542240  0.763308     0.691314      0.761097\n",
      "support    3613.000000  1309.000000  0.763308  4922.000000   4922.000000\n",
      "\n",
      "Tree with max depth of 6\n",
      "                     0            1  accuracy    macro avg  weighted avg\n",
      "precision     0.841756     0.565719  0.768793     0.703738      0.768345\n",
      "recall        0.843620     0.562261  0.768793     0.702941      0.768793\n",
      "f1-score      0.842687     0.563985  0.768793     0.703336      0.768567\n",
      "support    3613.000000  1309.000000  0.768793  4922.000000   4922.000000\n",
      "\n",
      "Tree with max depth of 7\n",
      "                     0            1  accuracy    macro avg  weighted avg\n",
      "precision     0.842219     0.591687  0.779764     0.716953      0.775590\n",
      "recall        0.861334     0.554622  0.779764     0.707978      0.779764\n",
      "f1-score      0.851669     0.572555  0.779764     0.712112      0.777439\n",
      "support    3613.000000  1309.000000  0.779764  4922.000000   4922.000000\n",
      "\n",
      "Tree with max depth of 8\n",
      "                     0            1  accuracy    macro avg  weighted avg\n",
      "precision     0.834941     0.621895  0.787891     0.728418      0.778282\n",
      "recall        0.886244     0.516425  0.787891     0.701334      0.787891\n",
      "f1-score      0.859828     0.564274  0.787891     0.712051      0.781226\n",
      "support    3613.000000  1309.000000  0.787891  4922.000000   4922.000000\n",
      "\n",
      "Tree with max depth of 9\n",
      "                     0            1  accuracy    macro avg  weighted avg\n",
      "precision     0.850013     0.652863  0.804551     0.751438      0.797581\n",
      "recall        0.890949     0.566081  0.804551     0.728515      0.804551\n",
      "f1-score      0.870000     0.606383  0.804551     0.738191      0.799891\n",
      "support    3613.000000  1309.000000  0.804551  4922.000000   4922.000000\n",
      "\n",
      "Tree with max depth of 10\n",
      "                     0            1  accuracy    macro avg  weighted avg\n",
      "precision     0.865652     0.684211  0.822227     0.774931      0.817398\n",
      "recall        0.897038     0.615737  0.822227     0.756388      0.822227\n",
      "f1-score      0.881066     0.648170  0.822227     0.764618      0.819127\n",
      "support    3613.000000  1309.000000  0.822227  4922.000000   4922.000000\n",
      "\n"
     ]
    }
   ],
   "source": [
    "for i in range(2, 11):\n",
    "    # Make the model\n",
    "    forest = RandomForestClassifier(max_depth=i, random_state=123)\n",
    "\n",
    "    # Fit the model (on train and only train)\n",
    "    forest = forest.fit(X_train, y_train)\n",
    "\n",
    "    # Use the model\n",
    "    # We'll evaluate the model's performance on train, first\n",
    "    y_predictions = forest.predict(X_train)\n",
    "\n",
    "    # Produce the classification report on the actual y values and this model's predicted y values\n",
    "    report = classification_report(y_train, y_predictions, output_dict=True)\n",
    "    print(f\"Tree with max depth of {i}\")\n",
    "    print(pd.DataFrame(report))\n",
    "    print()"
   ]
  },
  {
   "cell_type": "code",
   "execution_count": 66,
   "id": "f7ecd71b",
   "metadata": {},
   "outputs": [
    {
     "data": {
      "text/html": [
       "<div>\n",
       "<style scoped>\n",
       "    .dataframe tbody tr th:only-of-type {\n",
       "        vertical-align: middle;\n",
       "    }\n",
       "\n",
       "    .dataframe tbody tr th {\n",
       "        vertical-align: top;\n",
       "    }\n",
       "\n",
       "    .dataframe thead th {\n",
       "        text-align: right;\n",
       "    }\n",
       "</style>\n",
       "<table border=\"1\" class=\"dataframe\">\n",
       "  <thead>\n",
       "    <tr style=\"text-align: right;\">\n",
       "      <th></th>\n",
       "      <th>max_depth</th>\n",
       "      <th>train_accuracy</th>\n",
       "      <th>validate_accuracy</th>\n",
       "      <th>difference</th>\n",
       "    </tr>\n",
       "  </thead>\n",
       "  <tbody>\n",
       "    <tr>\n",
       "      <th>0</th>\n",
       "      <td>2</td>\n",
       "      <td>0.734051</td>\n",
       "      <td>0.734597</td>\n",
       "      <td>-0.000546</td>\n",
       "    </tr>\n",
       "    <tr>\n",
       "      <th>1</th>\n",
       "      <td>3</td>\n",
       "      <td>0.751321</td>\n",
       "      <td>0.745972</td>\n",
       "      <td>0.005349</td>\n",
       "    </tr>\n",
       "    <tr>\n",
       "      <th>2</th>\n",
       "      <td>4</td>\n",
       "      <td>0.760463</td>\n",
       "      <td>0.761137</td>\n",
       "      <td>-0.000674</td>\n",
       "    </tr>\n",
       "    <tr>\n",
       "      <th>3</th>\n",
       "      <td>5</td>\n",
       "      <td>0.763308</td>\n",
       "      <td>0.765877</td>\n",
       "      <td>-0.002569</td>\n",
       "    </tr>\n",
       "    <tr>\n",
       "      <th>4</th>\n",
       "      <td>6</td>\n",
       "      <td>0.768793</td>\n",
       "      <td>0.763981</td>\n",
       "      <td>0.004812</td>\n",
       "    </tr>\n",
       "    <tr>\n",
       "      <th>5</th>\n",
       "      <td>7</td>\n",
       "      <td>0.779764</td>\n",
       "      <td>0.760190</td>\n",
       "      <td>0.019575</td>\n",
       "    </tr>\n",
       "    <tr>\n",
       "      <th>6</th>\n",
       "      <td>8</td>\n",
       "      <td>0.787891</td>\n",
       "      <td>0.749763</td>\n",
       "      <td>0.038128</td>\n",
       "    </tr>\n",
       "    <tr>\n",
       "      <th>7</th>\n",
       "      <td>9</td>\n",
       "      <td>0.804551</td>\n",
       "      <td>0.741232</td>\n",
       "      <td>0.063319</td>\n",
       "    </tr>\n",
       "    <tr>\n",
       "      <th>8</th>\n",
       "      <td>10</td>\n",
       "      <td>0.822227</td>\n",
       "      <td>0.735545</td>\n",
       "      <td>0.086682</td>\n",
       "    </tr>\n",
       "    <tr>\n",
       "      <th>9</th>\n",
       "      <td>11</td>\n",
       "      <td>0.840512</td>\n",
       "      <td>0.722275</td>\n",
       "      <td>0.118237</td>\n",
       "    </tr>\n",
       "    <tr>\n",
       "      <th>10</th>\n",
       "      <td>12</td>\n",
       "      <td>0.863064</td>\n",
       "      <td>0.722275</td>\n",
       "      <td>0.140789</td>\n",
       "    </tr>\n",
       "    <tr>\n",
       "      <th>11</th>\n",
       "      <td>13</td>\n",
       "      <td>0.878302</td>\n",
       "      <td>0.714692</td>\n",
       "      <td>0.163610</td>\n",
       "    </tr>\n",
       "    <tr>\n",
       "      <th>12</th>\n",
       "      <td>14</td>\n",
       "      <td>0.890492</td>\n",
       "      <td>0.710900</td>\n",
       "      <td>0.179591</td>\n",
       "    </tr>\n",
       "    <tr>\n",
       "      <th>13</th>\n",
       "      <td>15</td>\n",
       "      <td>0.898822</td>\n",
       "      <td>0.709953</td>\n",
       "      <td>0.188869</td>\n",
       "    </tr>\n",
       "    <tr>\n",
       "      <th>14</th>\n",
       "      <td>16</td>\n",
       "      <td>0.904917</td>\n",
       "      <td>0.709953</td>\n",
       "      <td>0.194964</td>\n",
       "    </tr>\n",
       "    <tr>\n",
       "      <th>15</th>\n",
       "      <td>17</td>\n",
       "      <td>0.910402</td>\n",
       "      <td>0.704265</td>\n",
       "      <td>0.206137</td>\n",
       "    </tr>\n",
       "    <tr>\n",
       "      <th>16</th>\n",
       "      <td>18</td>\n",
       "      <td>0.913043</td>\n",
       "      <td>0.707109</td>\n",
       "      <td>0.205934</td>\n",
       "    </tr>\n",
       "    <tr>\n",
       "      <th>17</th>\n",
       "      <td>19</td>\n",
       "      <td>0.915482</td>\n",
       "      <td>0.704265</td>\n",
       "      <td>0.211216</td>\n",
       "    </tr>\n",
       "    <tr>\n",
       "      <th>18</th>\n",
       "      <td>20</td>\n",
       "      <td>0.917513</td>\n",
       "      <td>0.700474</td>\n",
       "      <td>0.217039</td>\n",
       "    </tr>\n",
       "    <tr>\n",
       "      <th>19</th>\n",
       "      <td>21</td>\n",
       "      <td>0.918123</td>\n",
       "      <td>0.702370</td>\n",
       "      <td>0.215753</td>\n",
       "    </tr>\n",
       "    <tr>\n",
       "      <th>20</th>\n",
       "      <td>22</td>\n",
       "      <td>0.918123</td>\n",
       "      <td>0.703318</td>\n",
       "      <td>0.214805</td>\n",
       "    </tr>\n",
       "    <tr>\n",
       "      <th>21</th>\n",
       "      <td>23</td>\n",
       "      <td>0.918123</td>\n",
       "      <td>0.704265</td>\n",
       "      <td>0.213857</td>\n",
       "    </tr>\n",
       "    <tr>\n",
       "      <th>22</th>\n",
       "      <td>24</td>\n",
       "      <td>0.918326</td>\n",
       "      <td>0.703318</td>\n",
       "      <td>0.215008</td>\n",
       "    </tr>\n",
       "  </tbody>\n",
       "</table>\n",
       "</div>"
      ],
      "text/plain": [
       "    max_depth  train_accuracy  validate_accuracy  difference\n",
       "0           2        0.734051           0.734597   -0.000546\n",
       "1           3        0.751321           0.745972    0.005349\n",
       "2           4        0.760463           0.761137   -0.000674\n",
       "3           5        0.763308           0.765877   -0.002569\n",
       "4           6        0.768793           0.763981    0.004812\n",
       "5           7        0.779764           0.760190    0.019575\n",
       "6           8        0.787891           0.749763    0.038128\n",
       "7           9        0.804551           0.741232    0.063319\n",
       "8          10        0.822227           0.735545    0.086682\n",
       "9          11        0.840512           0.722275    0.118237\n",
       "10         12        0.863064           0.722275    0.140789\n",
       "11         13        0.878302           0.714692    0.163610\n",
       "12         14        0.890492           0.710900    0.179591\n",
       "13         15        0.898822           0.709953    0.188869\n",
       "14         16        0.904917           0.709953    0.194964\n",
       "15         17        0.910402           0.704265    0.206137\n",
       "16         18        0.913043           0.707109    0.205934\n",
       "17         19        0.915482           0.704265    0.211216\n",
       "18         20        0.917513           0.700474    0.217039\n",
       "19         21        0.918123           0.702370    0.215753\n",
       "20         22        0.918123           0.703318    0.214805\n",
       "21         23        0.918123           0.704265    0.213857\n",
       "22         24        0.918326           0.703318    0.215008"
      ]
     },
     "execution_count": 66,
     "metadata": {},
     "output_type": "execute_result"
    }
   ],
   "source": [
    "# Let's continue getting loopy, so we can compare in-sample to out-of-sample\n",
    "metrics = []\n",
    "\n",
    "for i in range(2, 25):\n",
    "    # Make the model\n",
    "    forest = RandomForestClassifier(max_depth=i, random_state=123)\n",
    "\n",
    "    # Fit the model (on train and only train)\n",
    "    forest = forest.fit(X_train, y_train)\n",
    "\n",
    "    # Use the model\n",
    "    # We'll evaluate the model's performance on train, first then check validate\n",
    "    in_sample_accuracy = forest.score(X_train, y_train)\n",
    "    \n",
    "    out_of_sample_accuracy = forest.score(X_validate, y_validate)\n",
    "\n",
    "    output = {\n",
    "        \"max_depth\": i,\n",
    "        \"train_accuracy\": in_sample_accuracy,\n",
    "        \"validate_accuracy\": out_of_sample_accuracy\n",
    "    }\n",
    "    \n",
    "    metrics.append(output)\n",
    "    \n",
    "df = pd.DataFrame(metrics)\n",
    "df[\"difference\"] = df.train_accuracy - df.validate_accuracy\n",
    "df"
   ]
  },
  {
   "cell_type": "markdown",
   "id": "ebd31aa8",
   "metadata": {},
   "source": [
    "### Looking at increasing min samples of leaf while decreasing max depth"
   ]
  },
  {
   "cell_type": "code",
   "execution_count": 67,
   "id": "0e1ffa3a",
   "metadata": {},
   "outputs": [
    {
     "data": {
      "text/html": [
       "<div>\n",
       "<style scoped>\n",
       "    .dataframe tbody tr th:only-of-type {\n",
       "        vertical-align: middle;\n",
       "    }\n",
       "\n",
       "    .dataframe tbody tr th {\n",
       "        vertical-align: top;\n",
       "    }\n",
       "\n",
       "    .dataframe thead th {\n",
       "        text-align: right;\n",
       "    }\n",
       "</style>\n",
       "<table border=\"1\" class=\"dataframe\">\n",
       "  <thead>\n",
       "    <tr style=\"text-align: right;\">\n",
       "      <th></th>\n",
       "      <th>min_samples_per_leaf</th>\n",
       "      <th>max_depth</th>\n",
       "      <th>train_accuracy</th>\n",
       "      <th>validate_accuracy</th>\n",
       "      <th>difference</th>\n",
       "    </tr>\n",
       "  </thead>\n",
       "  <tbody>\n",
       "    <tr>\n",
       "      <th>0</th>\n",
       "      <td>2</td>\n",
       "      <td>18</td>\n",
       "      <td>0.867330</td>\n",
       "      <td>0.723223</td>\n",
       "      <td>0.144108</td>\n",
       "    </tr>\n",
       "    <tr>\n",
       "      <th>1</th>\n",
       "      <td>3</td>\n",
       "      <td>17</td>\n",
       "      <td>0.844982</td>\n",
       "      <td>0.726066</td>\n",
       "      <td>0.118915</td>\n",
       "    </tr>\n",
       "    <tr>\n",
       "      <th>2</th>\n",
       "      <td>4</td>\n",
       "      <td>16</td>\n",
       "      <td>0.833198</td>\n",
       "      <td>0.730806</td>\n",
       "      <td>0.102392</td>\n",
       "    </tr>\n",
       "    <tr>\n",
       "      <th>3</th>\n",
       "      <td>5</td>\n",
       "      <td>15</td>\n",
       "      <td>0.821414</td>\n",
       "      <td>0.736493</td>\n",
       "      <td>0.084921</td>\n",
       "    </tr>\n",
       "    <tr>\n",
       "      <th>4</th>\n",
       "      <td>6</td>\n",
       "      <td>14</td>\n",
       "      <td>0.817148</td>\n",
       "      <td>0.740284</td>\n",
       "      <td>0.076863</td>\n",
       "    </tr>\n",
       "    <tr>\n",
       "      <th>5</th>\n",
       "      <td>7</td>\n",
       "      <td>13</td>\n",
       "      <td>0.810646</td>\n",
       "      <td>0.739336</td>\n",
       "      <td>0.071310</td>\n",
       "    </tr>\n",
       "    <tr>\n",
       "      <th>6</th>\n",
       "      <td>8</td>\n",
       "      <td>12</td>\n",
       "      <td>0.806176</td>\n",
       "      <td>0.741232</td>\n",
       "      <td>0.064944</td>\n",
       "    </tr>\n",
       "    <tr>\n",
       "      <th>7</th>\n",
       "      <td>9</td>\n",
       "      <td>11</td>\n",
       "      <td>0.799878</td>\n",
       "      <td>0.744076</td>\n",
       "      <td>0.055802</td>\n",
       "    </tr>\n",
       "    <tr>\n",
       "      <th>8</th>\n",
       "      <td>10</td>\n",
       "      <td>10</td>\n",
       "      <td>0.793783</td>\n",
       "      <td>0.753555</td>\n",
       "      <td>0.040229</td>\n",
       "    </tr>\n",
       "    <tr>\n",
       "      <th>9</th>\n",
       "      <td>11</td>\n",
       "      <td>9</td>\n",
       "      <td>0.784844</td>\n",
       "      <td>0.748815</td>\n",
       "      <td>0.036028</td>\n",
       "    </tr>\n",
       "    <tr>\n",
       "      <th>10</th>\n",
       "      <td>12</td>\n",
       "      <td>8</td>\n",
       "      <td>0.776514</td>\n",
       "      <td>0.752607</td>\n",
       "      <td>0.023907</td>\n",
       "    </tr>\n",
       "    <tr>\n",
       "      <th>11</th>\n",
       "      <td>13</td>\n",
       "      <td>7</td>\n",
       "      <td>0.772247</td>\n",
       "      <td>0.756398</td>\n",
       "      <td>0.015849</td>\n",
       "    </tr>\n",
       "    <tr>\n",
       "      <th>12</th>\n",
       "      <td>14</td>\n",
       "      <td>6</td>\n",
       "      <td>0.766355</td>\n",
       "      <td>0.763033</td>\n",
       "      <td>0.003322</td>\n",
       "    </tr>\n",
       "    <tr>\n",
       "      <th>13</th>\n",
       "      <td>15</td>\n",
       "      <td>5</td>\n",
       "      <td>0.762089</td>\n",
       "      <td>0.763033</td>\n",
       "      <td>-0.000945</td>\n",
       "    </tr>\n",
       "    <tr>\n",
       "      <th>14</th>\n",
       "      <td>16</td>\n",
       "      <td>4</td>\n",
       "      <td>0.761276</td>\n",
       "      <td>0.760190</td>\n",
       "      <td>0.001086</td>\n",
       "    </tr>\n",
       "    <tr>\n",
       "      <th>15</th>\n",
       "      <td>17</td>\n",
       "      <td>3</td>\n",
       "      <td>0.750102</td>\n",
       "      <td>0.744076</td>\n",
       "      <td>0.006026</td>\n",
       "    </tr>\n",
       "    <tr>\n",
       "      <th>16</th>\n",
       "      <td>18</td>\n",
       "      <td>2</td>\n",
       "      <td>0.734051</td>\n",
       "      <td>0.734597</td>\n",
       "      <td>-0.000546</td>\n",
       "    </tr>\n",
       "    <tr>\n",
       "      <th>17</th>\n",
       "      <td>19</td>\n",
       "      <td>1</td>\n",
       "      <td>0.734051</td>\n",
       "      <td>0.734597</td>\n",
       "      <td>-0.000546</td>\n",
       "    </tr>\n",
       "  </tbody>\n",
       "</table>\n",
       "</div>"
      ],
      "text/plain": [
       "    min_samples_per_leaf  max_depth  train_accuracy  validate_accuracy  \\\n",
       "0                      2         18        0.867330           0.723223   \n",
       "1                      3         17        0.844982           0.726066   \n",
       "2                      4         16        0.833198           0.730806   \n",
       "3                      5         15        0.821414           0.736493   \n",
       "4                      6         14        0.817148           0.740284   \n",
       "5                      7         13        0.810646           0.739336   \n",
       "6                      8         12        0.806176           0.741232   \n",
       "7                      9         11        0.799878           0.744076   \n",
       "8                     10         10        0.793783           0.753555   \n",
       "9                     11          9        0.784844           0.748815   \n",
       "10                    12          8        0.776514           0.752607   \n",
       "11                    13          7        0.772247           0.756398   \n",
       "12                    14          6        0.766355           0.763033   \n",
       "13                    15          5        0.762089           0.763033   \n",
       "14                    16          4        0.761276           0.760190   \n",
       "15                    17          3        0.750102           0.744076   \n",
       "16                    18          2        0.734051           0.734597   \n",
       "17                    19          1        0.734051           0.734597   \n",
       "\n",
       "    difference  \n",
       "0     0.144108  \n",
       "1     0.118915  \n",
       "2     0.102392  \n",
       "3     0.084921  \n",
       "4     0.076863  \n",
       "5     0.071310  \n",
       "6     0.064944  \n",
       "7     0.055802  \n",
       "8     0.040229  \n",
       "9     0.036028  \n",
       "10    0.023907  \n",
       "11    0.015849  \n",
       "12    0.003322  \n",
       "13   -0.000945  \n",
       "14    0.001086  \n",
       "15    0.006026  \n",
       "16   -0.000546  \n",
       "17   -0.000546  "
      ]
     },
     "execution_count": 67,
     "metadata": {},
     "output_type": "execute_result"
    }
   ],
   "source": [
    "# Let's continue getting loopy, so we can compare in-sample to out-of-sample\n",
    "metrics = []\n",
    "max_depth = 20\n",
    "\n",
    "for i in range(2, max_depth):\n",
    "    # Make the model\n",
    "    depth = max_depth - i\n",
    "    n_samples = i\n",
    "    forest = RandomForestClassifier(max_depth=depth, min_samples_leaf=n_samples, random_state=123)\n",
    "\n",
    "    # Fit the model (on train and only train)\n",
    "    forest = forest.fit(X_train, y_train)\n",
    "\n",
    "    # Use the model\n",
    "    # We'll evaluate the model's performance on train, first\n",
    "    in_sample_accuracy = forest.score(X_train, y_train)\n",
    "    \n",
    "    out_of_sample_accuracy = forest.score(X_validate, y_validate)\n",
    "\n",
    "    output = {\n",
    "        \"min_samples_per_leaf\": n_samples,\n",
    "        \"max_depth\": depth,\n",
    "        \"train_accuracy\": in_sample_accuracy,\n",
    "        \"validate_accuracy\": out_of_sample_accuracy\n",
    "    }\n",
    "    \n",
    "    metrics.append(output)\n",
    "    \n",
    "df = pd.DataFrame(metrics)\n",
    "df[\"difference\"] = df.train_accuracy - df.validate_accuracy\n",
    "df"
   ]
  },
  {
   "cell_type": "code",
   "execution_count": 68,
   "id": "7db8f8bd",
   "metadata": {},
   "outputs": [
    {
     "data": {
      "image/png": "[encoded data removed]",
      "text/plain": [
       "<Figure size 1152x648 with 1 Axes>"
      ]
     },
     "metadata": {
      "needs_background": "light"
     },
     "output_type": "display_data"
    }
   ],
   "source": [
    "df.set_index('max_depth')[['train_accuracy', 'validate_accuracy','difference']].plot(figsize = (16,9))\n",
    "plt.ylabel('Accuracy')\n",
    "plt.xticks(np.arange(0,21,1))\n",
    "plt.grid()"
   ]
  },
  {
   "cell_type": "markdown",
   "id": "d4dd7324",
   "metadata": {},
   "source": [
    "### increase both min_samples_per_leaf and max_depth"
   ]
  },
  {
   "cell_type": "code",
   "execution_count": null,
   "id": "c525a83d",
   "metadata": {},
   "outputs": [],
   "source": [
    "# Let's continue getting loopy, so we can compare in-sample to out-of-sample\n",
    "metrics = []\n",
    "max_depth = 20\n",
    "\n",
    "for i in range(2, max_depth):\n",
    "    # Make the model\n",
    "    depth = i\n",
    "    n_samples = i\n",
    "    forest = RandomForestClassifier(max_depth=depth, min_samples_leaf=n_samples, random_state=123)\n",
    "\n",
    "    # Fit the model (on train and only train)\n",
    "    forest = forest.fit(X_train, y_train)\n",
    "\n",
    "    # Use the model\n",
    "    # We'll evaluate the model's performance on train, first\n",
    "    in_sample_accuracy = forest.score(X_train, y_train)\n",
    "    \n",
    "    out_of_sample_accuracy = forest.score(X_validate, y_validate)\n",
    "\n",
    "    output = {\n",
    "        \"min_samples_per_leaf\": n_samples,\n",
    "        \"max_depth\": depth,\n",
    "        \"train_accuracy\": in_sample_accuracy,\n",
    "        \"validate_accuracy\": out_of_sample_accuracy\n",
    "    }\n",
    "    \n",
    "    metrics.append(output)\n",
    "    \n",
    "df = pd.DataFrame(metrics)\n",
    "df[\"difference\"] = df.train_accuracy - df.validate_accuracy\n",
    "df"
   ]
  },
  {
   "cell_type": "code",
   "execution_count": null,
   "id": "3a1587de",
   "metadata": {},
   "outputs": [],
   "source": [
    "df[['train_accuracy', 'validate_accuracy','difference']].plot(figsize = (16,9))\n",
    "plt.grid()"
   ]
  },
  {
   "cell_type": "markdown",
   "id": "e88ab23f",
   "metadata": {},
   "source": [
    "### fixed depth and increasing min_samples_leaf"
   ]
  },
  {
   "cell_type": "code",
   "execution_count": null,
   "id": "a1429e8b",
   "metadata": {},
   "outputs": [],
   "source": [
    "metrics = []\n",
    "\n",
    "\n",
    "for i in range(2, 50):\n",
    "    # Make the model\n",
    "    depth = 6\n",
    "    n_samples = i\n",
    "    forest = RandomForestClassifier(max_depth=depth, min_samples_leaf=n_samples, random_state=123)\n",
    "\n",
    "    # Fit the model (on train and only train)\n",
    "    forest = forest.fit(X_train, y_train)\n",
    "\n",
    "    # Use the model\n",
    "    # We'll evaluate the model's performance on train, first\n",
    "    in_sample_accuracy = forest.score(X_train, y_train)\n",
    "    \n",
    "    out_of_sample_accuracy = forest.score(X_validate, y_validate)\n",
    "\n",
    "    output = {\n",
    "        \"min_samples_per_leaf\": n_samples,\n",
    "        \"max_depth\": depth,\n",
    "        \"train_accuracy\": in_sample_accuracy,\n",
    "        \"validate_accuracy\": out_of_sample_accuracy\n",
    "    }\n",
    "    \n",
    "    metrics.append(output)\n",
    "    \n",
    "df = pd.DataFrame(metrics)\n",
    "df[\"difference\"] = df.train_accuracy - df.validate_accuracy\n",
    "df"
   ]
  },
  {
   "cell_type": "code",
   "execution_count": null,
   "id": "f21dd2ca",
   "metadata": {},
   "outputs": [],
   "source": [
    "df.set_index('min_samples_per_leaf')[['train_accuracy', 'validate_accuracy', 'difference']].plot(figsize = (16,9))\n",
    "plt.ylabel('Accuracy')\n",
    "plt.xticks(np.arange(0,50,5))\n",
    "plt.grid()"
   ]
  },
  {
   "cell_type": "markdown",
   "id": "76dac429",
   "metadata": {},
   "source": [
    "### Going to rerun  random forest modeling with max depth of 5, min samples leaf of 5"
   ]
  },
  {
   "cell_type": "code",
   "execution_count": 69,
   "id": "084d6e11",
   "metadata": {},
   "outputs": [],
   "source": [
    "rf5 = RandomForestClassifier(bootstrap=True, \n",
    "                            class_weight=None, \n",
    "                            criterion='gini',\n",
    "                            min_samples_leaf=5,\n",
    "                            n_estimators=100,\n",
    "                            max_depth=5, \n",
    "                            random_state=123)"
   ]
  },
  {
   "cell_type": "code",
   "execution_count": 70,
   "id": "aa0472ed",
   "metadata": {},
   "outputs": [
    {
     "data": {
      "text/plain": [
       "RandomForestClassifier(max_depth=5, min_samples_leaf=5, random_state=123)"
      ]
     },
     "execution_count": 70,
     "metadata": {},
     "output_type": "execute_result"
    }
   ],
   "source": [
    "#fit the model, max depth 5, min sample leaf 5\n",
    "rf5.fit(X_train, y_train)"
   ]
  },
  {
   "cell_type": "code",
   "execution_count": 71,
   "id": "8a4429c1",
   "metadata": {},
   "outputs": [
    {
     "name": "stdout",
     "output_type": "stream",
     "text": [
      "[0.03284262 0.03637999 0.27725552 0.37322784 0.08984355 0.19045047]\n"
     ]
    }
   ],
   "source": [
    "# Evaluate importance, or weight, of each feature.\n",
    "print(rf5.feature_importances_)"
   ]
  },
  {
   "cell_type": "code",
   "execution_count": 72,
   "id": "d8bf3b68",
   "metadata": {},
   "outputs": [
    {
     "data": {
      "image/png": "[encoded data removed]",
      "text/plain": [
       "<Figure size 432x288 with 1 Axes>"
      ]
     },
     "metadata": {
      "needs_background": "light"
     },
     "output_type": "display_data"
    }
   ],
   "source": [
    "#Visualize feature importance\n",
    "plt.bar(X_train.columns, rf.feature_importances_)\n",
    "plt.show()"
   ]
  },
  {
   "cell_type": "code",
   "execution_count": 73,
   "id": "bdb00578",
   "metadata": {},
   "outputs": [],
   "source": [
    "#Make predictions\n",
    "y_pred = rf5.predict(X_train)"
   ]
  },
  {
   "cell_type": "code",
   "execution_count": 74,
   "id": "b3a35c68",
   "metadata": {},
   "outputs": [],
   "source": [
    "#Estimate Probability\n",
    "y_pred_proba = rf5.predict_proba(X_train)"
   ]
  },
  {
   "cell_type": "markdown",
   "id": "93db264a",
   "metadata": {},
   "source": [
    "### Evaluate performance of rf model (5,5) on training data"
   ]
  },
  {
   "cell_type": "code",
   "execution_count": 75,
   "id": "41e09f07",
   "metadata": {},
   "outputs": [
    {
     "name": "stdout",
     "output_type": "stream",
     "text": [
      "Accuracy of random forest classifier on training set: 0.76\n"
     ]
    }
   ],
   "source": [
    "#Evaluate model performance\n",
    "print('Accuracy of random forest classifier on training set: {:.2f}'\n",
    "     .format(rf5.score(X_train, y_train)))"
   ]
  },
  {
   "cell_type": "code",
   "execution_count": 76,
   "id": "0f650e0c",
   "metadata": {},
   "outputs": [
    {
     "name": "stdout",
     "output_type": "stream",
     "text": [
      "[[3068  545]\n",
      " [ 617  692]]\n"
     ]
    }
   ],
   "source": [
    "cm = confusion_matrix(y_train, y_pred)\n",
    "print(cm)"
   ]
  },
  {
   "cell_type": "code",
   "execution_count": 77,
   "id": "128cbe5d",
   "metadata": {},
   "outputs": [
    {
     "data": {
      "image/png": "[encoded data removed]",
      "text/plain": [
       "<Figure size 432x288 with 2 Axes>"
      ]
     },
     "metadata": {
      "needs_background": "light"
     },
     "output_type": "display_data"
    }
   ],
   "source": [
    "disp = ConfusionMatrixDisplay(confusion_matrix=cm, display_labels=rf5.classes_)\n",
    "\n",
    "disp.plot()\n",
    "plt.show()"
   ]
  },
  {
   "cell_type": "code",
   "execution_count": 78,
   "id": "96eaab05",
   "metadata": {},
   "outputs": [
    {
     "name": "stdout",
     "output_type": "stream",
     "text": [
      "              precision    recall  f1-score   support\n",
      "\n",
      "           0       0.83      0.85      0.84      3613\n",
      "           1       0.56      0.53      0.54      1309\n",
      "\n",
      "    accuracy                           0.76      4922\n",
      "   macro avg       0.70      0.69      0.69      4922\n",
      "weighted avg       0.76      0.76      0.76      4922\n",
      "\n"
     ]
    }
   ],
   "source": [
    "print(classification_report(y_train, y_pred))"
   ]
  },
  {
   "cell_type": "code",
   "execution_count": 79,
   "id": "03362569",
   "metadata": {},
   "outputs": [
    {
     "data": {
      "text/plain": [
       "(692, 3068, 545, 617, 4922)"
      ]
     },
     "execution_count": 79,
     "metadata": {},
     "output_type": "execute_result"
    }
   ],
   "source": [
    "TN, FP, FN, TP = confusion_matrix(y_train,y_pred).ravel()\n",
    "ALL = TP + TN + FP + FN\n",
    "\n",
    "TP, TN, FP, FN, ALL"
   ]
  },
  {
   "cell_type": "code",
   "execution_count": 80,
   "id": "7e888df3",
   "metadata": {},
   "outputs": [
    {
     "name": "stdout",
     "output_type": "stream",
     "text": [
      "Accuracy: 0.7639171068671272\n",
      "True Positive Rate: 0.5286478227654698\n",
      "False Positive Rate: 0.15084417381677276\n",
      "True Negative Rate: 0.8491558261832273\n",
      "False Negative Rate: 0.47135217723453016\n",
      "Precision: 0.5594179466451091\n",
      "Recall: 0.5286478227654698\n",
      "F1 Score: 0.5435978004713276\n",
      "Support (0): 1309\n",
      "Support (1): 3613\n"
     ]
    }
   ],
   "source": [
    "accuracy = (TP + TN)/ALL\n",
    "print(f\"Accuracy: {accuracy}\")\n",
    "\n",
    "true_positive_rate = TP/(TP+FN)\n",
    "print(f\"True Positive Rate: {true_positive_rate}\")\n",
    "\n",
    "false_positive_rate = FP/(FP+TN)\n",
    "print(f\"False Positive Rate: {false_positive_rate}\")\n",
    "\n",
    "true_negative_rate = TN/(TN+FP)\n",
    "print(f\"True Negative Rate: {true_negative_rate}\")\n",
    "\n",
    "false_negative_rate = FN/(FN+TP)\n",
    "print(f\"False Negative Rate: {false_negative_rate}\")\n",
    "\n",
    "precision = TP/(TP+FP)\n",
    "print(f\"Precision: {precision}\")\n",
    "\n",
    "recall = TP/(TP+FN)\n",
    "print(f\"Recall: {recall}\")\n",
    "\n",
    "f1_score = 2*(precision*recall)/(precision+recall)\n",
    "print(f\"F1 Score: {f1_score}\")\n",
    "\n",
    "support_pos = TP + FN\n",
    "print(f\"Support (0): {support_pos}\")\n",
    "\n",
    "support_neg = FP + TN\n",
    "print(f\"Support (1): {support_neg}\")"
   ]
  },
  {
   "cell_type": "markdown",
   "id": "f9e87b31",
   "metadata": {},
   "source": [
    "#### Performance of RF model (5,5) on validate data"
   ]
  },
  {
   "cell_type": "code",
   "execution_count": 81,
   "id": "0f68a8b8",
   "metadata": {},
   "outputs": [
    {
     "name": "stdout",
     "output_type": "stream",
     "text": [
      "Accuracy of random forest classifier on validate set: 0.76\n"
     ]
    }
   ],
   "source": [
    "print('Accuracy of random forest classifier on validate set: {:.2f}'\n",
    "     .format(rf5.score(X_validate, y_validate)))"
   ]
  },
  {
   "cell_type": "code",
   "execution_count": 82,
   "id": "63eeb2ed",
   "metadata": {},
   "outputs": [],
   "source": [
    "y_pred_validate = tree2.predict(X_validate)"
   ]
  },
  {
   "cell_type": "code",
   "execution_count": 83,
   "id": "89ba2d59",
   "metadata": {},
   "outputs": [
    {
     "data": {
      "text/plain": [
       "(141, 663, 112, 139, 1055)"
      ]
     },
     "execution_count": 83,
     "metadata": {},
     "output_type": "execute_result"
    }
   ],
   "source": [
    "TN, FP, FN, TP = confusion_matrix(y_validate,y_pred_validate).ravel()\n",
    "ALL = TP + TN + FP + FN\n",
    "\n",
    "TP, TN, FP, FN, ALL"
   ]
  },
  {
   "cell_type": "code",
   "execution_count": 84,
   "id": "7344b561",
   "metadata": {},
   "outputs": [
    {
     "name": "stdout",
     "output_type": "stream",
     "text": [
      "Accuracy: 0.762085308056872\n",
      "True Positive Rate: 0.5035714285714286\n",
      "False Positive Rate: 0.14451612903225808\n",
      "True Negative Rate: 0.8554838709677419\n",
      "False Negative Rate: 0.49642857142857144\n",
      "Precision: 0.5573122529644269\n",
      "Recall: 0.5035714285714286\n",
      "F1 Score: 0.5290806754221389\n",
      "Support (0): 280\n",
      "Support (1): 775\n"
     ]
    }
   ],
   "source": [
    "accuracy = (TP + TN)/ALL\n",
    "print(f\"Accuracy: {accuracy}\")\n",
    "\n",
    "true_positive_rate = TP/(TP+FN)\n",
    "print(f\"True Positive Rate: {true_positive_rate}\")\n",
    "\n",
    "false_positive_rate = FP/(FP+TN)\n",
    "print(f\"False Positive Rate: {false_positive_rate}\")\n",
    "\n",
    "true_negative_rate = TN/(TN+FP)\n",
    "print(f\"True Negative Rate: {true_negative_rate}\")\n",
    "\n",
    "false_negative_rate = FN/(FN+TP)\n",
    "print(f\"False Negative Rate: {false_negative_rate}\")\n",
    "\n",
    "precision = TP/(TP+FP)\n",
    "print(f\"Precision: {precision}\")\n",
    "\n",
    "recall = TP/(TP+FN)\n",
    "print(f\"Recall: {recall}\")\n",
    "\n",
    "f1_score = 2*(precision*recall)/(precision+recall)\n",
    "print(f\"F1 Score: {f1_score}\")\n",
    "\n",
    "support_pos = TP + FN\n",
    "print(f\"Support (0): {support_pos}\")\n",
    "\n",
    "support_neg = FP + TN\n",
    "print(f\"Support (1): {support_neg}\")"
   ]
  },
  {
   "cell_type": "markdown",
   "id": "530f9b9c",
   "metadata": {},
   "source": [
    "### Conclusion for RF modeling: our best model is 76 percent accurate on training and validation data, about the same as decision tree. Recall (0.52) and precision (0.52)"
   ]
  },
  {
   "cell_type": "markdown",
   "id": "21128115",
   "metadata": {},
   "source": [
    "## K Nearest Neighbor modeling"
   ]
  },
  {
   "cell_type": "code",
   "execution_count": 85,
   "id": "80411eaa",
   "metadata": {},
   "outputs": [],
   "source": [
    "#Starting with basic model, 5 neighbors\n",
    "# weights = ['uniform', 'density']\n",
    "knn = KNeighborsClassifier(n_neighbors=5, weights='uniform')"
   ]
  },
  {
   "cell_type": "code",
   "execution_count": 86,
   "id": "a128d495",
   "metadata": {},
   "outputs": [
    {
     "data": {
      "text/plain": [
       "KNeighborsClassifier()"
      ]
     },
     "execution_count": 86,
     "metadata": {},
     "output_type": "execute_result"
    }
   ],
   "source": [
    "#fitting the model\n",
    "knn.fit(X_train, y_train)"
   ]
  },
  {
   "cell_type": "code",
   "execution_count": 87,
   "id": "fecdd40f",
   "metadata": {},
   "outputs": [],
   "source": [
    "#Making predictions\n",
    "y_pred = knn.predict(X_train)"
   ]
  },
  {
   "cell_type": "code",
   "execution_count": 88,
   "id": "fd7262e3",
   "metadata": {},
   "outputs": [],
   "source": [
    "#Estimating probability\n",
    "y_pred_proba = knn.predict_proba(X_train)"
   ]
  },
  {
   "cell_type": "code",
   "execution_count": 89,
   "id": "0804c772",
   "metadata": {},
   "outputs": [
    {
     "name": "stdout",
     "output_type": "stream",
     "text": [
      "Accuracy of KNN classifier on training set: 0.82\n"
     ]
    }
   ],
   "source": [
    "#Accuracy\n",
    "print('Accuracy of KNN classifier on training set: {:.2f}'\n",
    "     .format(knn.score(X_train, y_train)))"
   ]
  },
  {
   "cell_type": "code",
   "execution_count": 90,
   "id": "b62562fa",
   "metadata": {},
   "outputs": [
    {
     "name": "stdout",
     "output_type": "stream",
     "text": [
      "[[3274  339]\n",
      " [ 547  762]]\n"
     ]
    }
   ],
   "source": [
    "#Confusion Matrix\n",
    "print(confusion_matrix(y_train, y_pred))"
   ]
  },
  {
   "cell_type": "code",
   "execution_count": 91,
   "id": "f396e572",
   "metadata": {},
   "outputs": [
    {
     "name": "stdout",
     "output_type": "stream",
     "text": [
      "              precision    recall  f1-score   support\n",
      "\n",
      "           0       0.86      0.91      0.88      3613\n",
      "           1       0.69      0.58      0.63      1309\n",
      "\n",
      "    accuracy                           0.82      4922\n",
      "   macro avg       0.77      0.74      0.76      4922\n",
      "weighted avg       0.81      0.82      0.81      4922\n",
      "\n"
     ]
    }
   ],
   "source": [
    "#Classification Report\n",
    "print(classification_report(y_train, y_pred))"
   ]
  },
  {
   "cell_type": "code",
   "execution_count": 92,
   "id": "fcdf7432",
   "metadata": {},
   "outputs": [],
   "source": [
    "TN, FP, FN, TP = confusion_matrix(y_train, y_pred).ravel()"
   ]
  },
  {
   "cell_type": "code",
   "execution_count": 93,
   "id": "60042b4e",
   "metadata": {},
   "outputs": [
    {
     "name": "stdout",
     "output_type": "stream",
     "text": [
      "Accuracy: 0.8199918732222674\n",
      "True Positive Rate: 0.5821237585943468\n",
      "False Positive Rate: 0.09382784389703847\n",
      "True Negative Rate: 0.9061721561029615\n",
      "False Negative Rate: 0.41787624140565316\n",
      "Precision: 0.6920980926430518\n",
      "Recall: 0.5821237585943468\n",
      "F1 Score: 0.6323651452282157\n",
      "Support (0): 1309\n",
      "Support (1): 3613\n"
     ]
    }
   ],
   "source": [
    "ALL = TP + TN + FP + FN\n",
    "\n",
    "accuracy = (TP + TN)/ALL\n",
    "print(f\"Accuracy: {accuracy}\")\n",
    "\n",
    "true_positive_rate = TP/(TP+FN)\n",
    "print(f\"True Positive Rate: {true_positive_rate}\")\n",
    "\n",
    "false_positive_rate = FP/(FP+TN)\n",
    "print(f\"False Positive Rate: {false_positive_rate}\")\n",
    "\n",
    "true_negative_rate = TN/(TN+FP)\n",
    "print(f\"True Negative Rate: {true_negative_rate}\")\n",
    "\n",
    "false_negative_rate = FN/(FN+TP)\n",
    "print(f\"False Negative Rate: {false_negative_rate}\")\n",
    "\n",
    "precision = TP/(TP+FP)\n",
    "print(f\"Precision: {precision}\")\n",
    "\n",
    "recall = TP/(TP+FN)\n",
    "print(f\"Recall: {recall}\")\n",
    "\n",
    "f1_score = 2*(precision*recall)/(precision+recall)\n",
    "print(f\"F1 Score: {f1_score}\")\n",
    "\n",
    "support_pos = TP + FN\n",
    "print(f\"Support (0): {support_pos}\")\n",
    "\n",
    "support_neg = FP + TN\n",
    "print(f\"Support (1): {support_neg}\")"
   ]
  },
  {
   "cell_type": "markdown",
   "id": "36ce5076",
   "metadata": {},
   "source": [
    "#### Performance on Validate"
   ]
  },
  {
   "cell_type": "code",
   "execution_count": 94,
   "id": "0a2c1874",
   "metadata": {},
   "outputs": [
    {
     "name": "stdout",
     "output_type": "stream",
     "text": [
      "Accuracy of KNN classifier on validate set: 0.72\n"
     ]
    }
   ],
   "source": [
    "print('Accuracy of KNN classifier on validate set: {:.2f}'\n",
    "     .format(knn.score(X_validate, y_validate)))"
   ]
  },
  {
   "cell_type": "code",
   "execution_count": 95,
   "id": "2d57ea40",
   "metadata": {},
   "outputs": [
    {
     "data": {
      "image/png": "[encoded data removed]",
      "text/plain": [
       "<Figure size 432x288 with 1 Axes>"
      ]
     },
     "metadata": {
      "needs_background": "light"
     },
     "output_type": "display_data"
    }
   ],
   "source": [
    "import matplotlib.pyplot as plt\n",
    "k_range = range(1, 20)\n",
    "scores = []\n",
    "for k in k_range:\n",
    "    knn = KNeighborsClassifier(n_neighbors = k)\n",
    "    knn.fit(X_train, y_train)\n",
    "    scores.append(knn.score(X_test, y_test))\n",
    "plt.figure()\n",
    "plt.xlabel('k')\n",
    "plt.ylabel('accuracy')\n",
    "plt.scatter(k_range, scores)\n",
    "plt.xticks([0,5,10,15,20])\n",
    "plt.show()"
   ]
  },
  {
   "cell_type": "code",
   "execution_count": null,
   "id": "8c53e829",
   "metadata": {},
   "outputs": [],
   "source": [
    "# iteration to look at different model accuracies:\n",
    "model_set = []\n",
    "model_accuracies = {}\n",
    "for i in range(1,21):\n",
    "    clf = KNeighborsClassifier(n_neighbors=i)\n",
    "    clf.fit(X_train, y_train)\n",
    "    model_set.append(clf)\n",
    "    model_accuracies[f'{i}_neighbors'] = {\n",
    "        'train_score': round(clf.score(X_train, y_train), 2),\n",
    "        'validate_score': round(clf.score(X_validate, y_validate), 2)}"
   ]
  },
  {
   "cell_type": "code",
   "execution_count": null,
   "id": "ad800254",
   "metadata": {},
   "outputs": [],
   "source": [
    "model_accuracies"
   ]
  },
  {
   "cell_type": "code",
   "execution_count": null,
   "id": "470cb30e",
   "metadata": {},
   "outputs": [],
   "source": [
    "#another iteration to look at best k score\n",
    "k_range = range(1, 20)\n",
    "train_scores = []\n",
    "validate_scores = []\n",
    "for k in k_range:\n",
    "    knn = KNeighborsClassifier(n_neighbors = k)\n",
    "    knn.fit(X_train, y_train)\n",
    "    train_scores.append(knn.score(X_train, y_train))\n",
    "    validate_scores.append(knn.score(X_validate, y_validate))\n",
    "plt.figure()\n",
    "plt.xlabel('k')\n",
    "plt.ylabel('accuracy')\n",
    "plt.plot(k_range, train_scores, label='Train')\n",
    "plt.plot(k_range, validate_scores, label='Validate')\n",
    "plt.legend()\n",
    "plt.xticks([0,5,10,15,20])\n",
    "plt.show()"
   ]
  },
  {
   "cell_type": "markdown",
   "id": "8365e520",
   "metadata": {},
   "source": [
    "### Attempting to look further into metrics of k=14"
   ]
  },
  {
   "cell_type": "code",
   "execution_count": 96,
   "id": "71e91bd2",
   "metadata": {},
   "outputs": [
    {
     "name": "stdout",
     "output_type": "stream",
     "text": [
      "Accuracy of KNN classifier on training set: 0.79\n"
     ]
    }
   ],
   "source": [
    "#Running knn on 14\n",
    "knn14 = KNeighborsClassifier(n_neighbors=14, weights='uniform')\n",
    "#fitting the model\n",
    "knn14.fit(X_train, y_train)\n",
    "#Making predictions\n",
    "y_pred = knn14.predict(X_train)\n",
    "#Estimating probability\n",
    "y_pred_proba = knn14.predict_proba(X_train)\n",
    "#Accuracy\n",
    "print('Accuracy of KNN classifier on training set: {:.2f}'\n",
    "     .format(knn14.score(X_train, y_train)))"
   ]
  },
  {
   "cell_type": "code",
   "execution_count": 97,
   "id": "a4f8902c",
   "metadata": {},
   "outputs": [
    {
     "name": "stdout",
     "output_type": "stream",
     "text": [
      "[[3328  285]\n",
      " [ 773  536]]\n"
     ]
    }
   ],
   "source": [
    "#Confusion Matrix\n",
    "print(confusion_matrix(y_train, y_pred))"
   ]
  },
  {
   "cell_type": "code",
   "execution_count": 98,
   "id": "3080c59d",
   "metadata": {},
   "outputs": [
    {
     "name": "stdout",
     "output_type": "stream",
     "text": [
      "              precision    recall  f1-score   support\n",
      "\n",
      "           0       0.81      0.92      0.86      3613\n",
      "           1       0.65      0.41      0.50      1309\n",
      "\n",
      "    accuracy                           0.79      4922\n",
      "   macro avg       0.73      0.67      0.68      4922\n",
      "weighted avg       0.77      0.79      0.77      4922\n",
      "\n"
     ]
    }
   ],
   "source": [
    "#Classification Report\n",
    "print(classification_report(y_train, y_pred))"
   ]
  },
  {
   "cell_type": "code",
   "execution_count": 99,
   "id": "c92c03c8",
   "metadata": {},
   "outputs": [
    {
     "name": "stdout",
     "output_type": "stream",
     "text": [
      "[[3328  285]\n",
      " [ 773  536]]\n"
     ]
    }
   ],
   "source": [
    "cm = confusion_matrix(y_train, y_pred)\n",
    "print(cm)"
   ]
  },
  {
   "cell_type": "code",
   "execution_count": 100,
   "id": "ffb1c5ca",
   "metadata": {},
   "outputs": [
    {
     "data": {
      "text/plain": [
       "<sklearn.metrics._plot.confusion_matrix.ConfusionMatrixDisplay at 0x13a3a6a00>"
      ]
     },
     "execution_count": 100,
     "metadata": {},
     "output_type": "execute_result"
    },
    {
     "data": {
      "image/png": "[encoded data removed]",
      "text/plain": [
       "<Figure size 432x288 with 2 Axes>"
      ]
     },
     "metadata": {
      "needs_background": "light"
     },
     "output_type": "display_data"
    }
   ],
   "source": [
    "#Plot confusion matrix\n",
    "plot_confusion_matrix(knn14, X_train, y_train)"
   ]
  },
  {
   "cell_type": "code",
   "execution_count": 101,
   "id": "1b418f52",
   "metadata": {},
   "outputs": [],
   "source": [
    "TN, FP, FN, TP = confusion_matrix(y_train, y_pred).ravel() # Why is this line of code failing?"
   ]
  },
  {
   "cell_type": "code",
   "execution_count": 102,
   "id": "58064873",
   "metadata": {},
   "outputs": [
    {
     "data": {
      "text/plain": [
       "(536, 3328, 285, 773, 4922)"
      ]
     },
     "execution_count": 102,
     "metadata": {},
     "output_type": "execute_result"
    }
   ],
   "source": [
    "ALL = TP + TN + FP + FN\n",
    "\n",
    "TP, TN, FP, FN, ALL"
   ]
  },
  {
   "cell_type": "code",
   "execution_count": 103,
   "id": "5218d4b2",
   "metadata": {},
   "outputs": [
    {
     "name": "stdout",
     "output_type": "stream",
     "text": [
      "Accuracy: 0.7850467289719626\n",
      "True Positive Rate: 0.4094728800611154\n",
      "False Positive Rate: 0.07888181566565182\n",
      "True Negative Rate: 0.9211181843343482\n",
      "False Negative Rate: 0.5905271199388846\n",
      "Precision: 0.6528623629719854\n",
      "Recall: 0.4094728800611154\n",
      "F1 Score: 0.5032863849765259\n",
      "Support (0): 1309\n",
      "Support (1): 3613\n"
     ]
    }
   ],
   "source": [
    "accuracy = (TP + TN)/ALL\n",
    "print(f\"Accuracy: {accuracy}\")\n",
    "\n",
    "true_positive_rate = TP/(TP+FN)\n",
    "print(f\"True Positive Rate: {true_positive_rate}\")\n",
    "\n",
    "false_positive_rate = FP/(FP+TN)\n",
    "print(f\"False Positive Rate: {false_positive_rate}\")\n",
    "\n",
    "true_negative_rate = TN/(TN+FP)\n",
    "print(f\"True Negative Rate: {true_negative_rate}\")\n",
    "\n",
    "false_negative_rate = FN/(FN+TP)\n",
    "print(f\"False Negative Rate: {false_negative_rate}\")\n",
    "\n",
    "precision = TP/(TP+FP)\n",
    "print(f\"Precision: {precision}\")\n",
    "\n",
    "recall = TP/(TP+FN)\n",
    "print(f\"Recall: {recall}\")\n",
    "\n",
    "f1_score = 2*(precision*recall)/(precision+recall)\n",
    "print(f\"F1 Score: {f1_score}\")\n",
    "\n",
    "support_pos = TP + FN\n",
    "print(f\"Support (0): {support_pos}\")\n",
    "\n",
    "support_neg = FP + TN\n",
    "print(f\"Support (1): {support_neg}\")"
   ]
  },
  {
   "cell_type": "code",
   "execution_count": 104,
   "id": "fab5957f",
   "metadata": {},
   "outputs": [
    {
     "name": "stdout",
     "output_type": "stream",
     "text": [
      "Accuracy of KNN (14) classifier on validate set: 0.75\n"
     ]
    }
   ],
   "source": [
    "print('Accuracy of KNN (14) classifier on validate set: {:.2f}'\n",
    "     .format(knn14.score(X_validate, y_validate)))"
   ]
  },
  {
   "cell_type": "code",
   "execution_count": 105,
   "id": "b139c760",
   "metadata": {},
   "outputs": [],
   "source": [
    "y_pred_validate = knn14.predict(X_validate)"
   ]
  },
  {
   "cell_type": "code",
   "execution_count": 106,
   "id": "4d9ee9d2",
   "metadata": {},
   "outputs": [
    {
     "data": {
      "text/plain": [
       "(90, 696, 79, 190, 1055)"
      ]
     },
     "execution_count": 106,
     "metadata": {},
     "output_type": "execute_result"
    }
   ],
   "source": [
    "TN, FP, FN, TP = confusion_matrix(y_validate,y_pred_validate).ravel()\n",
    "ALL = TP + TN + FP + FN\n",
    "\n",
    "TP, TN, FP, FN, ALL"
   ]
  },
  {
   "cell_type": "code",
   "execution_count": 107,
   "id": "53fc6550",
   "metadata": {},
   "outputs": [
    {
     "name": "stdout",
     "output_type": "stream",
     "text": [
      "Accuracy: 0.7450236966824645\n",
      "True Positive Rate: 0.32142857142857145\n",
      "False Positive Rate: 0.10193548387096774\n",
      "True Negative Rate: 0.8980645161290323\n",
      "False Negative Rate: 0.6785714285714286\n",
      "Precision: 0.5325443786982249\n",
      "Recall: 0.32142857142857145\n",
      "F1 Score: 0.400890868596882\n",
      "Support (0): 280\n",
      "Support (1): 775\n"
     ]
    }
   ],
   "source": [
    "accuracy = (TP + TN)/ALL\n",
    "print(f\"Accuracy: {accuracy}\")\n",
    "\n",
    "true_positive_rate = TP/(TP+FN)\n",
    "print(f\"True Positive Rate: {true_positive_rate}\")\n",
    "\n",
    "false_positive_rate = FP/(FP+TN)\n",
    "print(f\"False Positive Rate: {false_positive_rate}\")\n",
    "\n",
    "true_negative_rate = TN/(TN+FP)\n",
    "print(f\"True Negative Rate: {true_negative_rate}\")\n",
    "\n",
    "false_negative_rate = FN/(FN+TP)\n",
    "print(f\"False Negative Rate: {false_negative_rate}\")\n",
    "\n",
    "precision = TP/(TP+FP)\n",
    "print(f\"Precision: {precision}\")\n",
    "\n",
    "recall = TP/(TP+FN)\n",
    "print(f\"Recall: {recall}\")\n",
    "\n",
    "f1_score = 2*(precision*recall)/(precision+recall)\n",
    "print(f\"F1 Score: {f1_score}\")\n",
    "\n",
    "support_pos = TP + FN\n",
    "print(f\"Support (0): {support_pos}\")\n",
    "\n",
    "support_neg = FP + TN\n",
    "print(f\"Support (1): {support_neg}\")"
   ]
  },
  {
   "cell_type": "markdown",
   "id": "0e4e699e",
   "metadata": {},
   "source": [
    "### Conclusion for KNN: a KNN model using 14 nearest neighbors produces an accuracy of .79 percent accuracy on training data, but only 0.75 accuracy on validate data. Additionally, this model produces a large (0.59) portion of False Negatives."
   ]
  },
  {
   "cell_type": "markdown",
   "id": "a949715b",
   "metadata": {},
   "source": [
    "## Regression Modeling"
   ]
  },
  {
   "cell_type": "code",
   "execution_count": 108,
   "id": "34db72d3",
   "metadata": {},
   "outputs": [],
   "source": [
    "# Make the model, using defaults but lbfgs solver (could be default)\n",
    "logit = LogisticRegression(solver='lbfgs',random_state=123)"
   ]
  },
  {
   "cell_type": "code",
   "execution_count": 109,
   "id": "0dfd38b3",
   "metadata": {},
   "outputs": [
    {
     "data": {
      "text/plain": [
       "LogisticRegression(random_state=123)"
      ]
     },
     "execution_count": 109,
     "metadata": {},
     "output_type": "execute_result"
    }
   ],
   "source": [
    "# fit the model on train data\n",
    "logit.fit(X_train, y_train)"
   ]
  },
  {
   "cell_type": "code",
   "execution_count": 110,
   "id": "07192877",
   "metadata": {},
   "outputs": [],
   "source": [
    "# now use the model to make predictions\n",
    "y_pred = logit.predict(X_train)"
   ]
  },
  {
   "cell_type": "code",
   "execution_count": 111,
   "id": "f50bfafb",
   "metadata": {},
   "outputs": [
    {
     "data": {
      "text/plain": [
       "array([[0.44786018, 0.55213982],\n",
       "       [0.55722055, 0.44277945],\n",
       "       [0.98975224, 0.01024776],\n",
       "       [0.9545009 , 0.0454991 ],\n",
       "       [0.53468043, 0.46531957],\n",
       "       [0.9336129 , 0.0663871 ],\n",
       "       [0.60905377, 0.39094623],\n",
       "       [0.54315497, 0.45684503],\n",
       "       [0.59526296, 0.40473704],\n",
       "       [0.57140588, 0.42859412]])"
      ]
     },
     "execution_count": 111,
     "metadata": {},
     "output_type": "execute_result"
    }
   ],
   "source": [
    "# look at predicted probabilites for first 10 observations\n",
    "logit.predict_proba(X_train)[:10]"
   ]
  },
  {
   "cell_type": "code",
   "execution_count": 112,
   "id": "b84e71bd",
   "metadata": {},
   "outputs": [
    {
     "name": "stdout",
     "output_type": "stream",
     "text": [
      "              precision    recall  f1-score   support\n",
      "\n",
      "           0       0.80      0.88      0.84      3613\n",
      "           1       0.54      0.39      0.45      1309\n",
      "\n",
      "    accuracy                           0.75      4922\n",
      "   macro avg       0.67      0.63      0.64      4922\n",
      "weighted avg       0.73      0.75      0.73      4922\n",
      "\n"
     ]
    }
   ],
   "source": [
    "# classification report for training data\n",
    "print(classification_report(y_train, y_pred))"
   ]
  },
  {
   "cell_type": "code",
   "execution_count": 113,
   "id": "e48eb984",
   "metadata": {},
   "outputs": [],
   "source": [
    "TN, FP, FN, TP = confusion_matrix(y_train, y_pred).ravel()"
   ]
  },
  {
   "cell_type": "code",
   "execution_count": 114,
   "id": "f3fd2e91",
   "metadata": {},
   "outputs": [
    {
     "data": {
      "text/plain": [
       "(504, 3178, 435, 805, 4922)"
      ]
     },
     "execution_count": 114,
     "metadata": {},
     "output_type": "execute_result"
    }
   ],
   "source": [
    "ALL = TP + TN + FP + FN\n",
    "\n",
    "TP, TN, FP, FN, ALL"
   ]
  },
  {
   "cell_type": "code",
   "execution_count": 115,
   "id": "2050d8e7",
   "metadata": {},
   "outputs": [
    {
     "name": "stdout",
     "output_type": "stream",
     "text": [
      "Accuracy: 0.7480698902885006\n",
      "True Positive Rate: 0.3850267379679144\n",
      "False Positive Rate: 0.12039856075283698\n",
      "True Negative Rate: 0.879601439247163\n",
      "False Negative Rate: 0.6149732620320856\n",
      "Precision: 0.536741214057508\n",
      "Recall: 0.3850267379679144\n",
      "F1 Score: 0.4483985765124555\n",
      "Support (0): 1309\n",
      "Support (1): 3613\n"
     ]
    }
   ],
   "source": [
    "accuracy = (TP + TN)/ALL\n",
    "print(f\"Accuracy: {accuracy}\")\n",
    "\n",
    "true_positive_rate = TP/(TP+FN)\n",
    "print(f\"True Positive Rate: {true_positive_rate}\")\n",
    "\n",
    "false_positive_rate = FP/(FP+TN)\n",
    "print(f\"False Positive Rate: {false_positive_rate}\")\n",
    "\n",
    "true_negative_rate = TN/(TN+FP)\n",
    "print(f\"True Negative Rate: {true_negative_rate}\")\n",
    "\n",
    "false_negative_rate = FN/(FN+TP)\n",
    "print(f\"False Negative Rate: {false_negative_rate}\")\n",
    "\n",
    "precision = TP/(TP+FP)\n",
    "print(f\"Precision: {precision}\")\n",
    "\n",
    "recall = TP/(TP+FN)\n",
    "print(f\"Recall: {recall}\")\n",
    "\n",
    "f1_score = 2*(precision*recall)/(precision+recall)\n",
    "print(f\"F1 Score: {f1_score}\")\n",
    "\n",
    "support_pos = TP + FN\n",
    "print(f\"Support (0): {support_pos}\")\n",
    "\n",
    "support_neg = FP + TN\n",
    "print(f\"Support (1): {support_neg}\")"
   ]
  },
  {
   "cell_type": "code",
   "execution_count": 116,
   "id": "e518ecdd",
   "metadata": {},
   "outputs": [
    {
     "name": "stdout",
     "output_type": "stream",
     "text": [
      "Coefficient: \n",
      " [ 0.31274309 -0.3697949   0.0172239   1.00025753 -0.76681384 -2.11184164]\n"
     ]
    }
   ],
   "source": [
    "# look at model 1 coefficents\n",
    " \n",
    "print('Coefficient: \\n', logit.coef_[0])"
   ]
  },
  {
   "cell_type": "code",
   "execution_count": 117,
   "id": "f1c0bad9",
   "metadata": {},
   "outputs": [
    {
     "data": {
      "text/html": [
       "<div>\n",
       "<style scoped>\n",
       "    .dataframe tbody tr th:only-of-type {\n",
       "        vertical-align: middle;\n",
       "    }\n",
       "\n",
       "    .dataframe tbody tr th {\n",
       "        vertical-align: top;\n",
       "    }\n",
       "\n",
       "    .dataframe thead th {\n",
       "        text-align: right;\n",
       "    }\n",
       "</style>\n",
       "<table border=\"1\" class=\"dataframe\">\n",
       "  <thead>\n",
       "    <tr style=\"text-align: right;\">\n",
       "      <th></th>\n",
       "      <th>coeffs</th>\n",
       "    </tr>\n",
       "  </thead>\n",
       "  <tbody>\n",
       "    <tr>\n",
       "      <th>contract_type_Two year</th>\n",
       "      <td>-2.111842</td>\n",
       "    </tr>\n",
       "    <tr>\n",
       "      <th>contract_type_One year</th>\n",
       "      <td>-0.766814</td>\n",
       "    </tr>\n",
       "    <tr>\n",
       "      <th>dependents_encoded</th>\n",
       "      <td>-0.369795</td>\n",
       "    </tr>\n",
       "    <tr>\n",
       "      <th>monthly_charges</th>\n",
       "      <td>0.017224</td>\n",
       "    </tr>\n",
       "    <tr>\n",
       "      <th>senior_citizen</th>\n",
       "      <td>0.312743</td>\n",
       "    </tr>\n",
       "    <tr>\n",
       "      <th>contract_type_Month-to-month</th>\n",
       "      <td>1.000258</td>\n",
       "    </tr>\n",
       "  </tbody>\n",
       "</table>\n",
       "</div>"
      ],
      "text/plain": [
       "                                coeffs\n",
       "contract_type_Two year       -2.111842\n",
       "contract_type_One year       -0.766814\n",
       "dependents_encoded           -0.369795\n",
       "monthly_charges               0.017224\n",
       "senior_citizen                0.312743\n",
       "contract_type_Month-to-month  1.000258"
      ]
     },
     "execution_count": 117,
     "metadata": {},
     "output_type": "execute_result"
    }
   ],
   "source": [
    "# Make a dataframe of model 1 coefficients and feature names\n",
    "\n",
    "log_coeffs = pd.DataFrame(logit.coef_[0], index = X_train.columns,\n",
    "                          columns = ['coeffs']).sort_values(by = 'coeffs', ascending = True)\n",
    "log_coeffs"
   ]
  },
  {
   "cell_type": "markdown",
   "id": "7849d680",
   "metadata": {},
   "source": [
    "#### Examining model 1 performance on validate data"
   ]
  },
  {
   "cell_type": "code",
   "execution_count": 118,
   "id": "953d2ae6",
   "metadata": {},
   "outputs": [
    {
     "name": "stdout",
     "output_type": "stream",
     "text": [
      "Logit model 1, default features, solver lbfgs\n",
      "              precision    recall  f1-score   support\n",
      "\n",
      "           0       0.79      0.89      0.84       775\n",
      "           1       0.54      0.36      0.43       280\n",
      "\n",
      "    accuracy                           0.75      1055\n",
      "   macro avg       0.67      0.62      0.63      1055\n",
      "weighted avg       0.73      0.75      0.73      1055\n",
      "\n"
     ]
    }
   ],
   "source": [
    "print('Logit model 1, default features, solver lbfgs')\n",
    "print(classification_report(y_validate, logit.predict(X_validate)))"
   ]
  },
  {
   "cell_type": "markdown",
   "id": "26ac3c1d",
   "metadata": {},
   "source": [
    "#### Making a second iteration of regression, but balancing class weights"
   ]
  },
  {
   "cell_type": "code",
   "execution_count": 119,
   "id": "a267e98d",
   "metadata": {},
   "outputs": [
    {
     "name": "stdout",
     "output_type": "stream",
     "text": [
      "All Features and we're setting the class_weight hyperparameter\n",
      "Accuracy of Logistic Regression classifier on training set: 0.71\n"
     ]
    }
   ],
   "source": [
    "#Making a second iteration of regression, but balancing class weights\n",
    "logit2 = LogisticRegression(solver='lbfgs', random_state=123, class_weight='balanced')\n",
    "\n",
    "logit2.fit(X_train, y_train)\n",
    "\n",
    "y_pred = logit2.predict(X_train)\n",
    "\n",
    "accuracy = logit2.score(X_train, y_train)\n",
    "\n",
    "print(\"All Features and we're setting the class_weight hyperparameter\")\n",
    "print(f'Accuracy of Logistic Regression classifier on training set: {accuracy:.2}')"
   ]
  },
  {
   "cell_type": "code",
   "execution_count": 120,
   "id": "47f3a20c",
   "metadata": {},
   "outputs": [],
   "source": [
    "TN, FP, FN, TP = confusion_matrix(y_train, y_pred).ravel()\n",
    "ALL = TN + FP + FN + TP"
   ]
  },
  {
   "cell_type": "code",
   "execution_count": 121,
   "id": "9ff406b2",
   "metadata": {},
   "outputs": [
    {
     "name": "stdout",
     "output_type": "stream",
     "text": [
      "Accuracy: 0.7112962210483543\n",
      "True Positive Rate: 0.8166539343009931\n",
      "False Positive Rate: 0.32687517298643787\n",
      "True Negative Rate: 0.6731248270135621\n",
      "False Negative Rate: 0.18334606569900688\n",
      "Precision: 0.4751111111111111\n",
      "Recall: 0.8166539343009931\n",
      "F1 Score: 0.6007305422871594\n",
      "Support (0): 1309\n",
      "Support (1): 3613\n"
     ]
    }
   ],
   "source": [
    "accuracy = (TP + TN)/ALL\n",
    "print(f\"Accuracy: {accuracy}\")\n",
    "\n",
    "true_positive_rate = TP/(TP+FN)\n",
    "print(f\"True Positive Rate: {true_positive_rate}\")\n",
    "\n",
    "false_positive_rate = FP/(FP+TN)\n",
    "print(f\"False Positive Rate: {false_positive_rate}\")\n",
    "\n",
    "true_negative_rate = TN/(TN+FP)\n",
    "print(f\"True Negative Rate: {true_negative_rate}\")\n",
    "\n",
    "false_negative_rate = FN/(FN+TP)\n",
    "print(f\"False Negative Rate: {false_negative_rate}\")\n",
    "\n",
    "precision = TP/(TP+FP)\n",
    "print(f\"Precision: {precision}\")\n",
    "\n",
    "recall = TP/(TP+FN)\n",
    "print(f\"Recall: {recall}\")\n",
    "\n",
    "f1_score = 2*(precision*recall)/(precision+recall)\n",
    "print(f\"F1 Score: {f1_score}\")\n",
    "\n",
    "support_pos = TP + FN\n",
    "print(f\"Support (0): {support_pos}\")\n",
    "\n",
    "support_neg = FP + TN\n",
    "print(f\"Support (1): {support_neg}\")"
   ]
  },
  {
   "cell_type": "markdown",
   "id": "3d0f99d7",
   "metadata": {},
   "source": [
    "#### Examining model 2 performance on validate data"
   ]
  },
  {
   "cell_type": "code",
   "execution_count": 122,
   "id": "588ca7d5",
   "metadata": {},
   "outputs": [
    {
     "name": "stdout",
     "output_type": "stream",
     "text": [
      "Logit model 2, balancing class weights, solver lbfgs\n",
      "              precision    recall  f1-score   support\n",
      "\n",
      "           0       0.90      0.65      0.76       775\n",
      "           1       0.45      0.80      0.58       280\n",
      "\n",
      "    accuracy                           0.69      1055\n",
      "   macro avg       0.68      0.73      0.67      1055\n",
      "weighted avg       0.78      0.69      0.71      1055\n",
      "\n"
     ]
    }
   ],
   "source": [
    "print('Logit model 2, balancing class weights, solver lbfgs')\n",
    "print(classification_report(y_validate, logit2.predict(X_validate)))"
   ]
  },
  {
   "cell_type": "markdown",
   "id": "75053c03",
   "metadata": {},
   "source": [
    "### Conclusion for regession:  The original model performed equally well (accuracy) on both train and validate data (0.75). However, recall is very low (0.38) compared to other models with precision being 0.54"
   ]
  },
  {
   "cell_type": "markdown",
   "id": "7efae4df",
   "metadata": {},
   "source": [
    "## Overall conclusion on modeling: Based on results of the modeling section, I am moving forward with my best model. My best model is a decision tree with a depth of 3. I chose this model because it performed almost equally well on testing and training data (0.756 on train, 0.75 on validate). It also produced the best combination of Recall and precision with both train and validate, with small differences between the two. \n",
    "\n",
    "## Predicting customers who will not churn but churn (a false negative) can be minimized by selecting a model with higher Recall. The decision tree (depth of 3) produced a model with 0.61 recall on both the training and validation data."
   ]
  },
  {
   "cell_type": "code",
   "execution_count": null,
   "id": "dd6fd599",
   "metadata": {},
   "outputs": [],
   "source": [
    "def get_tree_test(X_train,X_test,y_train,y_test):\n",
    "    '''get decision tree accuracy on train and test data'''\n",
    "    #Testing on Decision Tree (depth of 3):\n",
    "    tree = DecisionTreeClassifier(max_depth=3, random_state=123)\n",
    "    # fitting the model(X, y)\n",
    "    tree.fit(X_train, y_train)\n",
    "    y_pred = tree.predict(X_train)\n",
    "    print(f\"Accuracy of Decision Tree on train data is {tree.score(X_train, y_train)}\")\n",
    "    print(f\"Accuracy of Decision Tree on test data is {tree.score(X_test, y_test)}\")"
   ]
  },
  {
   "cell_type": "code",
   "execution_count": null,
   "id": "8273ede8",
   "metadata": {},
   "outputs": [],
   "source": [
    "w.get_tree_test(X_train,X_test,y_train,y_test)"
   ]
  },
  {
   "cell_type": "code",
   "execution_count": null,
   "id": "d97ff5e1",
   "metadata": {},
   "outputs": [],
   "source": [
    "X_test.head()"
   ]
  },
  {
   "cell_type": "code",
   "execution_count": null,
   "id": "c4564d57",
   "metadata": {},
   "outputs": [],
   "source": [
    "y_test.head()"
   ]
  },
  {
   "cell_type": "markdown",
   "id": "5c58bd18",
   "metadata": {},
   "source": [
    "## Making CSV with customer ID"
   ]
  },
  {
   "cell_type": "code",
   "execution_count": 48,
   "id": "2b7b97b3",
   "metadata": {},
   "outputs": [],
   "source": [
    "# acquiring telco data from codeup database trying to keep customer id for test set\n",
    "df = w.get_telco_data()"
   ]
  },
  {
   "cell_type": "code",
   "execution_count": 49,
   "id": "07a1be8a",
   "metadata": {},
   "outputs": [
    {
     "data": {
      "text/html": [
       "<div>\n",
       "<style scoped>\n",
       "    .dataframe tbody tr th:only-of-type {\n",
       "        vertical-align: middle;\n",
       "    }\n",
       "\n",
       "    .dataframe tbody tr th {\n",
       "        vertical-align: top;\n",
       "    }\n",
       "\n",
       "    .dataframe thead th {\n",
       "        text-align: right;\n",
       "    }\n",
       "</style>\n",
       "<table border=\"1\" class=\"dataframe\">\n",
       "  <thead>\n",
       "    <tr style=\"text-align: right;\">\n",
       "      <th></th>\n",
       "      <th>payment_type_id</th>\n",
       "      <th>internet_service_type_id</th>\n",
       "      <th>contract_type_id</th>\n",
       "      <th>customer_id</th>\n",
       "      <th>gender</th>\n",
       "      <th>senior_citizen</th>\n",
       "      <th>partner</th>\n",
       "      <th>dependents</th>\n",
       "      <th>tenure</th>\n",
       "      <th>phone_service</th>\n",
       "      <th>...</th>\n",
       "      <th>tech_support</th>\n",
       "      <th>streaming_tv</th>\n",
       "      <th>streaming_movies</th>\n",
       "      <th>paperless_billing</th>\n",
       "      <th>monthly_charges</th>\n",
       "      <th>total_charges</th>\n",
       "      <th>churn</th>\n",
       "      <th>contract_type</th>\n",
       "      <th>internet_service_type</th>\n",
       "      <th>payment_type</th>\n",
       "    </tr>\n",
       "  </thead>\n",
       "  <tbody>\n",
       "    <tr>\n",
       "      <th>0</th>\n",
       "      <td>2</td>\n",
       "      <td>1</td>\n",
       "      <td>2</td>\n",
       "      <td>0002-ORFBO</td>\n",
       "      <td>Female</td>\n",
       "      <td>0</td>\n",
       "      <td>Yes</td>\n",
       "      <td>Yes</td>\n",
       "      <td>9</td>\n",
       "      <td>Yes</td>\n",
       "      <td>...</td>\n",
       "      <td>Yes</td>\n",
       "      <td>Yes</td>\n",
       "      <td>No</td>\n",
       "      <td>Yes</td>\n",
       "      <td>65.6</td>\n",
       "      <td>593.3</td>\n",
       "      <td>No</td>\n",
       "      <td>One year</td>\n",
       "      <td>DSL</td>\n",
       "      <td>Mailed check</td>\n",
       "    </tr>\n",
       "    <tr>\n",
       "      <th>1</th>\n",
       "      <td>2</td>\n",
       "      <td>1</td>\n",
       "      <td>1</td>\n",
       "      <td>0003-MKNFE</td>\n",
       "      <td>Male</td>\n",
       "      <td>0</td>\n",
       "      <td>No</td>\n",
       "      <td>No</td>\n",
       "      <td>9</td>\n",
       "      <td>Yes</td>\n",
       "      <td>...</td>\n",
       "      <td>No</td>\n",
       "      <td>No</td>\n",
       "      <td>Yes</td>\n",
       "      <td>No</td>\n",
       "      <td>59.9</td>\n",
       "      <td>542.4</td>\n",
       "      <td>No</td>\n",
       "      <td>Month-to-month</td>\n",
       "      <td>DSL</td>\n",
       "      <td>Mailed check</td>\n",
       "    </tr>\n",
       "    <tr>\n",
       "      <th>2</th>\n",
       "      <td>1</td>\n",
       "      <td>2</td>\n",
       "      <td>1</td>\n",
       "      <td>0004-TLHLJ</td>\n",
       "      <td>Male</td>\n",
       "      <td>0</td>\n",
       "      <td>No</td>\n",
       "      <td>No</td>\n",
       "      <td>4</td>\n",
       "      <td>Yes</td>\n",
       "      <td>...</td>\n",
       "      <td>No</td>\n",
       "      <td>No</td>\n",
       "      <td>No</td>\n",
       "      <td>Yes</td>\n",
       "      <td>73.9</td>\n",
       "      <td>280.85</td>\n",
       "      <td>Yes</td>\n",
       "      <td>Month-to-month</td>\n",
       "      <td>Fiber optic</td>\n",
       "      <td>Electronic check</td>\n",
       "    </tr>\n",
       "    <tr>\n",
       "      <th>3</th>\n",
       "      <td>1</td>\n",
       "      <td>2</td>\n",
       "      <td>1</td>\n",
       "      <td>0011-IGKFF</td>\n",
       "      <td>Male</td>\n",
       "      <td>1</td>\n",
       "      <td>Yes</td>\n",
       "      <td>No</td>\n",
       "      <td>13</td>\n",
       "      <td>Yes</td>\n",
       "      <td>...</td>\n",
       "      <td>No</td>\n",
       "      <td>Yes</td>\n",
       "      <td>Yes</td>\n",
       "      <td>Yes</td>\n",
       "      <td>98.0</td>\n",
       "      <td>1237.85</td>\n",
       "      <td>Yes</td>\n",
       "      <td>Month-to-month</td>\n",
       "      <td>Fiber optic</td>\n",
       "      <td>Electronic check</td>\n",
       "    </tr>\n",
       "    <tr>\n",
       "      <th>4</th>\n",
       "      <td>2</td>\n",
       "      <td>2</td>\n",
       "      <td>1</td>\n",
       "      <td>0013-EXCHZ</td>\n",
       "      <td>Female</td>\n",
       "      <td>1</td>\n",
       "      <td>Yes</td>\n",
       "      <td>No</td>\n",
       "      <td>3</td>\n",
       "      <td>Yes</td>\n",
       "      <td>...</td>\n",
       "      <td>Yes</td>\n",
       "      <td>Yes</td>\n",
       "      <td>No</td>\n",
       "      <td>Yes</td>\n",
       "      <td>83.9</td>\n",
       "      <td>267.4</td>\n",
       "      <td>Yes</td>\n",
       "      <td>Month-to-month</td>\n",
       "      <td>Fiber optic</td>\n",
       "      <td>Mailed check</td>\n",
       "    </tr>\n",
       "  </tbody>\n",
       "</table>\n",
       "<p>5 rows × 24 columns</p>\n",
       "</div>"
      ],
      "text/plain": [
       "   payment_type_id  internet_service_type_id  contract_type_id customer_id  \\\n",
       "0                2                         1                 2  0002-ORFBO   \n",
       "1                2                         1                 1  0003-MKNFE   \n",
       "2                1                         2                 1  0004-TLHLJ   \n",
       "3                1                         2                 1  0011-IGKFF   \n",
       "4                2                         2                 1  0013-EXCHZ   \n",
       "\n",
       "   gender  senior_citizen partner dependents  tenure phone_service  ...  \\\n",
       "0  Female               0     Yes        Yes       9           Yes  ...   \n",
       "1    Male               0      No         No       9           Yes  ...   \n",
       "2    Male               0      No         No       4           Yes  ...   \n",
       "3    Male               1     Yes         No      13           Yes  ...   \n",
       "4  Female               1     Yes         No       3           Yes  ...   \n",
       "\n",
       "  tech_support streaming_tv streaming_movies paperless_billing  \\\n",
       "0          Yes          Yes               No               Yes   \n",
       "1           No           No              Yes                No   \n",
       "2           No           No               No               Yes   \n",
       "3           No          Yes              Yes               Yes   \n",
       "4          Yes          Yes               No               Yes   \n",
       "\n",
       "  monthly_charges total_charges churn   contract_type  internet_service_type  \\\n",
       "0            65.6         593.3    No        One year                    DSL   \n",
       "1            59.9         542.4    No  Month-to-month                    DSL   \n",
       "2            73.9        280.85   Yes  Month-to-month            Fiber optic   \n",
       "3            98.0       1237.85   Yes  Month-to-month            Fiber optic   \n",
       "4            83.9         267.4   Yes  Month-to-month            Fiber optic   \n",
       "\n",
       "       payment_type  \n",
       "0      Mailed check  \n",
       "1      Mailed check  \n",
       "2  Electronic check  \n",
       "3  Electronic check  \n",
       "4      Mailed check  \n",
       "\n",
       "[5 rows x 24 columns]"
      ]
     },
     "execution_count": 49,
     "metadata": {},
     "output_type": "execute_result"
    }
   ],
   "source": [
    "df.head()"
   ]
  },
  {
   "cell_type": "code",
   "execution_count": 50,
   "id": "a525d23d",
   "metadata": {},
   "outputs": [],
   "source": [
    "# Drop duplicate columns\n",
    "df.drop(columns=['payment_type_id', 'internet_service_type_id', 'contract_type_id'], inplace=True)\n",
    "       \n",
    "# Drop null values stored as whitespace    \n",
    "df['total_charges'] = df['total_charges'].str.strip()\n",
    "df = df[df.total_charges != '']\n",
    "    \n",
    "# Convert to correct datatype\n",
    "df['total_charges'] = df.total_charges.astype(float)\n",
    "    \n",
    "# Convert binary categorical variables to numeric\n",
    "df['gender_encoded'] = df.gender.map({'Female': 1, 'Male': 0})\n",
    "df['partner_encoded'] = df.partner.map({'Yes': 1, 'No': 0})\n",
    "df['dependents_encoded'] = df.dependents.map({'Yes': 1, 'No': 0})\n",
    "df['phone_service_encoded'] = df.phone_service.map({'Yes': 1, 'No': 0})\n",
    "df['paperless_billing_encoded'] = df.paperless_billing.map({'Yes': 1, 'No': 0})\n",
    "df['churn_encoded'] = df.churn.map({'Yes': 1, 'No': 0})\n",
    "    \n",
    "# Get dummies for non-binary categorical variables\n",
    "dummy_df = pd.get_dummies(df[['multiple_lines', \\\n",
    "                              'online_security', \\\n",
    "                              'online_backup', \\\n",
    "                              'device_protection', \\\n",
    "                              'tech_support', \\\n",
    "                              'streaming_tv', \\\n",
    "                              'streaming_movies', \\\n",
    "                              'contract_type', \\\n",
    "                              'internet_service_type', \\\n",
    "                              'payment_type']], dummy_na=False, \\\n",
    "                              drop_first=False)\n",
    "    \n",
    "# Concatenate dummy dataframe to original \n",
    "df = pd.concat([df, dummy_df], axis=1)\n",
    "    \n",
    "# Drop original churn variable (we encoded)\n",
    "df.drop(columns=['churn'], inplace=True)\n",
    "    \n",
    "# Rename encoded churn\n",
    "df.rename(columns = {'churn_encoded':'churn'}, inplace=True)"
   ]
  },
  {
   "cell_type": "code",
   "execution_count": 51,
   "id": "394c96e6",
   "metadata": {},
   "outputs": [
    {
     "data": {
      "text/html": [
       "<div>\n",
       "<style scoped>\n",
       "    .dataframe tbody tr th:only-of-type {\n",
       "        vertical-align: middle;\n",
       "    }\n",
       "\n",
       "    .dataframe tbody tr th {\n",
       "        vertical-align: top;\n",
       "    }\n",
       "\n",
       "    .dataframe thead th {\n",
       "        text-align: right;\n",
       "    }\n",
       "</style>\n",
       "<table border=\"1\" class=\"dataframe\">\n",
       "  <thead>\n",
       "    <tr style=\"text-align: right;\">\n",
       "      <th></th>\n",
       "      <th>customer_id</th>\n",
       "      <th>gender</th>\n",
       "      <th>senior_citizen</th>\n",
       "      <th>partner</th>\n",
       "      <th>dependents</th>\n",
       "      <th>tenure</th>\n",
       "      <th>phone_service</th>\n",
       "      <th>multiple_lines</th>\n",
       "      <th>online_security</th>\n",
       "      <th>online_backup</th>\n",
       "      <th>...</th>\n",
       "      <th>contract_type_Month-to-month</th>\n",
       "      <th>contract_type_One year</th>\n",
       "      <th>contract_type_Two year</th>\n",
       "      <th>internet_service_type_DSL</th>\n",
       "      <th>internet_service_type_Fiber optic</th>\n",
       "      <th>internet_service_type_None</th>\n",
       "      <th>payment_type_Bank transfer (automatic)</th>\n",
       "      <th>payment_type_Credit card (automatic)</th>\n",
       "      <th>payment_type_Electronic check</th>\n",
       "      <th>payment_type_Mailed check</th>\n",
       "    </tr>\n",
       "  </thead>\n",
       "  <tbody>\n",
       "    <tr>\n",
       "      <th>0</th>\n",
       "      <td>0002-ORFBO</td>\n",
       "      <td>Female</td>\n",
       "      <td>0</td>\n",
       "      <td>Yes</td>\n",
       "      <td>Yes</td>\n",
       "      <td>9</td>\n",
       "      <td>Yes</td>\n",
       "      <td>No</td>\n",
       "      <td>No</td>\n",
       "      <td>Yes</td>\n",
       "      <td>...</td>\n",
       "      <td>0</td>\n",
       "      <td>1</td>\n",
       "      <td>0</td>\n",
       "      <td>1</td>\n",
       "      <td>0</td>\n",
       "      <td>0</td>\n",
       "      <td>0</td>\n",
       "      <td>0</td>\n",
       "      <td>0</td>\n",
       "      <td>1</td>\n",
       "    </tr>\n",
       "    <tr>\n",
       "      <th>1</th>\n",
       "      <td>0003-MKNFE</td>\n",
       "      <td>Male</td>\n",
       "      <td>0</td>\n",
       "      <td>No</td>\n",
       "      <td>No</td>\n",
       "      <td>9</td>\n",
       "      <td>Yes</td>\n",
       "      <td>Yes</td>\n",
       "      <td>No</td>\n",
       "      <td>No</td>\n",
       "      <td>...</td>\n",
       "      <td>1</td>\n",
       "      <td>0</td>\n",
       "      <td>0</td>\n",
       "      <td>1</td>\n",
       "      <td>0</td>\n",
       "      <td>0</td>\n",
       "      <td>0</td>\n",
       "      <td>0</td>\n",
       "      <td>0</td>\n",
       "      <td>1</td>\n",
       "    </tr>\n",
       "    <tr>\n",
       "      <th>2</th>\n",
       "      <td>0004-TLHLJ</td>\n",
       "      <td>Male</td>\n",
       "      <td>0</td>\n",
       "      <td>No</td>\n",
       "      <td>No</td>\n",
       "      <td>4</td>\n",
       "      <td>Yes</td>\n",
       "      <td>No</td>\n",
       "      <td>No</td>\n",
       "      <td>No</td>\n",
       "      <td>...</td>\n",
       "      <td>1</td>\n",
       "      <td>0</td>\n",
       "      <td>0</td>\n",
       "      <td>0</td>\n",
       "      <td>1</td>\n",
       "      <td>0</td>\n",
       "      <td>0</td>\n",
       "      <td>0</td>\n",
       "      <td>1</td>\n",
       "      <td>0</td>\n",
       "    </tr>\n",
       "    <tr>\n",
       "      <th>3</th>\n",
       "      <td>0011-IGKFF</td>\n",
       "      <td>Male</td>\n",
       "      <td>1</td>\n",
       "      <td>Yes</td>\n",
       "      <td>No</td>\n",
       "      <td>13</td>\n",
       "      <td>Yes</td>\n",
       "      <td>No</td>\n",
       "      <td>No</td>\n",
       "      <td>Yes</td>\n",
       "      <td>...</td>\n",
       "      <td>1</td>\n",
       "      <td>0</td>\n",
       "      <td>0</td>\n",
       "      <td>0</td>\n",
       "      <td>1</td>\n",
       "      <td>0</td>\n",
       "      <td>0</td>\n",
       "      <td>0</td>\n",
       "      <td>1</td>\n",
       "      <td>0</td>\n",
       "    </tr>\n",
       "    <tr>\n",
       "      <th>4</th>\n",
       "      <td>0013-EXCHZ</td>\n",
       "      <td>Female</td>\n",
       "      <td>1</td>\n",
       "      <td>Yes</td>\n",
       "      <td>No</td>\n",
       "      <td>3</td>\n",
       "      <td>Yes</td>\n",
       "      <td>No</td>\n",
       "      <td>No</td>\n",
       "      <td>No</td>\n",
       "      <td>...</td>\n",
       "      <td>1</td>\n",
       "      <td>0</td>\n",
       "      <td>0</td>\n",
       "      <td>0</td>\n",
       "      <td>1</td>\n",
       "      <td>0</td>\n",
       "      <td>0</td>\n",
       "      <td>0</td>\n",
       "      <td>0</td>\n",
       "      <td>1</td>\n",
       "    </tr>\n",
       "  </tbody>\n",
       "</table>\n",
       "<p>5 rows × 57 columns</p>\n",
       "</div>"
      ],
      "text/plain": [
       "  customer_id  gender  senior_citizen partner dependents  tenure  \\\n",
       "0  0002-ORFBO  Female               0     Yes        Yes       9   \n",
       "1  0003-MKNFE    Male               0      No         No       9   \n",
       "2  0004-TLHLJ    Male               0      No         No       4   \n",
       "3  0011-IGKFF    Male               1     Yes         No      13   \n",
       "4  0013-EXCHZ  Female               1     Yes         No       3   \n",
       "\n",
       "  phone_service multiple_lines online_security online_backup  ...  \\\n",
       "0           Yes             No              No           Yes  ...   \n",
       "1           Yes            Yes              No            No  ...   \n",
       "2           Yes             No              No            No  ...   \n",
       "3           Yes             No              No           Yes  ...   \n",
       "4           Yes             No              No            No  ...   \n",
       "\n",
       "  contract_type_Month-to-month contract_type_One year contract_type_Two year  \\\n",
       "0                            0                      1                      0   \n",
       "1                            1                      0                      0   \n",
       "2                            1                      0                      0   \n",
       "3                            1                      0                      0   \n",
       "4                            1                      0                      0   \n",
       "\n",
       "  internet_service_type_DSL internet_service_type_Fiber optic  \\\n",
       "0                         1                                 0   \n",
       "1                         1                                 0   \n",
       "2                         0                                 1   \n",
       "3                         0                                 1   \n",
       "4                         0                                 1   \n",
       "\n",
       "   internet_service_type_None  payment_type_Bank transfer (automatic)  \\\n",
       "0                           0                                       0   \n",
       "1                           0                                       0   \n",
       "2                           0                                       0   \n",
       "3                           0                                       0   \n",
       "4                           0                                       0   \n",
       "\n",
       "  payment_type_Credit card (automatic) payment_type_Electronic check  \\\n",
       "0                                    0                             0   \n",
       "1                                    0                             0   \n",
       "2                                    0                             1   \n",
       "3                                    0                             1   \n",
       "4                                    0                             0   \n",
       "\n",
       "  payment_type_Mailed check  \n",
       "0                         1  \n",
       "1                         1  \n",
       "2                         0  \n",
       "3                         0  \n",
       "4                         1  \n",
       "\n",
       "[5 rows x 57 columns]"
      ]
     },
     "execution_count": 51,
     "metadata": {},
     "output_type": "execute_result"
    }
   ],
   "source": [
    "df.head()"
   ]
  },
  {
   "cell_type": "code",
   "execution_count": 52,
   "id": "39e51857",
   "metadata": {},
   "outputs": [],
   "source": [
    "#Split data and set target variable\n",
    "target = 'churn'\n",
    "train, validate, test = w.train_validate_test_split(df, target)"
   ]
  },
  {
   "cell_type": "code",
   "execution_count": 53,
   "id": "a88faa7f",
   "metadata": {},
   "outputs": [
    {
     "data": {
      "text/html": [
       "<div>\n",
       "<style scoped>\n",
       "    .dataframe tbody tr th:only-of-type {\n",
       "        vertical-align: middle;\n",
       "    }\n",
       "\n",
       "    .dataframe tbody tr th {\n",
       "        vertical-align: top;\n",
       "    }\n",
       "\n",
       "    .dataframe thead th {\n",
       "        text-align: right;\n",
       "    }\n",
       "</style>\n",
       "<table border=\"1\" class=\"dataframe\">\n",
       "  <thead>\n",
       "    <tr style=\"text-align: right;\">\n",
       "      <th></th>\n",
       "      <th>customer_id</th>\n",
       "      <th>gender</th>\n",
       "      <th>senior_citizen</th>\n",
       "      <th>partner</th>\n",
       "      <th>dependents</th>\n",
       "      <th>tenure</th>\n",
       "      <th>phone_service</th>\n",
       "      <th>multiple_lines</th>\n",
       "      <th>online_security</th>\n",
       "      <th>online_backup</th>\n",
       "      <th>...</th>\n",
       "      <th>contract_type_Month-to-month</th>\n",
       "      <th>contract_type_One year</th>\n",
       "      <th>contract_type_Two year</th>\n",
       "      <th>internet_service_type_DSL</th>\n",
       "      <th>internet_service_type_Fiber optic</th>\n",
       "      <th>internet_service_type_None</th>\n",
       "      <th>payment_type_Bank transfer (automatic)</th>\n",
       "      <th>payment_type_Credit card (automatic)</th>\n",
       "      <th>payment_type_Electronic check</th>\n",
       "      <th>payment_type_Mailed check</th>\n",
       "    </tr>\n",
       "  </thead>\n",
       "  <tbody>\n",
       "    <tr>\n",
       "      <th>4407</th>\n",
       "      <td>6212-ATMLK</td>\n",
       "      <td>Female</td>\n",
       "      <td>0</td>\n",
       "      <td>No</td>\n",
       "      <td>No</td>\n",
       "      <td>50</td>\n",
       "      <td>Yes</td>\n",
       "      <td>Yes</td>\n",
       "      <td>No</td>\n",
       "      <td>No</td>\n",
       "      <td>...</td>\n",
       "      <td>1</td>\n",
       "      <td>0</td>\n",
       "      <td>0</td>\n",
       "      <td>0</td>\n",
       "      <td>1</td>\n",
       "      <td>0</td>\n",
       "      <td>0</td>\n",
       "      <td>0</td>\n",
       "      <td>1</td>\n",
       "      <td>0</td>\n",
       "    </tr>\n",
       "    <tr>\n",
       "      <th>1756</th>\n",
       "      <td>2568-BRGYX</td>\n",
       "      <td>Male</td>\n",
       "      <td>0</td>\n",
       "      <td>No</td>\n",
       "      <td>No</td>\n",
       "      <td>4</td>\n",
       "      <td>Yes</td>\n",
       "      <td>No</td>\n",
       "      <td>No</td>\n",
       "      <td>No</td>\n",
       "      <td>...</td>\n",
       "      <td>1</td>\n",
       "      <td>0</td>\n",
       "      <td>0</td>\n",
       "      <td>0</td>\n",
       "      <td>1</td>\n",
       "      <td>0</td>\n",
       "      <td>0</td>\n",
       "      <td>0</td>\n",
       "      <td>1</td>\n",
       "      <td>0</td>\n",
       "    </tr>\n",
       "    <tr>\n",
       "      <th>4669</th>\n",
       "      <td>6585-WCEWR</td>\n",
       "      <td>Male</td>\n",
       "      <td>0</td>\n",
       "      <td>Yes</td>\n",
       "      <td>Yes</td>\n",
       "      <td>72</td>\n",
       "      <td>Yes</td>\n",
       "      <td>No</td>\n",
       "      <td>No internet service</td>\n",
       "      <td>No internet service</td>\n",
       "      <td>...</td>\n",
       "      <td>0</td>\n",
       "      <td>0</td>\n",
       "      <td>1</td>\n",
       "      <td>0</td>\n",
       "      <td>0</td>\n",
       "      <td>1</td>\n",
       "      <td>0</td>\n",
       "      <td>0</td>\n",
       "      <td>1</td>\n",
       "      <td>0</td>\n",
       "    </tr>\n",
       "    <tr>\n",
       "      <th>2379</th>\n",
       "      <td>3407-JMJQQ</td>\n",
       "      <td>Female</td>\n",
       "      <td>0</td>\n",
       "      <td>Yes</td>\n",
       "      <td>Yes</td>\n",
       "      <td>71</td>\n",
       "      <td>Yes</td>\n",
       "      <td>Yes</td>\n",
       "      <td>Yes</td>\n",
       "      <td>Yes</td>\n",
       "      <td>...</td>\n",
       "      <td>0</td>\n",
       "      <td>0</td>\n",
       "      <td>1</td>\n",
       "      <td>0</td>\n",
       "      <td>1</td>\n",
       "      <td>0</td>\n",
       "      <td>1</td>\n",
       "      <td>0</td>\n",
       "      <td>0</td>\n",
       "      <td>0</td>\n",
       "    </tr>\n",
       "    <tr>\n",
       "      <th>4118</th>\n",
       "      <td>5827-MWCZK</td>\n",
       "      <td>Male</td>\n",
       "      <td>0</td>\n",
       "      <td>Yes</td>\n",
       "      <td>Yes</td>\n",
       "      <td>56</td>\n",
       "      <td>Yes</td>\n",
       "      <td>Yes</td>\n",
       "      <td>No</td>\n",
       "      <td>Yes</td>\n",
       "      <td>...</td>\n",
       "      <td>1</td>\n",
       "      <td>0</td>\n",
       "      <td>0</td>\n",
       "      <td>0</td>\n",
       "      <td>1</td>\n",
       "      <td>0</td>\n",
       "      <td>0</td>\n",
       "      <td>1</td>\n",
       "      <td>0</td>\n",
       "      <td>0</td>\n",
       "    </tr>\n",
       "  </tbody>\n",
       "</table>\n",
       "<p>5 rows × 57 columns</p>\n",
       "</div>"
      ],
      "text/plain": [
       "     customer_id  gender  senior_citizen partner dependents  tenure  \\\n",
       "4407  6212-ATMLK  Female               0      No         No      50   \n",
       "1756  2568-BRGYX    Male               0      No         No       4   \n",
       "4669  6585-WCEWR    Male               0     Yes        Yes      72   \n",
       "2379  3407-JMJQQ  Female               0     Yes        Yes      71   \n",
       "4118  5827-MWCZK    Male               0     Yes        Yes      56   \n",
       "\n",
       "     phone_service multiple_lines      online_security        online_backup  \\\n",
       "4407           Yes            Yes                   No                   No   \n",
       "1756           Yes             No                   No                   No   \n",
       "4669           Yes             No  No internet service  No internet service   \n",
       "2379           Yes            Yes                  Yes                  Yes   \n",
       "4118           Yes            Yes                   No                  Yes   \n",
       "\n",
       "      ... contract_type_Month-to-month contract_type_One year  \\\n",
       "4407  ...                            1                      0   \n",
       "1756  ...                            1                      0   \n",
       "4669  ...                            0                      0   \n",
       "2379  ...                            0                      0   \n",
       "4118  ...                            1                      0   \n",
       "\n",
       "     contract_type_Two year internet_service_type_DSL  \\\n",
       "4407                      0                         0   \n",
       "1756                      0                         0   \n",
       "4669                      1                         0   \n",
       "2379                      1                         0   \n",
       "4118                      0                         0   \n",
       "\n",
       "     internet_service_type_Fiber optic  internet_service_type_None  \\\n",
       "4407                                 1                           0   \n",
       "1756                                 1                           0   \n",
       "4669                                 0                           1   \n",
       "2379                                 1                           0   \n",
       "4118                                 1                           0   \n",
       "\n",
       "      payment_type_Bank transfer (automatic)  \\\n",
       "4407                                       0   \n",
       "1756                                       0   \n",
       "4669                                       0   \n",
       "2379                                       1   \n",
       "4118                                       0   \n",
       "\n",
       "     payment_type_Credit card (automatic) payment_type_Electronic check  \\\n",
       "4407                                    0                             1   \n",
       "1756                                    0                             1   \n",
       "4669                                    0                             1   \n",
       "2379                                    0                             0   \n",
       "4118                                    1                             0   \n",
       "\n",
       "     payment_type_Mailed check  \n",
       "4407                         0  \n",
       "1756                         0  \n",
       "4669                         0  \n",
       "2379                         0  \n",
       "4118                         0  \n",
       "\n",
       "[5 rows x 57 columns]"
      ]
     },
     "execution_count": 53,
     "metadata": {},
     "output_type": "execute_result"
    }
   ],
   "source": [
    "train.head()"
   ]
  },
  {
   "cell_type": "code",
   "execution_count": 54,
   "id": "ca011849",
   "metadata": {},
   "outputs": [],
   "source": [
    "def model_prep_test(train,validate,test):\n",
    "    '''\n",
    "    This function prepares train, validate, test for modeling by dropping columns not necessary\n",
    "    or compatible with modeling algorithms.\n",
    "    '''\n",
    "    # drop unused columns \n",
    "    keep_cols = ['customer_id',\n",
    "                 'senior_citizen',\n",
    "                 'dependents_encoded',\n",
    "                 'monthly_charges',\n",
    "                 'contract_type_Month-to-month',\n",
    "                 'contract_type_One year',\n",
    "                 'contract_type_Two year',\n",
    "                 'churn']\n",
    "\n",
    "    train = train[keep_cols]\n",
    "    validate = validate[keep_cols]\n",
    "    test = test[keep_cols]\n",
    "    \n",
    "    # Split data into predicting variables (X) and target variable (y) and reset the index for each dataframe\n",
    "    X_train = train.drop(columns='churn').reset_index(drop=True)\n",
    "    y_train = train[['churn']].reset_index(drop=True)\n",
    "\n",
    "    X_validate = validate.drop(columns='churn').reset_index(drop=True)\n",
    "    y_validate = validate[['churn']].reset_index(drop=True)\n",
    "\n",
    "    X_test = test.drop(columns='churn').reset_index(drop=True)\n",
    "    y_test = test[['churn']].reset_index(drop=True)\n",
    "    \n",
    "    #rename encoded columns\n",
    "    \n",
    "    train.rename(columns={'dependents_encoded': 'has_dependents'})\n",
    "    validate.rename(columns={'dependents_encoded': 'has_dependents'})\n",
    "    test.rename(columns={'dependents_encoded': 'has_dependents'})\n",
    "    \n",
    "    return X_train, X_validate, X_test, y_train, y_validate, y_test"
   ]
  },
  {
   "cell_type": "code",
   "execution_count": 55,
   "id": "8deca5bb",
   "metadata": {},
   "outputs": [],
   "source": [
    "X_train, X_validate, X_test, y_train, y_validate, y_test = model_prep_test(train,validate,test)"
   ]
  },
  {
   "cell_type": "code",
   "execution_count": 56,
   "id": "427d164e",
   "metadata": {},
   "outputs": [
    {
     "name": "stdout",
     "output_type": "stream",
     "text": [
      "<class 'pandas.core.frame.DataFrame'>\n",
      "RangeIndex: 1055 entries, 0 to 1054\n",
      "Data columns (total 7 columns):\n",
      " #   Column                        Non-Null Count  Dtype  \n",
      "---  ------                        --------------  -----  \n",
      " 0   customer_id                   1055 non-null   object \n",
      " 1   senior_citizen                1055 non-null   int64  \n",
      " 2   dependents_encoded            1055 non-null   int64  \n",
      " 3   monthly_charges               1055 non-null   float64\n",
      " 4   contract_type_Month-to-month  1055 non-null   uint8  \n",
      " 5   contract_type_One year        1055 non-null   uint8  \n",
      " 6   contract_type_Two year        1055 non-null   uint8  \n",
      "dtypes: float64(1), int64(2), object(1), uint8(3)\n",
      "memory usage: 36.2+ KB\n"
     ]
    }
   ],
   "source": [
    "X_test.info()"
   ]
  },
  {
   "cell_type": "code",
   "execution_count": 57,
   "id": "e3f8fe56",
   "metadata": {},
   "outputs": [],
   "source": [
    "#Splitting customer ID into \n",
    "X_test['customer_id'] = X_test.customer_id.str.split('-').str[0]"
   ]
  },
  {
   "cell_type": "code",
   "execution_count": 58,
   "id": "264c821c",
   "metadata": {},
   "outputs": [
    {
     "data": {
      "text/html": [
       "<div>\n",
       "<style scoped>\n",
       "    .dataframe tbody tr th:only-of-type {\n",
       "        vertical-align: middle;\n",
       "    }\n",
       "\n",
       "    .dataframe tbody tr th {\n",
       "        vertical-align: top;\n",
       "    }\n",
       "\n",
       "    .dataframe thead th {\n",
       "        text-align: right;\n",
       "    }\n",
       "</style>\n",
       "<table border=\"1\" class=\"dataframe\">\n",
       "  <thead>\n",
       "    <tr style=\"text-align: right;\">\n",
       "      <th></th>\n",
       "      <th>customer_id</th>\n",
       "      <th>senior_citizen</th>\n",
       "      <th>dependents_encoded</th>\n",
       "      <th>monthly_charges</th>\n",
       "      <th>contract_type_Month-to-month</th>\n",
       "      <th>contract_type_One year</th>\n",
       "      <th>contract_type_Two year</th>\n",
       "    </tr>\n",
       "  </thead>\n",
       "  <tbody>\n",
       "    <tr>\n",
       "      <th>0</th>\n",
       "      <td>0733</td>\n",
       "      <td>0</td>\n",
       "      <td>0</td>\n",
       "      <td>55.65</td>\n",
       "      <td>1</td>\n",
       "      <td>0</td>\n",
       "      <td>0</td>\n",
       "    </tr>\n",
       "    <tr>\n",
       "      <th>1</th>\n",
       "      <td>7779</td>\n",
       "      <td>1</td>\n",
       "      <td>0</td>\n",
       "      <td>75.15</td>\n",
       "      <td>0</td>\n",
       "      <td>0</td>\n",
       "      <td>1</td>\n",
       "    </tr>\n",
       "    <tr>\n",
       "      <th>2</th>\n",
       "      <td>9548</td>\n",
       "      <td>0</td>\n",
       "      <td>0</td>\n",
       "      <td>81.05</td>\n",
       "      <td>0</td>\n",
       "      <td>0</td>\n",
       "      <td>1</td>\n",
       "    </tr>\n",
       "    <tr>\n",
       "      <th>3</th>\n",
       "      <td>7245</td>\n",
       "      <td>0</td>\n",
       "      <td>0</td>\n",
       "      <td>111.50</td>\n",
       "      <td>0</td>\n",
       "      <td>1</td>\n",
       "      <td>0</td>\n",
       "    </tr>\n",
       "    <tr>\n",
       "      <th>4</th>\n",
       "      <td>9688</td>\n",
       "      <td>0</td>\n",
       "      <td>0</td>\n",
       "      <td>88.15</td>\n",
       "      <td>1</td>\n",
       "      <td>0</td>\n",
       "      <td>0</td>\n",
       "    </tr>\n",
       "  </tbody>\n",
       "</table>\n",
       "</div>"
      ],
      "text/plain": [
       "  customer_id  senior_citizen  dependents_encoded  monthly_charges  \\\n",
       "0        0733               0                   0            55.65   \n",
       "1        7779               1                   0            75.15   \n",
       "2        9548               0                   0            81.05   \n",
       "3        7245               0                   0           111.50   \n",
       "4        9688               0                   0            88.15   \n",
       "\n",
       "   contract_type_Month-to-month  contract_type_One year  \\\n",
       "0                             1                       0   \n",
       "1                             0                       0   \n",
       "2                             0                       0   \n",
       "3                             0                       1   \n",
       "4                             1                       0   \n",
       "\n",
       "   contract_type_Two year  \n",
       "0                       0  \n",
       "1                       1  \n",
       "2                       1  \n",
       "3                       0  \n",
       "4                       0  "
      ]
     },
     "execution_count": 58,
     "metadata": {},
     "output_type": "execute_result"
    }
   ],
   "source": [
    "X_test.head()"
   ]
  },
  {
   "cell_type": "code",
   "execution_count": 59,
   "id": "18026032",
   "metadata": {},
   "outputs": [],
   "source": [
    "X_test_cid = X_test.customer_id"
   ]
  },
  {
   "cell_type": "code",
   "execution_count": 60,
   "id": "15b96aea",
   "metadata": {},
   "outputs": [
    {
     "data": {
      "text/plain": [
       "0    0733\n",
       "1    7779\n",
       "2    9548\n",
       "3    7245\n",
       "4    9688\n",
       "Name: customer_id, dtype: object"
      ]
     },
     "execution_count": 60,
     "metadata": {},
     "output_type": "execute_result"
    }
   ],
   "source": [
    "X_test_cid.head()"
   ]
  },
  {
   "cell_type": "code",
   "execution_count": 61,
   "id": "1007895a",
   "metadata": {},
   "outputs": [],
   "source": [
    "X_test = X_test.drop(columns='customer_id')"
   ]
  },
  {
   "cell_type": "code",
   "execution_count": 62,
   "id": "d60245ea",
   "metadata": {},
   "outputs": [],
   "source": [
    "X_train = X_train.drop(columns='customer_id')"
   ]
  },
  {
   "cell_type": "code",
   "execution_count": 63,
   "id": "498341de",
   "metadata": {},
   "outputs": [
    {
     "data": {
      "text/html": [
       "<div>\n",
       "<style scoped>\n",
       "    .dataframe tbody tr th:only-of-type {\n",
       "        vertical-align: middle;\n",
       "    }\n",
       "\n",
       "    .dataframe tbody tr th {\n",
       "        vertical-align: top;\n",
       "    }\n",
       "\n",
       "    .dataframe thead th {\n",
       "        text-align: right;\n",
       "    }\n",
       "</style>\n",
       "<table border=\"1\" class=\"dataframe\">\n",
       "  <thead>\n",
       "    <tr style=\"text-align: right;\">\n",
       "      <th></th>\n",
       "      <th>senior_citizen</th>\n",
       "      <th>dependents_encoded</th>\n",
       "      <th>monthly_charges</th>\n",
       "      <th>contract_type_Month-to-month</th>\n",
       "      <th>contract_type_One year</th>\n",
       "      <th>contract_type_Two year</th>\n",
       "    </tr>\n",
       "  </thead>\n",
       "  <tbody>\n",
       "    <tr>\n",
       "      <th>0</th>\n",
       "      <td>0</td>\n",
       "      <td>0</td>\n",
       "      <td>55.65</td>\n",
       "      <td>1</td>\n",
       "      <td>0</td>\n",
       "      <td>0</td>\n",
       "    </tr>\n",
       "    <tr>\n",
       "      <th>1</th>\n",
       "      <td>1</td>\n",
       "      <td>0</td>\n",
       "      <td>75.15</td>\n",
       "      <td>0</td>\n",
       "      <td>0</td>\n",
       "      <td>1</td>\n",
       "    </tr>\n",
       "    <tr>\n",
       "      <th>2</th>\n",
       "      <td>0</td>\n",
       "      <td>0</td>\n",
       "      <td>81.05</td>\n",
       "      <td>0</td>\n",
       "      <td>0</td>\n",
       "      <td>1</td>\n",
       "    </tr>\n",
       "    <tr>\n",
       "      <th>3</th>\n",
       "      <td>0</td>\n",
       "      <td>0</td>\n",
       "      <td>111.50</td>\n",
       "      <td>0</td>\n",
       "      <td>1</td>\n",
       "      <td>0</td>\n",
       "    </tr>\n",
       "    <tr>\n",
       "      <th>4</th>\n",
       "      <td>0</td>\n",
       "      <td>0</td>\n",
       "      <td>88.15</td>\n",
       "      <td>1</td>\n",
       "      <td>0</td>\n",
       "      <td>0</td>\n",
       "    </tr>\n",
       "    <tr>\n",
       "      <th>...</th>\n",
       "      <td>...</td>\n",
       "      <td>...</td>\n",
       "      <td>...</td>\n",
       "      <td>...</td>\n",
       "      <td>...</td>\n",
       "      <td>...</td>\n",
       "    </tr>\n",
       "    <tr>\n",
       "      <th>1050</th>\n",
       "      <td>0</td>\n",
       "      <td>0</td>\n",
       "      <td>80.95</td>\n",
       "      <td>1</td>\n",
       "      <td>0</td>\n",
       "      <td>0</td>\n",
       "    </tr>\n",
       "    <tr>\n",
       "      <th>1051</th>\n",
       "      <td>1</td>\n",
       "      <td>0</td>\n",
       "      <td>78.45</td>\n",
       "      <td>0</td>\n",
       "      <td>0</td>\n",
       "      <td>1</td>\n",
       "    </tr>\n",
       "    <tr>\n",
       "      <th>1052</th>\n",
       "      <td>0</td>\n",
       "      <td>0</td>\n",
       "      <td>50.20</td>\n",
       "      <td>1</td>\n",
       "      <td>0</td>\n",
       "      <td>0</td>\n",
       "    </tr>\n",
       "    <tr>\n",
       "      <th>1053</th>\n",
       "      <td>0</td>\n",
       "      <td>0</td>\n",
       "      <td>80.70</td>\n",
       "      <td>1</td>\n",
       "      <td>0</td>\n",
       "      <td>0</td>\n",
       "    </tr>\n",
       "    <tr>\n",
       "      <th>1054</th>\n",
       "      <td>0</td>\n",
       "      <td>0</td>\n",
       "      <td>19.80</td>\n",
       "      <td>0</td>\n",
       "      <td>1</td>\n",
       "      <td>0</td>\n",
       "    </tr>\n",
       "  </tbody>\n",
       "</table>\n",
       "<p>1055 rows × 6 columns</p>\n",
       "</div>"
      ],
      "text/plain": [
       "      senior_citizen  dependents_encoded  monthly_charges  \\\n",
       "0                  0                   0            55.65   \n",
       "1                  1                   0            75.15   \n",
       "2                  0                   0            81.05   \n",
       "3                  0                   0           111.50   \n",
       "4                  0                   0            88.15   \n",
       "...              ...                 ...              ...   \n",
       "1050               0                   0            80.95   \n",
       "1051               1                   0            78.45   \n",
       "1052               0                   0            50.20   \n",
       "1053               0                   0            80.70   \n",
       "1054               0                   0            19.80   \n",
       "\n",
       "      contract_type_Month-to-month  contract_type_One year  \\\n",
       "0                                1                       0   \n",
       "1                                0                       0   \n",
       "2                                0                       0   \n",
       "3                                0                       1   \n",
       "4                                1                       0   \n",
       "...                            ...                     ...   \n",
       "1050                             1                       0   \n",
       "1051                             0                       0   \n",
       "1052                             1                       0   \n",
       "1053                             1                       0   \n",
       "1054                             0                       1   \n",
       "\n",
       "      contract_type_Two year  \n",
       "0                          0  \n",
       "1                          1  \n",
       "2                          1  \n",
       "3                          0  \n",
       "4                          0  \n",
       "...                      ...  \n",
       "1050                       0  \n",
       "1051                       1  \n",
       "1052                       0  \n",
       "1053                       0  \n",
       "1054                       0  \n",
       "\n",
       "[1055 rows x 6 columns]"
      ]
     },
     "execution_count": 63,
     "metadata": {},
     "output_type": "execute_result"
    }
   ],
   "source": [
    "X_test"
   ]
  },
  {
   "cell_type": "code",
   "execution_count": 64,
   "id": "f31da751",
   "metadata": {},
   "outputs": [
    {
     "name": "stdout",
     "output_type": "stream",
     "text": [
      "Accuracy of Decision Tree on train data is 0.7561966680211296\n",
      "Accuracy of Decision Tree on test data is 0.7507109004739336\n"
     ]
    }
   ],
   "source": [
    "w.get_tree_test(X_train,X_test,y_train,y_test)"
   ]
  },
  {
   "cell_type": "code",
   "execution_count": 65,
   "id": "235abcc0",
   "metadata": {},
   "outputs": [
    {
     "data": {
      "text/plain": [
       "DecisionTreeClassifier(max_depth=3, random_state=123)"
      ]
     },
     "execution_count": 65,
     "metadata": {},
     "output_type": "execute_result"
    }
   ],
   "source": [
    "tree = DecisionTreeClassifier(max_depth=3, random_state=123)\n",
    "# model.fit(X, y)\n",
    "tree.fit(X_train, y_train)"
   ]
  },
  {
   "cell_type": "code",
   "execution_count": 66,
   "id": "8359bee4",
   "metadata": {},
   "outputs": [
    {
     "data": {
      "text/plain": [
       "array([[0.65939394, 0.34060606],\n",
       "       [0.98540146, 0.01459854],\n",
       "       [0.98540146, 0.01459854],\n",
       "       [0.73504274, 0.26495726],\n",
       "       [0.46359385, 0.53640615]])"
      ]
     },
     "execution_count": 66,
     "metadata": {},
     "output_type": "execute_result"
    }
   ],
   "source": [
    "y_pred_proba = tree.predict_proba(X_test)\n",
    "y_pred_proba[0:5]"
   ]
  },
  {
   "cell_type": "code",
   "execution_count": 67,
   "id": "182e08ab",
   "metadata": {},
   "outputs": [],
   "source": [
    "#get y_pred from x test\n",
    "y_pred = tree.predict(X_test)"
   ]
  },
  {
   "cell_type": "code",
   "execution_count": 68,
   "id": "627cfb70",
   "metadata": {},
   "outputs": [],
   "source": [
    "#Convert to dataframe\n",
    "X_test_cid = pd.DataFrame(X_test_cid)"
   ]
  },
  {
   "cell_type": "code",
   "execution_count": 69,
   "id": "1d7c9f9d",
   "metadata": {},
   "outputs": [],
   "source": [
    "#Convert to dataframe\n",
    "y_pred_proba= pd.DataFrame(y_pred_proba)"
   ]
  },
  {
   "cell_type": "code",
   "execution_count": 70,
   "id": "22404cb6",
   "metadata": {},
   "outputs": [],
   "source": [
    "#convert to dataframe\n",
    "y_pred= pd.DataFrame(y_pred)"
   ]
  },
  {
   "cell_type": "code",
   "execution_count": 71,
   "id": "684fdbd0",
   "metadata": {},
   "outputs": [
    {
     "name": "stdout",
     "output_type": "stream",
     "text": [
      "<class 'pandas.core.frame.DataFrame'>\n",
      "RangeIndex: 1055 entries, 0 to 1054\n",
      "Data columns (total 1 columns):\n",
      " #   Column       Non-Null Count  Dtype \n",
      "---  ------       --------------  ----- \n",
      " 0   customer_id  1055 non-null   object\n",
      "dtypes: object(1)\n",
      "memory usage: 8.4+ KB\n"
     ]
    }
   ],
   "source": [
    "X_test_cid.info()"
   ]
  },
  {
   "cell_type": "code",
   "execution_count": 72,
   "id": "7332e87a",
   "metadata": {},
   "outputs": [],
   "source": [
    "predictions = pd.concat([X_test_cid, y_pred_proba, y_pred], axis=1)"
   ]
  },
  {
   "cell_type": "code",
   "execution_count": 73,
   "id": "ef7f7e3d",
   "metadata": {},
   "outputs": [
    {
     "data": {
      "text/html": [
       "<div>\n",
       "<style scoped>\n",
       "    .dataframe tbody tr th:only-of-type {\n",
       "        vertical-align: middle;\n",
       "    }\n",
       "\n",
       "    .dataframe tbody tr th {\n",
       "        vertical-align: top;\n",
       "    }\n",
       "\n",
       "    .dataframe thead th {\n",
       "        text-align: right;\n",
       "    }\n",
       "</style>\n",
       "<table border=\"1\" class=\"dataframe\">\n",
       "  <thead>\n",
       "    <tr style=\"text-align: right;\">\n",
       "      <th></th>\n",
       "      <th>customer_id</th>\n",
       "      <th>0</th>\n",
       "      <th>1</th>\n",
       "      <th>0</th>\n",
       "    </tr>\n",
       "  </thead>\n",
       "  <tbody>\n",
       "    <tr>\n",
       "      <th>0</th>\n",
       "      <td>0733</td>\n",
       "      <td>0.659394</td>\n",
       "      <td>0.340606</td>\n",
       "      <td>0</td>\n",
       "    </tr>\n",
       "    <tr>\n",
       "      <th>1</th>\n",
       "      <td>7779</td>\n",
       "      <td>0.985401</td>\n",
       "      <td>0.014599</td>\n",
       "      <td>0</td>\n",
       "    </tr>\n",
       "    <tr>\n",
       "      <th>2</th>\n",
       "      <td>9548</td>\n",
       "      <td>0.985401</td>\n",
       "      <td>0.014599</td>\n",
       "      <td>0</td>\n",
       "    </tr>\n",
       "    <tr>\n",
       "      <th>3</th>\n",
       "      <td>7245</td>\n",
       "      <td>0.735043</td>\n",
       "      <td>0.264957</td>\n",
       "      <td>0</td>\n",
       "    </tr>\n",
       "    <tr>\n",
       "      <th>4</th>\n",
       "      <td>9688</td>\n",
       "      <td>0.463594</td>\n",
       "      <td>0.536406</td>\n",
       "      <td>1</td>\n",
       "    </tr>\n",
       "    <tr>\n",
       "      <th>...</th>\n",
       "      <td>...</td>\n",
       "      <td>...</td>\n",
       "      <td>...</td>\n",
       "      <td>...</td>\n",
       "    </tr>\n",
       "    <tr>\n",
       "      <th>1050</th>\n",
       "      <td>9878</td>\n",
       "      <td>0.463594</td>\n",
       "      <td>0.536406</td>\n",
       "      <td>1</td>\n",
       "    </tr>\n",
       "    <tr>\n",
       "      <th>1051</th>\n",
       "      <td>8336</td>\n",
       "      <td>0.985401</td>\n",
       "      <td>0.014599</td>\n",
       "      <td>0</td>\n",
       "    </tr>\n",
       "    <tr>\n",
       "      <th>1052</th>\n",
       "      <td>1730</td>\n",
       "      <td>0.659394</td>\n",
       "      <td>0.340606</td>\n",
       "      <td>0</td>\n",
       "    </tr>\n",
       "    <tr>\n",
       "      <th>1053</th>\n",
       "      <td>0940</td>\n",
       "      <td>0.463594</td>\n",
       "      <td>0.536406</td>\n",
       "      <td>1</td>\n",
       "    </tr>\n",
       "    <tr>\n",
       "      <th>1054</th>\n",
       "      <td>5995</td>\n",
       "      <td>0.929114</td>\n",
       "      <td>0.070886</td>\n",
       "      <td>0</td>\n",
       "    </tr>\n",
       "  </tbody>\n",
       "</table>\n",
       "<p>1055 rows × 4 columns</p>\n",
       "</div>"
      ],
      "text/plain": [
       "     customer_id         0         1  0\n",
       "0           0733  0.659394  0.340606  0\n",
       "1           7779  0.985401  0.014599  0\n",
       "2           9548  0.985401  0.014599  0\n",
       "3           7245  0.735043  0.264957  0\n",
       "4           9688  0.463594  0.536406  1\n",
       "...          ...       ...       ... ..\n",
       "1050        9878  0.463594  0.536406  1\n",
       "1051        8336  0.985401  0.014599  0\n",
       "1052        1730  0.659394  0.340606  0\n",
       "1053        0940  0.463594  0.536406  1\n",
       "1054        5995  0.929114  0.070886  0\n",
       "\n",
       "[1055 rows x 4 columns]"
      ]
     },
     "execution_count": 73,
     "metadata": {},
     "output_type": "execute_result"
    }
   ],
   "source": [
    "predictions"
   ]
  },
  {
   "cell_type": "code",
   "execution_count": 47,
   "id": "efbc670e",
   "metadata": {},
   "outputs": [
    {
     "ename": "AttributeError",
     "evalue": "'NoneType' object has no attribute 'rename'",
     "output_type": "error",
     "traceback": [
      "\u001b[0;31m---------------------------------------------------------------------------\u001b[0m",
      "\u001b[0;31mAttributeError\u001b[0m                            Traceback (most recent call last)",
      "Input \u001b[0;32mIn [47]\u001b[0m, in \u001b[0;36m<cell line: 1>\u001b[0;34m()\u001b[0m\n\u001b[0;32m----> 1\u001b[0m predictions \u001b[38;5;241m=\u001b[39m \u001b[43mpredictions\u001b[49m\u001b[38;5;241;43m.\u001b[39;49m\u001b[43mrename\u001b[49m(columns \u001b[38;5;241m=\u001b[39m {\u001b[38;5;124m'\u001b[39m\u001b[38;5;124my_pred_no_churn\u001b[39m\u001b[38;5;124m'\u001b[39m:\u001b[38;5;124m'\u001b[39m\u001b[38;5;124m0\u001b[39m\u001b[38;5;124m'\u001b[39m, \u001b[38;5;124m'\u001b[39m\u001b[38;5;124my_pred_churn\u001b[39m\u001b[38;5;124m'\u001b[39m:\u001b[38;5;124m'\u001b[39m\u001b[38;5;124m1\u001b[39m\u001b[38;5;124m'\u001b[39m,\n\u001b[1;32m      2\u001b[0m                               \u001b[38;5;124m'\u001b[39m\u001b[38;5;124my_pred\u001b[39m\u001b[38;5;124m'\u001b[39m:\u001b[38;5;124m'\u001b[39m\u001b[38;5;124m0\u001b[39m\u001b[38;5;124m'\u001b[39m})\n",
      "\u001b[0;31mAttributeError\u001b[0m: 'NoneType' object has no attribute 'rename'"
     ]
    }
   ],
   "source": [
    "predictions.rename(columns = {'0'y_pred_churn':'1',\n",
    "                              'y_pred':'0'})"
   ]
  },
  {
   "cell_type": "code",
   "execution_count": 74,
   "id": "b89effa2",
   "metadata": {},
   "outputs": [],
   "source": [
    "predictions.to_csv(\"predictions.csv\")"
   ]
  },
  {
   "cell_type": "code",
   "execution_count": null,
   "id": "779ee28f",
   "metadata": {},
   "outputs": [],
   "source": []
  }
 ],
 "metadata": {
  "kernelspec": {
   "display_name": "Python 3 (ipykernel)",
   "language": "python",
   "name": "python3"
  },
  "language_info": {
   "codemirror_mode": {
    "name": "ipython",
    "version": 3
   },
   "file_extension": ".py",
   "mimetype": "text/x-python",
   "name": "python",
   "nbconvert_exporter": "python",
   "pygments_lexer": "ipython3",
   "version": "3.9.12"
  }
 },
 "nbformat": 4,
 "nbformat_minor": 5
}
